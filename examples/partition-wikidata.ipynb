{
 "cells": [
  {
   "cell_type": "markdown",
   "metadata": {},
   "source": [
    "# Partitioning a subset of Wikidata\n",
    "\n",
    "This notebook illustrates how to partition a Wikidata KGTK edges file.\n",
    "\n",
    "Parameters are set up in the first cell so that we can run this notebook in batch mode. Example invocation command:\n",
    "\n",
    "```\n",
    "papermill partition-wikidata.ipynb partition-wikidata.out.ipynb \\\n",
    "-p wikidata_input_path /data3/rogers/kgtk/gd/kgtk_public_graphs/cache/wikidata-20201130/data/all.tsv.gz \\\n",
    "-p wikidata_parts_path /data3/rogers/kgtk/gd/kgtk_public_graphs/cache/wikidata-20201130/parts \\\n",
    "```\n",
    "\n",
    "Here is a sample of the records that might appear in the input KGTK file:\n",
    "```\n",
    "id\tnode1\tlabel\tnode2\trank\tnode2;wikidatatype\tlang\n",
    "Q1-P1036-418bc4-78f5a565-0\tQ1\tP1036\t\"113\"\tnormal\texternal-id\t\n",
    "Q1-P1343-Q19190511-ab132b87-0   Q1      P1343   Q19190511       normal  wikibase-item   \n",
    "Q1-P18-92a7b3-0dcac501-0        Q1      P18     \"Hubble ultra deep field.jpg\"   normal  commonsMedia    \n",
    "Q1-P2386-cedfb0-0fdbd641-0      Q1      P2386   +880000000000000000000000Q828224        normal  quantity        \n",
    "Q1-P580-a2fccf-63cf4743-0       Q1      P580    ^-13798000000-00-00T00:00:00Z/3 normal  time    \n",
    "Q1-P920-47c0f2-52689c4e-0       Q1      P920    \"LEM201201756\"  normal  string  \n",
    "Q1-P1343-Q19190511-ab132b87-0-P805-Q84065667-0  Q1-P1343-Q19190511-ab132b87-0   P805    Q84065667               wikibase-item   \n",
    "Q1-P1343-Q88672152-5080b9e2-0-P304-5724c3-0     Q1-P1343-Q88672152-5080b9e2-0   P304    \"13-36\"         string  \n",
    "Q1-P2670-Q18343-030eb87e-0-P1107-ce87f8-0       Q1-P2670-Q18343-030eb87e-0      P1107   +0.70           quantity        \n",
    "Q1-P793-Q273508-1900d69c-0-P585-a2fccf-0        Q1-P793-Q273508-1900d69c-0      P585    ^-13798000000-00-00T00:00:00Z/3         time    \n",
    "P10-alias-en-282226-0   P10     alias   'gif'@en\n",
    "P10-description-en      P10     description     'relevant video. For images, use the property P18. For film trailers, qualify with \\\"object has role\\\" (P3831)=\\\"trailer\\\" (Q622550)'@en                        en\n",
    "P10-label-en    P10     label   'video'@en                      en\n",
    "Q1-addl_wikipedia_sitelink-19e42a-0     Q1      addl_wikipedia_sitelink http://enwikiquote.org/wiki/Universe                    en\n",
    "Q1-addl_wikipedia_sitelink-19e42a-0-language-0  Q1-addl_wikipedia_sitelink-19e42a-0     sitelink-language       en                      en\n",
    "Q1-addl_wikipedia_sitelink-19e42a-0-site-0      Q1-addl_wikipedia_sitelink-19e42a-0     sitelink-site   enwikiquote                     en\n",
    "Q1-addl_wikipedia_sitelink-19e42a-0-title-0     Q1-addl_wikipedia_sitelink-19e42a-0     sitelink-title  \"Universe\"                      en\n",
    "Q1-wikipedia_sitelink-5e459a-0  Q1      wikipedia_sitelink      http://en.wikipedia.org/wiki/Universe                   en\n",
    "Q1-wikipedia_sitelink-5e459a-0-badge-Q17437798  Q1-wikipedia_sitelink-5e459a-0  sitelink-badge  Q17437798                       en\n",
    "Q1-wikipedia_sitelink-5e459a-0-language-0       Q1-wikipedia_sitelink-5e459a-0  sitelink-language       en                      en\n",
    "Q1-wikipedia_sitelink-5e459a-0-site-0   Q1-wikipedia_sitelink-5e459a-0  sitelink-site   enwiki                  en\n",
    "Q1-wikipedia_sitelink-5e459a-0-title-0  Q1-wikipedia_sitelink-5e459a-0  sitelink-title  \"Universe\"                      en\n",
    "```\n",
    "Here are some contraints on the contents of the input file:\n",
    "- The input file starts with a KGTK header record.\n",
    "  - In addition to the `id`, `node1`, `label`, and `node2` columns, the file may contain the `node2;wikidatatype` column.\n",
    "  - The `node2;wikidatatype` column is used to partition claims by Wikidata property datatype.\n",
    "  - If it does not exist, it will be created during the partitioning process and populated using `datatype` relationships.\n",
    "  - If it does exist, any empty values in the column will be populated using `datatype` relationships.\n",
    "- The `id` column must contain a nonempty value.\n",
    "- The first section of an `id` value must be the `node` value for the record.\n",
    "  - The qualifier extraction operations depend upon this constraint. \n",
    "- In addition to the claims and qualifiers, the input file is expected to contain:\n",
    "  - English language labels for all property entities appearing in the file.\n",
    "- The input file ought to contain the following:\n",
    "  - claims records,\n",
    "  - qualifier records,\n",
    "  - alias records in appropriate languages,\n",
    "  - description records in appropriate languages,\n",
    "  - label records in appropriate languages, and\n",
    "  - sitelink records in appropriate languages.\n",
    "  - `datatype` records that map Wikidata property entities to Wikidata property datatypes. These records are required if the input file does not contain the `node2;wikidatatype` column.\n",
    "- Additionally, this script provides for the appearance of `type` records in the input file.\n",
    "  - `type` records that list all `entityId` values and identify them as properties or items. These records provides a correctness check on the operation of `kgtk import-wikidata`, and may be deprecated in the future.\n",
    "- The input file is assumed to be unsorted. If it is already sorted on the (`id` `node1` `label` `node2`) columns , then set the `presorted` parameter to `True` to shorten the execution time of this script."
   ]
  },
  {
   "cell_type": "markdown",
   "metadata": {},
   "source": [
    "### Parameters for invoking the notebook\n",
    "\n",
    "| Parameter | Description | Default |\n",
    "| --------- | ----------- | ------- |\n",
    "| `wikidata_input_path` | A folder containing the Wikidata KGTK edges to partition. | '/data4/rogers/elicit/cache/datasets/wikidata-20200803/data/all.tsv.gz' |\n",
    "| `wikidata_parts_path` | A folder to receive the partitioned Wikidata files, such as `part.wikibase-item.tsv.gz` | '/data4/rogers/elicit/cache/datasets/wikidata-20200803/parts' |\n",
    "| `temp_folder_path` |    A folder that may be used for temporary files. | wikidata_parts_path + '/temp' |\n",
    "| `gzip_command` |        The compression command for sorting. | 'pigz'  (Note: use version 2.4 or later)|\n",
    "| `kgtk_command` |        The kgtk commmand. | 'time kgtk' |\n",
    "| `kgtk_options` |        The kgtk commmand options. | '--debug --timing' |\n",
    "| `kgtk_extension` |      The file extension for generated KGTK files. Appending `.gz` implies gzip compression. | 'tsv.gz' |\n",
    "| `presorted` |           When True, the input file is already sorted on the (`id` `node1` `label` `node2`) columns. | 'False' |\n",
    "| `sort_extras` |         Extra parameters for the sort program.  The default specifies a path for temporary files. Other useful parameters include '--buffer-size' and '--parallel'. | '--parallel 24 --buffer-size 30% --temporary-directory ' + temp_folder_path |\n",
    "| `use_mgzip` |           When True, use the mgzip program where appropriate for faster compression. | 'True' |\n",
    "| `verbose` |             When True, produce additional feedback messages. | 'True' |\n",
    "\n",
    "Note: if `pigz` version 2.4 (or later) is not available on your system, use `gzip`.\n"
   ]
  },
  {
   "cell_type": "code",
   "execution_count": 1,
   "metadata": {
    "tags": [
     "parameters"
    ]
   },
   "outputs": [],
   "source": [
    "# Parameters\n",
    "wikidata_input_path = \"/Users/markmann/Downloads/subset/output/all.tsv.gz\"\n",
    "wikidata_parts_path = \"/Users/markmann/Downloads/subset/output/parts\"\n",
    "temp_folder_path =    wikidata_parts_path + '/temp'\n",
    "gzip_command =        'gzip' #'pigz'\n",
    "kgtk_command =        'time kgtk'\n",
    "kgtk_options =        '--debug --timing'\n",
    "kgtk_extension =      'tsv.gz'\n",
    "presorted =           'False'\n",
    "sort_extras =         '--parallel 24 --buffer-size 30% --temporary-directory ' + temp_folder_path\n",
    "use_mgzip =           'True'\n",
    "verbose =             'False'\n",
    "\n"
   ]
  },
  {
   "cell_type": "code",
   "execution_count": 2,
   "metadata": {},
   "outputs": [
    {
     "name": "stdout",
     "output_type": "stream",
     "text": [
      "wikidata_input_path = '/Users/markmann/Downloads/subset/output/all.tsv.gz'\n",
      "wikidata_parts_path = '/Users/markmann/Downloads/subset/output/parts'\n",
      "temp_folder_path = '/Users/markmann/Downloads/subset/output/parts/temp'\n",
      "gzip_command = 'gzip'\n",
      "kgtk_command = 'time kgtk'\n",
      "kgtk_options = '--debug --timing'\n",
      "kgtk_extension = 'tsv.gz'\n",
      "presorted = 'False'\n",
      "sort_extras = '--parallel 24 --buffer-size 30% --temporary-directory /Users/markmann/Downloads/subset/output/parts/temp'\n",
      "use_mgzip = 'True'\n",
      "verbose = 'False'\n"
     ]
    }
   ],
   "source": [
    "print('wikidata_input_path = %s' % repr(wikidata_input_path))\n",
    "print('wikidata_parts_path = %s' % repr(wikidata_parts_path))\n",
    "print('temp_folder_path = %s' % repr(temp_folder_path))\n",
    "print('gzip_command = %s' % repr(gzip_command))\n",
    "print('kgtk_command = %s' % repr(kgtk_command))\n",
    "print('kgtk_options = %s' % repr(kgtk_options))\n",
    "print('kgtk_extension = %s' % repr(kgtk_extension))\n",
    "print('presorted = %s' % repr(presorted))\n",
    "print('sort_extras = %s' % repr(sort_extras))\n",
    "print('use_mgzip = %s' % repr(use_mgzip))\n",
    "print('verbose = %s' % repr(verbose))\n"
   ]
  },
  {
   "cell_type": "markdown",
   "metadata": {},
   "source": [
    "### Create working folders and empty them"
   ]
  },
  {
   "cell_type": "code",
   "execution_count": 3,
   "metadata": {},
   "outputs": [
    {
     "name": "stdout",
     "output_type": "stream",
     "text": [
      "mkdir: /Users/markmann/Downloads/subset/output/parts: File exists\n",
      "mkdir: /Users/markmann/Downloads/subset/output/parts/temp: File exists\n"
     ]
    }
   ],
   "source": [
    "!mkdir {wikidata_parts_path}\n",
    "!mkdir {temp_folder_path}"
   ]
  },
  {
   "cell_type": "code",
   "execution_count": 4,
   "metadata": {},
   "outputs": [
    {
     "name": "stdout",
     "output_type": "stream",
     "text": [
      "rm: /Users/markmann/Downloads/subset/output/parts/*.tsv: No such file or directory\n",
      "rm: /Users/markmann/Downloads/subset/output/parts/temp/*.tsv: No such file or directory\n",
      "rm: /Users/markmann/Downloads/subset/output/parts/temp/*.tsv.gz: No such file or directory\n"
     ]
    }
   ],
   "source": [
    "!rm {wikidata_parts_path}/*.tsv {wikidata_parts_path}/*.tsv.gz\n",
    "!rm {temp_folder_path}/*.tsv {temp_folder_path}/*.tsv.gz"
   ]
  },
  {
   "cell_type": "markdown",
   "metadata": {},
   "source": [
    "### Sort the Input Data Unless Presorted\n",
    "Sort the input data file by (id, node1, label, node2).\n",
    "This may take a while."
   ]
  },
  {
   "cell_type": "code",
   "execution_count": 5,
   "metadata": {},
   "outputs": [
    {
     "name": "stdout",
     "output_type": "stream",
     "text": [
      "Sorting the input file '/Users/markmann/Downloads/subset/output/all.tsv.gz'.\n",
      "Timing: elapsed=0:12:14.986915 CPU=0:00:00.806604 (  0.1%): sort2 --verbose=False --gzip-command=gzip --input-file /Users/markmann/Downloads/subset/output/all.tsv.gz --output-file /Users/markmann/Downloads/subset/output/parts/all.tsv.gz --columns id node1 label node2 --extra --parallel 24 --buffer-size 30% --temporary-directory /Users/markmann/Downloads/subset/output/parts/temp\n",
      "\n",
      "real\t12m15.144s\n",
      "user\t11m52.586s\n",
      "sys\t1m30.524s\n"
     ]
    }
   ],
   "source": [
    "if presorted.lower() == \"true\": \n",
    "    print('Using a presorted input file %s.' % repr(wikidata_input_path))\n",
    "    partition_input_file = wikidata_input_path \n",
    "else: \n",
    "    print('Sorting the input file %s.' % repr(wikidata_input_path))\n",
    "    partition_input_file = wikidata_parts_path + '/all.' + kgtk_extension \n",
    "    !{kgtk_command} {kgtk_options} sort2 --verbose={verbose} --gzip-command={gzip_command} \\\n",
    " --input-file {wikidata_input_path} \\\n",
    " --output-file {partition_input_file} \\\n",
    " --columns     id node1 label node2 \\\n",
    " --extra       \"{sort_extras}\""
   ]
  },
  {
   "cell_type": "markdown",
   "metadata": {},
   "source": [
    "### Partition the Claims, Qualifiers, and Entity Data\n",
    "Split out the entity data (alias, description, label, and sitelinks) and additional metadata (datatype, type).  Separate the qualifiers from the claims.\n"
   ]
  },
  {
   "cell_type": "code",
   "execution_count": 6,
   "metadata": {},
   "outputs": [
    {
     "name": "stdout",
     "output_type": "stream",
     "text": [
      "Timing: elapsed=0:14:28.182973 CPU=0:43:18.381168 (299.3%): filter --verbose=False --use-mgzip=True --first-match-only --input-file /Users/markmann/Downloads/subset/output/parts/all.tsv.gz -p ; datatype ; -o /Users/markmann/Downloads/subset/output/parts/metadata.property.datatypes.tsv.gz -p ; alias ; -o /Users/markmann/Downloads/subset/output/parts/aliases.tsv.gz -p ; description ; -o /Users/markmann/Downloads/subset/output/parts/descriptions.tsv.gz -p ; label ; -o /Users/markmann/Downloads/subset/output/parts/labels.tsv.gz -p ; addl_wikipedia_sitelink,wikipedia_sitelink ; -o /Users/markmann/Downloads/subset/output/parts/sitelinks.tsv.gz -p ; sitelink-badge,sitelink-language,sitelink-site,sitelink-title ; -o /Users/markmann/Downloads/subset/output/parts/sitelinks.qualifiers.tsv.gz -p ; type ; -o /Users/markmann/Downloads/subset/output/parts/metadata.types.tsv.gz --reject-file /Users/markmann/Downloads/subset/output/parts/temp/claims-and-qualifiers.sorted-by-id.tsv.gz\n",
      "\n",
      "real\t14m29.006s\n",
      "user\t21m39.285s\n",
      "sys\t0m19.052s\n"
     ]
    }
   ],
   "source": [
    "!{kgtk_command} {kgtk_options} filter --verbose={verbose} --use-mgzip={use_mgzip} --first-match-only \\\n",
    " --input-file {partition_input_file} \\\n",
    " -p '; datatype ;'        -o {wikidata_parts_path}/metadata.property.datatypes.{kgtk_extension} \\\n",
    " -p '; alias ;'           -o {wikidata_parts_path}/aliases.{kgtk_extension} \\\n",
    " -p '; description ;'     -o {wikidata_parts_path}/descriptions.{kgtk_extension} \\\n",
    " -p '; label ;'           -o {wikidata_parts_path}/labels.{kgtk_extension} \\\n",
    " -p '; addl_wikipedia_sitelink,wikipedia_sitelink ;' \\\n",
    "                          -o {wikidata_parts_path}/sitelinks.{kgtk_extension} \\\n",
    " -p '; sitelink-badge,sitelink-language,sitelink-site,sitelink-title ;' \\\n",
    "                          -o {wikidata_parts_path}/sitelinks.qualifiers.{kgtk_extension} \\\n",
    " -p '; type ;'            -o {wikidata_parts_path}/metadata.types.{kgtk_extension} \\\n",
    " --reject-file {temp_folder_path}/claims-and-qualifiers.sorted-by-id.{kgtk_extension}"
   ]
  },
  {
   "cell_type": "markdown",
   "metadata": {},
   "source": [
    "### Sort the claims and qualifiers on Node1\n",
    "Sort the combined claims and qualifiers file by the node1 column.\n",
    "This may take a while."
   ]
  },
  {
   "cell_type": "code",
   "execution_count": 7,
   "metadata": {},
   "outputs": [
    {
     "name": "stdout",
     "output_type": "stream",
     "text": [
      "Timing: elapsed=0:02:02.890051 CPU=0:00:00.782150 (  0.6%): sort2 --verbose=False --gzip-command=gzip --input-file /Users/markmann/Downloads/subset/output/parts/temp/claims-and-qualifiers.sorted-by-id.tsv.gz --output-file /Users/markmann/Downloads/subset/output/parts/temp/claims-and-qualifiers.sorted-by-node1.tsv.gz --columns node1 --extra --parallel 24 --buffer-size 30% --temporary-directory /Users/markmann/Downloads/subset/output/parts/temp\n",
      "\n",
      "real\t2m3.074s\n",
      "user\t2m1.539s\n",
      "sys\t0m13.139s\n"
     ]
    }
   ],
   "source": [
    "!{kgtk_command} {kgtk_options} sort2 --verbose={verbose} --gzip-command={gzip_command} \\\n",
    " --input-file {temp_folder_path}/claims-and-qualifiers.sorted-by-id.{kgtk_extension} \\\n",
    " --output-file {temp_folder_path}/claims-and-qualifiers.sorted-by-node1.{kgtk_extension}\\\n",
    " --columns     node1 \\\n",
    " --extra       \"{sort_extras}\""
   ]
  },
  {
   "cell_type": "markdown",
   "metadata": {},
   "source": [
    "### Split the claims and qualifiers\n",
    "If row A's node1 value matches some other row's id value, the then row A is a qualifier."
   ]
  },
  {
   "cell_type": "code",
   "execution_count": 8,
   "metadata": {},
   "outputs": [
    {
     "name": "stdout",
     "output_type": "stream",
     "text": [
      "Timing: elapsed=0:04:54.564006 CPU=0:14:03.884440 (286.5%): ifexists --verbose=False --use-mgzip=True --presorted --input-file /Users/markmann/Downloads/subset/output/parts/temp/claims-and-qualifiers.sorted-by-node1.tsv.gz --filter-file /Users/markmann/Downloads/subset/output/parts/temp/claims-and-qualifiers.sorted-by-id.tsv.gz --output-file /Users/markmann/Downloads/subset/output/parts/temp/qualifiers.sorted-by-node1.tsv.gz --reject-file /Users/markmann/Downloads/subset/output/parts/temp/claims.sorted-by-node1.tsv.gz --input-keys node1 --filter-keys id\n",
      "\n",
      "real\t4m54.973s\n",
      "user\t7m2.028s\n",
      "sys\t0m7.516s\n"
     ]
    }
   ],
   "source": [
    "!{kgtk_command} {kgtk_options} ifexists --verbose={verbose} --use-mgzip={use_mgzip} --presorted \\\n",
    " --input-file {temp_folder_path}/claims-and-qualifiers.sorted-by-node1.{kgtk_extension} \\\n",
    " --filter-file {temp_folder_path}/claims-and-qualifiers.sorted-by-id.{kgtk_extension} \\\n",
    " --output-file {temp_folder_path}/qualifiers.sorted-by-node1.{kgtk_extension}\\\n",
    " --reject-file {temp_folder_path}/claims.sorted-by-node1.{kgtk_extension}\\\n",
    " --input-keys node1 \\\n",
    " --filter-keys id"
   ]
  },
  {
   "cell_type": "markdown",
   "metadata": {},
   "source": [
    "### Sort the claims by ID\n",
    "Sort the split claims by id, node1, label, node2.\n",
    "This may take a while."
   ]
  },
  {
   "cell_type": "code",
   "execution_count": 9,
   "metadata": {},
   "outputs": [
    {
     "name": "stdout",
     "output_type": "stream",
     "text": [
      "Timing: elapsed=0:02:28.354037 CPU=0:00:00.878512 (  0.6%): sort2 --verbose=False --gzip-command=gzip --input-file /Users/markmann/Downloads/subset/output/parts/temp/claims.sorted-by-node1.tsv.gz --output-file /Users/markmann/Downloads/subset/output/parts/temp/claims.no-datatype.tsv.gz --columns id node1 label node2 --extra --parallel 24 --buffer-size 30% --temporary-directory /Users/markmann/Downloads/subset/output/parts/temp\n",
      "\n",
      "real\t2m28.535s\n",
      "user\t2m46.376s\n",
      "sys\t0m15.131s\n"
     ]
    }
   ],
   "source": [
    "!{kgtk_command} {kgtk_options} sort2 --verbose={verbose} --gzip-command={gzip_command} \\\n",
    " --input-file {temp_folder_path}/claims.sorted-by-node1.{kgtk_extension} \\\n",
    " --output-file {temp_folder_path}/claims.no-datatype.{kgtk_extension}\\\n",
    " --columns     id node1 label node2 \\\n",
    " --extra       \"{sort_extras}\""
   ]
  },
  {
   "cell_type": "markdown",
   "metadata": {},
   "source": [
    "### Merge the Wikidata Property Datatypes into the claims\n",
    "Merge the Wikidata Property Datatypes into the claims row as node2;wikidatatype. This column will be used to partition the claims by Wikidata Property Datatype ina later step.  If the claims file already has a node2;wikidatatype column, lift only when that column has an empty value.\n"
   ]
  },
  {
   "cell_type": "code",
   "execution_count": null,
   "metadata": {},
   "outputs": [],
   "source": [
    "!gzcat {temp_folder_path}/claims.no-datatype.{kgtk_extension} | head"
   ]
  },
  {
   "cell_type": "code",
   "execution_count": null,
   "metadata": {},
   "outputs": [],
   "source": [
    "# !{temp_folder_path}/claims.no-datatype.{kgtk_extension}\n",
    "# !gzcat {wikidata_parts_path}/metadata.property.datatypes.{kgtk_extension} | head #ISSUE: metadata is empty...\n",
    "!{wikidata_parts_path}/metadata.property.datatypes.{kgtk_extension}"
   ]
  },
  {
   "cell_type": "code",
   "execution_count": 10,
   "metadata": {},
   "outputs": [
    {
     "name": "stdout",
     "output_type": "stream",
     "text": [
      "Timing: elapsed=0:03:03.725288 CPU=0:09:43.910892 (317.8%): lift --verbose=False --use-mgzip=True --input-file /Users/markmann/Downloads/subset/output/parts/temp/claims.no-datatype.tsv.gz --columns-to-lift label --overwrite False --label-file /Users/markmann/Downloads/subset/output/parts/metadata.property.datatypes.tsv.gz --label-value datatype --output-file /Users/markmann/Downloads/subset/output/parts/claims.tsv.gz --columns-to-write node2;wikidatatype\n",
      "\n",
      "real\t3m4.163s\n",
      "user\t4m52.053s\n",
      "sys\t0m3.938s\n"
     ]
    }
   ],
   "source": [
    "#ISSUE HERE\n",
    "!{kgtk_command} {kgtk_options} lift --verbose={verbose} --use-mgzip={use_mgzip} \\\n",
    " --input-file {temp_folder_path}/claims.no-datatype.{kgtk_extension} \\\n",
    " --columns-to-lift label \\\n",
    " --overwrite False \\\n",
    " --label-file {wikidata_parts_path}/metadata.property.datatypes.{kgtk_extension}\\\n",
    " --label-value datatype \\\n",
    " --output-file {wikidata_parts_path}/claims.{kgtk_extension}\\\n",
    " --columns-to-write 'node2;wikidatatype'"
   ]
  },
  {
   "cell_type": "markdown",
   "metadata": {},
   "source": [
    "### Sort the qualifiers by ID\n",
    "Sort the split qualifiers by id, node1, label, node2.\n",
    "This may take a while."
   ]
  },
  {
   "cell_type": "code",
   "execution_count": 11,
   "metadata": {},
   "outputs": [
    {
     "name": "stdout",
     "output_type": "stream",
     "text": [
      "Timing: elapsed=0:00:14.978641 CPU=0:00:00.743402 (  5.0%): sort2 --verbose=False --gzip-command=gzip --input-file /Users/markmann/Downloads/subset/output/parts/temp/qualifiers.sorted-by-node1.tsv.gz --output-file /Users/markmann/Downloads/subset/output/parts/qualifiers.tsv.gz --columns id node1 label node2 --extra --parallel 24 --buffer-size 30% --temporary-directory /Users/markmann/Downloads/subset/output/parts/temp\r\n",
      "\r\n",
      "real\t0m15.121s\r\n",
      "user\t0m14.232s\r\n",
      "sys\t0m1.139s\r\n"
     ]
    }
   ],
   "source": [
    "!{kgtk_command} {kgtk_options} sort2 --verbose={verbose} --gzip-command={gzip_command} \\\n",
    " --input-file {temp_folder_path}/qualifiers.sorted-by-node1.{kgtk_extension} \\\n",
    " --output-file {wikidata_parts_path}/qualifiers.{kgtk_extension}\\\n",
    " --columns     id node1 label node2 \\\n",
    " --extra       \"{sort_extras}\""
   ]
  },
  {
   "cell_type": "markdown",
   "metadata": {},
   "source": [
    "### Extract the English aliases, descriptions, labels, and sitelinks.\n",
    "Aliases, descriptions, and labels are extracted by selecting rows where the `node2` value ends in the language suffix for English (`@en`) in a KGTK language-qualified string. This is an abbreviated pattern; a more general pattern would include the single quotes used to delimit a KGTK language-qualified string. If `kgtk import-wikidata` has executed properly, the abbreviated pattern should be sufficient.\n",
    "\n",
    "Sitelink rows do not have a language-specific marker in the `node2` value. We use the `lang` column to provide the language code for English ('en').  The `lang` column is an additional column created by `kgtk import-wikidata`."
   ]
  },
  {
   "cell_type": "code",
   "execution_count": 12,
   "metadata": {},
   "outputs": [
    {
     "name": "stdout",
     "output_type": "stream",
     "text": [
      "Timing: elapsed=0:00:13.194327 CPU=0:00:25.215834 (191.1%): filter --verbose=False --use-mgzip=True --regex --input-file /Users/markmann/Downloads/subset/output/parts/aliases.tsv.gz -p ;; ^.*@en$ -o /Users/markmann/Downloads/subset/output/parts/aliases.en.tsv.gz\n",
      "\n",
      "real\t0m13.528s\n",
      "user\t0m12.709s\n",
      "sys\t0m0.334s\n"
     ]
    }
   ],
   "source": [
    "!{kgtk_command} {kgtk_options} filter --verbose={verbose} --use-mgzip={use_mgzip} --regex \\\n",
    " --input-file {wikidata_parts_path}/aliases.{kgtk_extension} \\\n",
    " -p ';; ^.*@en$' -o {wikidata_parts_path}/aliases.en.{kgtk_extension}"
   ]
  },
  {
   "cell_type": "code",
   "execution_count": 13,
   "metadata": {},
   "outputs": [
    {
     "name": "stdout",
     "output_type": "stream",
     "text": [
      "Timing: elapsed=0:00:19.577638 CPU=0:00:49.065846 (250.6%): filter --verbose=False --use-mgzip=True --regex --input-file /Users/markmann/Downloads/subset/output/parts/descriptions.tsv.gz -p ;; ^.*@en$ -o /Users/markmann/Downloads/subset/output/parts/descriptions.en.tsv.gz\n",
      "\n",
      "real\t0m19.832s\n",
      "user\t0m24.617s\n",
      "sys\t0m0.659s\n"
     ]
    }
   ],
   "source": [
    "!{kgtk_command} {kgtk_options} filter --verbose={verbose} --use-mgzip={use_mgzip} --regex \\\n",
    " --input-file {wikidata_parts_path}/descriptions.{kgtk_extension} \\\n",
    " -p ';; ^.*@en$' -o {wikidata_parts_path}/descriptions.en.{kgtk_extension}"
   ]
  },
  {
   "cell_type": "code",
   "execution_count": 14,
   "metadata": {},
   "outputs": [
    {
     "name": "stdout",
     "output_type": "stream",
     "text": [
      "Timing: elapsed=0:00:31.853621 CPU=0:01:31.086664 (286.0%): filter --verbose=False --use-mgzip=True --regex --input-file /Users/markmann/Downloads/subset/output/parts/labels.tsv.gz -p ;; ^.*@en$ -o /Users/markmann/Downloads/subset/output/parts/labels.en.tsv.gz\n",
      "\n",
      "real\t0m32.063s\n",
      "user\t0m45.620s\n",
      "sys\t0m0.836s\n"
     ]
    }
   ],
   "source": [
    "!{kgtk_command} {kgtk_options} filter --verbose={verbose} --use-mgzip={use_mgzip} --regex \\\n",
    " --input-file {wikidata_parts_path}/labels.{kgtk_extension} \\\n",
    " -p ';; ^.*@en$' -o {wikidata_parts_path}/labels.en.{kgtk_extension}"
   ]
  },
  {
   "cell_type": "code",
   "execution_count": 15,
   "metadata": {},
   "outputs": [
    {
     "name": "stdout",
     "output_type": "stream",
     "text": [
      "Timing: elapsed=0:00:00.628267 CPU=0:00:00.687380 (109.4%): filter --verbose=False --use-mgzip=True --input-file /Users/markmann/Downloads/subset/output/parts/sitelinks.qualifiers.tsv.gz -p ; sitelink-language ; en -o /Users/markmann/Downloads/subset/output/parts/temp/sitelinks.language.en.tsv.gz\n",
      "\n",
      "real\t0m0.962s\n",
      "user\t0m0.426s\n",
      "sys\t0m0.163s\n"
     ]
    }
   ],
   "source": [
    "!{kgtk_command} {kgtk_options} filter --verbose={verbose} --use-mgzip={use_mgzip} \\\n",
    " --input-file {wikidata_parts_path}/sitelinks.qualifiers.{kgtk_extension} \\\n",
    " -p '; sitelink-language ; en' -o {temp_folder_path}/sitelinks.language.en.{kgtk_extension}"
   ]
  },
  {
   "cell_type": "code",
   "execution_count": 16,
   "metadata": {},
   "outputs": [
    {
     "name": "stdout",
     "output_type": "stream",
     "text": [
      "Timing: elapsed=0:00:00.404702 CPU=0:00:00.582456 (143.9%): ifexists --verbose=False --use-mgzip=True --presorted --input-file /Users/markmann/Downloads/subset/output/parts/sitelinks.tsv.gz --filter-on /Users/markmann/Downloads/subset/output/parts/temp/sitelinks.language.en.tsv.gz --output-file /Users/markmann/Downloads/subset/output/parts/sitelinks.en.tsv.gz --input-keys id --filter-keys node1\n",
      "\n",
      "real\t0m0.810s\n",
      "user\t0m0.367s\n",
      "sys\t0m0.125s\n"
     ]
    }
   ],
   "source": [
    "!{kgtk_command} {kgtk_options} ifexists --verbose={verbose} --use-mgzip={use_mgzip} --presorted \\\n",
    " --input-file {wikidata_parts_path}/sitelinks.{kgtk_extension} \\\n",
    " --filter-on {temp_folder_path}/sitelinks.language.en.{kgtk_extension} \\\n",
    " --output-file {wikidata_parts_path}/sitelinks.en.{kgtk_extension} \\\n",
    " --input-keys  id \\\n",
    " --filter-keys node1"
   ]
  },
  {
   "cell_type": "code",
   "execution_count": 17,
   "metadata": {},
   "outputs": [
    {
     "name": "stdout",
     "output_type": "stream",
     "text": [
      "Timing: elapsed=0:00:00.435751 CPU=0:00:00.603504 (138.5%): ifexists --verbose=False --use-mgzip=True --presorted --input-file /Users/markmann/Downloads/subset/output/parts/sitelinks.qualifiers.tsv.gz --filter-on /Users/markmann/Downloads/subset/output/parts/temp/sitelinks.language.en.tsv.gz --output-file /Users/markmann/Downloads/subset/output/parts/sitelinks.qualifiers.en.tsv.gz --input-keys node1 --filter-keys node1\n",
      "\n",
      "real\t0m0.898s\n",
      "user\t0m0.376s\n",
      "sys\t0m0.133s\n"
     ]
    }
   ],
   "source": [
    "!{kgtk_command} {kgtk_options} ifexists --verbose={verbose} --use-mgzip={use_mgzip} --presorted \\\n",
    " --input-file {wikidata_parts_path}/sitelinks.qualifiers.{kgtk_extension} \\\n",
    " --filter-on {temp_folder_path}/sitelinks.language.en.{kgtk_extension} \\\n",
    " --output-file {wikidata_parts_path}/sitelinks.qualifiers.en.{kgtk_extension} \\\n",
    " --input-keys  node1 \\\n",
    " --filter-keys node1"
   ]
  },
  {
   "cell_type": "markdown",
   "metadata": {},
   "source": [
    "### Partition the claims by Wikidata Property Datatype\n",
    "Wikidata has two names for each Wikidata property datatype: the name that appears in the JSON dump file, and the name that appears in the TTL dump file. `kgtk import-wikidata` currently imports rows from Wikikdata JSON dump files, and these are the names that appear below.\n",
    "\n",
    "The `part.other` file catches any records that have an unknown Wikidata property datatype. Additional Wikidata property datatypes may occur when processing from certain Wikidata extensions."
   ]
  },
  {
   "cell_type": "code",
   "execution_count": 18,
   "metadata": {},
   "outputs": [
    {
     "name": "stdout",
     "output_type": "stream",
     "text": [
      "Timing: elapsed=0:03:25.670821 CPU=0:11:17.735666 (329.5%): filter --verbose=False --use-mgzip=True --first-match-only --input-file /Users/markmann/Downloads/subset/output/parts/claims.tsv.gz --obj node2;wikidatatype -p ;; commonsMedia -o /Users/markmann/Downloads/subset/output/parts/claims.commonsMedia.tsv.gz -p ;; external-id -o /Users/markmann/Downloads/subset/output/parts/claims.external-id.tsv.gz -p ;; geo-shape -o /Users/markmann/Downloads/subset/output/parts/claims.geo-shape.tsv.gz -p ;; globe-coordinate -o /Users/markmann/Downloads/subset/output/parts/claims.globe-coordinate.tsv.gz -p ;; math -o /Users/markmann/Downloads/subset/output/parts/claims.math.tsv.gz -p ;; monolingualtext -o /Users/markmann/Downloads/subset/output/parts/claims.monolingualtext.tsv.gz -p ;; musical-notation -o /Users/markmann/Downloads/subset/output/parts/claims.musical-notation.tsv.gz -p ;; quantity -o /Users/markmann/Downloads/subset/output/parts/claims.quantity.tsv.gz -p ;; string -o /Users/markmann/Downloads/subset/output/parts/claims.string.tsv.gz -p ;; tabular-data -o /Users/markmann/Downloads/subset/output/parts/claims.tabular-data.tsv.gz -p ;; time -o /Users/markmann/Downloads/subset/output/parts/claims.time.tsv.gz -p ;; url -o /Users/markmann/Downloads/subset/output/parts/claims.url.tsv.gz -p ;; wikibase-form -o /Users/markmann/Downloads/subset/output/parts/claims.wikibase-form.tsv.gz -p ;; wikibase-item -o /Users/markmann/Downloads/subset/output/parts/claims.wikibase-item.tsv.gz -p ;; wikibase-lexeme -o /Users/markmann/Downloads/subset/output/parts/claims.wikibase-lexeme.tsv.gz -p ;; wikibase-property -o /Users/markmann/Downloads/subset/output/parts/claims.wikibase-property.tsv.gz -p ;; wikibase-sense -o /Users/markmann/Downloads/subset/output/parts/claims.wikibase-sense.tsv.gz --reject-file /Users/markmann/Downloads/subset/output/parts/claims.other.tsv.gz\n",
      "\n",
      "real\t3m26.830s\n",
      "user\t5m38.963s\n",
      "sys\t0m7.751s\n"
     ]
    }
   ],
   "source": [
    "!{kgtk_command} {kgtk_options} filter --verbose={verbose} --use-mgzip={use_mgzip} --first-match-only \\\n",
    " --input-file {wikidata_parts_path}/claims.{kgtk_extension} \\\n",
    " --obj 'node2;wikidatatype' \\\n",
    " -p ';; commonsMedia'      -o {wikidata_parts_path}/claims.commonsMedia.{kgtk_extension} \\\n",
    " -p ';; external-id'       -o {wikidata_parts_path}/claims.external-id.{kgtk_extension} \\\n",
    " -p ';; geo-shape'         -o {wikidata_parts_path}/claims.geo-shape.{kgtk_extension} \\\n",
    " -p ';; globe-coordinate'  -o {wikidata_parts_path}/claims.globe-coordinate.{kgtk_extension} \\\n",
    " -p ';; math'              -o {wikidata_parts_path}/claims.math.{kgtk_extension} \\\n",
    " -p ';; monolingualtext'   -o {wikidata_parts_path}/claims.monolingualtext.{kgtk_extension} \\\n",
    " -p ';; musical-notation'  -o {wikidata_parts_path}/claims.musical-notation.{kgtk_extension} \\\n",
    " -p ';; quantity'          -o {wikidata_parts_path}/claims.quantity.{kgtk_extension} \\\n",
    " -p ';; string'            -o {wikidata_parts_path}/claims.string.{kgtk_extension} \\\n",
    " -p ';; tabular-data'      -o {wikidata_parts_path}/claims.tabular-data.{kgtk_extension} \\\n",
    " -p ';; time'              -o {wikidata_parts_path}/claims.time.{kgtk_extension} \\\n",
    " -p ';; url'               -o {wikidata_parts_path}/claims.url.{kgtk_extension} \\\n",
    " -p ';; wikibase-form'     -o {wikidata_parts_path}/claims.wikibase-form.{kgtk_extension} \\\n",
    " -p ';; wikibase-item'     -o {wikidata_parts_path}/claims.wikibase-item.{kgtk_extension} \\\n",
    " -p ';; wikibase-lexeme'   -o {wikidata_parts_path}/claims.wikibase-lexeme.{kgtk_extension} \\\n",
    " -p ';; wikibase-property' -o {wikidata_parts_path}/claims.wikibase-property.{kgtk_extension} \\\n",
    " -p ';; wikibase-sense'    -o {wikidata_parts_path}/claims.wikibase-sense.{kgtk_extension} \\\n",
    " --reject-file {wikidata_parts_path}/claims.other.{kgtk_extension}"
   ]
  },
  {
   "cell_type": "markdown",
   "metadata": {},
   "source": [
    "### Partition the qualifiers\n",
    "Extract the qualifier records for each of the Wikidata property datatype partition files."
   ]
  },
  {
   "cell_type": "code",
   "execution_count": 19,
   "metadata": {},
   "outputs": [
    {
     "name": "stdout",
     "output_type": "stream",
     "text": [
      "Timing: elapsed=0:00:14.310210 CPU=0:00:26.996326 (188.7%): ifexists --verbose=False --use-mgzip=True --presorted --input-file /Users/markmann/Downloads/subset/output/parts/qualifiers.tsv.gz --filter-on /Users/markmann/Downloads/subset/output/parts/claims.commonsMedia.tsv.gz --output-file /Users/markmann/Downloads/subset/output/parts/qualifiers.commonsMedia.tsv.gz --input-keys node1 --filter-keys id\n",
      "\n",
      "real\t0m14.659s\n",
      "user\t0m13.585s\n",
      "sys\t0m0.354s\n"
     ]
    }
   ],
   "source": [
    "!{kgtk_command} {kgtk_options} ifexists --verbose={verbose} --use-mgzip={use_mgzip} --presorted \\\n",
    " --input-file  {wikidata_parts_path}/qualifiers.{kgtk_extension} \\\n",
    " --filter-on   {wikidata_parts_path}/claims.commonsMedia.{kgtk_extension} \\\n",
    " --output-file {wikidata_parts_path}/qualifiers.commonsMedia.{kgtk_extension} \\\n",
    " --input-keys  node1 \\\n",
    " --filter-keys id"
   ]
  },
  {
   "cell_type": "code",
   "execution_count": 20,
   "metadata": {},
   "outputs": [
    {
     "name": "stdout",
     "output_type": "stream",
     "text": [
      "Timing: elapsed=0:00:29.280873 CPU=0:00:59.000042 (201.5%): ifexists --verbose=False --use-mgzip=True --presorted --input-file /Users/markmann/Downloads/subset/output/parts/qualifiers.tsv.gz --filter-on /Users/markmann/Downloads/subset/output/parts/claims.external-id.tsv.gz --output-file /Users/markmann/Downloads/subset/output/parts/qualifiers.external-id.tsv.gz --input-keys node1 --filter-keys id\n",
      "\n",
      "real\t0m29.677s\n",
      "user\t0m29.583s\n",
      "sys\t0m0.717s\n"
     ]
    }
   ],
   "source": [
    "!{kgtk_command} {kgtk_options} ifexists --verbose={verbose} --use-mgzip={use_mgzip} --presorted \\\n",
    " --input-file  {wikidata_parts_path}/qualifiers.{kgtk_extension} \\\n",
    " --filter-on   {wikidata_parts_path}/claims.external-id.{kgtk_extension} \\\n",
    " --output-file {wikidata_parts_path}/qualifiers.external-id.{kgtk_extension} \\\n",
    " --input-keys  node1 \\\n",
    " --filter-keys id"
   ]
  },
  {
   "cell_type": "code",
   "execution_count": 21,
   "metadata": {},
   "outputs": [
    {
     "name": "stdout",
     "output_type": "stream",
     "text": [
      "Timing: elapsed=0:00:11.006226 CPU=0:00:20.982724 (190.6%): ifexists --verbose=False --use-mgzip=True --presorted --input-file /Users/markmann/Downloads/subset/output/parts/qualifiers.tsv.gz --filter-on /Users/markmann/Downloads/subset/output/parts/claims.geo-shape.tsv.gz --output-file /Users/markmann/Downloads/subset/output/parts/qualifiers.geo-shape.tsv.gz --input-keys node1 --filter-keys id\n",
      "\n",
      "real\t0m11.345s\n",
      "user\t0m10.570s\n",
      "sys\t0m0.222s\n"
     ]
    }
   ],
   "source": [
    "!{kgtk_command} {kgtk_options} ifexists --verbose={verbose} --use-mgzip={use_mgzip} --presorted \\\n",
    " --input-file  {wikidata_parts_path}/qualifiers.{kgtk_extension} \\\n",
    " --filter-on   {wikidata_parts_path}/claims.geo-shape.{kgtk_extension} \\\n",
    " --output-file {wikidata_parts_path}/qualifiers.geo-shape.{kgtk_extension} \\\n",
    " --input-keys  node1 \\\n",
    " --filter-keys id"
   ]
  },
  {
   "cell_type": "code",
   "execution_count": 22,
   "metadata": {},
   "outputs": [
    {
     "name": "stdout",
     "output_type": "stream",
     "text": [
      "Timing: elapsed=0:00:15.969536 CPU=0:00:30.665646 (192.0%): ifexists --verbose=False --use-mgzip=True --presorted --input-file /Users/markmann/Downloads/subset/output/parts/qualifiers.tsv.gz --filter-on /Users/markmann/Downloads/subset/output/parts/claims.globe-coordinate.tsv.gz --output-file /Users/markmann/Downloads/subset/output/parts/qualifiers.globe-coordinate.tsv.gz --input-keys node1 --filter-keys id\n",
      "\n",
      "real\t0m16.253s\n",
      "user\t0m15.410s\n",
      "sys\t0m0.345s\n"
     ]
    }
   ],
   "source": [
    "!{kgtk_command} {kgtk_options} ifexists --verbose={verbose} --use-mgzip={use_mgzip} --presorted \\\n",
    " --input-file  {wikidata_parts_path}/qualifiers.{kgtk_extension} \\\n",
    " --filter-on   {wikidata_parts_path}/claims.globe-coordinate.{kgtk_extension} \\\n",
    " --output-file {wikidata_parts_path}/qualifiers.globe-coordinate.{kgtk_extension} \\\n",
    " --input-keys  node1 \\\n",
    " --filter-keys id"
   ]
  },
  {
   "cell_type": "code",
   "execution_count": 23,
   "metadata": {},
   "outputs": [
    {
     "name": "stdout",
     "output_type": "stream",
     "text": [
      "Timing: elapsed=0:00:10.927218 CPU=0:00:21.107980 (193.2%): ifexists --verbose=False --use-mgzip=True --presorted --input-file /Users/markmann/Downloads/subset/output/parts/qualifiers.tsv.gz --filter-on /Users/markmann/Downloads/subset/output/parts/claims.math.tsv.gz --output-file /Users/markmann/Downloads/subset/output/parts/qualifiers.math.tsv.gz --input-keys node1 --filter-keys id\n",
      "\n",
      "real\t0m11.188s\n",
      "user\t0m10.629s\n",
      "sys\t0m0.205s\n"
     ]
    }
   ],
   "source": [
    "!{kgtk_command} {kgtk_options} ifexists --verbose={verbose} --use-mgzip={use_mgzip} --presorted \\\n",
    " --input-file  {wikidata_parts_path}/qualifiers.{kgtk_extension} \\\n",
    " --filter-on   {wikidata_parts_path}/claims.math.{kgtk_extension} \\\n",
    " --output-file {wikidata_parts_path}/qualifiers.math.{kgtk_extension} \\\n",
    " --input-keys  node1 \\\n",
    " --filter-keys id"
   ]
  },
  {
   "cell_type": "code",
   "execution_count": 24,
   "metadata": {},
   "outputs": [
    {
     "name": "stdout",
     "output_type": "stream",
     "text": [
      "Timing: elapsed=0:00:15.272820 CPU=0:00:29.418372 (192.6%): ifexists --verbose=False --use-mgzip=True --presorted --input-file /Users/markmann/Downloads/subset/output/parts/qualifiers.tsv.gz --filter-on /Users/markmann/Downloads/subset/output/parts/claims.monolingualtext.tsv.gz --output-file /Users/markmann/Downloads/subset/output/parts/qualifiers.monolingualtext.tsv.gz --input-keys node1 --filter-keys id\n",
      "\n",
      "real\t0m15.604s\n",
      "user\t0m14.796s\n",
      "sys\t0m0.334s\n"
     ]
    }
   ],
   "source": [
    "!{kgtk_command} {kgtk_options} ifexists --verbose={verbose} --use-mgzip={use_mgzip} --presorted \\\n",
    " --input-file  {wikidata_parts_path}/qualifiers.{kgtk_extension} \\\n",
    " --filter-on   {wikidata_parts_path}/claims.monolingualtext.{kgtk_extension} \\\n",
    " --output-file {wikidata_parts_path}/qualifiers.monolingualtext.{kgtk_extension} \\\n",
    " --input-keys  node1 \\\n",
    " --filter-keys id"
   ]
  },
  {
   "cell_type": "code",
   "execution_count": 25,
   "metadata": {},
   "outputs": [
    {
     "name": "stdout",
     "output_type": "stream",
     "text": [
      "Timing: elapsed=0:00:11.592409 CPU=0:00:22.455004 (193.7%): ifexists --verbose=False --use-mgzip=True --presorted --input-file /Users/markmann/Downloads/subset/output/parts/qualifiers.tsv.gz --filter-on /Users/markmann/Downloads/subset/output/parts/claims.musical-notation.tsv.gz --output-file /Users/markmann/Downloads/subset/output/parts/qualifiers.musical-notation.tsv.gz --input-keys node1 --filter-keys id\n",
      "\n",
      "real\t0m11.835s\n",
      "user\t0m11.308s\n",
      "sys\t0m0.220s\n"
     ]
    }
   ],
   "source": [
    "!{kgtk_command} {kgtk_options} ifexists --verbose={verbose} --use-mgzip={use_mgzip} --presorted \\\n",
    " --input-file  {wikidata_parts_path}/qualifiers.{kgtk_extension} \\\n",
    " --filter-on   {wikidata_parts_path}/claims.musical-notation.{kgtk_extension} \\\n",
    " --output-file {wikidata_parts_path}/qualifiers.musical-notation.{kgtk_extension} \\\n",
    " --input-keys  node1 \\\n",
    " --filter-keys id"
   ]
  },
  {
   "cell_type": "code",
   "execution_count": 26,
   "metadata": {},
   "outputs": [
    {
     "name": "stdout",
     "output_type": "stream",
     "text": [
      "Timing: elapsed=0:00:28.679419 CPU=0:01:04.357568 (224.4%): ifexists --verbose=False --use-mgzip=True --presorted --input-file /Users/markmann/Downloads/subset/output/parts/qualifiers.tsv.gz --filter-on /Users/markmann/Downloads/subset/output/parts/claims.quantity.tsv.gz --output-file /Users/markmann/Downloads/subset/output/parts/qualifiers.quantity.tsv.gz --input-keys node1 --filter-keys id\n",
      "\n",
      "real\t0m28.977s\n",
      "user\t0m32.253s\n",
      "sys\t0m0.557s\n"
     ]
    }
   ],
   "source": [
    "!{kgtk_command} {kgtk_options} ifexists --verbose={verbose} --use-mgzip={use_mgzip} --presorted \\\n",
    " --input-file  {wikidata_parts_path}/qualifiers.{kgtk_extension} \\\n",
    " --filter-on   {wikidata_parts_path}/claims.quantity.{kgtk_extension} \\\n",
    " --output-file {wikidata_parts_path}/qualifiers.quantity.{kgtk_extension} \\\n",
    " --input-keys  node1 \\\n",
    " --filter-keys id"
   ]
  },
  {
   "cell_type": "code",
   "execution_count": 27,
   "metadata": {},
   "outputs": [
    {
     "name": "stdout",
     "output_type": "stream",
     "text": [
      "Timing: elapsed=0:00:17.197049 CPU=0:00:32.957478 (191.6%): ifexists --verbose=False --use-mgzip=True --presorted --input-file /Users/markmann/Downloads/subset/output/parts/qualifiers.tsv.gz --filter-on /Users/markmann/Downloads/subset/output/parts/claims.string.tsv.gz --output-file /Users/markmann/Downloads/subset/output/parts/qualifiers.string.tsv.gz --input-keys node1 --filter-keys id\n",
      "\n",
      "real\t0m17.470s\n",
      "user\t0m16.561s\n",
      "sys\t0m0.332s\n"
     ]
    }
   ],
   "source": [
    "!{kgtk_command} {kgtk_options} ifexists --verbose={verbose} --use-mgzip={use_mgzip} --presorted \\\n",
    " --input-file  {wikidata_parts_path}/qualifiers.{kgtk_extension} \\\n",
    " --filter-on   {wikidata_parts_path}/claims.string.{kgtk_extension} \\\n",
    " --output-file {wikidata_parts_path}/qualifiers.string.{kgtk_extension} \\\n",
    " --input-keys  node1 \\\n",
    " --filter-keys id"
   ]
  },
  {
   "cell_type": "code",
   "execution_count": 28,
   "metadata": {},
   "outputs": [
    {
     "name": "stdout",
     "output_type": "stream",
     "text": [
      "Timing: elapsed=0:00:10.783551 CPU=0:00:20.916836 (194.0%): ifexists --verbose=False --use-mgzip=True --presorted --input-file /Users/markmann/Downloads/subset/output/parts/qualifiers.tsv.gz --filter-on /Users/markmann/Downloads/subset/output/parts/claims.tabular-data.tsv.gz --output-file /Users/markmann/Downloads/subset/output/parts/qualifiers.tabular-data.tsv.gz --input-keys node1 --filter-keys id\n",
      "\n",
      "real\t0m11.061s\n",
      "user\t0m10.533s\n",
      "sys\t0m0.200s\n"
     ]
    }
   ],
   "source": [
    "!{kgtk_command} {kgtk_options} ifexists --verbose={verbose} --use-mgzip={use_mgzip} --presorted \\\n",
    " --input-file  {wikidata_parts_path}/qualifiers.{kgtk_extension} \\\n",
    " --filter-on   {wikidata_parts_path}/claims.tabular-data.{kgtk_extension} \\\n",
    " --output-file {wikidata_parts_path}/qualifiers.tabular-data.{kgtk_extension} \\\n",
    " --input-keys  node1 \\\n",
    " --filter-keys id"
   ]
  },
  {
   "cell_type": "code",
   "execution_count": 29,
   "metadata": {},
   "outputs": [
    {
     "name": "stdout",
     "output_type": "stream",
     "text": [
      "Timing: elapsed=0:00:17.622693 CPU=0:00:34.273780 (194.5%): ifexists --verbose=False --use-mgzip=True --presorted --input-file /Users/markmann/Downloads/subset/output/parts/qualifiers.tsv.gz --filter-on /Users/markmann/Downloads/subset/output/parts/claims.time.tsv.gz --output-file /Users/markmann/Downloads/subset/output/parts/qualifiers.time.tsv.gz --input-keys node1 --filter-keys id\n",
      "\n",
      "real\t0m17.968s\n",
      "user\t0m17.212s\n",
      "sys\t0m0.370s\n"
     ]
    }
   ],
   "source": [
    "!{kgtk_command} {kgtk_options} ifexists --verbose={verbose} --use-mgzip={use_mgzip} --presorted \\\n",
    " --input-file  {wikidata_parts_path}/qualifiers.{kgtk_extension} \\\n",
    " --filter-on   {wikidata_parts_path}/claims.time.{kgtk_extension} \\\n",
    " --output-file {wikidata_parts_path}/qualifiers.time.{kgtk_extension} \\\n",
    " --input-keys  node1 \\\n",
    " --filter-keys id"
   ]
  },
  {
   "cell_type": "code",
   "execution_count": 30,
   "metadata": {},
   "outputs": [
    {
     "name": "stdout",
     "output_type": "stream",
     "text": [
      "Timing: elapsed=0:00:14.893292 CPU=0:00:28.712904 (192.8%): ifexists --verbose=False --use-mgzip=True --presorted --input-file /Users/markmann/Downloads/subset/output/parts/qualifiers.tsv.gz --filter-on /Users/markmann/Downloads/subset/output/parts/claims.url.tsv.gz --output-file /Users/markmann/Downloads/subset/output/parts/qualifiers.url.tsv.gz --input-keys node1 --filter-keys id\n",
      "\n",
      "real\t0m15.134s\n",
      "user\t0m14.433s\n",
      "sys\t0m0.287s\n"
     ]
    }
   ],
   "source": [
    "!{kgtk_command} {kgtk_options} ifexists --verbose={verbose} --use-mgzip={use_mgzip} --presorted \\\n",
    " --input-file  {wikidata_parts_path}/qualifiers.{kgtk_extension} \\\n",
    " --filter-on   {wikidata_parts_path}/claims.url.{kgtk_extension} \\\n",
    " --output-file {wikidata_parts_path}/qualifiers.url.{kgtk_extension} \\\n",
    " --input-keys  node1 \\\n",
    " --filter-keys id"
   ]
  },
  {
   "cell_type": "code",
   "execution_count": 31,
   "metadata": {},
   "outputs": [
    {
     "name": "stdout",
     "output_type": "stream",
     "text": [
      "Timing: elapsed=0:00:10.633202 CPU=0:00:20.672618 (194.4%): ifexists --verbose=False --use-mgzip=True --presorted --input-file /Users/markmann/Downloads/subset/output/parts/qualifiers.tsv.gz --filter-on /Users/markmann/Downloads/subset/output/parts/claims.wikibase-form.tsv.gz --output-file /Users/markmann/Downloads/subset/output/parts/qualifiers.wikibase-form.tsv.gz --input-keys node1 --filter-keys id\n",
      "\n",
      "real\t0m10.893s\n",
      "user\t0m10.412s\n",
      "sys\t0m0.194s\n"
     ]
    }
   ],
   "source": [
    "!{kgtk_command} {kgtk_options} ifexists --verbose={verbose} --use-mgzip={use_mgzip} --presorted \\\n",
    " --input-file  {wikidata_parts_path}/qualifiers.{kgtk_extension} \\\n",
    " --filter-on   {wikidata_parts_path}/claims.wikibase-form.{kgtk_extension} \\\n",
    " --output-file {wikidata_parts_path}/qualifiers.wikibase-form.{kgtk_extension} \\\n",
    " --input-keys  node1 \\\n",
    " --filter-keys id"
   ]
  },
  {
   "cell_type": "code",
   "execution_count": 32,
   "metadata": {},
   "outputs": [
    {
     "name": "stdout",
     "output_type": "stream",
     "text": [
      "Timing: elapsed=0:00:57.382729 CPU=0:01:55.416764 (201.1%): ifexists --verbose=False --use-mgzip=True --presorted --input-file /Users/markmann/Downloads/subset/output/parts/qualifiers.tsv.gz --filter-on /Users/markmann/Downloads/subset/output/parts/claims.wikibase-item.tsv.gz --output-file /Users/markmann/Downloads/subset/output/parts/qualifiers.wikibase-item.tsv.gz --input-keys node1 --filter-keys id\n",
      "\n",
      "real\t0m57.675s\n",
      "user\t0m57.796s\n",
      "sys\t0m1.234s\n"
     ]
    }
   ],
   "source": [
    "!{kgtk_command} {kgtk_options} ifexists --verbose={verbose} --use-mgzip={use_mgzip} --presorted \\\n",
    " --input-file  {wikidata_parts_path}/qualifiers.{kgtk_extension} \\\n",
    " --filter-on   {wikidata_parts_path}/claims.wikibase-item.{kgtk_extension} \\\n",
    " --output-file {wikidata_parts_path}/qualifiers.wikibase-item.{kgtk_extension} \\\n",
    " --input-keys  node1 \\\n",
    " --filter-keys id"
   ]
  },
  {
   "cell_type": "code",
   "execution_count": 33,
   "metadata": {},
   "outputs": [
    {
     "name": "stdout",
     "output_type": "stream",
     "text": [
      "Timing: elapsed=0:00:11.348215 CPU=0:00:21.624082 (190.6%): ifexists --verbose=False --use-mgzip=True --presorted --input-file /Users/markmann/Downloads/subset/output/parts/qualifiers.tsv.gz --filter-on /Users/markmann/Downloads/subset/output/parts/claims.wikibase-lexeme.tsv.gz --output-file /Users/markmann/Downloads/subset/output/parts/qualifiers.wikibase-lexeme.tsv.gz --input-keys node1 --filter-keys id\n",
      "\n",
      "real\t0m11.768s\n",
      "user\t0m10.906s\n",
      "sys\t0m0.250s\n"
     ]
    }
   ],
   "source": [
    "!{kgtk_command} {kgtk_options} ifexists --verbose={verbose} --use-mgzip={use_mgzip} --presorted \\\n",
    " --input-file  {wikidata_parts_path}/qualifiers.{kgtk_extension} \\\n",
    " --filter-on   {wikidata_parts_path}/claims.wikibase-lexeme.{kgtk_extension} \\\n",
    " --output-file {wikidata_parts_path}/qualifiers.wikibase-lexeme.{kgtk_extension} \\\n",
    " --input-keys  node1 \\\n",
    " --filter-keys id"
   ]
  },
  {
   "cell_type": "code",
   "execution_count": 34,
   "metadata": {},
   "outputs": [
    {
     "name": "stdout",
     "output_type": "stream",
     "text": [
      "Timing: elapsed=0:00:10.842485 CPU=0:00:20.931252 (193.0%): ifexists --verbose=False --use-mgzip=True --presorted --input-file /Users/markmann/Downloads/subset/output/parts/qualifiers.tsv.gz --filter-on /Users/markmann/Downloads/subset/output/parts/claims.wikibase-property.tsv.gz --output-file /Users/markmann/Downloads/subset/output/parts/qualifiers.wikibase-property.tsv.gz --input-keys node1 --filter-keys id\n",
      "\n",
      "real\t0m11.178s\n",
      "user\t0m10.542s\n",
      "sys\t0m0.204s\n"
     ]
    }
   ],
   "source": [
    "!{kgtk_command} {kgtk_options} ifexists --verbose={verbose} --use-mgzip={use_mgzip} --presorted \\\n",
    " --input-file  {wikidata_parts_path}/qualifiers.{kgtk_extension} \\\n",
    " --filter-on   {wikidata_parts_path}/claims.wikibase-property.{kgtk_extension} \\\n",
    " --output-file {wikidata_parts_path}/qualifiers.wikibase-property.{kgtk_extension} \\\n",
    " --input-keys  node1 \\\n",
    " --filter-keys id"
   ]
  },
  {
   "cell_type": "code",
   "execution_count": 35,
   "metadata": {},
   "outputs": [
    {
     "name": "stdout",
     "output_type": "stream",
     "text": [
      "Timing: elapsed=0:00:10.661392 CPU=0:00:20.554058 (192.8%): ifexists --verbose=False --use-mgzip=True --presorted --input-file /Users/markmann/Downloads/subset/output/parts/qualifiers.tsv.gz --filter-on /Users/markmann/Downloads/subset/output/parts/claims.wikibase-sense.tsv.gz --output-file /Users/markmann/Downloads/subset/output/parts/qualifiers.wikibase-sense.tsv.gz --input-keys node1 --filter-keys id\n",
      "\n",
      "real\t0m10.983s\n",
      "user\t0m10.353s\n",
      "sys\t0m0.191s\n"
     ]
    }
   ],
   "source": [
    "!{kgtk_command} {kgtk_options} ifexists --verbose={verbose} --use-mgzip={use_mgzip} --presorted \\\n",
    " --input-file  {wikidata_parts_path}/qualifiers.{kgtk_extension} \\\n",
    " --filter-on   {wikidata_parts_path}/claims.wikibase-sense.{kgtk_extension} \\\n",
    " --output-file {wikidata_parts_path}/qualifiers.wikibase-sense.{kgtk_extension} \\\n",
    " --input-keys  node1 \\\n",
    " --filter-keys id"
   ]
  },
  {
   "cell_type": "code",
   "execution_count": null,
   "metadata": {},
   "outputs": [],
   "source": []
  }
 ],
 "metadata": {
  "kernelspec": {
   "display_name": "kgtk-subset",
   "language": "python",
   "name": "kgtk-subset"
  },
  "language_info": {
   "codemirror_mode": {
    "name": "ipython",
    "version": 3
   },
   "file_extension": ".py",
   "mimetype": "text/x-python",
   "name": "python",
   "nbconvert_exporter": "python",
   "pygments_lexer": "ipython3",
   "version": "3.7.9"
  }
 },
 "nbformat": 4,
 "nbformat_minor": 4
}
