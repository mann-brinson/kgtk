{
 "cells": [
  {
   "cell_type": "markdown",
   "metadata": {},
   "source": [
    "# Generating Useful Wikidata Files\n",
    "\n",
    "This notebook generates files that contain derived data that is useful in many applications. The input to the notebook is the full Wikidata or a subset of Wikidata. It also works for arbutrary KGs as long as they follow the representation requirements of Wikidata:\n",
    "\n",
    "- the *instance of* relation is represented using the `P31` property\n",
    "- the *subclass of* relation is represented using the `P279` property\n",
    "- all properties declare a datatype, and the data types must be one of the datatypes in Wikidata.\n",
    "\n",
    "Inputs:\n",
    "\n",
    "- `claims_file`: contains all statements, which consist of edges `node1/label/node2` where `label` is a property in Wikidata (e.g., sitelinks, labels, aliases and description are not in the claims file.\n",
    "- `item_file`: the subset of the `claims_file` consisting of edges for property of data type `wikibase-item`\n",
    "- `label_file`, `alias_file` and `description_file` containing labels, aliases and descriptions. It is assume that these files contain the labels, aliases and descriptions of all nodes appearing in the claims file. Users may provide these files for specific languages only.\n",
    "\n",
    "Outputs:\n",
    "\n",
    "- **Instance of (P31):** `derived.P31.tsv.gz` contains all the `instance of (P31)` edges present in the claims file.\n",
    "- **Subclass of (P279):** `derived.P279.tsv.gz` contains all the `subclass of (P279)` edges present in the claims file.\n",
    "- **Is A (isa):** `derived.isa.tsv.gz` contains edges `node`isa/node2` where either `node1/P31/node2` or `node1/P279/node2`\n",
    "- **Closure of subclass of (P279star):** `derived.P279star.tsv.gz` contains edges `node1/P279star/node2` where `node2` is reachable from `node1` via zero or more hops using the `P279` property. Note that for example, `Q44/P279star/Q44`. An example when this file is useful is when you want to find all the instance of a class, including instances of subclasses of the given class.\n",
    "- **In/out degrees:** `metadata.out_degree.tsv.gz` contains the out degree of every node, and `metadata.in_degree.tsv.gz` contains the in degree of every node.\n",
    "- **Pagerank:** outputs page rank on the directed graph in `metadata.pagerank.directed.tsv.gz` and page rank of the directed graph in `metadata.pagerank.undirected.tsv.gz`."
   ]
  },
  {
   "cell_type": "markdown",
   "metadata": {},
   "source": [
    "### Batch Invocation\n",
    "Example batch command. The second argument is a notebook where the output will be stored. You can load it to see progress.\n",
    "\n",
    "```\n",
    "papermill Wikidata\\ Useful\\ Files.ipynb useful-files.out.ipynb \\\n",
    "-p claims_file /Volumes/GoogleDrive/Shared\\ drives/KGTK-public-graphs/wikidata-20200803-v4/all.tsv.gz \\\n",
    "-p label_file /Volumes/GoogleDrive/Shared\\ drives/KGTK-public-graphs/wikidata-20200803-v4/part.label.en.tsv.gz \\\n",
    "-p item_file /Volumes/GoogleDrive/Shared\\ drives/KGTK-public-graphs/wikidata-20200803-v4/part.wikibase-item.tsv.gz \\\n",
    "-p property_item_file = /Volumes/GoogleDrive/Shared\\ drives/KGTK-public-graphs/wikidata-20200803-v4/part.property.wikibase-item.tsv.gz \\\n",
    "-p output_path <local folder> \\\n",
    "-p output_folder useful_files_v4 \\\n",
    "-p temp_folder temp.useful_files_v4 \\\n",
    "-p delete_database no \n",
    "-p languages es,ru,zh-cn\n",
    "```"
   ]
  },
  {
   "cell_type": "code",
   "execution_count": null,
   "metadata": {
    "tags": [
     "parameters"
    ]
   },
   "outputs": [],
   "source": [
    "# Parameters\n",
    "\n",
    "# Folder on local machine where to create the output and temporary folders\n",
    "output_path = \"/Users/pedroszekely/Downloads/kypher\"\n",
    "\n",
    "# The names of the output and temporary folders\n",
    "output_folder = \"useful_wikidata_files_v4\"\n",
    "temp_folder = \"temp.useful_wikidata_files_v4\"\n",
    "\n",
    "# The location of input files\n",
    "wiki_root_folder = \"/Volumes/GoogleDrive/Shared drives/KGTK/datasets/wikidata-20200803-v4/\"\n",
    "claims_file = \"claims.tsv.gz\"\n",
    "label_file = \"labels.en.tsv.gz\"\n",
    "alias_file = \"aliases.en.tsv.gz\"\n",
    "description_file = \"descriptions.en.tsv.gz\"\n",
    "item_file = \"claims.wikibase-item.tsv.gz\"\n",
    "\n",
    "label_all = \"labels.tsv.gz\"\n",
    "alias_all = \"aliases.tsv.gz\"\n",
    "description_all = \"descriptions.tsv.gz\"\n",
    "\n",
    "# Location of the cache database for kypher\n",
    "cache_path = \"/Users/pedroszekely/Downloads/kypher/temp.useful_wikidata_files_v4\"\n",
    "\n",
    "# Whether to delete the cache database\n",
    "delete_database = False\n",
    "\n",
    "# Whether to compute pagerank as it may not run on the laptop\n",
    "compute_pagerank = False\n",
    "languages = ''"
   ]
  },
  {
   "cell_type": "code",
   "execution_count": null,
   "metadata": {},
   "outputs": [],
   "source": [
    "languages = languages.split(',')"
   ]
  },
  {
   "cell_type": "code",
   "execution_count": null,
   "metadata": {},
   "outputs": [],
   "source": [
    "import io\n",
    "import os\n",
    "import subprocess\n",
    "import sys\n",
    "\n",
    "import numpy as np\n",
    "import pandas as pd\n",
    "\n",
    "import altair as alt"
   ]
  },
  {
   "cell_type": "markdown",
   "metadata": {},
   "source": [
    "## Set up environment and folders to store the files\n",
    "\n",
    "- `OUT` folder where the output files go\n",
    "- `TEMP` folder to keep temporary files , including the database\n",
    "- `kgtk` shortcut to invoke the kgtk software\n",
    "- `kypher` shortcut to invoke `kgtk query with the cache database\n",
    "- `CLAIMS` the `all.tsv` file of wikidata that contains all edges except label/alias/description\n",
    "- `LABELS` the file with the English labels\n",
    "- `ITEMS` the wikibase-item file (currently does not include node1 that are properties so for now we need the net file\n",
    "- `STORE` location of the cache file"
   ]
  },
  {
   "cell_type": "code",
   "execution_count": null,
   "metadata": {},
   "outputs": [],
   "source": [
    "if cache_path:\n",
    "    os.environ['STORE'] = \"{}/wikidata.sqlite3.db\".format(cache_path)\n",
    "else:\n",
    "    os.environ['STORE'] = \"{}/{}/wikidata.sqlite3.db\".format(output_path, temp_folder)\n",
    "os.environ['OUT'] = \"{}/{}\".format(output_path, output_folder)\n",
    "os.environ['TEMP'] = \"{}/{}\".format(output_path, temp_folder)\n",
    "os.environ['kgtk'] = \"kgtk\"\n",
    "os.environ['kgtk'] = \"time kgtk --debug\"\n",
    "os.environ['kypher'] = \"time kgtk --debug query --graph-cache \" + os.environ['STORE']\n",
    "os.environ['CLAIMS'] = wiki_root_folder + claims_file\n",
    "os.environ['LABELS'] = wiki_root_folder + label_file\n",
    "os.environ['ALIASES'] = wiki_root_folder + alias_file\n",
    "os.environ['DESCRIPTIONS'] = wiki_root_folder + description_file\n",
    "os.environ['ITEMS'] = wiki_root_folder + item_file"
   ]
  },
  {
   "cell_type": "markdown",
   "metadata": {},
   "source": [
    "Echo the variables to see if they are all set correctly"
   ]
  },
  {
   "cell_type": "code",
   "execution_count": null,
   "metadata": {},
   "outputs": [],
   "source": [
    "!echo $OUT\n",
    "!echo $TEMP\n",
    "!echo $kgtk\n",
    "!echo $kypher\n",
    "!echo $CLAIMS\n",
    "!echo $LABELS\n",
    "!echo $ALIASES\n",
    "!echo $LABELS\n",
    "!echo $DESCRIPTIONS\n",
    "!echo $STORE\n",
    "!alias col=\"column -t -s $'\\t' \""
   ]
  },
  {
   "cell_type": "markdown",
   "metadata": {},
   "source": [
    "Go to the output directory and create the subfolders for the output files and the temporary files"
   ]
  },
  {
   "cell_type": "code",
   "execution_count": null,
   "metadata": {},
   "outputs": [],
   "source": [
    "cd $output_path"
   ]
  },
  {
   "cell_type": "code",
   "execution_count": null,
   "metadata": {},
   "outputs": [],
   "source": [
    "!mkdir -p $OUT\n",
    "!mkdir -p $TEMP"
   ]
  },
  {
   "cell_type": "markdown",
   "metadata": {},
   "source": [
    "Clean up the output and temp folders before we start"
   ]
  },
  {
   "cell_type": "code",
   "execution_count": null,
   "metadata": {},
   "outputs": [],
   "source": [
    "# !rm $OUT/*.tsv $OUT/*.tsv.gz\n",
    "# !rm $TEMP/*.tsv $TEMP/*.tsv.gz"
   ]
  },
  {
   "cell_type": "code",
   "execution_count": null,
   "metadata": {},
   "outputs": [],
   "source": [
    "if delete_database:\n",
    "    print(\"Deleteddatabase\") \n",
    "    !rm $STORE"
   ]
  },
  {
   "cell_type": "code",
   "execution_count": null,
   "metadata": {},
   "outputs": [],
   "source": [
    "!ls -l $OUT\n",
    "!ls $TEMP\n",
    "!ls -l \"$CLAIMS\"\n",
    "!ls -l \"$LABELS\"\n",
    "!ls -l \"$ALIASES\"\n",
    "!ls -l \"$LABELS\"\n",
    "!ls -l \"$DESCRIPTIONS\"\n",
    "!ls $STORE"
   ]
  },
  {
   "cell_type": "code",
   "execution_count": null,
   "metadata": {},
   "outputs": [],
   "source": [
    "!zcat < \"$CLAIMS\" | head | col"
   ]
  },
  {
   "cell_type": "markdown",
   "metadata": {},
   "source": [
    "### Preview the input files"
   ]
  },
  {
   "cell_type": "markdown",
   "metadata": {},
   "source": [
    "It is always a good practice to peek a the files to make sure the column headings are what we expect"
   ]
  },
  {
   "cell_type": "code",
   "execution_count": null,
   "metadata": {},
   "outputs": [],
   "source": [
    "!$kypher -i \"$CLAIMS\" --limit 10 | col "
   ]
  },
  {
   "cell_type": "markdown",
   "metadata": {},
   "source": [
    "Force creation of the index on the label column"
   ]
  },
  {
   "cell_type": "code",
   "execution_count": null,
   "metadata": {},
   "outputs": [],
   "source": [
    "!$kypher -i \"$CLAIMS\" -o - \\\n",
    "--match '(i)-[:P31]->(c)' \\\n",
    "--limit 5 \\\n",
    "| column -t -s $'\\t' "
   ]
  },
  {
   "cell_type": "markdown",
   "metadata": {},
   "source": [
    "Force creation of the index on the node2 column"
   ]
  },
  {
   "cell_type": "code",
   "execution_count": null,
   "metadata": {},
   "outputs": [],
   "source": [
    "!$kypher -i \"$CLAIMS\" -o - \\\n",
    "--match '(i)-[r]->(:Q5)' \\\n",
    "--limit 5 \\\n",
    "| column -t -s $'\\t' "
   ]
  },
  {
   "cell_type": "markdown",
   "metadata": {},
   "source": [
    "### Count the number of edges"
   ]
  },
  {
   "cell_type": "markdown",
   "metadata": {},
   "source": [
    "Counting takes a long time"
   ]
  },
  {
   "cell_type": "code",
   "execution_count": null,
   "metadata": {},
   "outputs": [],
   "source": [
    "!$kypher -i \"$CLAIMS\" \\\n",
    "--match '()-[r]->()' \\\n",
    "--return 'count(r) as count' \\\n",
    "--limit 10"
   ]
  },
  {
   "cell_type": "markdown",
   "metadata": {},
   "source": [
    "### Get labels, aliases and descriptions for other languages"
   ]
  },
  {
   "cell_type": "code",
   "execution_count": null,
   "metadata": {},
   "outputs": [],
   "source": [
    "for lang in languages:\n",
    "    cmd = f\"kgtk --debug query --graph-cache {os.environ['STORE']} -i {wiki_root_folder}{label_all} -o {output_path}/{output_folder}/labels.{lang}.tsv.gz --match '(n1)-[l:label]->(n2)' --where 'n2.kgtk_lqstring_lang_suffix = \\\"{lang}\\\"' --return 'n1, l.label, n2, l.id' \"\n",
    "    !{cmd}"
   ]
  },
  {
   "cell_type": "code",
   "execution_count": null,
   "metadata": {},
   "outputs": [],
   "source": [
    "for lang in languages:\n",
    "    cmd = f\"kgtk --debug query --graph-cache {os.environ['STORE']} -i {wiki_root_folder}{alias_all} -o {output_path}/{output_folder}/aliases.{lang}.tsv.gz --match '(n1)-[l:alias]->(n2)' --where 'n2.kgtk_lqstring_lang_suffix = \\\"{lang}\\\"' --return 'n1, l.label, n2, l.id' \"\n",
    "    !{cmd}"
   ]
  },
  {
   "cell_type": "code",
   "execution_count": null,
   "metadata": {},
   "outputs": [],
   "source": [
    "for lang in languages:\n",
    "    cmd = f\"kgtk --debug query --graph-cache {os.environ['STORE']} -i {wiki_root_folder}{description_all} -o {output_path}/{output_folder}/descriptions.{lang}.tsv.gz --match '(n1)-[l:description]->(n2)' --where 'n2.kgtk_lqstring_lang_suffix = \\\"{lang}\\\"' --return 'n1, l.label, n2, l.id' \"\n",
    "    !{cmd}"
   ]
  },
  {
   "cell_type": "markdown",
   "metadata": {},
   "source": [
    "### Create the P31 and P279 files"
   ]
  },
  {
   "cell_type": "markdown",
   "metadata": {},
   "source": [
    "Create the `P31` file"
   ]
  },
  {
   "cell_type": "code",
   "execution_count": null,
   "metadata": {},
   "outputs": [],
   "source": [
    "!$kypher -i \"$CLAIMS\" -o $OUT/derived.P31.tsv.gz \\\n",
    "--match '(n1)-[l:P31]->(n2)' \\\n",
    "--return 'l, n1, l.label, n2' "
   ]
  },
  {
   "cell_type": "markdown",
   "metadata": {},
   "source": [
    "Create the P279 file"
   ]
  },
  {
   "cell_type": "code",
   "execution_count": null,
   "metadata": {},
   "outputs": [],
   "source": [
    "!gzcat $OUT/derived.P31.tsv.gz | head | col"
   ]
  },
  {
   "cell_type": "code",
   "execution_count": null,
   "metadata": {},
   "outputs": [],
   "source": [
    "!$kypher -i \"$CLAIMS\" -o $OUT/derived.P279.tsv.gz \\\n",
    "    --match '(n1)-[l:P279]->(n2)' \\\n",
    "    --return 'l, n1, l.label, n2' "
   ]
  },
  {
   "cell_type": "markdown",
   "metadata": {},
   "source": [
    "### Create the file that contains all nodes reachable via P279 starting from a node2 in P31 or a node1 in P279"
   ]
  },
  {
   "cell_type": "markdown",
   "metadata": {},
   "source": [
    "First compute the roots"
   ]
  },
  {
   "cell_type": "code",
   "execution_count": null,
   "metadata": {},
   "outputs": [],
   "source": [
    "!$kypher -i $OUT/derived.P279.tsv.gz -o $TEMP/P279.n1.tsv.gz \\\n",
    "--match '(n1)-[l]->()' \\\n",
    "--return 'n1 as id' "
   ]
  },
  {
   "cell_type": "code",
   "execution_count": null,
   "metadata": {},
   "outputs": [],
   "source": [
    "!$kypher -i $OUT/derived.P31.tsv.gz -o $TEMP/P31.n2.tsv.gz \\\n",
    "--match '()-[l]->(n2)' \\\n",
    "--return 'n2 as id' "
   ]
  },
  {
   "cell_type": "code",
   "execution_count": null,
   "metadata": {},
   "outputs": [],
   "source": [
    "!$kgtk cat --mode NONE -i $TEMP/P31.n2.tsv.gz $TEMP/P279.n1.tsv.gz \\\n",
    "| gzip > $TEMP/P279.roots.1.tsv.gz"
   ]
  },
  {
   "cell_type": "code",
   "execution_count": null,
   "metadata": {},
   "outputs": [],
   "source": [
    "!$kgtk sort2 --mode NONE --column id -i $TEMP/P279.roots.1.tsv.gz \\\n",
    "| gzip > $TEMP/P279.roots.2.tsv.gz"
   ]
  },
  {
   "cell_type": "markdown",
   "metadata": {},
   "source": [
    "We have lots of duplicates"
   ]
  },
  {
   "cell_type": "code",
   "execution_count": null,
   "metadata": {},
   "outputs": [],
   "source": [
    "!zcat < $TEMP/P279.roots.2.tsv.gz | head"
   ]
  },
  {
   "cell_type": "code",
   "execution_count": null,
   "metadata": {},
   "outputs": [],
   "source": [
    "!$kgtk compact -i $TEMP/P279.roots.2.tsv.gz --mode NONE \\\n",
    "    --presorted \\\n",
    "    --columns id \\\n",
    "> $TEMP/P279.roots.tsv"
   ]
  },
  {
   "cell_type": "markdown",
   "metadata": {},
   "source": [
    "Now we can invoke the reachable-nodes command"
   ]
  },
  {
   "cell_type": "code",
   "execution_count": null,
   "metadata": {},
   "outputs": [],
   "source": [
    "!$kgtk reachable-nodes \\\n",
    "    --rootfile $TEMP/P279.roots.tsv \\\n",
    "    --selflink \\\n",
    "    -i $OUT/derived.P279.tsv.gz \\\n",
    "| gzip > $TEMP/P279.reachable.tsv.gz"
   ]
  },
  {
   "cell_type": "code",
   "execution_count": null,
   "metadata": {},
   "outputs": [],
   "source": [
    "!zcat < $TEMP/P279.reachable.tsv.gz | head | col"
   ]
  },
  {
   "cell_type": "markdown",
   "metadata": {},
   "source": [
    "The reachable-nodes command produces edges labeled `reachable`, so we need one command to rename them."
   ]
  },
  {
   "cell_type": "code",
   "execution_count": null,
   "metadata": {},
   "outputs": [],
   "source": [
    "!$kypher -i $TEMP/P279.reachable.tsv.gz -o $TEMP/P279star.1.tsv.gz \\\n",
    "--match '(n1)-[]->(n2)' \\\n",
    "--return 'n1, \"P279star\" as label, n2 as node2' "
   ]
  },
  {
   "cell_type": "markdown",
   "metadata": {},
   "source": [
    "Now we can concatenate these files to produce the final output"
   ]
  },
  {
   "cell_type": "code",
   "execution_count": null,
   "metadata": {},
   "outputs": [],
   "source": [
    "!$kgtk sort2 -i $TEMP/P279star.1.tsv.gz -o $TEMP/P279star.2.tsv.gz"
   ]
  },
  {
   "cell_type": "markdown",
   "metadata": {},
   "source": [
    "Make sure there are no duplicates"
   ]
  },
  {
   "cell_type": "code",
   "execution_count": null,
   "metadata": {},
   "outputs": [],
   "source": [
    "!$kgtk compact --presorted -i $TEMP/P279star.2.tsv.gz -o $TEMP/P279star.3.tsv.gz"
   ]
  },
  {
   "cell_type": "markdown",
   "metadata": {},
   "source": [
    "Add ids"
   ]
  },
  {
   "cell_type": "code",
   "execution_count": null,
   "metadata": {},
   "outputs": [],
   "source": [
    "!$kgtk add-id --id-style node1-label-node2-num -i $TEMP/P279star.3.tsv.gz -o $OUT/derived.P279star.tsv.gz"
   ]
  },
  {
   "cell_type": "code",
   "execution_count": null,
   "metadata": {},
   "outputs": [],
   "source": [
    "!zcat < $OUT/derived.P279star.tsv.gz | head | col"
   ]
  },
  {
   "cell_type": "markdown",
   "metadata": {},
   "source": [
    "This is how we would do the typical `?item P31/P279* ?class` in Kypher. \n",
    "The example shows how to get all the counts of instances of subclasses of city (Q515)."
   ]
  },
  {
   "cell_type": "code",
   "execution_count": null,
   "metadata": {},
   "outputs": [],
   "source": [
    "!$kypher -i $OUT/derived.P31.tsv.gz -i $OUT/derived.P279star.tsv.gz -i \"$LABELS\" \\\n",
    "--match 'P31: (n1)-[:P31]->(c), P279star: (c)-[]->(:Q515), label: (n1)-[:label]->(label), label: (c)-[:label]->(c_label)' \\\n",
    "--return 'distinct c as class, count(c) as count, c_label as `class name`, n1 as instance, label as `label`' \\\n",
    "--order-by 'count(c) desc, c, n1' \\\n",
    "--limit 10 \\\n",
    "| col"
   ]
  },
  {
   "cell_type": "markdown",
   "metadata": {},
   "source": [
    "Illustrate that it is indeed `P279*`"
   ]
  },
  {
   "cell_type": "code",
   "execution_count": null,
   "metadata": {},
   "outputs": [],
   "source": [
    "!$kypher -i $OUT/derived.P31.tsv.gz -i $OUT/derived.P279star.tsv.gz -i \"$LABELS\" \\\n",
    "--match 'P31: (n1)-[:P31]->(c), P279star: (c)-[]->(:Q63440326), label: (n1)-[:label]->(label), label: (c)-[:label]->(c_label)' \\\n",
    "--return 'distinct c as class, c_label as `class name`, n1 as instance, label as `label`' \\\n",
    "--order-by 'c, n1' \\\n",
    "--limit 10 \\\n",
    "| col "
   ]
  },
  {
   "cell_type": "markdown",
   "metadata": {},
   "source": [
    "Test that `P279star` is indeed star"
   ]
  },
  {
   "cell_type": "code",
   "execution_count": null,
   "metadata": {},
   "outputs": [],
   "source": [
    "!$kypher -i $OUT/derived.P279star.tsv.gz \\\n",
    "--match '(n1:Q44)-[:P279star]->(n2:Q44)'"
   ]
  },
  {
   "cell_type": "markdown",
   "metadata": {},
   "source": [
    "### Create a file to do generalized Is-A queries\n",
    "The idea is that `(n1)-[:isa]->(n2)` when `(n1)-[:P31]->(n2)` or `(n1)-[:P279]->(n2)`\n",
    "\n",
    "We do this by concatenating the files and renaming the relation"
   ]
  },
  {
   "cell_type": "code",
   "execution_count": null,
   "metadata": {},
   "outputs": [],
   "source": [
    "!$kgtk cat -i $OUT/derived.P31.tsv.gz $OUT/derived.P279.tsv.gz \\\n",
    "    | gzip > $TEMP/isa.1.tsv.gz"
   ]
  },
  {
   "cell_type": "code",
   "execution_count": null,
   "metadata": {},
   "outputs": [],
   "source": [
    "!$kypher -i $TEMP/isa.1.tsv.gz -o $OUT/derived.isa.tsv.gz \\\n",
    "--match '(n1)-[]->(n2)' \\\n",
    "--return 'n1, \"isa\" as label, n2' "
   ]
  },
  {
   "cell_type": "markdown",
   "metadata": {},
   "source": [
    "Example of how to use the `isa` relation"
   ]
  },
  {
   "cell_type": "code",
   "execution_count": null,
   "metadata": {},
   "outputs": [],
   "source": [
    "!$kypher -i $OUT/derived.isa.tsv.gz -i $OUT/derived.P279star.tsv.gz -i \"$LABELS\" -o - \\\n",
    "--match 'isa: (n1)-[l:isa]->(c), P279star: (c)-[]->(:Q44), label: (n1)-[:label]->(label)' \\\n",
    "--return 'distinct n1, l.label, \"Q44\" as node2, label as n1_label' \\\n",
    "--limit 10 \\\n",
    "| col"
   ]
  },
  {
   "cell_type": "markdown",
   "metadata": {},
   "source": [
    "## Compute pagerank"
   ]
  },
  {
   "cell_type": "markdown",
   "metadata": {},
   "source": [
    "Now compute pagerank. These commands will exceed 16GB memory for graphs containing over 25 million nodes."
   ]
  },
  {
   "cell_type": "code",
   "execution_count": null,
   "metadata": {},
   "outputs": [],
   "source": [
    "if compute_pagerank:\n",
    "    !$kgtk graph-statistics -i \"$ITEMS\" -o $OUT/metadata.pagerank.directed.tsv.gz \\\n",
    "    --page-rank-property directed_pagerank \\\n",
    "    --pagerank --statistics-only \\\n",
    "    --log $TEMP/metadata.pagerank.directed.summary.txt "
   ]
  },
  {
   "cell_type": "code",
   "execution_count": null,
   "metadata": {},
   "outputs": [],
   "source": [
    "if compute_pagerank:\n",
    "    !cat $TEMP/metadata.pagerank.directed.summary.txt"
   ]
  },
  {
   "cell_type": "code",
   "execution_count": null,
   "metadata": {},
   "outputs": [],
   "source": [
    "if compute_pagerank:\n",
    "    !$kgtk graph-statistics -i \"$ITEMS\" -o $OUT/metadata.pagerank.undirected.tsv.gz \\\n",
    "    --page-rank-property undirected_pagerank \\\n",
    "    --pagerank --statistics-only --undirected \\\n",
    "    --log $TEMP/metadata.pagerank.undirected.summary.txt "
   ]
  },
  {
   "cell_type": "code",
   "execution_count": null,
   "metadata": {},
   "outputs": [],
   "source": [
    "if compute_pagerank:\n",
    "    !cat $TEMP/metadata.pagerank.undirected.summary.txt "
   ]
  },
  {
   "cell_type": "markdown",
   "metadata": {},
   "source": [
    "## Compute Degrees"
   ]
  },
  {
   "cell_type": "markdown",
   "metadata": {},
   "source": [
    "Kypher can compute the out degree by counting the node2s for each node1"
   ]
  },
  {
   "cell_type": "code",
   "execution_count": null,
   "metadata": {},
   "outputs": [],
   "source": [
    "!$kypher -i \"$CLAIMS\" -o $TEMP/metadata.out_degree.tsv.gz \\\n",
    "--match '(n1)-[l]->()' \\\n",
    "--return 'distinct n1 as node1, count(distinct l) as node2, \"out_degree\" as label' "
   ]
  },
  {
   "cell_type": "code",
   "execution_count": null,
   "metadata": {},
   "outputs": [],
   "source": [
    "!$kgtk add-id --id-style node1-label-node2-num -i $TEMP/metadata.out_degree.tsv.gz \\\n",
    "/ sort2 -o $OUT/metadata.out_degree.tsv.gz"
   ]
  },
  {
   "cell_type": "markdown",
   "metadata": {},
   "source": [
    "To count the in-degree we only care when the node2 is a wikibase-item"
   ]
  },
  {
   "cell_type": "code",
   "execution_count": null,
   "metadata": {},
   "outputs": [],
   "source": [
    "# BUG in kypher, sometimes the following command will not work, as in we'll see multilple rows for a Qnode, which is\n",
    "# fixable by deleting cache\n",
    "!$kypher -i \"$CLAIMS\" -o $TEMP/metadata.in_degree.tsv.gz \\\n",
    "--match '()-[l]->(n2 {`wikidatatype`:\"wikibase-item\"})' \\\n",
    "--return 'distinct n2 as node1, count(distinct l) as node2, \"in_degree\" as label' \\\n",
    "--order-by 'n2'"
   ]
  },
  {
   "cell_type": "code",
   "execution_count": null,
   "metadata": {},
   "outputs": [],
   "source": [
    "# rename columns before adding ids, KGTK will complain\n",
    "# df = pd.read_csv('{}/metadata.in_degree.tsv.gz'.format(os.environ['TEMP']), sep='\\t')\n",
    "# df = df.rename(columns={\"node2\": \"node1\"})\n",
    "# df = df.rename(columns={'count(DISTINCT graph_1_c1.\"id\")': \"node2\"})\n",
    "# df.to_csv('{}/metadata.in_degree.1.tsv.gz'.format(os.environ['TEMP']), sep='\\t', index=False)"
   ]
  },
  {
   "cell_type": "code",
   "execution_count": null,
   "metadata": {},
   "outputs": [],
   "source": [
    "!$kgtk add-id --id-style node1-label-node2-num -i $TEMP/metadata.in_degree.tsv.gz \\\n",
    "/ sort2 -o $OUT/metadata.in_degree.tsv.gz"
   ]
  },
  {
   "cell_type": "code",
   "execution_count": null,
   "metadata": {},
   "outputs": [],
   "source": [
    "!zcat < $OUT/metadata.in_degree.tsv.gz | head | col"
   ]
  },
  {
   "cell_type": "markdown",
   "metadata": {},
   "source": [
    "Calculate the distribution so we can make a nice chart"
   ]
  },
  {
   "cell_type": "code",
   "execution_count": null,
   "metadata": {},
   "outputs": [],
   "source": [
    "!$kypher -i $OUT/metadata.in_degree.tsv.gz -o $OUT/statistics.in_degree.distribution.tsv \\\n",
    "--match '(n1)-[]->(n2)' \\\n",
    "--return 'distinct n2 as in_degree, count(distinct n1) as count, \"count\" as label' \\\n",
    "--order-by 'cast(n2, integer)' "
   ]
  },
  {
   "cell_type": "code",
   "execution_count": null,
   "metadata": {},
   "outputs": [],
   "source": [
    "!head $OUT/metadata.in_degree.distribution.tsv | col"
   ]
  },
  {
   "cell_type": "code",
   "execution_count": null,
   "metadata": {},
   "outputs": [],
   "source": [
    "!$kypher -i $OUT/metadata.out_degree.tsv.gz -o $OUT/statistics.out_degree.distribution.tsv \\\n",
    "--match '(n1)-[]->(n2)' \\\n",
    "--return 'distinct n2 as out_degree, count(distinct n1) as count, \"count\" as label' \\\n",
    "--order-by 'cast(n2, integer)' "
   ]
  },
  {
   "cell_type": "markdown",
   "metadata": {},
   "source": [
    "Draw some charts"
   ]
  },
  {
   "cell_type": "code",
   "execution_count": null,
   "metadata": {},
   "outputs": [],
   "source": [
    "data = pd.read_csv(\n",
    "    os.environ[\"OUT\"] + \"/statistics.in_degree.distribution.tsv\", sep=\"\\t\"\n",
    ")\n",
    "\n",
    "alt.Chart(data).mark_circle(size=60).encode(\n",
    "    x=alt.X(\"in_degree\", scale=alt.Scale(type=\"log\")),\n",
    "    y=alt.Y(\"count\", scale=alt.Scale(type=\"log\"), title=\"count of nodes\"),\n",
    "    tooltip=[\"in_degree\", \"count\"],\n",
    ").interactive().properties(title=\"Distribution of In Degree\")"
   ]
  },
  {
   "cell_type": "code",
   "execution_count": null,
   "metadata": {},
   "outputs": [],
   "source": [
    "data = pd.read_csv(\n",
    "    os.environ[\"OUT\"] + \"/statistics.out_degree.distribution.tsv\", sep=\"\\t\"\n",
    ")\n",
    "\n",
    "alt.Chart(data).mark_circle(size=60).encode(\n",
    "    x=alt.X(\"out_degree\", scale=alt.Scale(type=\"log\")),\n",
    "    y=alt.Y(\"count\", scale=alt.Scale(type=\"log\"), title=\"count of nodes\"),\n",
    "    tooltip=[\"out_degree\", \"count\"],\n",
    ").interactive().properties(title=\"Distribution of Out Degree\")"
   ]
  },
  {
   "cell_type": "markdown",
   "metadata": {},
   "source": [
    "## Summary of results"
   ]
  },
  {
   "cell_type": "code",
   "execution_count": null,
   "metadata": {},
   "outputs": [],
   "source": [
    "!ls -lh $OUT/*"
   ]
  },
  {
   "cell_type": "markdown",
   "metadata": {},
   "source": [
    "Highest page rank"
   ]
  },
  {
   "cell_type": "code",
   "execution_count": null,
   "metadata": {},
   "outputs": [],
   "source": [
    "if compute_pagerank:\n",
    "    !$kypher -i $OUT/metadata.pagerank.undirected.tsv.gz -i \"$LABELS\" -o - \\\n",
    "    --match 'pagerank: (n1)-[:undirected_pagerank]->(page_rank), label: (n1)-[:label]->(label)' \\\n",
    "    --return 'distinct n1, label as label, page_rank as `undirected page rank' \\\n",
    "    --order-by 'page_rank desc' \\\n",
    "    --limit 10 \\\n",
    "    | col"
   ]
  }
 ],
 "metadata": {
  "celltoolbar": "Tags",
  "kernelspec": {
   "display_name": "kgtk-subset",
   "language": "python",
   "name": "kgtk-subset"
  },
  "language_info": {
   "codemirror_mode": {
    "name": "ipython",
    "version": 3
   },
   "file_extension": ".py",
   "mimetype": "text/x-python",
   "name": "python",
   "nbconvert_exporter": "python",
   "pygments_lexer": "ipython3",
   "version": "3.7.9"
  }
 },
 "nbformat": 4,
 "nbformat_minor": 4
}
