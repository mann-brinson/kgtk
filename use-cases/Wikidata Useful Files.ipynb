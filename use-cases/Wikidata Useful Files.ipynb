{
 "cells": [
  {
   "cell_type": "markdown",
   "metadata": {},
   "source": [
    "# Generating Useful Wikidata Files\n",
    "\n",
    "This notebook generates files that contain derived data that is useful in many applications. The input to the notebook is the full Wikidata or a subset of Wikidata. It also works for arbutrary KGs as long as they follow the representation requirements of Wikidata:\n",
    "\n",
    "- the *instance of* relation is represented using the `P31` property\n",
    "- the *subclass of* relation is represented using the `P279` property\n",
    "- all properties declare a datatype, and the data types must be one of the datatypes in Wikidata.\n",
    "\n",
    "Inputs:\n",
    "\n",
    "- `claims_file`: contains all statements, which consist of edges `node1/label/node2` where `label` is a property in Wikidata (e.g., sitelinks, labels, aliases and description are not in the claims file.\n",
    "- `item_file`: the subset of the `claims_file` consistin of edges for property of data type `wikibase-item`\n",
    "- `label_file`, `alias_file` and `description_file` containing labels, aliases and descriptions. It is assume that these files contain the labels, aliases and descriptions of all nodes appearing in the claims file. Users may provide these files for specific languages only.\n",
    "\n",
    "Outputs:\n",
    "\n",
    "- **Instance of (P31):** `derived.P31.tsv.gz` contains all the `instance of (P31)` edges present in the claims file.\n",
    "- **Subclass of (P279):** `derived.P279.tsv.gz` contains all the `subclass of (P279)` edges present in the claims file.\n",
    "- **Is A (isa):** `derived.isa.tsv.gz` contains edges `node`isa/node2` where either `node1/P31/node2` or `node1/P279/node2`\n",
    "- **Closure of subclass of (P279star):** `derived.P279star.tsv.gz` contains edges `node1/P279star/node2` where `node2` is reachable from `node1` via zero or more hops using the `P279` property. Note that for example, `Q44/P279star/Q44`. An example when this file is useful is when you want to find all the instance of a class, including instances of subclasses of the given class.\n",
    "- **In/out degrees:** `metadata.out_degree.tsv.gz` contains the out degree of every node, and `metadata.in_degree.tsv.gz` contains the in degree of every node.\n",
    "- **Pagerank:** outputs page rank on the directed graph in `metadata.pagerank.directed.tsv.gz` and page rank of the directed graph in `metadata.pagerank.undirected.tsv.gz`."
   ]
  },
  {
   "cell_type": "markdown",
   "metadata": {},
   "source": [
    "### Batch Invocation\n",
    "Example batch command. The second argument is a notebook where the output will be stored. You can load it to see progress.\n",
    "\n",
    "```\n",
    "papermill Wikidata\\ Useful\\ Files.ipynb useful-files.out.ipynb \\\n",
    "-p claims_file /Volumes/GoogleDrive/Shared\\ drives/KGTK-public-graphs/wikidata-20200803-v4/all.tsv.gz \\\n",
    "-p label_file /Volumes/GoogleDrive/Shared\\ drives/KGTK-public-graphs/wikidata-20200803-v4/part.label.en.tsv.gz \\\n",
    "-p item_file /Volumes/GoogleDrive/Shared\\ drives/KGTK-public-graphs/wikidata-20200803-v4/part.wikibase-item.tsv.gz \\\n",
    "-p property_item_file = /Volumes/GoogleDrive/Shared\\ drives/KGTK-public-graphs/wikidata-20200803-v4/part.property.wikibase-item.tsv.gz \\\n",
    "-p output_path <local folder> \\\n",
    "-p output_folder useful_files_v4 \\\n",
    "-p temp_folder temp.useful_files_v4 \\\n",
    "-p delete_database no \n",
    "-p languages es,ru,zh-cn\n",
    "```"
   ]
  },
  {
   "cell_type": "code",
   "execution_count": null,
   "metadata": {
    "tags": [
     "parameters"
    ]
   },
   "outputs": [],
   "source": [
    "# Parameters\n",
    "\n",
    "# Folder on local machine where to create the output and temporary folders\n",
    "# output_path = \"/Users/pedroszekely/Downloads/kypher\"\n",
    "output_path = \"/nas/home/mbmann/subset/output\"\n",
    "\n",
    "# The names of the output and temporary folders\n",
    "# output_folder = \"useful_wikidata_files_v4\"\n",
    "# temp_folder = \"temp.useful_wikidata_files_v4\"\n",
    "temp_folder = \"temp.useful_files\"\n",
    "output_folder = \"useful_files\"\n",
    "\n",
    "# The location of input files\n",
    "# wiki_root_folder = \"/Volumes/GoogleDrive/Shared drives/KGTK/datasets/wikidata-20200803-v4/\"\n",
    "wiki_root_folder = \"/nas/home/mbmann/subset/output/parts/\"\n",
    "\n",
    "claims_file = \"claims.tsv.gz\"\n",
    "label_file = \"labels.en.tsv.gz\"\n",
    "alias_file = \"aliases.en.tsv.gz\"\n",
    "description_file = \"descriptions.en.tsv.gz\"\n",
    "item_file = \"claims.wikibase-item.tsv.gz\"\n",
    "\n",
    "label_all = \"labels.tsv.gz\"\n",
    "alias_all = \"aliases.tsv.gz\"\n",
    "description_all = \"descriptions.tsv.gz\"\n",
    "\n",
    "# Location of the cache database for kypher\n",
    "# cache_path = \"/Users/pedroszekely/Downloads/kypher/temp.useful_wikidata_files_v4\"\n",
    "# cache_path = \"/nas/home/mbmann/subset/output\"\n",
    "cache_path = None\n",
    "\n",
    "# Whether to delete the cache database\n",
    "delete_database = False\n",
    "\n",
    "# Whether to compute pagerank as it may not run on the laptop\n",
    "compute_pagerank = True\n",
    "languages = 'en'\n",
    "\n",
    "# shortcuts to commands\n",
    "kgtk_path = \"~/anaconda3/envs/kgtk-subset/bin/kgtk\"\n",
    "kgtk = f'time {kgtk_path} --debug'"
   ]
  },
  {
   "cell_type": "code",
   "execution_count": null,
   "metadata": {},
   "outputs": [],
   "source": [
    "languages = languages.split(',')"
   ]
  },
  {
   "cell_type": "code",
   "execution_count": null,
   "metadata": {},
   "outputs": [],
   "source": [
    "import io\n",
    "import os\n",
    "import subprocess\n",
    "import sys\n",
    "\n",
    "import numpy as np\n",
    "import pandas as pd\n",
    "\n",
    "import altair as alt"
   ]
  },
  {
   "cell_type": "markdown",
   "metadata": {},
   "source": [
    "## Set up environment and folders to store the files\n",
    "\n",
    "- `OUT` folder where the output files go\n",
    "- `TEMP` folder to keep temporary files , including the database\n",
    "- `kgtk` shortcut to invoke the kgtk software\n",
    "- `kypher` shortcut to invoke `kgtk query with the cache database\n",
    "- `CLAIMS` the `all.tsv` file of wikidata that contains all edges except label/alias/description\n",
    "- `LABELS` the file with the English labels\n",
    "- `ITEMS` the wikibase-item file (currently does not include node1 that are properties so for now we need the net file\n",
    "- `STORE` location of the cache file"
   ]
  },
  {
   "cell_type": "markdown",
   "metadata": {},
   "source": [
    "**VERSION 1:** Use os.environ for setting paths"
   ]
  },
  {
   "cell_type": "code",
   "execution_count": null,
   "metadata": {},
   "outputs": [],
   "source": [
    "# if cache_path:\n",
    "#     os.environ['STORE'] = \"{}/wikidata.sqlite3.db\".format(cache_path)\n",
    "# else:\n",
    "#     os.environ['STORE'] = \"{}/{}/wikidata.sqlite3.db\".format(output_path, temp_folder)\n",
    "# os.environ['OUT'] = \"{}/{}\".format(output_path, output_folder)\n",
    "# os.environ['TEMP'] = \"{}/{}\".format(output_path, temp_folder)\n",
    "# os.environ['kgtk'] = f\"{kgtk_path}\"\n",
    "# os.environ['kgtk'] = f\"time {kgtk_path} --debug\"\n",
    "\n",
    "# os.environ['kypher'] = f\"time {kgtk_path} --debug query --graph-cache \" + os.environ['STORE']\n",
    "# # os.environ['kypher'] = f\"time {kgtk_path} --debug query\"\n",
    "\n",
    "# os.environ['CLAIMS'] = wiki_root_folder + claims_file\n",
    "# os.environ['LABELS'] = wiki_root_folder + label_file\n",
    "# os.environ['ALIASES'] = wiki_root_folder + alias_file\n",
    "# os.environ['DESCRIPTIONS'] = wiki_root_folder + description_file\n",
    "# os.environ['ITEMS'] = wiki_root_folder + item_file"
   ]
  },
  {
   "cell_type": "markdown",
   "metadata": {},
   "source": [
    "**VERSION 2:** Use {} for setting paths"
   ]
  },
  {
   "cell_type": "code",
   "execution_count": null,
   "metadata": {},
   "outputs": [],
   "source": [
    "if cache_path:\n",
    "    store = \"{}/wikidata.sqlite3.db\".format(cache_path)\n",
    "else:\n",
    "    store = \"{}/{}/wikidata.sqlite3.db\".format(output_path, temp_folder)\n",
    "out = \"{}/{}\".format(output_path, output_folder)\n",
    "temp = \"{}/{}\".format(output_path, temp_folder)\n",
    "kgtk = f\"{kgtk_path}\"\n",
    "kgtk = f\"time {kgtk_path} --debug\"\n",
    "\n",
    "kypher = f\"time {kgtk_path} --debug query --graph-cache \" + store\n",
    "\n",
    "claims = wiki_root_folder + claims_file\n",
    "labels = wiki_root_folder + label_file\n",
    "aliases = wiki_root_folder + alias_file\n",
    "descriptions = wiki_root_folder + description_file\n",
    "items = wiki_root_folder + item_file"
   ]
  },
  {
   "cell_type": "code",
   "execution_count": null,
   "metadata": {},
   "outputs": [],
   "source": [
    "# !$kgtk #Working\n",
    "\n",
    "# !echo $kypher\n",
    "# !time ~/anaconda3/envs/kgtk-subset/bin/kgtk --debug query -h #Working\n",
    "# !time ~/anaconda3/envs/kgtk-subset/bin/kgtk --debug query \\\n",
    "# --graph-cache /nas/home/mbmann/subset/output/wikidata.sqlite3.db #Working"
   ]
  },
  {
   "cell_type": "code",
   "execution_count": null,
   "metadata": {},
   "outputs": [],
   "source": [
    "# !$kgtk #Working\n",
    "# !{kgtk_path} #Working\n",
    "\n",
    "# !time ~/anaconda3/envs/kgtk-subset/bin/kgtk --debug query -h \\\n",
    "# --graph-cache $STORE #Working\n",
    "\n",
    "# !time {kgtk} --debug query \\\n",
    "# --graph-cache $store #Not Working"
   ]
  },
  {
   "cell_type": "markdown",
   "metadata": {},
   "source": [
    "Echo the variables to see if they are all set correctly"
   ]
  },
  {
   "cell_type": "code",
   "execution_count": null,
   "metadata": {},
   "outputs": [],
   "source": [
    "!echo {out}\n",
    "!echo {temp}\n",
    "!echo {kgtk}\n",
    "!echo {kypher}\n",
    "!echo {claims}\n",
    "!echo {labels}\n",
    "!echo {aliases}\n",
    "!echo {descriptions}\n",
    "!echo {items}\n",
    "!echo {store}\n",
    "!alias col=\"column -t -s $'\\t' \""
   ]
  },
  {
   "cell_type": "markdown",
   "metadata": {},
   "source": [
    "Go to the output directory and create the subfolders for the output files and the temporary files"
   ]
  },
  {
   "cell_type": "code",
   "execution_count": null,
   "metadata": {},
   "outputs": [],
   "source": [
    "cd $output_path"
   ]
  },
  {
   "cell_type": "code",
   "execution_count": null,
   "metadata": {},
   "outputs": [],
   "source": [
    "!mkdir -p {out}\n",
    "!mkdir -p {temp}"
   ]
  },
  {
   "cell_type": "markdown",
   "metadata": {},
   "source": [
    "Clean up the output and temp folders before we start"
   ]
  },
  {
   "cell_type": "code",
   "execution_count": null,
   "metadata": {},
   "outputs": [],
   "source": [
    "# !rm $OUT/*.tsv $OUT/*.tsv.gz\n",
    "# !rm $TEMP/*.tsv $TEMP/*.tsv.gz"
   ]
  },
  {
   "cell_type": "code",
   "execution_count": null,
   "metadata": {},
   "outputs": [],
   "source": [
    "if delete_database:\n",
    "    print(\"Deleteddatabase\") \n",
    "    !rm {store}"
   ]
  },
  {
   "cell_type": "code",
   "execution_count": null,
   "metadata": {},
   "outputs": [],
   "source": [
    "!ls -l {out}\n",
    "!ls {temp}\n",
    "!ls -l {claims}\n",
    "!ls -l {labels}\n",
    "!ls -l {aliases}\n",
    "!ls -l {descriptions}\n",
    "!ls {store}"
   ]
  },
  {
   "cell_type": "code",
   "execution_count": null,
   "metadata": {},
   "outputs": [],
   "source": [
    "!zcat < {claims} | head | col"
   ]
  },
  {
   "cell_type": "markdown",
   "metadata": {},
   "source": [
    "### Preview the input files"
   ]
  },
  {
   "cell_type": "markdown",
   "metadata": {},
   "source": [
    "It is always a good practice to peek a the files to make sure the column headings are what we expect"
   ]
  },
  {
   "cell_type": "code",
   "execution_count": null,
   "metadata": {},
   "outputs": [],
   "source": [
    "!{kypher} -i {claims} --limit 10 | col "
   ]
  },
  {
   "cell_type": "markdown",
   "metadata": {},
   "source": [
    "Force creation of the index on the label column"
   ]
  },
  {
   "cell_type": "code",
   "execution_count": null,
   "metadata": {},
   "outputs": [],
   "source": [
    "!{kypher} -i {claims} -o - \\\n",
    "--match '(i)-[:P31]->(c)' \\\n",
    "--limit 5 \\\n",
    "| column -t -s $'\\t' "
   ]
  },
  {
   "cell_type": "markdown",
   "metadata": {},
   "source": [
    "Force creation of the index on the node2 column"
   ]
  },
  {
   "cell_type": "code",
   "execution_count": null,
   "metadata": {},
   "outputs": [],
   "source": [
    "!{kypher} -i {claims} -o - \\\n",
    "--match '(i)-[r]->(:Q5)' \\\n",
    "--limit 5 \\\n",
    "| column -t -s $'\\t' "
   ]
  },
  {
   "cell_type": "markdown",
   "metadata": {},
   "source": [
    "### Count the number of edges"
   ]
  },
  {
   "cell_type": "markdown",
   "metadata": {},
   "source": [
    "Counting takes a long time"
   ]
  },
  {
   "cell_type": "code",
   "execution_count": null,
   "metadata": {},
   "outputs": [],
   "source": [
    "!{kypher} -i {claims} \\\n",
    "--match '()-[r]->()' \\\n",
    "--return 'count(r) as count' \\\n",
    "--limit 10"
   ]
  },
  {
   "cell_type": "markdown",
   "metadata": {},
   "source": [
    "### Get labels, aliases and descriptions for other languages"
   ]
  },
  {
   "cell_type": "code",
   "execution_count": null,
   "metadata": {},
   "outputs": [],
   "source": [
    "for lang in languages:\n",
    "    cmd = f\"{kgtk_path} --debug query --graph-cache {store} -i {wiki_root_folder}{label_all} -o {output_path}/{output_folder}/labels.{lang}.tsv.gz --match '(n1)-[l:label]->(n2)' --where 'n2.kgtk_lqstring_lang_suffix = \\\"{lang}\\\"' --return 'n1, l.label, n2, l.id' \"\n",
    "    !{cmd}"
   ]
  },
  {
   "cell_type": "code",
   "execution_count": null,
   "metadata": {},
   "outputs": [],
   "source": [
    "for lang in languages:\n",
    "    cmd = f\"{kgtk_path} --debug query --graph-cache {store} -i {wiki_root_folder}{alias_all} -o {output_path}/{output_folder}/aliases.{lang}.tsv.gz --match '(n1)-[l:alias]->(n2)' --where 'n2.kgtk_lqstring_lang_suffix = \\\"{lang}\\\"' --return 'n1, l.label, n2, l.id' \"\n",
    "    !{cmd}"
   ]
  },
  {
   "cell_type": "code",
   "execution_count": null,
   "metadata": {},
   "outputs": [],
   "source": [
    "for lang in languages:\n",
    "    cmd = f\"{kgtk_path} --debug query --graph-cache {store} -i {wiki_root_folder}{description_all} -o {output_path}/{output_folder}/descriptions.{lang}.tsv.gz --match '(n1)-[l:description]->(n2)' --where 'n2.kgtk_lqstring_lang_suffix = \\\"{lang}\\\"' --return 'n1, l.label, n2, l.id' \"\n",
    "    !{cmd}"
   ]
  },
  {
   "cell_type": "markdown",
   "metadata": {},
   "source": [
    "### Create the P31 and P279 files"
   ]
  },
  {
   "cell_type": "markdown",
   "metadata": {},
   "source": [
    "Create the `P31` file"
   ]
  },
  {
   "cell_type": "code",
   "execution_count": null,
   "metadata": {},
   "outputs": [],
   "source": [
    "!{kypher} -i {claims} -o {out}/derived.P31.tsv.gz \\\n",
    "--match '(n1)-[l:P31]->(n2)' \\\n",
    "--return 'l, n1, l.label, n2' "
   ]
  },
  {
   "cell_type": "code",
   "execution_count": null,
   "metadata": {},
   "outputs": [],
   "source": [
    "!zcat {out}/derived.P31.tsv.gz | head | col"
   ]
  },
  {
   "cell_type": "markdown",
   "metadata": {},
   "source": [
    "Create the P279 file"
   ]
  },
  {
   "cell_type": "code",
   "execution_count": null,
   "metadata": {},
   "outputs": [],
   "source": [
    "!{kypher} -i {claims} -o {out}/derived.P279.tsv.gz \\\n",
    "    --match '(n1)-[l:P279]->(n2)' \\\n",
    "    --return 'l, n1, l.label, n2' "
   ]
  },
  {
   "cell_type": "markdown",
   "metadata": {},
   "source": [
    "### Create the file that contains all nodes reachable via P279 starting from a node2 in P31 or a node1 in P279"
   ]
  },
  {
   "cell_type": "markdown",
   "metadata": {},
   "source": [
    "First compute the roots"
   ]
  },
  {
   "cell_type": "code",
   "execution_count": null,
   "metadata": {},
   "outputs": [],
   "source": [
    "!{kypher} -i {out}/derived.P279.tsv.gz -o {temp}/P279.n1.tsv.gz \\\n",
    "--match '(n1)-[l]->()' \\\n",
    "--return 'n1 as id' "
   ]
  },
  {
   "cell_type": "code",
   "execution_count": null,
   "metadata": {},
   "outputs": [],
   "source": [
    "!{kypher} -i {out}/derived.P31.tsv.gz -o {temp}/P31.n2.tsv.gz \\\n",
    "--match '()-[l]->(n2)' \\\n",
    "--return 'n2 as id' "
   ]
  },
  {
   "cell_type": "code",
   "execution_count": null,
   "metadata": {},
   "outputs": [],
   "source": [
    "!{kgtk} cat --mode NONE -i {temp}/P31.n2.tsv.gz {temp}/P279.n1.tsv.gz \\\n",
    "| gzip > {temp}/P279.roots.1.tsv.gz"
   ]
  },
  {
   "cell_type": "code",
   "execution_count": null,
   "metadata": {},
   "outputs": [],
   "source": [
    "!{kgtk} sort2 --mode NONE --column id -i {temp}/P279.roots.1.tsv.gz \\\n",
    "| gzip > {temp}/P279.roots.2.tsv.gz"
   ]
  },
  {
   "cell_type": "markdown",
   "metadata": {},
   "source": [
    "We have lots of duplicates"
   ]
  },
  {
   "cell_type": "code",
   "execution_count": null,
   "metadata": {},
   "outputs": [],
   "source": [
    "!zcat < {temp}/P279.roots.2.tsv.gz | head"
   ]
  },
  {
   "cell_type": "code",
   "execution_count": null,
   "metadata": {},
   "outputs": [],
   "source": [
    "!{kgtk} compact -i {temp}/P279.roots.2.tsv.gz --mode NONE \\\n",
    "    --presorted \\\n",
    "    --columns id \\\n",
    "> {temp}/P279.roots.tsv"
   ]
  },
  {
   "cell_type": "markdown",
   "metadata": {},
   "source": [
    "Now we can invoke the reachable-nodes command"
   ]
  },
  {
   "cell_type": "code",
   "execution_count": null,
   "metadata": {},
   "outputs": [],
   "source": [
    "!{kgtk} reachable-nodes \\\n",
    "    --rootfile {temp}/P279.roots.tsv \\\n",
    "    --selflink \\\n",
    "    -i {out}/derived.P279.tsv.gz \\\n",
    "| gzip > {temp}/P279.reachable.tsv.gz"
   ]
  },
  {
   "cell_type": "code",
   "execution_count": null,
   "metadata": {},
   "outputs": [],
   "source": [
    "!zcat < {temp}/P279.reachable.tsv.gz | head | col"
   ]
  },
  {
   "cell_type": "markdown",
   "metadata": {},
   "source": [
    "The reachable-nodes command produces edges labeled `reachable`, so we need one command to rename them."
   ]
  },
  {
   "cell_type": "code",
   "execution_count": null,
   "metadata": {},
   "outputs": [],
   "source": [
    "!{kypher} -i {temp}/P279.reachable.tsv.gz -o {temp}/P279star.1.tsv.gz \\\n",
    "--match '(n1)-[]->(n2)' \\\n",
    "--return 'n1, \"P279star\" as label, n2 as node2' "
   ]
  },
  {
   "cell_type": "markdown",
   "metadata": {},
   "source": [
    "Now we can concatenate these files to produce the final output"
   ]
  },
  {
   "cell_type": "code",
   "execution_count": null,
   "metadata": {},
   "outputs": [],
   "source": [
    "!{kgtk} sort2 -i {temp}/P279star.1.tsv.gz -o {temp}/P279star.2.tsv.gz"
   ]
  },
  {
   "cell_type": "markdown",
   "metadata": {},
   "source": [
    "Make sure there are no duplicates"
   ]
  },
  {
   "cell_type": "code",
   "execution_count": null,
   "metadata": {},
   "outputs": [],
   "source": [
    "!{kgtk} compact --presorted -i {temp}/P279star.2.tsv.gz -o {temp}/P279star.3.tsv.gz"
   ]
  },
  {
   "cell_type": "markdown",
   "metadata": {},
   "source": [
    "Add ids"
   ]
  },
  {
   "cell_type": "code",
   "execution_count": null,
   "metadata": {},
   "outputs": [],
   "source": [
    "!{kgtk} add-id --id-style node1-label-node2-num -i {temp}/P279star.3.tsv.gz -o {out}/derived.P279star.tsv.gz"
   ]
  },
  {
   "cell_type": "code",
   "execution_count": null,
   "metadata": {},
   "outputs": [],
   "source": [
    "!zcat < {out}/derived.P279star.tsv.gz | head | col"
   ]
  },
  {
   "cell_type": "markdown",
   "metadata": {},
   "source": [
    "This is how we would do the typical `?item P31/P279* ?class` in Kypher. \n",
    "The example shows how to get all the counts of instances of subclasses of city (Q515)."
   ]
  },
  {
   "cell_type": "code",
   "execution_count": null,
   "metadata": {},
   "outputs": [],
   "source": [
    "!{kypher} -i {out}/derived.P31.tsv.gz -i {out}/derived.P279star.tsv.gz -i {labels} \\\n",
    "--match 'P31: (n1)-[:P31]->(c), P279star: (c)-[]->(:Q515), label: (n1)-[:label]->(label), label: (c)-[:label]->(c_label)' \\\n",
    "--return 'distinct c as class, count(c) as count, c_label as `class name`, n1 as instance, label as `label`' \\\n",
    "--order-by 'count(c) desc, c, n1' \\\n",
    "--limit 10 \\\n",
    "| col"
   ]
  },
  {
   "cell_type": "markdown",
   "metadata": {},
   "source": [
    "Illustrate that it is indeed `P279*`"
   ]
  },
  {
   "cell_type": "code",
   "execution_count": null,
   "metadata": {},
   "outputs": [],
   "source": [
    "!{kypher} -i {out}/derived.P31.tsv.gz -i {out}/derived.P279star.tsv.gz -i {labels} \\\n",
    "--match 'P31: (n1)-[:P31]->(c), P279star: (c)-[]->(:Q63440326), label: (n1)-[:label]->(label), label: (c)-[:label]->(c_label)' \\\n",
    "--return 'distinct c as class, c_label as `class name`, n1 as instance, label as `label`' \\\n",
    "--order-by 'c, n1' \\\n",
    "--limit 10 \\\n",
    "| col "
   ]
  },
  {
   "cell_type": "markdown",
   "metadata": {},
   "source": [
    "Test that `P279star` is indeed star"
   ]
  },
  {
   "cell_type": "code",
   "execution_count": null,
   "metadata": {},
   "outputs": [],
   "source": [
    "!{kypher} -i {out}/derived.P279star.tsv.gz \\\n",
    "--match '(n1:Q44)-[:P279star]->(n2:Q44)'"
   ]
  },
  {
   "cell_type": "markdown",
   "metadata": {},
   "source": [
    "### Create a file to do generalized Is-A queries\n",
    "The idea is that `(n1)-[:isa]->(n2)` when `(n1)-[:P31]->(n2)` or `(n1)-[:P279]->(n2)`\n",
    "\n",
    "We do this by concatenating the files and renaming the relation"
   ]
  },
  {
   "cell_type": "code",
   "execution_count": null,
   "metadata": {},
   "outputs": [],
   "source": [
    "!{kgtk} cat -i {out}/derived.P31.tsv.gz {out}/derived.P279.tsv.gz \\\n",
    "    | gzip > {temp}/isa.1.tsv.gz"
   ]
  },
  {
   "cell_type": "code",
   "execution_count": null,
   "metadata": {},
   "outputs": [],
   "source": [
    "!{kypher} -i {temp}/isa.1.tsv.gz -o {out}/derived.isa.tsv.gz \\\n",
    "--match '(n1)-[]->(n2)' \\\n",
    "--return 'n1, \"isa\" as label, n2' "
   ]
  },
  {
   "cell_type": "markdown",
   "metadata": {},
   "source": [
    "Example of how to use the `isa` relation"
   ]
  },
  {
   "cell_type": "code",
   "execution_count": null,
   "metadata": {},
   "outputs": [],
   "source": [
    "!{kypher} -i {out}/derived.isa.tsv.gz -i {out}/derived.P279star.tsv.gz -i {labels} -o - \\\n",
    "--match 'isa: (n1)-[l:isa]->(c), P279star: (c)-[]->(:Q44), label: (n1)-[:label]->(label)' \\\n",
    "--return 'distinct n1, l.label, \"Q44\" as node2, label as n1_label' \\\n",
    "--limit 10 \\\n",
    "| col"
   ]
  },
  {
   "cell_type": "markdown",
   "metadata": {},
   "source": [
    "## Compute pagerank"
   ]
  },
  {
   "cell_type": "markdown",
   "metadata": {},
   "source": [
    "Now compute pagerank. These commands will exceed 16GB memory for graphs containing over 25 million nodes."
   ]
  },
  {
   "cell_type": "code",
   "execution_count": null,
   "metadata": {},
   "outputs": [],
   "source": [
    "if compute_pagerank:\n",
    "    !{kgtk} graph-statistics -i {items} -o {out}/metadata.pagerank.directed.tsv.gz \\\n",
    "    --page-rank-property directed_pagerank \\\n",
    "    --pagerank --statistics-only \\\n",
    "    --log {temp}/metadata.pagerank.directed.summary.txt "
   ]
  },
  {
   "cell_type": "code",
   "execution_count": null,
   "metadata": {},
   "outputs": [],
   "source": [
    "if compute_pagerank:\n",
    "    !cat {temp}/metadata.pagerank.directed.summary.txt"
   ]
  },
  {
   "cell_type": "code",
   "execution_count": null,
   "metadata": {},
   "outputs": [],
   "source": [
    "if compute_pagerank:\n",
    "    !{kgtk} graph-statistics -i {items} -o {out}/metadata.pagerank.undirected.tsv.gz \\\n",
    "    --page-rank-property undirected_pagerank \\\n",
    "    --pagerank --statistics-only --undirected \\\n",
    "    --log {temp}/metadata.pagerank.undirected.summary.txt "
   ]
  },
  {
   "cell_type": "code",
   "execution_count": null,
   "metadata": {},
   "outputs": [],
   "source": [
    "if compute_pagerank:\n",
    "    !cat {temp}/metadata.pagerank.undirected.summary.txt "
   ]
  },
  {
   "cell_type": "markdown",
   "metadata": {},
   "source": [
    "## Compute Degrees"
   ]
  },
  {
   "cell_type": "markdown",
   "metadata": {},
   "source": [
    "Kypher can compute the out degree by counting the node2s for each node1"
   ]
  },
  {
   "cell_type": "code",
   "execution_count": null,
   "metadata": {},
   "outputs": [],
   "source": [
    "!{kypher} -i {claims} -o {temp}/metadata.out_degree.tsv.gz \\\n",
    "--match '(n1)-[l]->()' \\\n",
    "--return 'distinct n1 as node1, count(distinct l) as node2, \"out_degree\" as label' "
   ]
  },
  {
   "cell_type": "code",
   "execution_count": null,
   "metadata": {},
   "outputs": [],
   "source": [
    "!{kgtk} add-id --id-style node1-label-node2-num -i {temp}/metadata.out_degree.tsv.gz \\\n",
    "-o {temp}/metadata.out_degree2.tsv.gz\n",
    "\n",
    "! {kgtk} sort2 -i {temp}/metadata.out_degree2.tsv.gz -o {out}/metadata.out_degree.sorted.tsv.gz"
   ]
  },
  {
   "cell_type": "code",
   "execution_count": null,
   "metadata": {},
   "outputs": [],
   "source": [
    "!zcat {out}/metadata.out_degree.sorted.tsv.gz | head #Working"
   ]
  },
  {
   "cell_type": "markdown",
   "metadata": {},
   "source": [
    "To count the in-degree we only care when the node2 is a wikibase-item"
   ]
  },
  {
   "cell_type": "code",
   "execution_count": null,
   "metadata": {},
   "outputs": [],
   "source": [
    "!zcat {items} |head"
   ]
  },
  {
   "cell_type": "code",
   "execution_count": null,
   "metadata": {},
   "outputs": [],
   "source": [
    "#Get in-degree for each node2, only if node2 is a wikibase-item.\n",
    "!{kypher} -i {items} -o {temp}/metadata.in_degree.tsv.gz \\\n",
    "--match '()-[l]->(n2)' \\\n",
    "--return 'distinct n2 as node1, count(distinct l) as node2, \"in_degree\" as label' \\\n",
    "--order-by 'n2'"
   ]
  },
  {
   "cell_type": "code",
   "execution_count": null,
   "metadata": {},
   "outputs": [],
   "source": [
    "# !zcat {temp}/metadata.in_degree.tsv.gz |head"
   ]
  },
  {
   "cell_type": "code",
   "execution_count": null,
   "metadata": {},
   "outputs": [],
   "source": [
    "# rename columns before adding ids, KGTK will complain\n",
    "in_degree_file = f'{temp}/metadata.in_degree.tsv.gz'\n",
    "in_degree2_file = f'{temp}/metadata.in_degree.1.tsv.gz'\n",
    "df = pd.read_csv(in_degree_file, sep='\\t')\n",
    "df = df.rename(columns={\"node2\": \"node1\"})\n",
    "df = df.rename(columns={'count(DISTINCT graph_1_c1.\"id\")': \"node2\"})\n",
    "df.to_csv(in_degree2_file, sep='\\t', index=False)"
   ]
  },
  {
   "cell_type": "code",
   "execution_count": null,
   "metadata": {},
   "outputs": [],
   "source": [
    "!{kgtk} add-id --id-style node1-label-node2-num -i {temp}/metadata.in_degree.tsv.gz \\\n",
    "-o {temp}/metadata.in_degree2.tsv.gz\n",
    "\n",
    "!{kgtk} sort2 -i {temp}/metadata.in_degree2.tsv.gz -o {out}/metadata.in_degree.sorted.tsv.gz"
   ]
  },
  {
   "cell_type": "code",
   "execution_count": null,
   "metadata": {},
   "outputs": [],
   "source": [
    "!zcat < {out}/metadata.in_degree.sorted.tsv.gz | head"
   ]
  },
  {
   "cell_type": "markdown",
   "metadata": {},
   "source": [
    "Calculate the distribution so we can make a nice chart"
   ]
  },
  {
   "cell_type": "code",
   "execution_count": null,
   "metadata": {},
   "outputs": [],
   "source": [
    "!{kypher} -i {out}/metadata.in_degree.sorted.tsv.gz -o {out}/statistics.in_degree.distribution.tsv \\\n",
    "--match '(n1)-[]->(n2)' \\\n",
    "--return 'distinct n2 as in_degree, count(distinct n1) as count, \"count\" as label' \\\n",
    "--order-by 'cast(n2, integer)' "
   ]
  },
  {
   "cell_type": "code",
   "execution_count": null,
   "metadata": {},
   "outputs": [],
   "source": [
    "!head {out}/statistics.in_degree.distribution.tsv | col"
   ]
  },
  {
   "cell_type": "code",
   "execution_count": null,
   "metadata": {},
   "outputs": [],
   "source": [
    "!{kypher} -i {out}/metadata.out_degree.sorted.tsv.gz -o {out}/statistics.out_degree.distribution.tsv \\\n",
    "--match '(n1)-[]->(n2)' \\\n",
    "--return 'distinct n2 as out_degree, count(distinct n1) as count, \"count\" as label' \\\n",
    "--order-by 'cast(n2, integer)' "
   ]
  },
  {
   "cell_type": "markdown",
   "metadata": {},
   "source": [
    "Draw some charts"
   ]
  },
  {
   "cell_type": "code",
   "execution_count": null,
   "metadata": {},
   "outputs": [],
   "source": [
    "data = pd.read_csv(\n",
    "    out + \"/statistics.in_degree.distribution.tsv\", sep=\"\\t\"\n",
    ")\n",
    "\n",
    "alt.Chart(data).mark_circle(size=60).encode(\n",
    "    x=alt.X(\"in_degree\", scale=alt.Scale(type=\"log\")),\n",
    "    y=alt.Y(\"count\", scale=alt.Scale(type=\"log\"), title=\"count of nodes\"),\n",
    "    tooltip=[\"in_degree\", \"count\"],\n",
    ").interactive().properties(title=\"Distribution of In Degree\")"
   ]
  },
  {
   "cell_type": "code",
   "execution_count": null,
   "metadata": {},
   "outputs": [],
   "source": [
    "data = pd.read_csv(\n",
    "    out + \"/statistics.out_degree.distribution.tsv\", sep=\"\\t\"\n",
    ")\n",
    "\n",
    "alt.Chart(data).mark_circle(size=60).encode(\n",
    "    x=alt.X(\"out_degree\", scale=alt.Scale(type=\"log\")),\n",
    "    y=alt.Y(\"count\", scale=alt.Scale(type=\"log\"), title=\"count of nodes\"),\n",
    "    tooltip=[\"out_degree\", \"count\"],\n",
    ").interactive().properties(title=\"Distribution of Out Degree\")"
   ]
  },
  {
   "cell_type": "markdown",
   "metadata": {},
   "source": [
    "## Summary of results"
   ]
  },
  {
   "cell_type": "code",
   "execution_count": null,
   "metadata": {},
   "outputs": [],
   "source": [
    "!ls -lh {out}/*"
   ]
  },
  {
   "cell_type": "code",
   "execution_count": null,
   "metadata": {},
   "outputs": [],
   "source": []
  }
 ],
 "metadata": {
  "celltoolbar": "Tags",
  "kernelspec": {
   "display_name": "kgtk-subset",
   "language": "python",
   "name": "kgtk-subset"
  },
  "language_info": {
   "codemirror_mode": {
    "name": "ipython",
    "version": 3
   },
   "file_extension": ".py",
   "mimetype": "text/x-python",
   "name": "python",
   "nbconvert_exporter": "python",
   "pygments_lexer": "ipython3",
   "version": "3.7.9"
  }
 },
 "nbformat": 4,
 "nbformat_minor": 4
}
