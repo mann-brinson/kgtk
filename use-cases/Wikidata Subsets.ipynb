{
 "cells": [
  {
   "cell_type": "markdown",
   "metadata": {},
   "source": [
    "# Generating Subsets of Wikidata\n",
    "\n",
    ">Warning: \n",
    "**This notebook is under construction and it doesn't work**\n",
    "\n",
    "## Purpose\n",
    "\n",
    ">This notebook is used to create smaller subgraphs from a larger input Wikidata graph. Notebook users can provide a list of Wikidata classes (**QNodes**) to remove and preserve to create desired subsets of Wikidata. \n"
   ]
  },
  {
   "cell_type": "markdown",
   "metadata": {},
   "source": [
    "### Batch Invocation\n",
    "Example batch command. The second argument is a notebook where the output will be stored. You can load it to see progress.\n",
    "\n",
    "UPDATE EXAMPLE INVOCATION\n",
    "\n",
    "\n",
    "```\n",
    "papermill Wikidata\\ Useful\\ Files.ipynb useful-files.out.ipynb \\\n",
    "-p wiki_file /Volumes/GoogleDrive/Shared\\ drives/KGTK-public-graphs/wikidata-20200803-v3/all.tsv.gz \\\n",
    "-p label_file /Volumes/GoogleDrive/Shared\\ drives/KGTK-public-graphs/wikidata-20200803-v3/part.label.en.tsv.gz \\\n",
    "-p item_file /Volumes/GoogleDrive/Shared\\ drives/KGTK-public-graphs/wikidata-20200803-v3/part.wikibase-item.tsv.gz \\\n",
    "-p property_item_file /Volumes/GoogleDrive/Shared\\ drives/KGTK-public-graphs/wikidata-20200803-v3/part.property.wikibase-item.tsv.gz \\\n",
    "-p qual_file /Volumes/GoogleDrive/Shared\\ drives/KGTK-public-graphs/wikidata-20200803-v3/qual.tsv.gz \\\n",
    "-p output_path <local folder> \\\n",
    "-p output_folder useful_files_v4 \\\n",
    "-p temp_folder temp.useful_files_v4 \\\n",
    "-p delete_database no \\\n",
    "-p compute_pagerank no \\\n",
    "-p languages es,ru,zh-cn \n",
    "```"
   ]
  },
  {
   "cell_type": "code",
   "execution_count": 2,
   "metadata": {
    "tags": [
     "parameters"
    ]
   },
   "outputs": [],
   "source": [
    "# Parameters\n",
    "\n",
    "# Folder on local machine where to create the output and temporary folders\n",
    "# output_path = \"/Users/pedroszekely/Downloads/kypher\"\n",
    "output_path = \"/Users/markmann/Downloads/subset\"\n",
    "\n",
    "# The names of the output and temporary folders\n",
    "output_folder = \"output\"\n",
    "temp_folder = \"temp.output\"\n",
    "\n",
    "# Classes to remove\n",
    "#Q34508 - video tape recording\n",
    "# remove_classes = \"Q13442814, Q523, Q16521, Q318, Q7318358, Q7187, Q11173, Q8054, Q5, Q13100073, Q8502, Q3305213, Q4022, Q79007, Q1931185, Q30612, Q101352, Q54050, Q13433827, Q2668072, Q23397, Q3863, Q11424, Q482994, Q47150325, Q16970, Q18593264, Q355304, Q9842, Q7725634, Q27020041, Q56436498, Q2154519, Q61443690, Q49008, Q3331189, Q47521, Q5084, Q19389637, Q21014462, Q4164871, Q11060274, Q5633421, Q39816, Q5185279, Q55488, Q134556, Q22698, Q985488, Q1260524, Q204107, Q2225692, Q215380, Q71963409, Q452237, Q93184, Q12323\"\n",
    "remove_classes = \"Q34508\"\n",
    "\n",
    "# The location of input files\n",
    "# wiki_root_folder = \"/Volumes/GoogleDrive/Shared\\ drives/KGTK/datasets/wikidata-20200803-v4/\"\n",
    "# wiki_root_folder = \"/Volumes/GoogleDrive/Shared\\ drives/KGTK/datasets/wikidata-20200803-v4/\"\n",
    "# wiki_root_folder = \"/Users/pedroszekely/Downloads/kypher/wikidataos-v4/\"\n",
    "wiki_root_folder = \"/Users/markmann/Google\\ Drive/Shared\\ drives/KGTK/datasets/wikidataos-v4-mm-2/\"\n",
    "\n",
    "claims_file = \"claims.tsv.gz\"\n",
    "label_file = \"labels.en.tsv.gz\"\n",
    "alias_file = \"aliases.en.tsv.gz\"\n",
    "description_file = \"descriptions.en.tsv.gz\"\n",
    "item_file = \"claims.wikibase-item.tsv.gz\"\n",
    "qual_file = \"qualifiers.tsv.gz\"\n",
    "property_datatypes_file = \"metadata.property.datatypes.tsv.gz\"\n",
    "metadata_file = \"metadata.types.tsv.gz\" #Add\n",
    "isa_file = \"derived.isa.tsv.gz\"\n",
    "p279star_file = \"derived.P279star.tsv.gz\"\n",
    "\n",
    "# Useful files Jupyter notebook\n",
    "useful_files_notebook = \"Wikidata Useful Files.ipynb\"\n",
    "notebooks_folder = \"/Users/markmann/Desktop/CKG/kgtk_subset/kgtk/examples/\"\n",
    "\n",
    "# Location of the cache database for kypher\n",
    "# cache_path = \"/Users/pedroszekely/Downloads/kypher/wikidataos-v4\"\n",
    "cache_path = f'{output_path}/{output_folder}'\n",
    "\n",
    "#Additional parameters\n",
    "delete_database = \"no\"\n",
    "compute_pagerank = \"no\"\n",
    "languages = \"\"\n",
    "\n",
    "### Needs fixing\n",
    "# Whether to delete the cache database\n",
    "if delete_database and delete_database.lower().strip() == 'yes':\n",
    "    delete_database = True\n",
    "else:\n",
    "    delete_database = False\n",
    "\n",
    "### Needs fixing\n",
    "if compute_pagerank and compute_pagerank.lower().strip() == 'yes':\n",
    "    compute_pagerank = True\n",
    "else:\n",
    "    compute_pagerank = False\n",
    "\n",
    "if languages:\n",
    "    languages = languages.split(',')"
   ]
  },
  {
   "cell_type": "code",
   "execution_count": 3,
   "metadata": {},
   "outputs": [],
   "source": [
    "import io\n",
    "import os\n",
    "import subprocess\n",
    "import sys\n",
    "\n",
    "import numpy as np\n",
    "import pandas as pd\n",
    "\n",
    "import altair as alt\n",
    "\n",
    "import papermill as pm"
   ]
  },
  {
   "cell_type": "markdown",
   "metadata": {},
   "source": [
    "## Set up variables for files"
   ]
  },
  {
   "cell_type": "code",
   "execution_count": 4,
   "metadata": {},
   "outputs": [],
   "source": [
    "#Environment variables\n",
    "if cache_path:\n",
    "    os.environ['STORE'] = \"{}/wikidata.sqlite3.db\".format(cache_path)\n",
    "else:\n",
    "    os.environ['STORE'] = \"{}/{}/wikidata.sqlite3.db\".format(output_path, temp_folder)\n",
    "\n",
    "#Python variables\n",
    "if cache_path:\n",
    "    store = \"{}/wikidata.sqlite3.db\".format(cache_path)\n",
    "else:\n",
    "    store = \"{}/{}/wikidata.sqlite3.db\".format(output_path, temp_folder)\n",
    "\n",
    "out = \"{}/{}\".format(output_path, output_folder)\n",
    "temp = \"{}/{}\".format(output_path, temp_folder)\n",
    "\n",
    "claims = wiki_root_folder + claims_file\n",
    "labels = wiki_root_folder + label_file\n",
    "aliases = wiki_root_folder + alias_file\n",
    "descriptions = wiki_root_folder + description_file\n",
    "items = wiki_root_folder + item_file\n",
    "quals = wiki_root_folder + qual_file\n",
    "datatypes = wiki_root_folder + property_datatypes_file\n",
    "metadata = wiki_root_folder + metadata_file #Add\n",
    "isa = wiki_root_folder + isa_file\n",
    "p279star = wiki_root_folder + p279star_file\n",
    "\n",
    "# shortcuts to commands\n",
    "kgtk = \"time kgtk --debug\"\n",
    "kypher = \"kgtk query --debug --graph-cache \" + store"
   ]
  },
  {
   "cell_type": "code",
   "execution_count": null,
   "metadata": {},
   "outputs": [],
   "source": [
    "#Check files\n",
    "#Example\n",
    "#Q34508 - video tape recording\n",
    "\n",
    "# !gzcat {p279star} | head\n",
    "# !gzcat {descriptions} | head\n",
    "\n",
    "# !zgrep 'Q34508' {datatypes}\n",
    "# !zgrep '\\Q.*' {datatypes}\n",
    "# !zgrep 'Q34508' {claims}"
   ]
  },
  {
   "cell_type": "markdown",
   "metadata": {},
   "source": [
    "Go to the output directory and create the subfolders for the output files and the temporary files"
   ]
  },
  {
   "cell_type": "code",
   "execution_count": 4,
   "metadata": {},
   "outputs": [
    {
     "name": "stdout",
     "output_type": "stream",
     "text": [
      "mkdir: /Users/markmann/Downloads/subset/output: File exists\n",
      "mkdir: /Users/markmann/Downloads/subset/temp.output: File exists\n"
     ]
    }
   ],
   "source": [
    "!cd $output_path\n",
    "!mkdir {out}\n",
    "!mkdir {temp}"
   ]
  },
  {
   "cell_type": "markdown",
   "metadata": {},
   "source": [
    "Clean up the output and temp folders before we start"
   ]
  },
  {
   "cell_type": "code",
   "execution_count": 5,
   "metadata": {},
   "outputs": [],
   "source": [
    "# !rm {out}/*.tsv {out}/*.tsv.gz\n",
    "# !rm {temp}/*.tsv {temp}/*.tsv.gz\n",
    "\n",
    "if delete_database:\n",
    "    !rm {out}/*.tsv {out}/*.tsv.gz\n",
    "    !rm {temp}/*.tsv {temp}/*.tsv.gz"
   ]
  },
  {
   "cell_type": "code",
   "execution_count": null,
   "metadata": {},
   "outputs": [],
   "source": [
    "#COPY REFERENCE FILES\n",
    "# !cp {datatypes} {out}\n",
    "# !cp {metadata} {out}"
   ]
  },
  {
   "cell_type": "markdown",
   "metadata": {},
   "source": [
    "### Preview the input files"
   ]
  },
  {
   "cell_type": "markdown",
   "metadata": {},
   "source": [
    "It is always a good practice to peek a the files to make sure the column headings are what we expect"
   ]
  },
  {
   "cell_type": "code",
   "execution_count": 44,
   "metadata": {},
   "outputs": [
    {
     "name": "stdout",
     "output_type": "stream",
     "text": [
      "[2021-02-05 13:51:06 query]: SQL Translation:\r\n",
      "---------------------------------------------\r\n",
      "  SELECT *\r\n",
      "     FROM graph_1 AS graph_1_c1\r\n",
      "     LIMIT ?\r\n",
      "  PARAS: [10]\r\n",
      "---------------------------------------------\r\n",
      "id\tnode1\tlabel\tnode2\trank\tnode2;wikidatatype\r\n",
      "P10-P1628-32b85d-7927ece6-0\tP10\tP1628\t\"http://www.w3.org/2006/vcard/ns#Video\"\tnormal\turl\r\n",
      "P10-P1628-acf60d-b8950832-0\tP10\tP1628\t\"https://schema.org/video\"\tnormal\turl\r\n",
      "P10-P1629-Q34508-bcc39400-0\tP10\tP1629\tQ34508\tnormal\twikibase-item\r\n",
      "P10-P1659-P1651-c4068028-0\tP10\tP1659\tP1651\tnormal\twikibase-property\r\n",
      "P10-P1659-P18-5e4b9c4f-0\tP10\tP1659\tP18\tnormal\twikibase-property\r\n",
      "P10-P1659-P4238-d21d1ac0-0\tP10\tP1659\tP4238\tnormal\twikibase-property\r\n",
      "P10-P1659-P51-86aca4c5-0\tP10\tP1659\tP51\tnormal\twikibase-property\r\n",
      "P10-P1855-Q7378-555592a4-0\tP10\tP1855\tQ7378\tnormal\twikibase-item\r\n",
      "P10-P31-Q18610173-85ef4d24-0\tP10\tP31\tQ18610173\tnormal\twikibase-item\r\n",
      "P1000-P1629-Q1241356-d5c10f50-0\tP1000\tP1629\tQ1241356\tnormal\twikibase-item\r\n"
     ]
    }
   ],
   "source": [
    "!{kypher} -i {claims} \\\n",
    "--match '()-[]->()' \\\n",
    "--limit 10"
   ]
  },
  {
   "cell_type": "markdown",
   "metadata": {},
   "source": [
    "## Creating a list of all the items  to remove"
   ]
  },
  {
   "cell_type": "code",
   "execution_count": null,
   "metadata": {},
   "outputs": [],
   "source": [
    "remove_list = set()"
   ]
  },
  {
   "cell_type": "markdown",
   "metadata": {},
   "source": [
    "**Add classes to remove directly here:** <br>\n",
    "- **NOTE:** This will only remove items that have a P31/P279 relation with the class\n",
    "- **Example:** Let's remove the class (videotape recording, 'Q34508')"
   ]
  },
  {
   "cell_type": "code",
   "execution_count": null,
   "metadata": {},
   "outputs": [],
   "source": [
    "remove_list = set()\n",
    "classes_to_remove = ['Q34508'] #Parameter\n",
    "[for cl in classes_to_remove remove_list.add(cl)]"
   ]
  },
  {
   "cell_type": "markdown",
   "metadata": {},
   "source": [
    "**Compute classes to remove, based on instances here:**\n",
    "- **Example:** Let's remove classes that are part of instance (Fireball, 'Q5451712'), (Bush, 'Q1017471') \n",
    "- **NOTE:** The expected class to remove is (whisky, 'Q281') (beer, 'Q44')"
   ]
  },
  {
   "cell_type": "code",
   "execution_count": 96,
   "metadata": {},
   "outputs": [
    {
     "name": "stdout",
     "output_type": "stream",
     "text": [
      "[2021-02-05 16:40:08 query]: SQL Translation:\r\n",
      "---------------------------------------------\r\n",
      "  SELECT *\r\n",
      "     FROM graph_1 AS graph_1_c1\r\n",
      "     WHERE graph_1_c1.\"label\"=?\r\n",
      "     AND (graph_1_c1.\"node1\" IN (?, ?))\r\n",
      "  PARAS: ['P31', 'Q5451712', 'Q1017471']\r\n",
      "---------------------------------------------\r\n",
      "id\tnode1\tlabel\tnode2\trank\tnode2;wikidatatype\r\n",
      "Q1017471-P31-Q15075508-61e783df-0\tQ1017471\tP31\tQ15075508\tnormal\twikibase-item\r\n",
      "Q1017471-P31-Q44-7580116c-0\tQ1017471\tP31\tQ44\tnormal\twikibase-item\r\n",
      "Q5451712-P31-Q281-2d4512be-0\tQ5451712\tP31\tQ281\tnormal\twikibase-item\r\n"
     ]
    }
   ],
   "source": [
    "#For each instance, find all classes associated with that instance\n",
    "instances_to_remove = ['Q5451712', 'Q1017471'] #Parameter\n",
    "instances = ', '.join([f'\"{instance}\"' for instance in instances_to_remove])\n",
    "!{kypher} -i {claims} \\\n",
    "--match '(instance)-[:P31]->(c)' \\\n",
    "--where 'instance in [{instances}]' \\\n",
    "\n",
    "#ISSUE: Need two query all node2 for all P31/P279 relations for given list of instances.\n",
    "#SOLN: Do 2 queries for now, and cat them together\n",
    "# !{kypher} -i {claims} -o {temp}/instances.p31.remove.tsv.gz \\\n",
    "# --match '(instance)-[r {label: \"P31\"}]->(c)' \\\n",
    "# --where 'instance in [{instances}]'\n",
    "\n"
   ]
  },
  {
   "cell_type": "code",
   "execution_count": 75,
   "metadata": {},
   "outputs": [],
   "source": [
    "#GOAL: Find all instances of beer (Q44) class in claims file\n",
    "# !{kypher} -i {claims} \\\n",
    "# --match '(n1)-[:P31]->(:Q44)' \\\n",
    "# --limit 10"
   ]
  },
  {
   "cell_type": "markdown",
   "metadata": {},
   "source": [
    "## Create a list of all items to protect"
   ]
  },
  {
   "cell_type": "markdown",
   "metadata": {},
   "source": [
    "## Check for conflicts"
   ]
  },
  {
   "cell_type": "markdown",
   "metadata": {},
   "source": [
    "### Compute the items to be removed\n",
    "\n",
    "First look at the classes we will remove"
   ]
  },
  {
   "cell_type": "code",
   "execution_count": 7,
   "metadata": {},
   "outputs": [
    {
     "name": "stdout",
     "output_type": "stream",
     "text": [
      "\u001b[90mid\u001b[39m Q34508\n",
      "\u001b[42mLabel\u001b[49m videotape recording\n",
      "\u001b[44mDescription\u001b[49m electronic medium for the recording, copying and broadcasting of moving visual images\n",
      "\u001b[30m\u001b[47minstance of\u001b[49m\u001b[39m \u001b[90m(P31)\u001b[39m\u001b[90m: \u001b[39m electronic media \u001b[90m(Q1209283)\u001b[39m\n",
      "\u001b[30m\u001b[47msubclass of\u001b[49m\u001b[39m \u001b[90m(P279)\u001b[39m\u001b[90m: \u001b[39melectronic media \u001b[90m(Q1209283)\u001b[39m | moving image \u001b[90m(Q10301427)\u001b[39m | audiovisual work \u001b[90m(Q2431196)\u001b[39m\n"
     ]
    }
   ],
   "source": [
    "cmd = \"wd u {}\".format(\" \".join(remove_classes.split(\",\")))\n",
    "!{cmd}"
   ]
  },
  {
   "cell_type": "markdown",
   "metadata": {},
   "source": [
    "Compose the kypher command to remove the classes"
   ]
  },
  {
   "cell_type": "code",
   "execution_count": 8,
   "metadata": {},
   "outputs": [
    {
     "name": "stdout",
     "output_type": "stream",
     "text": [
      "node1\tlabel\tnode2\r\n",
      "zcat: P10\tisa\tQ18610173\r\n",
      "P1000\tisa\tQ18608871\r\n",
      "P1001\tisa\tQ15720608\r\n",
      "P1001\tisa\tQ22984026\r\n",
      "P1001\tisa\tQ22997934\r\n",
      "error writing to output: Broken pipe\r\n",
      "P1001\tisa\tQ61719275\r\n",
      "P1001\tisa\tQ70564278\r\n",
      "P1002\tisa\tQ22963600\r\n",
      "P1003\tisa\tQ19595382\r\n"
     ]
    }
   ],
   "source": [
    "!zcat < {isa} | head | col"
   ]
  },
  {
   "cell_type": "markdown",
   "metadata": {},
   "source": [
    "Run the command, the items to remove will be in file `{temp}/items.remove.tsv.gz`"
   ]
  },
  {
   "cell_type": "code",
   "execution_count": 68,
   "metadata": {},
   "outputs": [
    {
     "name": "stdout",
     "output_type": "stream",
     "text": [
      "\"Q13442814\", \"Q523\", \"Q16521\"\n"
     ]
    }
   ],
   "source": [
    "# remove_classes = \"Q13442814, Q523, Q16521\" #Input\n",
    "classes = \", \".join(list(map(lambda x: '\"{}\"'.format(x), remove_classes.replace(\" \", \"\").split(\",\")))) #Output \"x\", \"y\", \"z\"\n",
    "!{kypher}  -i {isa} -i {p279star} -o {temp}/items.remove.tsv.gz \\\n",
    "--match 'isa: (n1)-[:isa]->(c), P279star: (c)-[]->(class)' \\\n",
    "--where 'class in [{classes}]' \\\n",
    "--return 'distinct n1, \"p31_p279star\" as label, class as node2'"
   ]
  },
  {
   "cell_type": "markdown",
   "metadata": {},
   "source": [
    "Preview the `items.remove` file. Count number of class instances to remove"
   ]
  },
  {
   "cell_type": "code",
   "execution_count": 50,
   "metadata": {},
   "outputs": [
    {
     "name": "stdout",
     "output_type": "stream",
     "text": [
      "node1\tlabel\tnode2\r\n",
      "Q100000003\tp31_p279star\tQ34508\r\n",
      "Q100000011\tp31_p279star\tQ34508\r\n",
      "Q100000014\tp31_p279star\tQ34508\r\n",
      "Q100000021\tp31_p279star\tQ34508\r\n",
      "Q100000029\tp31_p279star\tQ34508\r\n",
      "Q100000033\tp31_p279star\tQ34508\r\n",
      "Q100000049\tp31_p279star\tQ34508\r\n",
      "Q100328888\tp31_p279star\tQ34508\r\n",
      "Q100370118\tp31_p279star\tQ34508\r\n",
      "Q100431477\tp31_p279star\tQ34508\r\n",
      "Q100477946\tp31_p279star\tQ34508\r\n",
      "Q100982847\tp31_p279star\tQ34508\r\n",
      "Q100982908\tp31_p279star\tQ34508\r\n",
      "Q101077837\tp31_p279star\tQ34508\r\n",
      "Q101079766\tp31_p279star\tQ34508\r\n",
      "Q101094418\tp31_p279star\tQ34508\r\n",
      "Q101243034\tp31_p279star\tQ34508\r\n",
      "Q101246930\tp31_p279star\tQ34508\r\n",
      "Q101246967\tp31_p279star\tQ34508\r\n",
      "Q101568768\tp31_p279star\tQ34508\r\n",
      "Q101771665\tp31_p279star\tQ34508\r\n",
      "Q102013680\tp31_p279star\tQ34508\r\n",
      "Q102046764\tp31_p279star\tQ34508\r\n",
      "Q102117797\tp31_p279star\tQ34508\r\n",
      "Q102163686\tp31_p279star\tQ34508\r\n",
      "Q102163797\tp31_p279star\tQ34508\r\n",
      "Q102225310\tp31_p279star\tQ34508\r\n",
      "Q10267876\tp31_p279star\tQ34508\r\n",
      "Q11931979\tp31_p279star\tQ34508\r\n",
      "Q15527021\tp31_p279star\tQ34508\r\n",
      "Q16014350\tp31_p279star\tQ34508\r\n",
      "Q16155930\tp31_p279star\tQ34508\r\n",
      "Q16166155\tp31_p279star\tQ34508\r\n",
      "Q16839592\tp31_p279star\tQ34508\r\n",
      "Q16968218\tp31_p279star\tQ34508\r\n",
      "Q17747156\tp31_p279star\tQ34508\r\n",
      "Q18150030\tp31_p279star\tQ34508\r\n",
      "Q1855666\tp31_p279star\tQ34508\r\n",
      "Q18689725\tp31_p279star\tQ34508\r\n",
      "Q18786431\tp31_p279star\tQ34508\r\n",
      "Q19892563\tp31_p279star\tQ34508\r\n",
      "Q19894337\tp31_p279star\tQ34508\r\n",
      "Q20493713\tp31_p279star\tQ34508\r\n",
      "Q20494430\tp31_p279star\tQ34508\r\n",
      "Q20494889\tp31_p279star\tQ34508\r\n",
      "Q20495158\tp31_p279star\tQ34508\r\n",
      "Q20653258\tp31_p279star\tQ34508\r\n",
      "Q20727879\tp31_p279star\tQ34508\r\n",
      "Q20902941\tp31_p279star\tQ34508\r\n",
      "Q2187667\tp31_p279star\tQ34508\r\n",
      "Q22162440\tp31_p279star\tQ34508\r\n",
      "Q23055259\tp31_p279star\tQ34508\r\n",
      "Q23566234\tp31_p279star\tQ34508\r\n",
      "Q23995939\tp31_p279star\tQ34508\r\n",
      "Q24265647\tp31_p279star\tQ34508\r\n",
      "Q24266797\tp31_p279star\tQ34508\r\n",
      "Q24266840\tp31_p279star\tQ34508\r\n",
      "Q24631498\tp31_p279star\tQ34508\r\n",
      "Q2468862\tp31_p279star\tQ34508\r\n",
      "Q24905089\tp31_p279star\tQ34508\r\n",
      "Q2540912\tp31_p279star\tQ34508\r\n",
      "Q26157345\tp31_p279star\tQ34508\r\n",
      "Q27467421\tp31_p279star\tQ34508\r\n",
      "Q27966823\tp31_p279star\tQ34508\r\n",
      "Q27966834\tp31_p279star\tQ34508\r\n",
      "Q27966837\tp31_p279star\tQ34508\r\n",
      "Q27969838\tp31_p279star\tQ34508\r\n",
      "Q27983267\tp31_p279star\tQ34508\r\n",
      "Q27991027\tp31_p279star\tQ34508\r\n",
      "Q28001203\tp31_p279star\tQ34508\r\n",
      "Q28001230\tp31_p279star\tQ34508\r\n",
      "Q28025040\tp31_p279star\tQ34508\r\n",
      "Q28027582\tp31_p279star\tQ34508\r\n",
      "Q29008346\tp31_p279star\tQ34508\r\n",
      "Q29008492\tp31_p279star\tQ34508\r\n",
      "Q29008493\tp31_p279star\tQ34508\r\n",
      "Q29008494\tp31_p279star\tQ34508\r\n",
      "Q29008671\tp31_p279star\tQ34508\r\n",
      "Q29008740\tp31_p279star\tQ34508\r\n",
      "Q29008826\tp31_p279star\tQ34508\r\n",
      "Q29008829\tp31_p279star\tQ34508\r\n",
      "Q29008968\tp31_p279star\tQ34508\r\n",
      "Q29008969\tp31_p279star\tQ34508\r\n",
      "Q29008970\tp31_p279star\tQ34508\r\n",
      "Q29008971\tp31_p279star\tQ34508\r\n",
      "Q29009012\tp31_p279star\tQ34508\r\n",
      "Q29009015\tp31_p279star\tQ34508\r\n",
      "Q29009034\tp31_p279star\tQ34508\r\n",
      "Q29009035\tp31_p279star\tQ34508\r\n",
      "Q29009040\tp31_p279star\tQ34508\r\n",
      "Q29009086\tp31_p279star\tQ34508\r\n",
      "Q29009098\tp31_p279star\tQ34508\r\n",
      "Q29009103\tp31_p279star\tQ34508\r\n",
      "Q29009129\tp31_p279star\tQ34508\r\n",
      "Q29009141\tp31_p279star\tQ34508\r\n",
      "Q29009142\tp31_p279star\tQ34508\r\n",
      "Q29009143\tp31_p279star\tQ34508\r\n",
      "Q29009144\tp31_p279star\tQ34508\r\n",
      "Q29009147\tp31_p279star\tQ34508\r\n",
      "Q29009193\tp31_p279star\tQ34508\r\n",
      "Q29009194\tp31_p279star\tQ34508\r\n",
      "Q29009195\tp31_p279star\tQ34508\r\n",
      "Q29009199\tp31_p279star\tQ34508\r\n",
      "Q29009200\tp31_p279star\tQ34508\r\n",
      "Q29009270\tp31_p279star\tQ34508\r\n",
      "Q29009271\tp31_p279star\tQ34508\r\n",
      "Q29009272\tp31_p279star\tQ34508\r\n",
      "Q29009335\tp31_p279star\tQ34508\r\n",
      "Q29009336\tp31_p279star\tQ34508\r\n",
      "Q29009354\tp31_p279star\tQ34508\r\n",
      "Q29009413\tp31_p279star\tQ34508\r\n",
      "Q29009414\tp31_p279star\tQ34508\r\n",
      "Q29009423\tp31_p279star\tQ34508\r\n",
      "Q29009425\tp31_p279star\tQ34508\r\n",
      "Q29009614\tp31_p279star\tQ34508\r\n",
      "Q29009637\tp31_p279star\tQ34508\r\n",
      "Q29009645\tp31_p279star\tQ34508\r\n",
      "Q29009657\tp31_p279star\tQ34508\r\n",
      "Q29009703\tp31_p279star\tQ34508\r\n",
      "Q29009792\tp31_p279star\tQ34508\r\n",
      "Q29009805\tp31_p279star\tQ34508\r\n",
      "Q29010235\tp31_p279star\tQ34508\r\n",
      "Q29010291\tp31_p279star\tQ34508\r\n",
      "Q29010292\tp31_p279star\tQ34508\r\n",
      "Q29010293\tp31_p279star\tQ34508\r\n",
      "Q29010294\tp31_p279star\tQ34508\r\n",
      "Q29010296\tp31_p279star\tQ34508\r\n",
      "Q29010298\tp31_p279star\tQ34508\r\n",
      "Q29010299\tp31_p279star\tQ34508\r\n",
      "Q29010300\tp31_p279star\tQ34508\r\n",
      "Q29010301\tp31_p279star\tQ34508\r\n",
      "Q30608690\tp31_p279star\tQ34508\r\n",
      "Q3285796\tp31_p279star\tQ34508\r\n",
      "Q32859443\tp31_p279star\tQ34508\r\n",
      "Q32944447\tp31_p279star\tQ34508\r\n",
      "Q32944449\tp31_p279star\tQ34508\r\n",
      "Q32944451\tp31_p279star\tQ34508\r\n",
      "Q32944452\tp31_p279star\tQ34508\r\n",
      "Q32944454\tp31_p279star\tQ34508\r\n",
      "Q32944457\tp31_p279star\tQ34508\r\n",
      "Q32944458\tp31_p279star\tQ34508\r\n",
      "Q33113219\tp31_p279star\tQ34508\r\n",
      "Q3612259\tp31_p279star\tQ34508\r\n",
      "Q36887782\tp31_p279star\tQ34508\r\n",
      "Q39086719\tp31_p279star\tQ34508\r\n",
      "Q41571403\tp31_p279star\tQ34508\r\n",
      "Q41571467\tp31_p279star\tQ34508\r\n",
      "Q4661031\tp31_p279star\tQ34508\r\n",
      "Q47500596\tp31_p279star\tQ34508\r\n",
      "Q48965249\tp31_p279star\tQ34508\r\n",
      "Q4920236\tp31_p279star\tQ34508\r\n",
      "Q50820955\tp31_p279star\tQ34508\r\n",
      "Q5214990\tp31_p279star\tQ34508\r\n",
      "Q53474908\tp31_p279star\tQ34508\r\n",
      "Q53478490\tp31_p279star\tQ34508\r\n",
      "Q5421586\tp31_p279star\tQ34508\r\n",
      "Q5454261\tp31_p279star\tQ34508\r\n",
      "Q55075439\tp31_p279star\tQ34508\r\n",
      "Q5520197\tp31_p279star\tQ34508\r\n",
      "Q55400597\tp31_p279star\tQ34508\r\n",
      "Q55959350\tp31_p279star\tQ34508\r\n",
      "Q55959539\tp31_p279star\tQ34508\r\n",
      "Q55978266\tp31_p279star\tQ34508\r\n",
      "Q55990120\tp31_p279star\tQ34508\r\n",
      "Q55990847\tp31_p279star\tQ34508\r\n",
      "Q56009510\tp31_p279star\tQ34508\r\n",
      "Q56027113\tp31_p279star\tQ34508\r\n",
      "Q56070899\tp31_p279star\tQ34508\r\n",
      "Q56070934\tp31_p279star\tQ34508\r\n",
      "Q56085678\tp31_p279star\tQ34508\r\n",
      "Q56085848\tp31_p279star\tQ34508\r\n",
      "Q56316328\tp31_p279star\tQ34508\r\n",
      "Q5650302\tp31_p279star\tQ34508\r\n",
      "Q5678432\tp31_p279star\tQ34508\r\n",
      "Q56884001\tp31_p279star\tQ34508\r\n",
      "Q56884161\tp31_p279star\tQ34508\r\n",
      "Q56884170\tp31_p279star\tQ34508\r\n",
      "Q56884182\tp31_p279star\tQ34508\r\n",
      "Q56884206\tp31_p279star\tQ34508\r\n",
      "Q56884213\tp31_p279star\tQ34508\r\n",
      "Q56884227\tp31_p279star\tQ34508\r\n",
      "Q56884237\tp31_p279star\tQ34508\r\n",
      "Q56884246\tp31_p279star\tQ34508\r\n",
      "Q56884258\tp31_p279star\tQ34508\r\n",
      "Q56884264\tp31_p279star\tQ34508\r\n",
      "Q56884269\tp31_p279star\tQ34508\r\n",
      "Q56884353\tp31_p279star\tQ34508\r\n",
      "Q56884361\tp31_p279star\tQ34508\r\n",
      "Q56884379\tp31_p279star\tQ34508\r\n",
      "Q57273104\tp31_p279star\tQ34508\r\n",
      "Q57824637\tp31_p279star\tQ34508\r\n",
      "Q57825588\tp31_p279star\tQ34508\r\n",
      "Q57826977\tp31_p279star\tQ34508\r\n",
      "Q57827869\tp31_p279star\tQ34508\r\n",
      "Q57835558\tp31_p279star\tQ34508\r\n",
      "Q57837377\tp31_p279star\tQ34508\r\n",
      "Q57840000\tp31_p279star\tQ34508\r\n",
      "Q58214813\tp31_p279star\tQ34508\r\n",
      "Q58430369\tp31_p279star\tQ34508\r\n",
      "Q58562166\tp31_p279star\tQ34508\r\n",
      "Q58877793\tp31_p279star\tQ34508\r\n",
      "Q59242459\tp31_p279star\tQ34508\r\n",
      "Q59435111\tp31_p279star\tQ34508\r\n",
      "Q59800390\tp31_p279star\tQ34508\r\n",
      "Q60152688\tp31_p279star\tQ34508\r\n",
      "Q60152689\tp31_p279star\tQ34508\r\n",
      "Q60152690\tp31_p279star\tQ34508\r\n",
      "Q60153124\tp31_p279star\tQ34508\r\n",
      "Q60197426\tp31_p279star\tQ34508\r\n",
      "Q60231842\tp31_p279star\tQ34508\r\n",
      "Q60464514\tp31_p279star\tQ34508\r\n",
      "Q60517300\tp31_p279star\tQ34508\r\n",
      "Q60561091\tp31_p279star\tQ34508\r\n",
      "Q60596838\tp31_p279star\tQ34508\r\n",
      "Q60671663\tp31_p279star\tQ34508\r\n",
      "Q60678475\tp31_p279star\tQ34508\r\n",
      "Q60678843\tp31_p279star\tQ34508\r\n",
      "Q60862435\tp31_p279star\tQ34508\r\n",
      "Q60892295\tp31_p279star\tQ34508\r\n",
      "Q609334\tp31_p279star\tQ34508\r\n",
      "Q61051391\tp31_p279star\tQ34508\r\n",
      "Q61051549\tp31_p279star\tQ34508\r\n",
      "Q61051676\tp31_p279star\tQ34508\r\n",
      "Q61051752\tp31_p279star\tQ34508\r\n",
      "Q61051771\tp31_p279star\tQ34508\r\n",
      "Q6150505\tp31_p279star\tQ34508\r\n",
      "Q61764640\tp31_p279star\tQ34508\r\n",
      "Q61764914\tp31_p279star\tQ34508\r\n",
      "Q61958116\tp31_p279star\tQ34508\r\n",
      "Q61984551\tp31_p279star\tQ34508\r\n",
      "Q62026016\tp31_p279star\tQ34508\r\n",
      "Q62056001\tp31_p279star\tQ34508\r\n",
      "Q62057561\tp31_p279star\tQ34508\r\n",
      "Q6317291\tp31_p279star\tQ34508\r\n",
      "Q63183401\tp31_p279star\tQ34508\r\n",
      "Q632149\tp31_p279star\tQ34508\r\n",
      "Q63237372\tp31_p279star\tQ34508\r\n",
      "Q63286057\tp31_p279star\tQ34508\r\n",
      "Q63392521\tp31_p279star\tQ34508\r\n",
      "Q63400324\tp31_p279star\tQ34508\r\n",
      "Q63406374\tp31_p279star\tQ34508\r\n",
      "Q63406383\tp31_p279star\tQ34508\r\n",
      "Q63430555\tp31_p279star\tQ34508\r\n",
      "Q63430657\tp31_p279star\tQ34508\r\n",
      "Q63441810\tp31_p279star\tQ34508\r\n",
      "Q63759132\tp31_p279star\tQ34508\r\n",
      "Q63929729\tp31_p279star\tQ34508\r\n",
      "Q63930921\tp31_p279star\tQ34508\r\n",
      "Q63959157\tp31_p279star\tQ34508\r\n",
      "Q63994952\tp31_p279star\tQ34508\r\n",
      "Q64153584\tp31_p279star\tQ34508\r\n",
      "Q64157868\tp31_p279star\tQ34508\r\n",
      "Q64224839\tp31_p279star\tQ34508\r\n",
      "Q64224969\tp31_p279star\tQ34508\r\n",
      "Q64258049\tp31_p279star\tQ34508\r\n",
      "Q64433150\tp31_p279star\tQ34508\r\n",
      "Q64513796\tp31_p279star\tQ34508\r\n",
      "Q64667680\tp31_p279star\tQ34508\r\n",
      "Q64685774\tp31_p279star\tQ34508\r\n",
      "Q64750752\tp31_p279star\tQ34508\r\n",
      "Q64787782\tp31_p279star\tQ34508\r\n",
      "Q64819690\tp31_p279star\tQ34508\r\n",
      "Q64910250\tp31_p279star\tQ34508\r\n",
      "Q64910427\tp31_p279star\tQ34508\r\n",
      "Q64956565\tp31_p279star\tQ34508\r\n",
      "Q65016983\tp31_p279star\tQ34508\r\n",
      "Q65036783\tp31_p279star\tQ34508\r\n",
      "Q65061340\tp31_p279star\tQ34508\r\n",
      "Q65061427\tp31_p279star\tQ34508\r\n",
      "Q65066546\tp31_p279star\tQ34508\r\n",
      "Q65091049\tp31_p279star\tQ34508\r\n",
      "Q65374542\tp31_p279star\tQ34508\r\n",
      "Q65375718\tp31_p279star\tQ34508\r\n",
      "Q65501088\tp31_p279star\tQ34508\r\n",
      "Q65558354\tp31_p279star\tQ34508\r\n",
      "Q65581408\tp31_p279star\tQ34508\r\n",
      "Q65613232\tp31_p279star\tQ34508\r\n",
      "Q65619940\tp31_p279star\tQ34508\r\n",
      "Q65620022\tp31_p279star\tQ34508\r\n",
      "Q65622059\tp31_p279star\tQ34508\r\n",
      "Q65622086\tp31_p279star\tQ34508\r\n",
      "Q65665494\tp31_p279star\tQ34508\r\n",
      "Q65665505\tp31_p279star\tQ34508\r\n",
      "Q65665530\tp31_p279star\tQ34508\r\n",
      "Q65934958\tp31_p279star\tQ34508\r\n",
      "Q65935846\tp31_p279star\tQ34508\r\n",
      "Q65952319\tp31_p279star\tQ34508\r\n",
      "Q65952438\tp31_p279star\tQ34508\r\n",
      "Q65953219\tp31_p279star\tQ34508\r\n",
      "Q65953224\tp31_p279star\tQ34508\r\n",
      "Q65953230\tp31_p279star\tQ34508\r\n",
      "Q65953231\tp31_p279star\tQ34508\r\n",
      "Q65953299\tp31_p279star\tQ34508\r\n",
      "Q65953323\tp31_p279star\tQ34508\r\n",
      "Q65953326\tp31_p279star\tQ34508\r\n",
      "Q65953494\tp31_p279star\tQ34508\r\n",
      "Q66084859\tp31_p279star\tQ34508\r\n",
      "Q66092450\tp31_p279star\tQ34508\r\n",
      "Q66107280\tp31_p279star\tQ34508\r\n",
      "Q66423492\tp31_p279star\tQ34508\r\n",
      "Q66476220\tp31_p279star\tQ34508\r\n",
      "Q66476256\tp31_p279star\tQ34508\r\n",
      "Q66476257\tp31_p279star\tQ34508\r\n",
      "Q66476258\tp31_p279star\tQ34508\r\n",
      "Q66476259\tp31_p279star\tQ34508\r\n",
      "Q66476260\tp31_p279star\tQ34508\r\n",
      "Q66476261\tp31_p279star\tQ34508\r\n",
      "Q66476969\tp31_p279star\tQ34508\r\n",
      "Q66478413\tp31_p279star\tQ34508\r\n",
      "Q6657897\tp31_p279star\tQ34508\r\n",
      "Q66596449\tp31_p279star\tQ34508\r\n",
      "Q66596452\tp31_p279star\tQ34508\r\n",
      "Q66596456\tp31_p279star\tQ34508\r\n",
      "Q66596460\tp31_p279star\tQ34508\r\n",
      "Q66630912\tp31_p279star\tQ34508\r\n",
      "Q66630914\tp31_p279star\tQ34508\r\n",
      "Q66630917\tp31_p279star\tQ34508\r\n",
      "Q66630920\tp31_p279star\tQ34508\r\n",
      "Q66630921\tp31_p279star\tQ34508\r\n",
      "Q66636819\tp31_p279star\tQ34508\r\n",
      "Q66637809\tp31_p279star\tQ34508\r\n",
      "Q66638590\tp31_p279star\tQ34508\r\n",
      "Q66639587\tp31_p279star\tQ34508\r\n",
      "Q66640664\tp31_p279star\tQ34508\r\n",
      "Q66640666\tp31_p279star\tQ34508\r\n",
      "Q66640670\tp31_p279star\tQ34508\r\n",
      "Q66645798\tp31_p279star\tQ34508\r\n",
      "Q66649558\tp31_p279star\tQ34508\r\n",
      "Q66650167\tp31_p279star\tQ34508\r\n",
      "Q66664383\tp31_p279star\tQ34508\r\n",
      "Q66664604\tp31_p279star\tQ34508\r\n",
      "Q66664828\tp31_p279star\tQ34508\r\n",
      "Q66664832\tp31_p279star\tQ34508\r\n",
      "Q66664837\tp31_p279star\tQ34508\r\n",
      "Q66671884\tp31_p279star\tQ34508\r\n",
      "Q66671973\tp31_p279star\tQ34508\r\n",
      "Q66671983\tp31_p279star\tQ34508\r\n",
      "Q66672251\tp31_p279star\tQ34508\r\n",
      "Q66672253\tp31_p279star\tQ34508\r\n",
      "Q66742454\tp31_p279star\tQ34508\r\n",
      "Q66817531\tp31_p279star\tQ34508\r\n",
      "Q66973532\tp31_p279star\tQ34508\r\n",
      "Q67130340\tp31_p279star\tQ34508\r\n",
      "Q67130341\tp31_p279star\tQ34508\r\n",
      "Q67485773\tp31_p279star\tQ34508\r\n",
      "Q67500464\tp31_p279star\tQ34508\r\n",
      "Q67936938\tp31_p279star\tQ34508\r\n",
      "Q67936942\tp31_p279star\tQ34508\r\n",
      "Q69526230\tp31_p279star\tQ34508\r\n",
      "Q69899824\tp31_p279star\tQ34508\r\n",
      "Q70590171\tp31_p279star\tQ34508\r\n",
      "Q71186317\tp31_p279star\tQ34508\r\n",
      "Q7196259\tp31_p279star\tQ34508\r\n",
      "Q72409471\tp31_p279star\tQ34508\r\n",
      "Q73103796\tp31_p279star\tQ34508\r\n",
      "Q73396630\tp31_p279star\tQ34508\r\n",
      "Q77585359\tp31_p279star\tQ34508\r\n",
      "Q77790349\tp31_p279star\tQ34508\r\n",
      "Q77790927\tp31_p279star\tQ34508\r\n",
      "Q77791257\tp31_p279star\tQ34508\r\n",
      "Q77791453\tp31_p279star\tQ34508\r\n",
      "Q77791592\tp31_p279star\tQ34508\r\n",
      "Q77791596\tp31_p279star\tQ34508\r\n",
      "Q77792409\tp31_p279star\tQ34508\r\n",
      "Q77792414\tp31_p279star\tQ34508\r\n",
      "Q77792573\tp31_p279star\tQ34508\r\n",
      "Q81121814\tp31_p279star\tQ34508\r\n",
      "Q83436624\tp31_p279star\tQ34508\r\n",
      "Q84254735\tp31_p279star\tQ34508\r\n",
      "Q85334635\tp31_p279star\tQ34508\r\n",
      "Q86665221\tp31_p279star\tQ34508\r\n",
      "Q87000304\tp31_p279star\tQ34508\r\n",
      "Q87000899\tp31_p279star\tQ34508\r\n",
      "Q87619235\tp31_p279star\tQ34508\r\n",
      "Q87669627\tp31_p279star\tQ34508\r\n",
      "Q88488293\tp31_p279star\tQ34508\r\n",
      "Q88785811\tp31_p279star\tQ34508\r\n",
      "Q88786843\tp31_p279star\tQ34508\r\n",
      "Q89716741\tp31_p279star\tQ34508\r\n",
      "Q93375257\tp31_p279star\tQ34508\r\n",
      "Q94607867\tp31_p279star\tQ34508\r\n",
      "Q95152119\tp31_p279star\tQ34508\r\n",
      "Q95590677\tp31_p279star\tQ34508\r\n",
      "Q96246160\tp31_p279star\tQ34508\r\n",
      "Q96324205\tp31_p279star\tQ34508\r\n",
      "Q96592701\tp31_p279star\tQ34508\r\n",
      "Q96592819\tp31_p279star\tQ34508\r\n",
      "Q96592848\tp31_p279star\tQ34508\r\n",
      "Q96592854\tp31_p279star\tQ34508\r\n",
      "Q96592855\tp31_p279star\tQ34508\r\n",
      "Q96592856\tp31_p279star\tQ34508\r\n",
      "Q96592857\tp31_p279star\tQ34508\r\n",
      "Q96592859\tp31_p279star\tQ34508\r\n",
      "Q96592871\tp31_p279star\tQ34508\r\n",
      "Q96592873\tp31_p279star\tQ34508\r\n",
      "Q96592901\tp31_p279star\tQ34508\r\n",
      "Q96592930\tp31_p279star\tQ34508\r\n",
      "Q96592931\tp31_p279star\tQ34508\r\n",
      "Q96592959\tp31_p279star\tQ34508\r\n",
      "Q96592972\tp31_p279star\tQ34508\r\n",
      "Q96593013\tp31_p279star\tQ34508\r\n",
      "Q96593028\tp31_p279star\tQ34508\r\n",
      "Q96593181\tp31_p279star\tQ34508\r\n",
      "Q96593237\tp31_p279star\tQ34508\r\n",
      "Q97185086\tp31_p279star\tQ34508\r\n",
      "Q97213091\tp31_p279star\tQ34508\r\n",
      "Q97341937\tp31_p279star\tQ34508\r\n",
      "Q97342242\tp31_p279star\tQ34508\r\n",
      "Q97377369\tp31_p279star\tQ34508\r\n",
      "Q98098708\tp31_p279star\tQ34508\r\n",
      "Q98139980\tp31_p279star\tQ34508\r\n",
      "Q98139981\tp31_p279star\tQ34508\r\n",
      "Q98398572\tp31_p279star\tQ34508\r\n",
      "Q98781138\tp31_p279star\tQ34508\r\n",
      "Q99465900\tp31_p279star\tQ34508\r\n",
      "Q99466084\tp31_p279star\tQ34508\r\n",
      "Q99518991\tp31_p279star\tQ34508\r\n",
      "Q99545612\tp31_p279star\tQ34508\r\n",
      "Q99600254\tp31_p279star\tQ34508\r\n",
      "Q99650881\tp31_p279star\tQ34508\r\n",
      "Q99658976\tp31_p279star\tQ34508\r\n",
      "Q99659105\tp31_p279star\tQ34508\r\n",
      "Q99672034\tp31_p279star\tQ34508\r\n",
      "Q99675478\tp31_p279star\tQ34508\r\n",
      "Q99733532\tp31_p279star\tQ34508\r\n",
      "Q99864946\tp31_p279star\tQ34508\r\n",
      "Q99985122\tp31_p279star\tQ34508\r\n",
      "Q99985125\tp31_p279star\tQ34508\r\n",
      "Q99985174\tp31_p279star\tQ34508\r\n",
      "Q99985199\tp31_p279star\tQ34508\r\n",
      "Q99988413\tp31_p279star\tQ34508\r\n",
      "Q99988689\tp31_p279star\tQ34508\r\n",
      "Q99988690\tp31_p279star\tQ34508\r\n",
      "Q99999976\tp31_p279star\tQ34508\r\n",
      "Q99999981\tp31_p279star\tQ34508\r\n",
      "Q99999992\tp31_p279star\tQ34508\r\n",
      "Q102133820\tp31_p279star\tQ34508\r\n",
      "Q102222054\tp31_p279star\tQ34508\r\n",
      "Q1147986\tp31_p279star\tQ34508\r\n",
      "Q17143668\tp31_p279star\tQ34508\r\n",
      "Q1899749\tp31_p279star\tQ34508\r\n",
      "Q1926658\tp31_p279star\tQ34508\r\n",
      "Q193977\tp31_p279star\tQ34508\r\n",
      "Q2023874\tp31_p279star\tQ34508\r\n",
      "Q20871935\tp31_p279star\tQ34508\r\n",
      "Q20892182\tp31_p279star\tQ34508\r\n",
      "Q23058567\tp31_p279star\tQ34508\r\n",
      "Q25324511\tp31_p279star\tQ34508\r\n",
      "Q2916762\tp31_p279star\tQ34508\r\n",
      "Q48774253\tp31_p279star\tQ34508\r\n",
      "Q548206\tp31_p279star\tQ34508\r\n",
      "Q55960075\tp31_p279star\tQ34508\r\n",
      "Q59311998\tp31_p279star\tQ34508\r\n",
      "Q59688552\tp31_p279star\tQ34508\r\n",
      "Q63208582\tp31_p279star\tQ34508\r\n",
      "Q64100970\tp31_p279star\tQ34508\r\n",
      "Q73403617\tp31_p279star\tQ34508\r\n",
      "Q78331840\tp31_p279star\tQ34508\r\n",
      "Q84470557\tp31_p279star\tQ34508\r\n",
      "Q87000729\tp31_p279star\tQ34508\r\n",
      "Q93376240\tp31_p279star\tQ34508\r\n",
      "Q97065731\tp31_p279star\tQ34508\r\n",
      "Q97073931\tp31_p279star\tQ34508\r\n",
      "Q97078183\tp31_p279star\tQ34508\r\n",
      "Q98406740\tp31_p279star\tQ34508\r\n",
      "Q996838\tp31_p279star\tQ34508\r\n"
     ]
    }
   ],
   "source": [
    "# !zcat < {temp}/items.remove.tsv.gz | head | col\n",
    "\n",
    "#Count of remove-list class Q34508 in claims file\n",
    "# !zgrep 'Q34508' {claims} -c #466\n",
    "# !zgrep '/tQ5/t' {claims} -c\n",
    "\n",
    "#Count the remove-list class (Q34508) in items.remove.tsv\n",
    "!zcat < {temp}/items.remove.tsv.gz\n",
    "# !zgrep 'Q34508' {temp}/items.remove.tsv.gz -c #466"
   ]
  },
  {
   "cell_type": "code",
   "execution_count": 35,
   "metadata": {},
   "outputs": [
    {
     "name": "stdout",
     "output_type": "stream",
     "text": [
      "     467    1401   13994\r\n"
     ]
    }
   ],
   "source": [
    "!zcat < {temp}/items.remove.tsv.gz | wc"
   ]
  },
  {
   "cell_type": "code",
   "execution_count": 23,
   "metadata": {},
   "outputs": [],
   "source": [
    "# !zcat < {temp}/items.remove.tsv.gz | grep 'Q34508'"
   ]
  },
  {
   "cell_type": "code",
   "execution_count": null,
   "metadata": {},
   "outputs": [],
   "source": [
    "# !zcat < {temp}/items.remove.tsv.gz | grep 'Q15874936\\t'"
   ]
  },
  {
   "cell_type": "markdown",
   "metadata": {},
   "source": [
    "Collect all the classes of items we will remove, just as a sanity check"
   ]
  },
  {
   "cell_type": "code",
   "execution_count": 20,
   "metadata": {},
   "outputs": [
    {
     "name": "stdout",
     "output_type": "stream",
     "text": [
      "[2021-02-05 10:24:56 sqlstore]: DROP graph data table graph_4 from /Users/markmann/Downloads/subset/temp.output/items.remove.tsv.gz\n",
      "[2021-02-05 10:24:56 sqlstore]: IMPORT graph directly into table graph_6 from /Users/markmann/Downloads/subset/temp.output/items.remove.tsv.gz ...\n",
      "[2021-02-05 10:24:57 query]: SQL Translation:\n",
      "---------------------------------------------\n",
      "  SELECT DISTINCT graph_6_c1.\"node2\"\n",
      "     FROM graph_6 AS graph_6_c1\n",
      "     LIMIT ?\n",
      "  PARAS: [10]\n",
      "---------------------------------------------\n",
      "node2\n",
      "Q34508\n"
     ]
    }
   ],
   "source": [
    "!{kypher} -i {temp}/items.remove.tsv.gz \\\n",
    "--match '()-[]->(n2)' \\\n",
    "--return 'distinct n2' \\\n",
    "--limit 10"
   ]
  },
  {
   "cell_type": "markdown",
   "metadata": {},
   "source": [
    "## Create the reduced edges file"
   ]
  },
  {
   "cell_type": "markdown",
   "metadata": {},
   "source": [
    "### Remove the items from the all.tsv and the label, alias and description files\n",
    "We will be left with `reduced` files where the edges do not have the unwanted items. We have to remove them from the node1 and node2 positions, so we need to run the ifnotexists commands twice.\n",
    "\n",
    "Before we start preview the files to see the column headings and check whether they look sorted."
   ]
  },
  {
   "cell_type": "code",
   "execution_count": 21,
   "metadata": {},
   "outputs": [
    {
     "name": "stdout",
     "output_type": "stream",
     "text": [
      "\r\n",
      "real\t0m0.980s\r\n",
      "user\t0m0.493s\r\n",
      "sys\t0m0.193s\r\n"
     ]
    }
   ],
   "source": [
    "!$kgtk sort2 -i {temp}/items.remove.tsv.gz -o {temp}/items.remove.sorted.tsv.gz"
   ]
  },
  {
   "cell_type": "code",
   "execution_count": 36,
   "metadata": {},
   "outputs": [
    {
     "name": "stdout",
     "output_type": "stream",
     "text": [
      "node1\tlabel\tnode2\r\n",
      "Q100000003\tp31_p279star\tQ34508\r\n",
      "Q100000011\tp31_p279star\tQ34508\r\n",
      "Q100000014\tp31_p279star\tQ34508\r\n",
      "Q100000021\tp31_p279star\tQ34508\r\n",
      "Q100000029\tp31_p279star\tQ34508\r\n",
      "Q100000033\tp31_p279star\tQ34508\r\n",
      "Q100000049\tp31_p279star\tQ34508\r\n",
      "Q100328888\tp31_p279star\tQ34508\r\n",
      "Q100370118\tp31_p279star\tQ34508\r\n"
     ]
    }
   ],
   "source": [
    "!zcat < {temp}/items.remove.sorted.tsv.gz | head | col\n",
    "# !zgrep 'Q34508' {temp}/items.remove.sorted.tsv.gz -c #466"
   ]
  },
  {
   "cell_type": "code",
   "execution_count": 23,
   "metadata": {},
   "outputs": [
    {
     "name": "stdout",
     "output_type": "stream",
     "text": [
      "zcat: error writing to output: Broken pipe\r\n",
      "id\tnode1\tlabel\tnode2\trank\tnode2;wikidatatype\r\n",
      "P10-P1628-32b85d-7927ece6-0\tP10\tP1628\t\"http://www.w3.org/2006/vcard/ns#Video\" normal\turl\r\n",
      "P10-P1628-acf60d-b8950832-0\tP10\tP1628\t\"https://schema.org/video\"\tnormal\turl\r\n",
      "P10-P1629-Q34508-bcc39400-0\tP10\tP1629\tQ34508\tnormal\twikibase-item\r\n",
      "P10-P1659-P1651-c4068028-0\tP10\tP1659\tP1651\tnormal\twikibase-property\r\n"
     ]
    }
   ],
   "source": [
    "!zcat < {claims} | head -5 | col"
   ]
  },
  {
   "cell_type": "markdown",
   "metadata": {},
   "source": [
    "Remove from the full set of edges those edges that have a `node1` present in `items.remove.sorted.tsv`"
   ]
  },
  {
   "cell_type": "code",
   "execution_count": 47,
   "metadata": {},
   "outputs": [
    {
     "name": "stdout",
     "output_type": "stream",
     "text": [
      "\r\n",
      "real\t4m29.175s\r\n",
      "user\t4m21.486s\r\n",
      "sys\t0m2.640s\r\n"
     ]
    }
   ],
   "source": [
    "!$kgtk ifnotexists -i {claims} -o {temp}/item.edges.reduced.tsv.gz \\\n",
    "--filter-on {temp}/items.remove.sorted.tsv.gz \\\n",
    "--input-keys node1 \\\n",
    "--filter-keys node1 \\\n",
    "--presorted "
   ]
  },
  {
   "cell_type": "markdown",
   "metadata": {},
   "source": [
    "From the remaining edges, remove those that have a `node2` present in `items.remove.sorted.tsv`"
   ]
  },
  {
   "cell_type": "code",
   "execution_count": 51,
   "metadata": {},
   "outputs": [
    {
     "name": "stdout",
     "output_type": "stream",
     "text": [
      "\r\n",
      "real\t7m32.465s\r\n",
      "user\t3m24.460s\r\n",
      "sys\t2m55.762s\r\n"
     ]
    }
   ],
   "source": [
    "!$kgtk sort2 -i {temp}/item.edges.reduced.tsv.gz -o {temp}/item.edges.reduced.sorted.tsv.gz \\\n",
    "--columns node2 label node1 id"
   ]
  },
  {
   "cell_type": "code",
   "execution_count": 52,
   "metadata": {},
   "outputs": [
    {
     "name": "stdout",
     "output_type": "stream",
     "text": [
      "\r\n",
      "real\t5m0.397s\r\n",
      "user\t4m47.034s\r\n",
      "sys\t0m3.466s\r\n"
     ]
    }
   ],
   "source": [
    "!$kgtk ifnotexists -i {temp}/item.edges.reduced.sorted.tsv.gz -o {temp}/item.edges.reduced.2.tsv.gz \\\n",
    "--filter-on {temp}/items.remove.sorted.tsv.gz \\\n",
    "--input-keys node2 \\\n",
    "--filter-keys node1 \\\n",
    "--presorted "
   ]
  },
  {
   "cell_type": "markdown",
   "metadata": {},
   "source": [
    "Create a file with the labels"
   ]
  },
  {
   "cell_type": "code",
   "execution_count": 7,
   "metadata": {},
   "outputs": [
    {
     "name": "stdout",
     "output_type": "stream",
     "text": [
      "\r\n",
      "real\t0m47.814s\r\n",
      "user\t0m42.495s\r\n",
      "sys\t0m0.796s\r\n"
     ]
    }
   ],
   "source": [
    "!$kgtk ifnotexists -i {labels} -o {temp}/label.edges.reduced.tsv.gz \\\n",
    "--filter-on {temp}/items.remove.sorted.tsv.gz \\\n",
    "--input-keys node1 \\\n",
    "--filter-keys node1 \\\n",
    "--presorted"
   ]
  },
  {
   "cell_type": "code",
   "execution_count": null,
   "metadata": {},
   "outputs": [],
   "source": [
    "languages = ['en']"
   ]
  },
  {
   "cell_type": "code",
   "execution_count": 8,
   "metadata": {},
   "outputs": [
    {
     "name": "stdout",
     "output_type": "stream",
     "text": [
      "\r\n",
      "real\t0m12.035s\r\n",
      "user\t0m11.791s\r\n",
      "sys\t0m0.751s\r\n"
     ]
    }
   ],
   "source": [
    "#GOAL: Must sort the labels file\n",
    "\n",
    "#NOT WORKING \n",
    "# for lang in languages:\n",
    "#     cmd = f\"kgtk sort2 -i {temp}/label.{lang}.edges.reduced.tsv.gz -o {out}/labels.{lang}.tsv.gz\" \n",
    "#     !$cmd\n",
    "\n",
    "#WORKING\n",
    "!$kgtk sort2 -i {temp}/label.edges.reduced.tsv.gz -o {out}/labels.tsv.gz"
   ]
  },
  {
   "cell_type": "markdown",
   "metadata": {},
   "source": [
    "Create a file with the aliases"
   ]
  },
  {
   "cell_type": "code",
   "execution_count": 9,
   "metadata": {},
   "outputs": [
    {
     "name": "stdout",
     "output_type": "stream",
     "text": [
      "\r\n",
      "real\t0m15.988s\r\n",
      "user\t0m13.307s\r\n",
      "sys\t0m0.314s\r\n"
     ]
    }
   ],
   "source": [
    "!$kgtk ifnotexists -i {aliases} -o {temp}/alias.edges.reduced.tsv.gz \\\n",
    "--filter-on {temp}/items.remove.sorted.tsv.gz \\\n",
    "--input-keys node1 \\\n",
    "--filter-keys node1 \\\n",
    "--presorted"
   ]
  },
  {
   "cell_type": "code",
   "execution_count": null,
   "metadata": {},
   "outputs": [],
   "source": [
    "#NOT WORKING: Languages issue\n",
    "# for lang in languages:\n",
    "#     cmd = f\"kgtk --debug ifnotexists -i {wiki_root_folder}aliases.{lang}.tsv.gz \\\n",
    "#     -o {temp}/alias.{lang}.edges.reduced.tsv.gz \\\n",
    "#     --filter-on {temp}/items.remove.sorted.tsv.gz \\\n",
    "#     --input-keys node1 \\\n",
    "#     --filter-keys node1 \\\n",
    "#     --presorted\"\n",
    "#     !$cmd"
   ]
  },
  {
   "cell_type": "code",
   "execution_count": null,
   "metadata": {},
   "outputs": [],
   "source": [
    "# for lang in languages:\n",
    "#     cmd = f\"kgtk sort2 -i {temp}/alias.{lang}.edges.reduced.tsv.gz -o {out}/aliases.{lang}.tsv.gz\" \n",
    "#     !$cmd"
   ]
  },
  {
   "cell_type": "markdown",
   "metadata": {},
   "source": [
    "Create a file with the descriptions"
   ]
  },
  {
   "cell_type": "code",
   "execution_count": 10,
   "metadata": {},
   "outputs": [
    {
     "name": "stdout",
     "output_type": "stream",
     "text": [
      "\r\n",
      "real\t0m26.461s\r\n",
      "user\t0m23.693s\r\n",
      "sys\t0m0.462s\r\n"
     ]
    }
   ],
   "source": [
    "!$kgtk ifnotexists -i {descriptions} -o {temp}/description.edges.reduced.tsv.gz \\\n",
    "--filter-on {temp}/items.remove.sorted.tsv.gz \\\n",
    "--input-keys node1 \\\n",
    "--filter-keys node1 \\\n",
    "--presorted"
   ]
  },
  {
   "cell_type": "code",
   "execution_count": null,
   "metadata": {},
   "outputs": [],
   "source": [
    "# for lang in languages:\n",
    "#     cmd = f\"kgtk --debug ifnotexists -i {wiki_root_folder}descriptions.{lang}.tsv.gz \\\n",
    "#     -o {temp}/description.{lang}.edges.reduced.tsv.gz \\\n",
    "#     --filter-on {temp}/items.remove.sorted.tsv.gz \\\n",
    "#     --input-keys node1 \\\n",
    "#     --filter-keys node1 \\\n",
    "#     --presorted\"\n",
    "#     !$cmd"
   ]
  },
  {
   "cell_type": "code",
   "execution_count": null,
   "metadata": {},
   "outputs": [],
   "source": [
    "# for lang in languages:\n",
    "#     cmd = f\"kgtk sort2 -i {temp}/description.{lang}.edges.reduced.tsv.gz -o {out}/descriptions.{lang}.tsv.gz\" \n",
    "#     !$cmd"
   ]
  },
  {
   "cell_type": "markdown",
   "metadata": {},
   "source": [
    "### Produce the output files for claims, labels, aliases and descriptions"
   ]
  },
  {
   "cell_type": "code",
   "execution_count": 11,
   "metadata": {},
   "outputs": [
    {
     "name": "stdout",
     "output_type": "stream",
     "text": [
      "\r\n",
      "real\t4m32.234s\r\n",
      "user\t3m12.227s\r\n",
      "sys\t1m10.920s\r\n"
     ]
    }
   ],
   "source": [
    "!$kgtk sort2 -i {temp}/item.edges.reduced.2.tsv.gz -o {out}/claims.tsv.gz "
   ]
  },
  {
   "cell_type": "code",
   "execution_count": 12,
   "metadata": {},
   "outputs": [
    {
     "name": "stdout",
     "output_type": "stream",
     "text": [
      "\r\n",
      "real\t0m16.346s\r\n",
      "user\t0m12.797s\r\n",
      "sys\t0m0.943s\r\n"
     ]
    }
   ],
   "source": [
    "!$kgtk sort2 -i {temp}/label.edges.reduced.tsv.gz -o {out}/labels.en.tsv.gz "
   ]
  },
  {
   "cell_type": "code",
   "execution_count": 13,
   "metadata": {},
   "outputs": [
    {
     "name": "stdout",
     "output_type": "stream",
     "text": [
      "\r\n",
      "real\t0m3.930s\r\n",
      "user\t0m3.757s\r\n",
      "sys\t0m0.311s\r\n"
     ]
    }
   ],
   "source": [
    "!$kgtk sort2 -i {temp}/alias.edges.reduced.tsv.gz -o {out}/aliases.en.tsv.gz "
   ]
  },
  {
   "cell_type": "code",
   "execution_count": 14,
   "metadata": {},
   "outputs": [
    {
     "name": "stdout",
     "output_type": "stream",
     "text": [
      "\r\n",
      "real\t0m7.004s\r\n",
      "user\t0m7.026s\r\n",
      "sys\t0m0.506s\r\n"
     ]
    }
   ],
   "source": [
    "!$kgtk sort2 -i {temp}/description.edges.reduced.tsv.gz -o {out}/descriptions.en.tsv.gz "
   ]
  },
  {
   "cell_type": "markdown",
   "metadata": {},
   "source": [
    "Sanity checks to see if it looks reasonable"
   ]
  },
  {
   "cell_type": "markdown",
   "metadata": {},
   "source": [
    "## Tests: Check each output file if class was removed / protected"
   ]
  },
  {
   "cell_type": "code",
   "execution_count": 46,
   "metadata": {},
   "outputs": [
    {
     "name": "stdout",
     "output_type": "stream",
     "text": [
      "121\r\n"
     ]
    }
   ],
   "source": [
    "#test_1/remove-list/Q34508 removed? \n",
    "# !zcat < {out}/claims.tsv.gz | head | col\n",
    "!zgrep 'Q34508' {temp}/item.edges.reduced.2.tsv.gz -c\n",
    "# !zgrep 'Q34508' {out}/claims.tsv.gz -c #"
   ]
  },
  {
   "cell_type": "markdown",
   "metadata": {},
   "source": [
    "## Create the reduced qualifiers file\n",
    "We do this by finding all the ids of the reduced edges file, and then selecting out from `qual.tsv`\n",
    "\n",
    "We need to join by id, so we need to sort both files by id, node1, label, node2:\n",
    "\n",
    "- `{quals}` \n",
    "- `{out}/claims.tsv.gz` "
   ]
  },
  {
   "cell_type": "code",
   "execution_count": 15,
   "metadata": {},
   "outputs": [
    {
     "name": "stdout",
     "output_type": "stream",
     "text": [
      "zcat: error writing to output: Broken pipe\r\n",
      "id                                               node1                             label  node2                          node2;wikidatatype\r\n",
      "P10-P1855-Q7378-555592a4-0-P10-8a982d-0          P10-P1855-Q7378-555592a4-0        P10    \"Elephants Dream (2006).webm\"  commonsMedia\r\n",
      "P1000-P1896-f63a36-b84f3cd2-0-P1476-bf511b-0     P1000-P1896-f63a36-b84f3cd2-0     P1476  'FAI records'@en               monolingualtext\r\n",
      "P1001-P1855-Q29868931-76b67d84-0-P1001-Q11736-0  P1001-P1855-Q29868931-76b67d84-0  P1001  Q11736                         wikibase-item\r\n",
      "P1001-P1855-Q29868931-76b67d84-0-P1001-Q17269-0  P1001-P1855-Q29868931-76b67d84-0  P1001  Q17269                         wikibase-item\r\n",
      "P1001-P1855-Q29868931-76b67d84-0-P1001-Q21208-0  P1001-P1855-Q29868931-76b67d84-0  P1001  Q21208                         wikibase-item\r\n",
      "P1001-P1855-Q29868931-76b67d84-0-P1001-Q34800-0  P1001-P1855-Q29868931-76b67d84-0  P1001  Q34800                         wikibase-item\r\n",
      "P1001-P1855-Q29868931-76b67d84-0-P1001-Q41079-0  P1001-P1855-Q29868931-76b67d84-0  P1001  Q41079                         wikibase-item\r\n",
      "P1001-P1855-Q29868931-76b67d84-0-P1001-Q42392-0  P1001-P1855-Q29868931-76b67d84-0  P1001  Q42392                         wikibase-item\r\n",
      "P1001-P1855-Q29868931-76b67d84-0-P1001-Q43684-0  P1001-P1855-Q29868931-76b67d84-0  P1001  Q43684                         wikibase-item\r\n"
     ]
    }
   ],
   "source": [
    "!zcat < {quals} | head | column -t -s $'\\t' "
   ]
  },
  {
   "cell_type": "markdown",
   "metadata": {},
   "source": [
    "Run `ifexists` to select out the quals for the edges in `{out}/wikidataos.qual.tsv.gz`. Note that we use `node1` in the qualifier file, matching to `id` in the `wikidataos.all.tsv` file."
   ]
  },
  {
   "cell_type": "code",
   "execution_count": 16,
   "metadata": {},
   "outputs": [
    {
     "name": "stdout",
     "output_type": "stream",
     "text": [
      "\r\n",
      "real\t2m21.115s\r\n",
      "user\t2m8.591s\r\n",
      "sys\t0m1.904s\r\n"
     ]
    }
   ],
   "source": [
    "!$kgtk ifexists -i {quals} -o {out}/qualifiers.tsv.gz \\\n",
    "--filter-on {out}/claims.tsv.gz \\\n",
    "--input-keys node1 \\\n",
    "--filter-keys id \\\n",
    "--presorted"
   ]
  },
  {
   "cell_type": "markdown",
   "metadata": {},
   "source": [
    "Look at the final output for qualifiers"
   ]
  },
  {
   "cell_type": "code",
   "execution_count": 17,
   "metadata": {},
   "outputs": [
    {
     "name": "stdout",
     "output_type": "stream",
     "text": [
      "zcat: error writing to output: Broken pipe\r\n",
      "id\tnode1\tlabel\tnode2\tnode2;wikidatatype\r\n",
      "P10-P1855-Q7378-555592a4-0-P10-8a982d-0 P10-P1855-Q7378-555592a4-0\tP10\t\"Elephants Dream (2006).webm\"\tcommonsMedia\r\n",
      "P1000-P1896-f63a36-b84f3cd2-0-P1476-bf511b-0\tP1000-P1896-f63a36-b84f3cd2-0\tP1476\t'FAI records'@en\tmonolingualtext\r\n",
      "P1001-P1855-Q29868931-76b67d84-0-P1001-Q11736-0 P1001-P1855-Q29868931-76b67d84-0\tP1001\tQ11736\twikibase-item\r\n",
      "P1001-P1855-Q29868931-76b67d84-0-P1001-Q17269-0 P1001-P1855-Q29868931-76b67d84-0\tP1001\tQ17269\twikibase-item\r\n",
      "P1001-P1855-Q29868931-76b67d84-0-P1001-Q21208-0 P1001-P1855-Q29868931-76b67d84-0\tP1001\tQ21208\twikibase-item\r\n",
      "P1001-P1855-Q29868931-76b67d84-0-P1001-Q34800-0 P1001-P1855-Q29868931-76b67d84-0\tP1001\tQ34800\twikibase-item\r\n",
      "P1001-P1855-Q29868931-76b67d84-0-P1001-Q41079-0 P1001-P1855-Q29868931-76b67d84-0\tP1001\tQ41079\twikibase-item\r\n",
      "P1001-P1855-Q29868931-76b67d84-0-P1001-Q42392-0 P1001-P1855-Q29868931-76b67d84-0\tP1001\tQ42392\twikibase-item\r\n",
      "P1001-P1855-Q29868931-76b67d84-0-P1001-Q43684-0 P1001-P1855-Q29868931-76b67d84-0\tP1001\tQ43684\twikibase-item\r\n"
     ]
    }
   ],
   "source": [
    "!zcat < {out}/qualifiers.tsv.gz | head | col"
   ]
  },
  {
   "cell_type": "code",
   "execution_count": 18,
   "metadata": {},
   "outputs": [],
   "source": [
    "# kgtk_path = \"/Users/pedroszekely/Documents/GitHub/kgtk\"\n",
    "kgtk_path = \"/Users/markmann/Desktop/CKG/kgtk_subset/kgtk\"\n",
    "os.environ[\"EXAMPLES_DIR\"] = kgtk_path + \"/examples\"\n",
    "os.environ[\"USECASE_DIR\"] = kgtk_path + \"/use-cases\"\n",
    "os.environ[\"TEMP\"] = temp\n",
    "os.environ[\"OUT\"] = out\n",
    "os.environ[\"DATATYPES\"] = datatypes\n",
    "os.environ[\"METADATA\"] = metadata"
   ]
  },
  {
   "cell_type": "code",
   "execution_count": 19,
   "metadata": {},
   "outputs": [
    {
     "name": "stdout",
     "output_type": "stream",
     "text": [
      "Wikidata Useful Files Out.ipynb  item.edges.reduced.tsv.gz\r\n",
      "alias.edges.reduced.tsv.gz       items.remove.sorted.tsv.gz\r\n",
      "description.edges.reduced.tsv.gz items.remove.tsv.gz\r\n",
      "item.edges.reduced.2.tsv.gz      label.edges.reduced.tsv.gz\r\n",
      "item.edges.reduced.sorted.tsv.gz partition-wikidata.out.ipynb\r\n"
     ]
    }
   ],
   "source": [
    "!ls \"$TEMP\""
   ]
  },
  {
   "cell_type": "code",
   "execution_count": 20,
   "metadata": {},
   "outputs": [
    {
     "name": "stdout",
     "output_type": "stream",
     "text": [
      "aliases.en.tsv.gz                  metadata.types.tsv.gz\r\n",
      "all.tsv.gz                         \u001b[34mparts\u001b[m\u001b[m\r\n",
      "claims.tsv.gz                      qualifiers.tsv.gz\r\n",
      "descriptions.en.tsv.gz             \u001b[34mtemp.useful_files\u001b[m\u001b[m\r\n",
      "labels.en.tsv.gz                   \u001b[34museful_files\u001b[m\u001b[m\r\n",
      "labels.tsv.gz                      wikidata.sqlite3.db\r\n",
      "metadata.property.datatypes.tsv.gz\r\n"
     ]
    }
   ],
   "source": [
    "!ls \"$OUT\""
   ]
  },
  {
   "cell_type": "code",
   "execution_count": 21,
   "metadata": {},
   "outputs": [],
   "source": [
    "!kgtk cat \\\n",
    "-i \"$OUT\"/aliases.en.tsv.gz \\\n",
    "-i \"$OUT\"/descriptions.en.tsv.gz \\\n",
    "-i \"$OUT\"/qualifiers.tsv.gz \\\n",
    "-i \"$OUT\"/claims.tsv.gz \\\n",
    "-i \"$OUT\"/labels.en.tsv.gz \\\n",
    "-i \"$OUT\"/metadata.property.datatypes.tsv.gz \\\n",
    "-i \"$OUT\"/metadata.types.tsv.gz \\\n",
    "-o \"$OUT\"/all.tsv.gz"
   ]
  },
  {
   "cell_type": "code",
   "execution_count": 22,
   "metadata": {},
   "outputs": [
    {
     "name": "stdout",
     "output_type": "stream",
     "text": [
      "/Users/markmann/Desktop/CKG/kgtk_subset/kgtk/examples/partition-wikidata.ipynb\r\n"
     ]
    }
   ],
   "source": [
    "!ls {os.environ[\"EXAMPLES_DIR\"] + \"/partition-wikidata.ipynb\"}"
   ]
  },
  {
   "cell_type": "code",
   "execution_count": null,
   "metadata": {},
   "outputs": [],
   "source": [
    "pm.execute_notebook(\n",
    "    os.environ[\"EXAMPLES_DIR\"] + \"/partition-wikidata.ipynb\",\n",
    "    os.environ[\"TEMP\"] + \"/partition-wikidata.out.ipynb\",\n",
    "    parameters=dict(\n",
    "        wikidata_input_path = os.environ[\"OUT\"] + \"/all.tsv.gz\",\n",
    "        wikidata_parts_path = os.environ[\"OUT\"] + \"/parts\",\n",
    "        temp_folder_path = os.environ[\"OUT\"] + \"/parts/temp\",\n",
    "        sort_extras = \"--buffer-size 30% --temporary-directory $OUT/parts/temp\",\n",
    "        verbose = False\n",
    "    )\n",
    ")\n",
    ";"
   ]
  },
  {
   "cell_type": "code",
   "execution_count": null,
   "metadata": {},
   "outputs": [],
   "source": [
    "pm.execute_notebook(\n",
    "    os.environ[\"USECASE_DIR\"] + \"/Wikidata Useful Files.ipynb\",\n",
    "    os.environ[\"TEMP\"] + \"/Wikidata Useful Files Out.ipynb\",\n",
    "    parameters=dict(\n",
    "        output_path = os.environ[\"OUT\"],\n",
    "        output_folder = \"useful_files\",\n",
    "        temp_folder = \"temp.useful_files\",\n",
    "        wiki_root_folder = os.environ[\"OUT\"] + \"/parts/\",\n",
    "        cache_path = os.environ[\"OUT\"] + \"/temp.useful_files\",\n",
    "        languages = 'en',\n",
    "        compute_pagerank = True,\n",
    "        delete_database = False\n",
    "    )\n",
    ")\n",
    ";"
   ]
  },
  {
   "cell_type": "markdown",
   "metadata": {},
   "source": [
    "## Sanity checks\n",
    "\n",
    "- After removing classes, check that the class does not occur in the resulting claims file. \n",
    "- After protecting classes, check the class was occurs in the resulting claims file."
   ]
  },
  {
   "cell_type": "markdown",
   "metadata": {},
   "source": [
    "Check that the class we removed `Q34508` was removed from claims file"
   ]
  },
  {
   "cell_type": "code",
   "execution_count": null,
   "metadata": {},
   "outputs": [],
   "source": [
    "!{kypher} -i {out}/claims.tsv.gz \\\n",
    "--match '(n1:Q34508)-[l]->(n2)' \\\n",
    "--limit 10 \\\n",
    "| col"
   ]
  },
  {
   "cell_type": "code",
   "execution_count": null,
   "metadata": {},
   "outputs": [],
   "source": [
    "!{kypher} -i {out}/claims.tsv.gz \\\n",
    "--match '(n1:P131)-[l]->(n2)' \\\n",
    "--limit 10 \\\n",
    "| col"
   ]
  },
  {
   "cell_type": "markdown",
   "metadata": {},
   "source": [
    "## Compute the derived files using the `Wikidata Useful Files` Jupyter notebook"
   ]
  },
  {
   "cell_type": "markdown",
   "metadata": {},
   "source": [
    "Compute `claims.wikibase-item.tsv.gz` which would be computed by the Wikidata partitioner, but we are not using it here yet"
   ]
  },
  {
   "cell_type": "code",
   "execution_count": null,
   "metadata": {},
   "outputs": [],
   "source": [
    "!zcat < \"{datatypes}\" | head | col"
   ]
  },
  {
   "cell_type": "code",
   "execution_count": null,
   "metadata": {},
   "outputs": [],
   "source": [
    "!{kypher} -i {out}/claims.tsv.gz -i \"{datatypes}\" -o {out}/claims.wikibase-item.tsv.gz \\\n",
    "--match 'claims: (n1)-[l {label: p}]->(n2), datatypes: (p)-[:datatype]->(:`wikibase-item`)' \\\n",
    "--return 'l as id, n1 as node1, p as label, n2 as node2' \\\n",
    "--order-by 'l' "
   ]
  },
  {
   "cell_type": "markdown",
   "metadata": {},
   "source": [
    "To compute the derived files we use papermill to run the `Wikidata Useful Files` notebook."
   ]
  },
  {
   "cell_type": "code",
   "execution_count": null,
   "metadata": {
    "scrolled": true
   },
   "outputs": [],
   "source": [
    "pm.execute_notebook(\n",
    "    notebooks_folder + useful_files_notebook,\n",
    "    temp + \"/useful_files_notebook_output.ipynb\",\n",
    "    parameters=dict(\n",
    "        output_path=output_path,\n",
    "        output_folder=output_folder,\n",
    "        temp_folder=temp_folder,\n",
    "        wiki_root_folder=wiki_root_folder,\n",
    "        claims_file=\"claims.tsv.gz\",\n",
    "        label_file=\"labels.en.tsv.gz\",\n",
    "        alias_file=\"aliases.en.tsv.gz\",\n",
    "        description_file=\"descriptions.en.tsv.gz\",\n",
    "        item_file=\"claims.wikibase-item.tsv.gz\",\n",
    "        cache_path=cache_path,\n",
    "        delete_database=delete_database,\n",
    "        compute_pagerank=compute_pagerank\n",
    "    )\n",
    ")"
   ]
  },
  {
   "cell_type": "markdown",
   "metadata": {},
   "source": [
    "Look at the columns so we know how to construct the kypher query"
   ]
  },
  {
   "cell_type": "markdown",
   "metadata": {},
   "source": [
    "## Summary of results"
   ]
  },
  {
   "cell_type": "code",
   "execution_count": null,
   "metadata": {},
   "outputs": [],
   "source": [
    "!ls -lh {out}/*wikidataos.*"
   ]
  },
  {
   "cell_type": "code",
   "execution_count": null,
   "metadata": {},
   "outputs": [],
   "source": [
    "!zcat < {out}/wikidataos.all.tsv.gz | wc"
   ]
  },
  {
   "cell_type": "markdown",
   "metadata": {},
   "source": [
    "## Verification"
   ]
  },
  {
   "cell_type": "markdown",
   "metadata": {},
   "source": [
    "The edges file must contain edges for properties, this is not the case on 2020-11-10`\n"
   ]
  },
  {
   "cell_type": "code",
   "execution_count": null,
   "metadata": {},
   "outputs": [],
   "source": [
    "!{kgtk} -i \"{claims}\" \\\n",
    "--match '(:P10)-[l]->(n2)' \\\n",
    "--limit 10"
   ]
  },
  {
   "cell_type": "markdown",
   "metadata": {},
   "source": [
    "## concatenate files to get the `all` file"
   ]
  },
  {
   "cell_type": "code",
   "execution_count": null,
   "metadata": {},
   "outputs": [],
   "source": [
    "lad = []\n",
    "if 'en' not in languages:\n",
    "    languages.append('en')\n",
    "for lang in languages:\n",
    "    lad.append(f\"{out}/labels.{lang}.tsv.gz\")\n",
    "    lad.append(f\"{out}/aliases.{lang}.tsv.gz\")\n",
    "    lad.append(f\"{out}/descriptions.{lang}.tsv.gz\")\n",
    "lad_file_list = \" \".join(lad)"
   ]
  },
  {
   "cell_type": "code",
   "execution_count": null,
   "metadata": {},
   "outputs": [],
   "source": [
    "!kgtk cat -i {out}/claims.tsv.gz \\\n",
    "{lad_file_list} \\\n",
    "{out}/qualifiers.tsv.gz \\\n",
    "{out}/metadata.pagerank.undirected.tsv.gz \\\n",
    "{out}/metadata.pagerank.directed.tsv.gz \\\n",
    "{out}/metadata.in_degree.tsv.gz \\\n",
    "{out}/metadata.out_degree.tsv.gz \\\n",
    "-o {out}/wikidataos.all.tsv.gz"
   ]
  },
  {
   "cell_type": "markdown",
   "metadata": {},
   "source": [
    "## concatenate files to get the `all for triples` file\n"
   ]
  },
  {
   "cell_type": "code",
   "execution_count": null,
   "metadata": {},
   "outputs": [],
   "source": [
    "!kgtk cat -i $OUT/wikidataos.all.tsv.gz \\\n",
    "$OUT/derived.P31.tsv.gz \\\n",
    "$OUT/derived.P279.tsv.gz \\\n",
    "$OUT/derived.isa.tsv.gz \\\n",
    "$OUT/derived.P279star.tsv.gz \\\n",
    "-o $OUT/wikidataos.all.for.triples.tsv.gz"
   ]
  },
  {
   "cell_type": "markdown",
   "metadata": {},
   "source": [
    "## Filter out `novalue`, `somevalue` and `P9`"
   ]
  },
  {
   "cell_type": "code",
   "execution_count": null,
   "metadata": {},
   "outputs": [],
   "source": [
    "!kgtk filter -i $OUT/wikidataos.all.for.triples.tsv.gz \\\n",
    "    -o $OUT/wikidataos.all.for.triples.filtered.tsv.gz \\\n",
    "    -p ';;somevalue,novalue,P9' --invert"
   ]
  },
  {
   "cell_type": "markdown",
   "metadata": {},
   "source": [
    "## Add ids for any edge with missing id"
   ]
  },
  {
   "cell_type": "code",
   "execution_count": null,
   "metadata": {},
   "outputs": [],
   "source": [
    "!kgtk add-id -i $OUT/wikidataos.all.for.triples.filtered.tsv.gz \\\n",
    "-o $OUT/wikidataos.all.for.triples.filtered.id.tsv.gz \\\n",
    "--id-style wikidata"
   ]
  },
  {
   "cell_type": "markdown",
   "metadata": {},
   "source": [
    "## Sort by `id`"
   ]
  },
  {
   "cell_type": "code",
   "execution_count": null,
   "metadata": {},
   "outputs": [],
   "source": [
    "!kgtk sort2 -i $OUT/wikidataos.all.for.triples.filtered.id.tsv.gz \\\n",
    "-o $OUT/wikidataos.all.for.triples.filtered.id.sorted.tsv.gz \n",
    "-c id"
   ]
  }
 ],
 "metadata": {
  "celltoolbar": "Tags",
  "kernelspec": {
   "display_name": "kgtk-subset",
   "language": "python",
   "name": "kgtk-subset"
  },
  "language_info": {
   "codemirror_mode": {
    "name": "ipython",
    "version": 3
   },
   "file_extension": ".py",
   "mimetype": "text/x-python",
   "name": "python",
   "nbconvert_exporter": "python",
   "pygments_lexer": "ipython3",
   "version": "3.7.9"
  }
 },
 "nbformat": 4,
 "nbformat_minor": 4
}
