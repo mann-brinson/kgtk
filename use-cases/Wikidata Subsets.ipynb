{
 "cells": [
  {
   "cell_type": "markdown",
   "metadata": {},
   "source": [
    "# Generating Subsets of Wikidata\n",
    "\n",
    "\n",
    "## Purpose\n",
    "\n",
    "This notebook is used to create smaller subgraphs from a larger input Wikidata graph. Notebook users can provide a list of Wikidata classes (**QNodes**) to remove and preserve to create desired subsets of Wikidata. \n",
    "\n",
    "## Prerequisite input data\n",
    "\n",
    "**`wikidata_root_folder`** : This folder should contain all wikidata files \n",
    "\n",
    "**`useful_files_output_folder`** : This folder should contain all computed files using input from `wikidata_root_folder`"
   ]
  },
  {
   "cell_type": "markdown",
   "metadata": {},
   "source": [
    "### Batch Invocation\n",
    "Example batch command. The second argument is a notebook where the output will be stored. You can load it to see progress. It is recommended to run this papermill command when the input data is very large (GB scale), as this notebook will take some time to finish running.\n",
    "\n",
    "UPDATE EXAMPLE INVOCATION\n",
    "```\n",
    "\n",
    "papermill 'Wikidata Subsets.ipynb' 'Wikidata Subsets.out.ipynb' \\\n",
    "-p output_path /nas/home/mbmann/subset2 \\\n",
    "-p output_folder output \\\n",
    "-p temp_folder temp.output \\\n",
    "-p wiki_root_folder /nas/home/mbmann/KGTK-public-graphs2/wikidata-20201130/data/ \\\n",
    "-p useful_files_notebook 'Wikidata\\ Useful\\ Files.ipynb' \\\n",
    "-p notebooks_folder /nas/home/mbmann/kgtk_subset/kgtk/examples/ \\\n",
    "-p languages en, \\\n",
    "```"
   ]
  },
  {
   "cell_type": "code",
   "execution_count": 1,
   "metadata": {},
   "outputs": [],
   "source": [
    "import io\n",
    "import os\n",
    "import subprocess\n",
    "import sys\n",
    "\n",
    "import numpy as np\n",
    "import pandas as pd\n",
    "\n",
    "import papermill as pm\n",
    "\n",
    "import gzip"
   ]
  },
  {
   "cell_type": "code",
   "execution_count": 2,
   "metadata": {
    "tags": [
     "parameters"
    ]
   },
   "outputs": [],
   "source": [
    "# Parameters\n",
    "\n",
    "# Folder on local machine where to create the output and temporary folders\n",
    "output_path = \"/nas/home/mbmann/subset2\"\n",
    "\n",
    "# The names of the output and temporary folders\n",
    "output_folder = \"output\"\n",
    "temp_folder = \"temp.output\"\n",
    "\n",
    "# The location of input files\n",
    "wiki_root_folder = \"/nas/home/mbmann/kgtk/datasets/wikidataos-v4-mm-2/\"\n",
    "# wiki_root_folder = \"/nas/home/mbmann/KGTK-public-graphs2/wikidata-20201130/data/\"\n",
    "\n",
    "# The location of useful_files output\n",
    "useful_files_output_folder = \"/nas/home/mbmann/useful_files_output/output/useful_files/\"\n",
    "\n",
    "claims_file = \"claims.tsv.gz\"\n",
    "label_file = \"labels.en.tsv.gz\"\n",
    "alias_file = \"aliases.en.tsv.gz\"\n",
    "description_file = \"descriptions.en.tsv.gz\"\n",
    "item_file = \"claims.wikibase-item.tsv.gz\"\n",
    "qual_file = \"qualifiers.tsv.gz\"\n",
    "property_datatypes_file = \"metadata.property.datatypes.tsv.gz\"\n",
    "metadata_file = \"metadata.types.tsv.gz\" \n",
    "isa_file = \"derived.isa.tsv.gz\" #Preprocessed\n",
    "p279star_file = \"derived.P279star.tsv.gz\" #Preprocessed\n",
    "\n",
    "# Useful files Jupyter notebook\n",
    "useful_files_notebook = \"Wikidata Useful Files.ipynb\"\n",
    "notebooks_folder = \"/nas/home/mbmann/kgtk_subset/kgtk/examples/\"\n",
    "\n",
    "# Location of the cache database for kypher\n",
    "cache_path = f'{output_path}/{output_folder}'\n",
    "\n",
    "#Additional parameters\n",
    "delete_database = \"no\"\n",
    "compute_pagerank = \"no\"\n",
    "languages = \"en,\"\n",
    "\n",
    "# Whether to delete the cache database\n",
    "if delete_database and delete_database.lower().strip() == 'yes':\n",
    "    delete_database = True\n",
    "else:\n",
    "    delete_database = False\n",
    "\n",
    "#Whether to compute pagerank\n",
    "if compute_pagerank and compute_pagerank.lower().strip() == 'yes':\n",
    "    compute_pagerank = True\n",
    "else:\n",
    "    compute_pagerank = False\n",
    "\n",
    "if languages:\n",
    "    languages = languages.split(',')"
   ]
  },
  {
   "cell_type": "markdown",
   "metadata": {},
   "source": [
    "## Set up variables for files"
   ]
  },
  {
   "cell_type": "code",
   "execution_count": 3,
   "metadata": {},
   "outputs": [],
   "source": [
    "#Python and Environment variables\n",
    "if cache_path:\n",
    "    store = \"{}/wikidata.sqlite3.db\".format(cache_path)\n",
    "    os.environ['STORE'] = \"{}/wikidata.sqlite3.db\".format(cache_path)\n",
    "else:\n",
    "    store = \"{}/{}/wikidata.sqlite3.db\".format(output_path, temp_folder)\n",
    "    os.environ['STORE'] = \"{}/{}/wikidata.sqlite3.db\".format(output_path, temp_folder)\n",
    "\n",
    "out = \"{}/{}\".format(output_path, output_folder)\n",
    "temp = \"{}/{}\".format(output_path, temp_folder)\n",
    "\n",
    "claims = wiki_root_folder + claims_file\n",
    "labels = wiki_root_folder + label_file\n",
    "aliases = wiki_root_folder + alias_file\n",
    "descriptions = wiki_root_folder + description_file\n",
    "items = wiki_root_folder + item_file\n",
    "quals = wiki_root_folder + qual_file\n",
    "datatypes = wiki_root_folder + property_datatypes_file \n",
    "metadata = wiki_root_folder + metadata_file \n",
    "isa = useful_files_output_folder + isa_file #Preprocessed\n",
    "p279star = useful_files_output_folder + p279star_file #Preprocessed\n",
    "\n",
    "# shortcuts to commands\n",
    "kgtk_path = \"~/anaconda3/envs/kgtk-subset/bin/kgtk\"\n",
    "kgtk = f'time {kgtk_path} --debug'\n",
    "kypher = f\"{kgtk_path} query --debug --graph-cache \" + store"
   ]
  },
  {
   "cell_type": "markdown",
   "metadata": {},
   "source": [
    "Go to the output directory and create the subfolders for the output files and the temporary files"
   ]
  },
  {
   "cell_type": "code",
   "execution_count": 4,
   "metadata": {},
   "outputs": [],
   "source": [
    "!cd $output_path\n",
    "!mkdir {out}\n",
    "!mkdir {temp}"
   ]
  },
  {
   "cell_type": "markdown",
   "metadata": {},
   "source": [
    "Clean up the output and temp folders before we start"
   ]
  },
  {
   "cell_type": "code",
   "execution_count": 5,
   "metadata": {},
   "outputs": [],
   "source": [
    "# !rm {out}/*.tsv {out}/*.tsv.gz\n",
    "# !rm {temp}/*.tsv {temp}/*.tsv.gz\n",
    "\n",
    "if delete_database:\n",
    "    !rm {out}/*.tsv {out}/*.tsv.gz\n",
    "    !rm {temp}/*.tsv {temp}/*.tsv.gz"
   ]
  },
  {
   "cell_type": "markdown",
   "metadata": {},
   "source": [
    "### Preview the input files"
   ]
  },
  {
   "cell_type": "markdown",
   "metadata": {},
   "source": [
    "It is always a good practice to peek a the files to make sure the column headings are what we expect"
   ]
  },
  {
   "cell_type": "code",
   "execution_count": 8,
   "metadata": {},
   "outputs": [
    {
     "name": "stdout",
     "output_type": "stream",
     "text": [
      "[2021-02-17 08:17:46 sqlstore]: IMPORT graph directly into table graph_1 from /nas/home/mbmann/kgtk/datasets/wikidataos-v4-mm-2/claims.tsv.gz ...\n",
      "[2021-02-17 08:18:31 query]: SQL Translation:\n",
      "---------------------------------------------\n",
      "  SELECT *\n",
      "     FROM graph_1 AS graph_1_c1\n",
      "     LIMIT ?\n",
      "  PARAS: [10]\n",
      "---------------------------------------------\n",
      "id\tnode1\tlabel\tnode2\trank\tnode2;wikidatatype\n",
      "P10-P1628-32b85d-7927ece6-0\tP10\tP1628\t\"http://www.w3.org/2006/vcard/ns#Video\"\tnormal\turl\n",
      "P10-P1628-acf60d-b8950832-0\tP10\tP1628\t\"https://schema.org/video\"\tnormal\turl\n",
      "P10-P1629-Q34508-bcc39400-0\tP10\tP1629\tQ34508\tnormal\twikibase-item\n",
      "P10-P1659-P1651-c4068028-0\tP10\tP1659\tP1651\tnormal\twikibase-property\n",
      "P10-P1659-P18-5e4b9c4f-0\tP10\tP1659\tP18\tnormal\twikibase-property\n",
      "P10-P1659-P4238-d21d1ac0-0\tP10\tP1659\tP4238\tnormal\twikibase-property\n",
      "P10-P1659-P51-86aca4c5-0\tP10\tP1659\tP51\tnormal\twikibase-property\n",
      "P10-P1855-Q7378-555592a4-0\tP10\tP1855\tQ7378\tnormal\twikibase-item\n",
      "P10-P31-Q18610173-85ef4d24-0\tP10\tP31\tQ18610173\tnormal\twikibase-item\n",
      "P1000-P1629-Q1241356-d5c10f50-0\tP1000\tP1629\tQ1241356\tnormal\twikibase-item\n"
     ]
    }
   ],
   "source": [
    "!{kypher} -i {claims} \\\n",
    "--match '()-[]->()' \\\n",
    "--limit 10"
   ]
  },
  {
   "cell_type": "markdown",
   "metadata": {},
   "source": [
    "## Creating a list of all the items  to remove"
   ]
  },
  {
   "cell_type": "markdown",
   "metadata": {},
   "source": [
    "**[REQUIRED] Add classes to remove, given a list of classes** <br>\n",
    "- **Example:** Let's remove the class (videotape recording, 'Q34508')\n",
    "- **NOTE:** This will only remove items that have a `P31_P279star` relation with the class\n",
    "\n",
    "**[OPTIONAL] Add instances to remove, given a list of instances** <br>\n",
    "- **Example:** Let's remove instances (Fireball, 'Q5451712'), (Bush, 'Q1017471'), and (Italian Grape Ale, 'Q67772833')"
   ]
  },
  {
   "cell_type": "code",
   "execution_count": 9,
   "metadata": {},
   "outputs": [
    {
     "name": "stdout",
     "output_type": "stream",
     "text": [
      "classes:  \"Q34508\", \"Q7378\"\n",
      "instances:  \n"
     ]
    }
   ],
   "source": [
    "classes_to_remove = ['Q34508', 'Q7378']\n",
    "# classes_to_remove = ['Q13442814', 'Q523', 'Q318', 'Q7318358', 'Q7187', 'Q11173', 'Q8054'] #Parameter: Add classes manually here\n",
    "instances_to_remove = []\n",
    "\n",
    "classes = ', '.join([f'\"{c}\"' for c in classes_to_remove])\n",
    "instances = ', '.join([f'\"{c}\"' for c in instances_to_remove])\n",
    "print('classes: ', classes)\n",
    "print('instances: ', instances)"
   ]
  },
  {
   "cell_type": "markdown",
   "metadata": {},
   "source": [
    "### Compute the items to be removed via classes\n",
    "\n",
    "First look at the classes we will remove"
   ]
  },
  {
   "cell_type": "markdown",
   "metadata": {},
   "source": [
    "1. Given all classes in `classes.remove2`, find all subclasses from `p279star`. <br>\n",
    "2. Given all subclasses from `p279star`, find all subclass instances from `isa`\n",
    "3. The resulting items to remove will be in `{temp}/items.remove.byclass.tsv.gz`"
   ]
  },
  {
   "cell_type": "code",
   "execution_count": 10,
   "metadata": {},
   "outputs": [
    {
     "name": "stdout",
     "output_type": "stream",
     "text": [
      "Finding items to remove based on classes only.\n",
      "[2021-02-17 08:18:32 sqlstore]: IMPORT graph directly into table graph_2 from /nas/home/mbmann/useful_files_output/output/useful_files/derived.P279star.tsv.gz ...\n",
      "[2021-02-17 08:18:49 sqlstore]: IMPORT graph directly into table graph_3 from /nas/home/mbmann/useful_files_output/output/useful_files/derived.isa.tsv.gz ...\n",
      "[2021-02-17 08:18:52 query]: SQL Translation:\n",
      "---------------------------------------------\n",
      "  SELECT DISTINCT graph_3_c1.\"node1\", ? \"_aLias.label\", graph_2_c2.\"node2\" \"_aLias.node2\"\n",
      "     FROM graph_2 AS graph_2_c2, graph_3 AS graph_3_c1\n",
      "     WHERE graph_2_c2.\"label\"=?\n",
      "     AND graph_3_c1.\"label\"=?\n",
      "     AND graph_2_c2.\"node1\"=graph_3_c1.\"node2\"\n",
      "     AND (graph_2_c2.\"node2\" IN (?, ?))\n",
      "  PARAS: ['p31_p279star', 'P279star', 'isa', 'Q34508', 'Q7378']\n",
      "---------------------------------------------\n",
      "[2021-02-17 08:18:52 sqlstore]: CREATE INDEX on table graph_3 column node2 ...\n",
      "[2021-02-17 08:18:55 sqlstore]: ANALYZE INDEX on table graph_3 column node2 ...\n",
      "[2021-02-17 08:18:55 sqlstore]: CREATE INDEX on table graph_2 column label ...\n",
      "[2021-02-17 08:19:00 sqlstore]: ANALYZE INDEX on table graph_2 column label ...\n",
      "[2021-02-17 08:19:01 sqlstore]: CREATE INDEX on table graph_3 column label ...\n",
      "[2021-02-17 08:19:03 sqlstore]: ANALYZE INDEX on table graph_3 column label ...\n",
      "[2021-02-17 08:19:03 sqlstore]: CREATE INDEX on table graph_2 column node1 ...\n",
      "[2021-02-17 08:19:07 sqlstore]: ANALYZE INDEX on table graph_2 column node1 ...\n"
     ]
    }
   ],
   "source": [
    "if classes != '' and instances == '':\n",
    "    print('Finding items to remove based on classes only.')\n",
    "    cmd = f'''\n",
    "    {kypher} -i {p279star} -i {isa} \\\n",
    "    --match 'isa: (item)-[:isa]->(subclass), P279star: (subclass)-[:P279star]->(c)' \\\n",
    "    --return 'distinct item, \"p31_p279star\" as label, c as node2' \\\n",
    "    --where 'c in [{classes}]' \\\n",
    "    -o {temp}/items.remove.byclass.tsv.gz\n",
    "    '''\n",
    "    !{cmd}\n",
    "else:\n",
    "    print('Finding items to remove based on classes and instances.')\n",
    "    cmd = f'''\n",
    "    {kypher} -i {p279star} -i {isa} \\\n",
    "    --match 'isa: (item)-[:isa]->(subclass), P279star: (subclass)-[:P279star]->(c)' \\\n",
    "    --return 'distinct item, \"p31_p279star\" as label, c as node2' \\\n",
    "    --where 'c in [{classes}] OR item in [{instances}]' \\\n",
    "    -o {temp}/items.remove.byclass.tsv.gz\n",
    "    '''\n",
    "    !{cmd}"
   ]
  },
  {
   "cell_type": "markdown",
   "metadata": {},
   "source": [
    "Check the result"
   ]
  },
  {
   "cell_type": "code",
   "execution_count": 11,
   "metadata": {},
   "outputs": [
    {
     "name": "stdout",
     "output_type": "stream",
     "text": [
      "node1\tlabel\tnode2\r\n",
      "Q100000003\tp31_p279star\tQ34508\r\n",
      "Q100000011\tp31_p279star\tQ34508\r\n",
      "Q100000014\tp31_p279star\tQ34508\r\n",
      "Q100000021\tp31_p279star\tQ34508\r\n",
      "Q100000029\tp31_p279star\tQ34508\r\n",
      "Q100000033\tp31_p279star\tQ34508\r\n",
      "Q100000049\tp31_p279star\tQ34508\r\n",
      "Q100328888\tp31_p279star\tQ34508\r\n",
      "Q10267876\tp31_p279star\tQ34508\r\n"
     ]
    }
   ],
   "source": [
    "!zcat {temp}/items.remove.byclass.tsv.gz | head"
   ]
  },
  {
   "cell_type": "markdown",
   "metadata": {},
   "source": [
    "### Compute the items to be removed via out degree\n",
    "\n",
    "Specify the # of node out-degrees `k`, and identify items with out-degree less than `k`\n",
    "- Ex: Find items that have out-degree `k` less than 2."
   ]
  },
  {
   "cell_type": "markdown",
   "metadata": {},
   "source": [
    "Create a list of items that have out_degree < `k`, along with any parent classses they belong to. <br>\n",
    "Put the results into `items.remove.bydegree.tsv.gz`. <br>"
   ]
  },
  {
   "cell_type": "code",
   "execution_count": 12,
   "metadata": {},
   "outputs": [],
   "source": [
    "# k = 2 #Parameter\n",
    "# !{kypher} -i {useful_files_output_folder}metadata.out_degree.sorted.tsv.gz \\\n",
    "# --match 'out: (item)-[:out_degree]->(n2)' \\\n",
    "# --where \"cast(n2, integer) <= {k} and upper(substr(item,0)) >= 'Q'\" \\\n",
    "# --return 'distinct item, \"out_degree\" as label, n2 as node2' \\\n",
    "# -o {temp}/items.remove.bydegree.tsv.gz \\\n",
    "\n",
    "# !zcat {temp}/items.remove.bydegree.tsv.gz | head"
   ]
  },
  {
   "cell_type": "markdown",
   "metadata": {},
   "source": [
    "### Combine the items to remove by-class and by-outdegree\n",
    "Concatenate all items from `items.remove.byclass` and `items.remove.bydegree`.\n",
    "The resulting list of items to remove will be `items.remove`."
   ]
  },
  {
   "cell_type": "code",
   "execution_count": 13,
   "metadata": {},
   "outputs": [
    {
     "name": "stdout",
     "output_type": "stream",
     "text": [
      "\n",
      "real\t0m1.516s\n",
      "user\t0m0.575s\n",
      "sys\t0m0.154s\n",
      "node1\tlabel\tnode2\n",
      "Q100000003\tp31_p279star\tQ34508\n",
      "Q100000011\tp31_p279star\tQ34508\n",
      "Q100000014\tp31_p279star\tQ34508\n",
      "Q100000021\tp31_p279star\tQ34508\n",
      "Q100000029\tp31_p279star\tQ34508\n",
      "Q100000033\tp31_p279star\tQ34508\n",
      "Q100000049\tp31_p279star\tQ34508\n",
      "Q100328888\tp31_p279star\tQ34508\n",
      "Q10267876\tp31_p279star\tQ34508\n"
     ]
    }
   ],
   "source": [
    "!{kgtk} cat -i {temp}/items.remove.*.tsv.gz \\\n",
    "-o {temp}/items.remove.tsv.gz\n",
    "!zcat {temp}/items.remove.tsv.gz | head"
   ]
  },
  {
   "cell_type": "markdown",
   "metadata": {},
   "source": [
    "Deduplicate the concatenated file of items to remove. <br>\n",
    "The resulting list of items to remove will be `items.remove2`."
   ]
  },
  {
   "cell_type": "code",
   "execution_count": 14,
   "metadata": {},
   "outputs": [
    {
     "name": "stdout",
     "output_type": "stream",
     "text": [
      "\r\n",
      "real\t0m1.069s\r\n",
      "user\t0m0.605s\r\n",
      "sys\t0m0.157s\r\n"
     ]
    }
   ],
   "source": [
    "!{kgtk} sort2 -i {temp}/items.remove.tsv.gz -o {temp}/items.remove.sorted.tsv.gz"
   ]
  },
  {
   "cell_type": "code",
   "execution_count": 15,
   "metadata": {},
   "outputs": [
    {
     "name": "stdout",
     "output_type": "stream",
     "text": [
      "\n",
      "real\t0m1.044s\n",
      "user\t0m0.576s\n",
      "sys\t0m0.121s\n",
      "node1\tlabel\tnode2\n",
      "Q100000003\tp31_p279star\tQ34508\n",
      "Q100000011\tp31_p279star\tQ34508\n",
      "Q100000014\tp31_p279star\tQ34508\n",
      "Q100000021\tp31_p279star\tQ34508\n",
      "Q100000029\tp31_p279star\tQ34508\n",
      "Q100000033\tp31_p279star\tQ34508\n",
      "Q100000049\tp31_p279star\tQ34508\n",
      "Q100328888\tp31_p279star\tQ34508\n",
      "Q10267876\tp31_p279star\tQ34508\n"
     ]
    }
   ],
   "source": [
    "!{kgtk} compact -i {temp}/items.remove.sorted.tsv.gz -o {temp}/items.remove2.tsv.gz \\\n",
    "--columns 'node1'\n",
    "!zcat {temp}/items.remove2.tsv.gz | head"
   ]
  },
  {
   "cell_type": "markdown",
   "metadata": {},
   "source": [
    "### Validate the items we will remove\n",
    "Check the `items.remove` file for classes added via different methods: 1) by-class, 2) by-instance, 3) by-outdegree"
   ]
  },
  {
   "cell_type": "markdown",
   "metadata": {},
   "source": [
    "1) Check for class added manually, i.e. (videotape recording, 'Q34508')"
   ]
  },
  {
   "cell_type": "code",
   "execution_count": null,
   "metadata": {},
   "outputs": [],
   "source": [
    "# !echo 'videotape recording'\n",
    "# !zgrep 'Q34508' {temp}/items.remove2.tsv.gz | head"
   ]
  },
  {
   "cell_type": "markdown",
   "metadata": {},
   "source": [
    "2) Check for class added by-instance, i.e. (Fireball, 'Q5451712')"
   ]
  },
  {
   "cell_type": "code",
   "execution_count": null,
   "metadata": {},
   "outputs": [],
   "source": [
    "# !echo 'fireball'\n",
    "# !zgrep 'Q5451712' {temp}/items.remove2.tsv.gz | head"
   ]
  },
  {
   "cell_type": "markdown",
   "metadata": {},
   "source": [
    "3) Check for class added by-outdegree, i.e. (??, 'Q100000030')"
   ]
  },
  {
   "cell_type": "code",
   "execution_count": null,
   "metadata": {},
   "outputs": [],
   "source": [
    "# !zgrep 'Q100000030' {temp}/items.remove2.tsv.gz | head"
   ]
  },
  {
   "cell_type": "markdown",
   "metadata": {},
   "source": [
    "Collect all the classes of items we will remove, just as a sanity check"
   ]
  },
  {
   "cell_type": "code",
   "execution_count": 16,
   "metadata": {},
   "outputs": [
    {
     "name": "stdout",
     "output_type": "stream",
     "text": [
      "[2021-02-17 08:19:35 sqlstore]: IMPORT graph directly into table graph_4 from /nas/home/mbmann/subset2/temp.output/items.remove2.tsv.gz ...\n",
      "[2021-02-17 08:19:35 query]: SQL Translation:\n",
      "---------------------------------------------\n",
      "  SELECT count(DISTINCT graph_4_c1.\"node1\")\n",
      "     FROM graph_4 AS graph_4_c1\n",
      "  PARAS: []\n",
      "---------------------------------------------\n",
      "count(DISTINCT graph_4_c1.\"node1\")\n",
      "252\n",
      "[2021-02-17 08:19:37 query]: SQL Translation:\n",
      "---------------------------------------------\n",
      "  SELECT DISTINCT graph_4_c1.\"node1\"\n",
      "     FROM graph_4 AS graph_4_c1\n",
      "     LIMIT ?\n",
      "  PARAS: [10]\n",
      "---------------------------------------------\n",
      "node1\n",
      "Q100000003\n",
      "Q100000011\n",
      "Q100000014\n",
      "Q100000021\n",
      "Q100000029\n",
      "Q100000033\n",
      "Q100000049\n",
      "Q100328888\n",
      "Q10267876\n",
      "Q11293639\n"
     ]
    }
   ],
   "source": [
    "!{kypher} -i {temp}/items.remove2.tsv.gz \\\n",
    "--match '(n1)-[]->()' \\\n",
    "--return 'count(distinct n1)' \\\n",
    "\n",
    "!{kypher} -i {temp}/items.remove2.tsv.gz \\\n",
    "--match '(n1)-[]->()' \\\n",
    "--return 'distinct n1' \\\n",
    "--limit 10"
   ]
  },
  {
   "cell_type": "markdown",
   "metadata": {},
   "source": [
    "## [TODO] Create a list of all items to protect"
   ]
  },
  {
   "cell_type": "markdown",
   "metadata": {},
   "source": [
    "## Create the reduced edges file"
   ]
  },
  {
   "cell_type": "markdown",
   "metadata": {},
   "source": [
    "### Remove the items from the all.tsv and the label, alias and description files\n",
    "We will be left with `reduced` files where the edges do not have the unwanted items. We have to remove them from the node1 and node2 positions, so we need to run the ifnotexists commands twice.\n",
    "\n",
    "Before we start preview the files to see the column headings and check whether they look sorted."
   ]
  },
  {
   "cell_type": "code",
   "execution_count": 17,
   "metadata": {},
   "outputs": [
    {
     "name": "stdout",
     "output_type": "stream",
     "text": [
      "\r\n",
      "real\t0m1.039s\r\n",
      "user\t0m0.566s\r\n",
      "sys\t0m0.170s\r\n"
     ]
    }
   ],
   "source": [
    "!{kgtk} sort2 -i {temp}/items.remove2.tsv.gz -o {temp}/items.remove2.sorted.tsv.gz"
   ]
  },
  {
   "cell_type": "code",
   "execution_count": 18,
   "metadata": {},
   "outputs": [
    {
     "name": "stdout",
     "output_type": "stream",
     "text": [
      "node1\tlabel\tnode2\r\n",
      "Q100000003\tp31_p279star\tQ34508\r\n",
      "Q100000011\tp31_p279star\tQ34508\r\n",
      "Q100000014\tp31_p279star\tQ34508\r\n",
      "Q100000021\tp31_p279star\tQ34508\r\n",
      "Q100000029\tp31_p279star\tQ34508\r\n",
      "Q100000033\tp31_p279star\tQ34508\r\n",
      "Q100000049\tp31_p279star\tQ34508\r\n",
      "Q100328888\tp31_p279star\tQ34508\r\n",
      "Q10267876\tp31_p279star\tQ34508\r\n"
     ]
    }
   ],
   "source": [
    "!zcat < {temp}/items.remove2.sorted.tsv.gz | head | col\n",
    "# !zgrep 'Q34508' {temp}/items.remove.sorted.tsv.gz -c #466"
   ]
  },
  {
   "cell_type": "markdown",
   "metadata": {},
   "source": [
    "Remove from the full set of edges those edges that have a `node1` present in `items.remove.sorted.tsv`"
   ]
  },
  {
   "cell_type": "code",
   "execution_count": 19,
   "metadata": {},
   "outputs": [
    {
     "name": "stdout",
     "output_type": "stream",
     "text": [
      "node1\tlabel\tnode2\r\n",
      "Q100000003\tp31_p279star\tQ34508\r\n",
      "Q100000011\tp31_p279star\tQ34508\r\n",
      "Q100000014\tp31_p279star\tQ34508\r\n",
      "Q100000021\tp31_p279star\tQ34508\r\n",
      "Q100000029\tp31_p279star\tQ34508\r\n",
      "Q100000033\tp31_p279star\tQ34508\r\n",
      "Q100000049\tp31_p279star\tQ34508\r\n",
      "Q100328888\tp31_p279star\tQ34508\r\n",
      "Q10267876\tp31_p279star\tQ34508\r\n"
     ]
    }
   ],
   "source": [
    "!zcat {temp}/items.remove2.tsv.gz | head"
   ]
  },
  {
   "cell_type": "code",
   "execution_count": 20,
   "metadata": {},
   "outputs": [
    {
     "name": "stdout",
     "output_type": "stream",
     "text": [
      "\r\n",
      "real\t4m39.916s\r\n",
      "user\t4m38.509s\r\n",
      "sys\t0m0.669s\r\n"
     ]
    }
   ],
   "source": [
    "!{kgtk} ifnotexists -i {claims} -o {temp}/item.edges.reduced.tsv.gz \\\n",
    "--filter-on {temp}/items.remove2.sorted.tsv.gz \\\n",
    "--input-keys node1 \\\n",
    "--filter-keys node1 \\\n",
    "--presorted "
   ]
  },
  {
   "cell_type": "markdown",
   "metadata": {},
   "source": [
    "From the remaining edges, remove those that have a `node2` present in `items.remove.sorted.tsv`"
   ]
  },
  {
   "cell_type": "code",
   "execution_count": 21,
   "metadata": {},
   "outputs": [
    {
     "name": "stdout",
     "output_type": "stream",
     "text": [
      "\r\n",
      "real\t2m23.010s\r\n",
      "user\t2m29.580s\r\n",
      "sys\t0m8.189s\r\n"
     ]
    }
   ],
   "source": [
    "!{kgtk} sort2 -i {temp}/item.edges.reduced.tsv.gz -o {temp}/item.edges.reduced.sorted.tsv.gz \\\n",
    "--columns node2 label node1 id"
   ]
  },
  {
   "cell_type": "code",
   "execution_count": 22,
   "metadata": {},
   "outputs": [
    {
     "name": "stdout",
     "output_type": "stream",
     "text": [
      "\r\n",
      "real\t4m58.017s\r\n",
      "user\t4m56.338s\r\n",
      "sys\t0m0.450s\r\n"
     ]
    }
   ],
   "source": [
    "!{kgtk} ifnotexists -i {temp}/item.edges.reduced.sorted.tsv.gz -o {temp}/item.edges.reduced.2.tsv.gz \\\n",
    "--filter-on {temp}/items.remove2.sorted.tsv.gz \\\n",
    "--input-keys node2 \\\n",
    "--filter-keys node1 \\\n",
    "--presorted "
   ]
  },
  {
   "cell_type": "markdown",
   "metadata": {},
   "source": [
    "Create a file with the labels"
   ]
  },
  {
   "cell_type": "code",
   "execution_count": 23,
   "metadata": {},
   "outputs": [
    {
     "name": "stdout",
     "output_type": "stream",
     "text": [
      "\r\n",
      "real\t0m50.328s\r\n",
      "user\t0m43.826s\r\n",
      "sys\t0m0.208s\r\n"
     ]
    }
   ],
   "source": [
    "!{kgtk} ifnotexists -i {labels} -o {temp}/label.edges.reduced.tsv.gz \\\n",
    "--filter-on {temp}/items.remove2.sorted.tsv.gz \\\n",
    "--input-keys node1 \\\n",
    "--filter-keys node1 \\\n",
    "--presorted"
   ]
  },
  {
   "cell_type": "code",
   "execution_count": 24,
   "metadata": {},
   "outputs": [
    {
     "name": "stdout",
     "output_type": "stream",
     "text": [
      "\r\n",
      "real\t0m12.949s\r\n",
      "user\t0m12.705s\r\n",
      "sys\t0m1.041s\r\n"
     ]
    }
   ],
   "source": [
    "!{kgtk} sort2 -i {temp}/label.edges.reduced.tsv.gz -o {out}/labels.tsv.gz"
   ]
  },
  {
   "cell_type": "markdown",
   "metadata": {},
   "source": [
    "Create a file with the aliases"
   ]
  },
  {
   "cell_type": "code",
   "execution_count": 25,
   "metadata": {},
   "outputs": [
    {
     "name": "stdout",
     "output_type": "stream",
     "text": [
      "\r\n",
      "real\t0m16.730s\r\n",
      "user\t0m13.992s\r\n",
      "sys\t0m0.162s\r\n"
     ]
    }
   ],
   "source": [
    "!{kgtk} ifnotexists -i {aliases} -o {temp}/alias.edges.reduced.tsv.gz \\\n",
    "--filter-on {temp}/items.remove2.sorted.tsv.gz \\\n",
    "--input-keys node1 \\\n",
    "--filter-keys node1 \\\n",
    "--presorted"
   ]
  },
  {
   "cell_type": "markdown",
   "metadata": {},
   "source": [
    "Create a file with the descriptions"
   ]
  },
  {
   "cell_type": "code",
   "execution_count": 26,
   "metadata": {},
   "outputs": [
    {
     "name": "stdout",
     "output_type": "stream",
     "text": [
      "\r\n",
      "real\t0m28.338s\r\n",
      "user\t0m24.969s\r\n",
      "sys\t0m0.176s\r\n"
     ]
    }
   ],
   "source": [
    "!{kgtk} ifnotexists -i {descriptions} -o {temp}/description.edges.reduced.tsv.gz \\\n",
    "--filter-on {temp}/items.remove2.sorted.tsv.gz \\\n",
    "--input-keys node1 \\\n",
    "--filter-keys node1 \\\n",
    "--presorted"
   ]
  },
  {
   "cell_type": "markdown",
   "metadata": {},
   "source": [
    "### Produce the output files for claims, labels, aliases and descriptions"
   ]
  },
  {
   "cell_type": "code",
   "execution_count": 27,
   "metadata": {},
   "outputs": [
    {
     "name": "stdout",
     "output_type": "stream",
     "text": [
      "\r\n",
      "real\t1m58.866s\r\n",
      "user\t1m59.171s\r\n",
      "sys\t0m8.535s\r\n"
     ]
    }
   ],
   "source": [
    "!{kgtk} sort2 -i {temp}/item.edges.reduced.2.tsv.gz -o {out}/claims.tsv.gz "
   ]
  },
  {
   "cell_type": "code",
   "execution_count": 28,
   "metadata": {},
   "outputs": [
    {
     "name": "stdout",
     "output_type": "stream",
     "text": [
      "\r\n",
      "real\t0m12.330s\r\n",
      "user\t0m11.567s\r\n",
      "sys\t0m0.960s\r\n"
     ]
    }
   ],
   "source": [
    "!{kgtk} sort2 -i {temp}/label.edges.reduced.tsv.gz -o {out}/labels.en.tsv.gz "
   ]
  },
  {
   "cell_type": "code",
   "execution_count": 29,
   "metadata": {},
   "outputs": [
    {
     "name": "stdout",
     "output_type": "stream",
     "text": [
      "\r\n",
      "real\t0m4.445s\r\n",
      "user\t0m4.130s\r\n",
      "sys\t0m0.404s\r\n"
     ]
    }
   ],
   "source": [
    "!{kgtk} sort2 -i {temp}/alias.edges.reduced.tsv.gz -o {out}/aliases.en.tsv.gz "
   ]
  },
  {
   "cell_type": "code",
   "execution_count": 30,
   "metadata": {},
   "outputs": [
    {
     "name": "stdout",
     "output_type": "stream",
     "text": [
      "\r\n",
      "real\t0m7.325s\r\n",
      "user\t0m6.925s\r\n",
      "sys\t0m0.686s\r\n"
     ]
    }
   ],
   "source": [
    "!{kgtk} sort2 -i {temp}/description.edges.reduced.tsv.gz -o {out}/descriptions.en.tsv.gz "
   ]
  },
  {
   "cell_type": "markdown",
   "metadata": {},
   "source": [
    "## Tests: Confirm items were removed from claims file\n",
    "**NOTE:** We will check the items we removed do not exist in claims file"
   ]
  },
  {
   "cell_type": "markdown",
   "metadata": {},
   "source": [
    "1) Confirm no instance of class added manually, i.e. (class: 'Q34508')<-(instance: 'Q100431477')"
   ]
  },
  {
   "cell_type": "code",
   "execution_count": null,
   "metadata": {},
   "outputs": [],
   "source": [
    "#PASS: No result\n",
    "# !zgrep 'Q100431477' {out}/claims.tsv.gz \n",
    "\n",
    "#PASS: Barack Obama not in result, as he is human (Q5) and human was removed\n",
    "# !zgrep 'Q76' {out}/claims.tsv.gz "
   ]
  },
  {
   "cell_type": "markdown",
   "metadata": {},
   "source": [
    "2) Confirm no instance of instance added manually, i.e. (source_instance, 'Q5451712')"
   ]
  },
  {
   "cell_type": "code",
   "execution_count": null,
   "metadata": {},
   "outputs": [],
   "source": [
    "# !zgrep 'Q1350656\t' {out}/claims.tsv.gz #PASS: No result"
   ]
  },
  {
   "cell_type": "markdown",
   "metadata": {},
   "source": [
    "3) Confirm no instance with out-degree < 2, i.e. (instance: 'Q100000030')"
   ]
  },
  {
   "cell_type": "code",
   "execution_count": null,
   "metadata": {},
   "outputs": [],
   "source": [
    "# !zgrep 'Q100000030\t' {out}/claims.tsv.gz #PASS: No result"
   ]
  },
  {
   "cell_type": "markdown",
   "metadata": {},
   "source": [
    "## Create the reduced qualifiers file\n",
    "We do this by finding all the ids of the reduced edges file, and then selecting out from `qual.tsv`\n",
    "\n",
    "We need to join by id, so we need to sort both files by id, node1, label, node2:\n",
    "\n",
    "- `{quals}` \n",
    "- `{out}/claims.tsv.gz` "
   ]
  },
  {
   "cell_type": "code",
   "execution_count": 31,
   "metadata": {},
   "outputs": [
    {
     "name": "stdout",
     "output_type": "stream",
     "text": [
      "id                                               node1                             label  node2                          node2;wikidatatype\n",
      "P10-P1855-Q7378-555592a4-0-P10-8a982d-0          P10-P1855-Q7378-555592a4-0        P10    \"Elephants Dream (2006).webm\"  commonsMedia\n",
      "P1000-P1896-f63a36-b84f3cd2-0-P1476-bf511b-0     P1000-P1896-f63a36-b84f3cd2-0     P1476  'FAI records'@en               monolingualtext\n",
      "P1001-P1855-Q29868931-76b67d84-0-P1001-Q11736-0  P1001-P1855-Q29868931-76b67d84-0  P1001  Q11736                         wikibase-item\n",
      "P1001-P1855-Q29868931-76b67d84-0-P1001-Q17269-0  P1001-P1855-Q29868931-76b67d84-0  P1001  Q17269                         wikibase-item\n",
      "P1001-P1855-Q29868931-76b67d84-0-P1001-Q21208-0  P1001-P1855-Q29868931-76b67d84-0  P1001  Q21208                         wikibase-item\n",
      "P1001-P1855-Q29868931-76b67d84-0-P1001-Q34800-0  P1001-P1855-Q29868931-76b67d84-0  P1001  Q34800                         wikibase-item\n",
      "P1001-P1855-Q29868931-76b67d84-0-P1001-Q41079-0  P1001-P1855-Q29868931-76b67d84-0  P1001  Q41079                         wikibase-item\n",
      "P1001-P1855-Q29868931-76b67d84-0-P1001-Q42392-0  P1001-P1855-Q29868931-76b67d84-0  P1001  Q42392                         wikibase-item\n",
      "P1001-P1855-Q29868931-76b67d84-0-P1001-Q43684-0  P1001-P1855-Q29868931-76b67d84-0  P1001  Q43684                         wikibase-item\n",
      "\n",
      "gzip: stdout: Broken pipe\n"
     ]
    }
   ],
   "source": [
    "!zcat < {quals} | head | column -t -s $'\\t' "
   ]
  },
  {
   "cell_type": "markdown",
   "metadata": {},
   "source": [
    "Run `ifexists` to select out the quals for the edges in `{out}/wikidataos.qual.tsv.gz`. Note that we use `node1` in the qualifier file, matching to `id` in the `wikidataos.all.tsv` file."
   ]
  },
  {
   "cell_type": "code",
   "execution_count": 32,
   "metadata": {},
   "outputs": [
    {
     "name": "stdout",
     "output_type": "stream",
     "text": [
      "\r\n",
      "real\t2m12.444s\r\n",
      "user\t2m9.899s\r\n",
      "sys\t0m0.282s\r\n"
     ]
    }
   ],
   "source": [
    "!$kgtk ifexists -i {quals} -o {out}/qualifiers.tsv.gz \\\n",
    "--filter-on {out}/claims.tsv.gz \\\n",
    "--input-keys node1 \\\n",
    "--filter-keys id \\\n",
    "--presorted"
   ]
  },
  {
   "cell_type": "markdown",
   "metadata": {},
   "source": [
    "Look at the final output for qualifiers"
   ]
  },
  {
   "cell_type": "code",
   "execution_count": 33,
   "metadata": {},
   "outputs": [
    {
     "name": "stdout",
     "output_type": "stream",
     "text": [
      "id\tnode1\tlabel\tnode2\tnode2;wikidatatype\r\n",
      "P10-P1855-Q7378-555592a4-0-P10-8a982d-0 P10-P1855-Q7378-555592a4-0\tP10\t\"Elephants Dream (2006).webm\"\tcommonsMedia\r\n",
      "P1000-P1896-f63a36-b84f3cd2-0-P1476-bf511b-0\tP1000-P1896-f63a36-b84f3cd2-0\tP1476\t'FAI records'@en\tmonolingualtext\r\n",
      "P1001-P1855-Q29868931-76b67d84-0-P1001-Q11736-0 P1001-P1855-Q29868931-76b67d84-0\tP1001\tQ11736\twikibase-item\r\n",
      "P1001-P1855-Q29868931-76b67d84-0-P1001-Q17269-0 P1001-P1855-Q29868931-76b67d84-0\tP1001\tQ17269\twikibase-item\r\n",
      "\r\n",
      "gzip: P1001-P1855-Q29868931-76b67d84-0-P1001-Q21208-0 P1001-P1855-Q29868931-76b67d84-0\tP1001\tQ21208\twikibase-item\r\n",
      "stdout: Broken pipe\r\n",
      "P1001-P1855-Q29868931-76b67d84-0-P1001-Q34800-0 P1001-P1855-Q29868931-76b67d84-0\tP1001\tQ34800\twikibase-item\r\n",
      "P1001-P1855-Q29868931-76b67d84-0-P1001-Q41079-0 P1001-P1855-Q29868931-76b67d84-0\tP1001\tQ41079\twikibase-item\r\n",
      "P1001-P1855-Q29868931-76b67d84-0-P1001-Q42392-0 P1001-P1855-Q29868931-76b67d84-0\tP1001\tQ42392\twikibase-item\r\n",
      "P1001-P1855-Q29868931-76b67d84-0-P1001-Q43684-0 P1001-P1855-Q29868931-76b67d84-0\tP1001\tQ43684\twikibase-item\r\n"
     ]
    }
   ],
   "source": [
    "!zcat < {out}/qualifiers.tsv.gz | head | col"
   ]
  },
  {
   "cell_type": "markdown",
   "metadata": {},
   "source": [
    "## Call partition and useful_files notebooks, to generate the file output"
   ]
  },
  {
   "cell_type": "code",
   "execution_count": 34,
   "metadata": {},
   "outputs": [],
   "source": [
    "kgtk_scripts_path = \"/nas/home/mbmann/kgtk_subset/kgtk\"\n",
    "os.environ[\"EXAMPLES_DIR\"] = kgtk_scripts_path + \"/examples\"\n",
    "os.environ[\"USECASE_DIR\"] = kgtk_scripts_path + \"/use-cases\"\n",
    "os.environ[\"TEMP\"] = temp\n",
    "os.environ[\"OUT\"] = out\n",
    "os.environ[\"DATATYPES\"] = datatypes\n",
    "os.environ[\"METADATA\"] = metadata"
   ]
  },
  {
   "cell_type": "code",
   "execution_count": 35,
   "metadata": {},
   "outputs": [
    {
     "data": {
      "text/plain": [
       "'/nas/home/mbmann/kgtk_subset/kgtk/examples'"
      ]
     },
     "execution_count": 35,
     "metadata": {},
     "output_type": "execute_result"
    }
   ],
   "source": [
    "os.environ[\"EXAMPLES_DIR\"]"
   ]
  },
  {
   "cell_type": "code",
   "execution_count": 36,
   "metadata": {},
   "outputs": [
    {
     "name": "stdout",
     "output_type": "stream",
     "text": [
      "alias.edges.reduced.tsv.gz\t  items.remove2.tsv.gz\r\n",
      "description.edges.reduced.tsv.gz  items.remove.byclass.tsv.gz\r\n",
      "item.edges.reduced.2.tsv.gz\t  items.remove.sorted.tsv.gz\r\n",
      "item.edges.reduced.sorted.tsv.gz  items.remove.tsv.gz\r\n",
      "item.edges.reduced.tsv.gz\t  label.edges.reduced.tsv.gz\r\n",
      "items.remove2.sorted.tsv.gz\r\n"
     ]
    }
   ],
   "source": [
    "!ls \"$TEMP\""
   ]
  },
  {
   "cell_type": "code",
   "execution_count": 37,
   "metadata": {},
   "outputs": [
    {
     "name": "stdout",
     "output_type": "stream",
     "text": [
      "aliases.en.tsv.gz\tlabels.en.tsv.gz   wikidata.sqlite3.db\r\n",
      "claims.tsv.gz\t\tlabels.tsv.gz\r\n",
      "descriptions.en.tsv.gz\tqualifiers.tsv.gz\r\n"
     ]
    }
   ],
   "source": [
    "!ls \"$OUT\""
   ]
  },
  {
   "cell_type": "markdown",
   "metadata": {},
   "source": [
    "**Concatenate all output files together** <br>\n",
    "\n",
    "**NOTE:** The `metadata.property.datatypes` and `metadata.types` are not currently generated by this notebook, and have been copied from `wikidata-20200803-v5/data`. <br>\n",
    "**TODO:** We must confirm if these are source files, or computed. If they are computed, we should compute them in this notebook."
   ]
  },
  {
   "cell_type": "code",
   "execution_count": 38,
   "metadata": {},
   "outputs": [
    {
     "name": "stdout",
     "output_type": "stream",
     "text": [
      "\r\n",
      "real\t19m56.099s\r\n",
      "user\t19m52.061s\r\n",
      "sys\t0m0.946s\r\n"
     ]
    }
   ],
   "source": [
    "!{kgtk} cat \\\n",
    "-i {out}/aliases.en.tsv.gz \\\n",
    "-i {out}/descriptions.en.tsv.gz \\\n",
    "-i {out}/qualifiers.tsv.gz \\\n",
    "-i {out}/claims.tsv.gz \\\n",
    "-i {out}/labels.en.tsv.gz \\\n",
    "-i {datatypes} \\\n",
    "-i {metadata} \\\n",
    "-o {out}/all.tsv.gz"
   ]
  },
  {
   "cell_type": "code",
   "execution_count": 39,
   "metadata": {},
   "outputs": [
    {
     "name": "stdout",
     "output_type": "stream",
     "text": [
      "/nas/home/mbmann/kgtk_subset/kgtk/examples/partition-wikidata.ipynb\r\n"
     ]
    }
   ],
   "source": [
    "!ls {os.environ[\"EXAMPLES_DIR\"] + \"/partition-wikidata.ipynb\"}"
   ]
  },
  {
   "cell_type": "code",
   "execution_count": 40,
   "metadata": {},
   "outputs": [
    {
     "data": {
      "text/plain": [
       "'/nas/home/mbmann/subset2/output'"
      ]
     },
     "execution_count": 40,
     "metadata": {},
     "output_type": "execute_result"
    }
   ],
   "source": [
    "os.environ[\"OUT\"]"
   ]
  },
  {
   "cell_type": "markdown",
   "metadata": {},
   "source": [
    "### Call the partition-wikidata notebook\n",
    "`partition-wikidata` will take all intermediary computed outputs from `all.tsv.gz` and partition each wikidata entity (i.e. claims, aliases, labels, descriptions, qualifiers), into partitions. <br>\n",
    "\n",
    "**NOTE:** This notebook also produces `claims.wikibase-item.tsv.gz` and outputs it to `wikidata_parts_path`"
   ]
  },
  {
   "cell_type": "code",
   "execution_count": 41,
   "metadata": {},
   "outputs": [
    {
     "data": {
      "application/vnd.jupyter.widget-view+json": {
       "model_id": "553069e8544344cd9929e59dbc2e12d4",
       "version_major": 2,
       "version_minor": 0
      },
      "text/plain": [
       "Executing:   0%|          | 0/49 [00:00<?, ?cell/s]"
      ]
     },
     "metadata": {},
     "output_type": "display_data"
    },
    {
     "data": {
      "text/plain": [
       "''"
      ]
     },
     "execution_count": 41,
     "metadata": {},
     "output_type": "execute_result"
    }
   ],
   "source": [
    "pm.execute_notebook(\n",
    "    os.environ[\"EXAMPLES_DIR\"] + \"/partition-wikidata.ipynb\",\n",
    "    os.environ[\"TEMP\"] + \"/partition-wikidata.out.ipynb\",\n",
    "    parameters=dict(\n",
    "        wikidata_input_path = os.environ[\"OUT\"] + \"/all.tsv.gz\",\n",
    "        wikidata_parts_path = os.environ[\"OUT\"] + \"/parts\",\n",
    "        temp_folder_path = os.environ[\"OUT\"] + \"/parts/temp\",\n",
    "        sort_extras = \"--buffer-size 30% --temporary-directory $OUT/parts/temp\",\n",
    "        verbose = False\n",
    "    )\n",
    ")\n",
    ";"
   ]
  },
  {
   "cell_type": "markdown",
   "metadata": {},
   "source": [
    "## Call the useful-files notebook\n",
    "`Wikidata Useful Files` will take intermediary output generated by `partition-wikidata` and produce the following statistics: `derived.P31.tsv.gz`, `derived.P279.tsv.gz`, `derived.isa.tsv.gz`, `derived.P279star.tsv.gz`, and `metadata.out_degree.tsv.gz`."
   ]
  },
  {
   "cell_type": "code",
   "execution_count": 42,
   "metadata": {},
   "outputs": [
    {
     "data": {
      "application/vnd.jupyter.widget-view+json": {
       "model_id": "20a0b93affb7479bbe7b8ef54e585cf2",
       "version_major": 2,
       "version_minor": 0
      },
      "text/plain": [
       "Executing:   0%|          | 0/103 [00:00<?, ?cell/s]"
      ]
     },
     "metadata": {},
     "output_type": "display_data"
    },
    {
     "data": {
      "text/plain": [
       "''"
      ]
     },
     "execution_count": 42,
     "metadata": {},
     "output_type": "execute_result"
    }
   ],
   "source": [
    "#NOTE: Don't pass in cache path, as one doesn't yet exist for useful_files\n",
    "pm.execute_notebook(\n",
    "    os.environ[\"USECASE_DIR\"] + \"/Wikidata Useful Files.ipynb\",\n",
    "    os.environ[\"TEMP\"] + \"/Wikidata Useful Files Out.ipynb\",\n",
    "    parameters=dict(\n",
    "        output_path = os.environ[\"OUT\"],\n",
    "        output_folder = \"useful_files\",\n",
    "        temp_folder = \"temp.useful_files\",\n",
    "        wiki_root_folder = os.environ[\"OUT\"] + \"/parts/\",\n",
    "        languages = 'en',\n",
    "        compute_pagerank = True,\n",
    "        delete_database = False\n",
    "    )\n",
    ")\n",
    ";"
   ]
  },
  {
   "cell_type": "markdown",
   "metadata": {},
   "source": [
    "## Summary of results"
   ]
  },
  {
   "cell_type": "code",
   "execution_count": 43,
   "metadata": {},
   "outputs": [
    {
     "name": "stdout",
     "output_type": "stream",
     "text": [
      "ls: cannot access /nas/home/mbmann/subset2/output/*wikidataos.*: No such file or directory\r\n"
     ]
    }
   ],
   "source": [
    "!ls -lh {out}/*wikidataos.*"
   ]
  },
  {
   "cell_type": "code",
   "execution_count": 44,
   "metadata": {},
   "outputs": [
    {
     "name": "stdout",
     "output_type": "stream",
     "text": [
      "/bin/bash: /nas/home/mbmann/subset2/output/wikidataos.all.tsv.gz: No such file or directory\r\n",
      "      0       0       0\r\n"
     ]
    }
   ],
   "source": [
    "!zcat < {out}/wikidataos.all.tsv.gz | wc"
   ]
  },
  {
   "cell_type": "markdown",
   "metadata": {},
   "source": [
    "## Verification"
   ]
  },
  {
   "cell_type": "markdown",
   "metadata": {},
   "source": [
    "The edges file must contain edges for properties, this is not the case on 2020-11-10`\n"
   ]
  },
  {
   "cell_type": "code",
   "execution_count": 45,
   "metadata": {},
   "outputs": [
    {
     "name": "stdout",
     "output_type": "stream",
     "text": [
      "[2021-02-17 10:04:28 sqlstore]: IMPORT graph directly into table graph_5 from /nas/home/mbmann/subset2/output/claims.tsv.gz ...\n",
      "[2021-02-17 10:05:11 query]: SQL Translation:\n",
      "---------------------------------------------\n",
      "  SELECT *\n",
      "     FROM graph_5 AS graph_5_c1\n",
      "     WHERE graph_5_c1.\"node1\"=?\n",
      "     LIMIT ?\n",
      "  PARAS: ['P10', 10]\n",
      "---------------------------------------------\n",
      "[2021-02-17 10:05:11 sqlstore]: CREATE INDEX on table graph_5 column node1 ...\n",
      "[2021-02-17 10:05:24 sqlstore]: ANALYZE INDEX on table graph_5 column node1 ...\n",
      "id\tnode1\tlabel\tnode2\trank\tnode2;wikidatatype\n",
      "P10-P1628-32b85d-7927ece6-0\tP10\tP1628\t\"http://www.w3.org/2006/vcard/ns#Video\"\tnormal\turl\n",
      "P10-P1628-acf60d-b8950832-0\tP10\tP1628\t\"https://schema.org/video\"\tnormal\turl\n",
      "P10-P1629-Q34508-bcc39400-0\tP10\tP1629\tQ34508\tnormal\twikibase-item\n",
      "P10-P1659-P1651-c4068028-0\tP10\tP1659\tP1651\tnormal\twikibase-property\n",
      "P10-P1659-P18-5e4b9c4f-0\tP10\tP1659\tP18\tnormal\twikibase-property\n",
      "P10-P1659-P4238-d21d1ac0-0\tP10\tP1659\tP4238\tnormal\twikibase-property\n",
      "P10-P1659-P51-86aca4c5-0\tP10\tP1659\tP51\tnormal\twikibase-property\n",
      "P10-P1855-Q7378-555592a4-0\tP10\tP1855\tQ7378\tnormal\twikibase-item\n",
      "P10-P31-Q18610173-85ef4d24-0\tP10\tP31\tQ18610173\tnormal\twikibase-item\n"
     ]
    }
   ],
   "source": [
    "!{kypher} -i {out}/claims.tsv.gz \\\n",
    "--match '(:P10)-[l]->(n2)' \\\n",
    "--limit 10"
   ]
  },
  {
   "cell_type": "markdown",
   "metadata": {},
   "source": [
    "## concatenate files to get the `all` file"
   ]
  },
  {
   "cell_type": "code",
   "execution_count": 46,
   "metadata": {},
   "outputs": [
    {
     "name": "stdout",
     "output_type": "stream",
     "text": [
      "\r\n",
      "real\t11m42.484s\r\n",
      "user\t11m40.735s\r\n",
      "sys\t0m0.750s\r\n"
     ]
    }
   ],
   "source": [
    "!{kgtk} cat -i {out}/claims.tsv.gz \\\n",
    "{out}/qualifiers.tsv.gz \\\n",
    "{out}/useful_files/metadata.pagerank.undirected.tsv.gz \\\n",
    "{out}/useful_files/metadata.pagerank.directed.tsv.gz \\\n",
    "{out}/useful_files/metadata.in_degree.sorted.tsv.gz \\\n",
    "{out}/useful_files/metadata.out_degree.sorted.tsv.gz \\\n",
    "-o {out}/wikidataos.all.tsv.gz"
   ]
  },
  {
   "cell_type": "markdown",
   "metadata": {},
   "source": [
    "## concatenate files to get the `all for triples` file\n"
   ]
  },
  {
   "cell_type": "code",
   "execution_count": 47,
   "metadata": {},
   "outputs": [
    {
     "name": "stdout",
     "output_type": "stream",
     "text": [
      "\r\n",
      "real\t16m4.981s\r\n",
      "user\t16m2.844s\r\n",
      "sys\t0m0.934s\r\n"
     ]
    }
   ],
   "source": [
    "!{kgtk} cat -i {out}/wikidataos.all.tsv.gz \\\n",
    "{out}/useful_files/derived.P31.tsv.gz \\\n",
    "{out}/useful_files/derived.P279.tsv.gz \\\n",
    "{out}/useful_files/derived.isa.tsv.gz \\\n",
    "{out}/useful_files/derived.P279star.tsv.gz \\\n",
    "-o {out}/wikidataos.all.for.triples.tsv.gz"
   ]
  },
  {
   "cell_type": "markdown",
   "metadata": {},
   "source": [
    "## Filter out `novalue`, `somevalue` and `P9`"
   ]
  },
  {
   "cell_type": "code",
   "execution_count": 48,
   "metadata": {},
   "outputs": [
    {
     "name": "stdout",
     "output_type": "stream",
     "text": [
      "\r\n",
      "real\t14m42.770s\r\n",
      "user\t14m41.149s\r\n",
      "sys\t0m0.686s\r\n"
     ]
    }
   ],
   "source": [
    "!{kgtk} filter -i {out}/wikidataos.all.for.triples.tsv.gz \\\n",
    "-o {out}/wikidataos.all.for.triples.filtered.tsv.gz \\\n",
    "-p ';;somevalue,novalue,P9' --invert"
   ]
  },
  {
   "cell_type": "markdown",
   "metadata": {},
   "source": [
    "## Add ids for any edge with missing id"
   ]
  },
  {
   "cell_type": "code",
   "execution_count": 49,
   "metadata": {},
   "outputs": [
    {
     "name": "stdout",
     "output_type": "stream",
     "text": [
      "\r\n",
      "real\t15m36.013s\r\n",
      "user\t15m32.033s\r\n",
      "sys\t0m0.741s\r\n"
     ]
    }
   ],
   "source": [
    "!{kgtk} add-id -i {out}/wikidataos.all.for.triples.filtered.tsv.gz \\\n",
    "-o {out}/wikidataos.all.for.triples.filtered.id.tsv.gz \\\n",
    "--id-style wikidata"
   ]
  },
  {
   "cell_type": "markdown",
   "metadata": {},
   "source": [
    "## Sort by `id`"
   ]
  },
  {
   "cell_type": "code",
   "execution_count": 50,
   "metadata": {},
   "outputs": [
    {
     "name": "stdout",
     "output_type": "stream",
     "text": [
      "\r\n",
      "real\t4m8.597s\r\n",
      "user\t4m5.535s\r\n",
      "sys\t0m20.281s\r\n"
     ]
    }
   ],
   "source": [
    "!{kgtk} sort2 -i {out}/wikidataos.all.for.triples.filtered.id.tsv.gz \\\n",
    "-o {out}/wikidataos.all.for.triples.filtered.id.sorted.tsv.gz \\\n",
    "-c id"
   ]
  },
  {
   "cell_type": "code",
   "execution_count": null,
   "metadata": {},
   "outputs": [],
   "source": []
  }
 ],
 "metadata": {
  "celltoolbar": "Tags",
  "kernelspec": {
   "display_name": "kgtk-subset",
   "language": "python",
   "name": "kgtk-subset"
  },
  "language_info": {
   "codemirror_mode": {
    "name": "ipython",
    "version": 3
   },
   "file_extension": ".py",
   "mimetype": "text/x-python",
   "name": "python",
   "nbconvert_exporter": "python",
   "pygments_lexer": "ipython3",
   "version": "3.7.9"
  }
 },
 "nbformat": 4,
 "nbformat_minor": 4
}
