{
 "cells": [
  {
   "cell_type": "markdown",
   "metadata": {},
   "source": [
    "# Generating Subsets of Wikidata\n",
    "\n",
    ">Warning: \n",
    "**This notebook is under construction and it doesn't work**\n",
    "\n",
    "## Purpose\n",
    "\n",
    ">This notebook is used to create smaller subgraphs from a larger input Wikidata graph. Notebook users can provide a list of Wikidata classes (**QNodes**) to remove and preserve to create desired subsets of Wikidata. \n"
   ]
  },
  {
   "cell_type": "markdown",
   "metadata": {},
   "source": [
    "### Batch Invocation\n",
    "Example batch command. The second argument is a notebook where the output will be stored. You can load it to see progress.\n",
    "\n",
    "UPDATE EXAMPLE INVOCATION\n",
    "\n",
    "\n",
    "```\n",
    "papermill Wikidata\\ Useful\\ Files.ipynb useful-files.out.ipynb \\\n",
    "-p wiki_file /Volumes/GoogleDrive/Shared\\ drives/KGTK-public-graphs/wikidata-20200803-v3/all.tsv.gz \\\n",
    "-p label_file /Volumes/GoogleDrive/Shared\\ drives/KGTK-public-graphs/wikidata-20200803-v3/part.label.en.tsv.gz \\\n",
    "-p item_file /Volumes/GoogleDrive/Shared\\ drives/KGTK-public-graphs/wikidata-20200803-v3/part.wikibase-item.tsv.gz \\\n",
    "-p property_item_file /Volumes/GoogleDrive/Shared\\ drives/KGTK-public-graphs/wikidata-20200803-v3/part.property.wikibase-item.tsv.gz \\\n",
    "-p qual_file /Volumes/GoogleDrive/Shared\\ drives/KGTK-public-graphs/wikidata-20200803-v3/qual.tsv.gz \\\n",
    "-p output_path <local folder> \\\n",
    "-p output_folder useful_files_v4 \\\n",
    "-p temp_folder temp.useful_files_v4 \\\n",
    "-p delete_database no \\\n",
    "-p compute_pagerank no \\\n",
    "-p languages es,ru,zh-cn \n",
    "```"
   ]
  },
  {
   "cell_type": "code",
   "execution_count": 57,
   "metadata": {
    "tags": [
     "parameters"
    ]
   },
   "outputs": [],
   "source": [
    "# Parameters\n",
    "\n",
    "# Folder on local machine where to create the output and temporary folders\n",
    "# output_path = \"/Users/pedroszekely/Downloads/kypher\"\n",
    "output_path = \"/Users/markmann/Downloads/subset\"\n",
    "\n",
    "# The names of the output and temporary folders\n",
    "output_folder = \"output\"\n",
    "temp_folder = \"temp.output\"\n",
    "\n",
    "# Classes to remove\n",
    "#Q34508 - video tape recording\n",
    "# remove_classes = \"Q13442814, Q523, Q16521, Q318, Q7318358, Q7187, Q11173, Q8054, Q5, Q13100073, Q8502, Q3305213, Q4022, Q79007, Q1931185, Q30612, Q101352, Q54050, Q13433827, Q2668072, Q23397, Q3863, Q11424, Q482994, Q47150325, Q16970, Q18593264, Q355304, Q9842, Q7725634, Q27020041, Q56436498, Q2154519, Q61443690, Q49008, Q3331189, Q47521, Q5084, Q19389637, Q21014462, Q4164871, Q11060274, Q5633421, Q39816, Q5185279, Q55488, Q134556, Q22698, Q985488, Q1260524, Q204107, Q2225692, Q215380, Q71963409, Q452237, Q93184, Q12323\"\n",
    "remove_classes = \"Q34508\"\n",
    "\n",
    "# The location of input files\n",
    "# wiki_root_folder = \"/Volumes/GoogleDrive/Shared\\ drives/KGTK/datasets/wikidata-20200803-v4/\"\n",
    "# wiki_root_folder = \"/Volumes/GoogleDrive/Shared\\ drives/KGTK/datasets/wikidata-20200803-v4/\"\n",
    "# wiki_root_folder = \"/Users/pedroszekely/Downloads/kypher/wikidataos-v4/\"\n",
    "wiki_root_folder = \"/Users/markmann/Google\\ Drive/Shared\\ drives/KGTK/datasets/wikidataos-v4-mm-2/\"\n",
    "\n",
    "claims_file = \"claims.tsv.gz\"\n",
    "label_file = \"labels.en.tsv.gz\"\n",
    "alias_file = \"aliases.en.tsv.gz\"\n",
    "description_file = \"descriptions.en.tsv.gz\"\n",
    "item_file = \"claims.wikibase-item.tsv.gz\"\n",
    "qual_file = \"qualifiers.tsv.gz\"\n",
    "property_datatypes_file = \"metadata.property.datatypes.tsv.gz\"\n",
    "metadata_file = \"metadata.types.tsv.gz\" #Add\n",
    "isa_file = \"derived.isa.tsv.gz\"\n",
    "p279star_file = \"derived.P279star.tsv.gz\"\n",
    "out_degree_file = \"metadata.out_degree.tsv.gz\"\n",
    "\n",
    "# Useful files Jupyter notebook\n",
    "useful_files_notebook = \"Wikidata Useful Files.ipynb\"\n",
    "notebooks_folder = \"/Users/markmann/Desktop/CKG/kgtk_subset/kgtk/examples/\"\n",
    "\n",
    "# Location of the cache database for kypher\n",
    "# cache_path = \"/Users/pedroszekely/Downloads/kypher/wikidataos-v4\"\n",
    "cache_path = f'{output_path}/{output_folder}'\n",
    "\n",
    "#Additional parameters\n",
    "delete_database = \"no\"\n",
    "compute_pagerank = \"no\"\n",
    "languages = \"\"\n",
    "\n",
    "### Needs fixing\n",
    "# Whether to delete the cache database\n",
    "if delete_database and delete_database.lower().strip() == 'yes':\n",
    "    delete_database = True\n",
    "else:\n",
    "    delete_database = False\n",
    "\n",
    "### Needs fixing\n",
    "if compute_pagerank and compute_pagerank.lower().strip() == 'yes':\n",
    "    compute_pagerank = True\n",
    "else:\n",
    "    compute_pagerank = False\n",
    "\n",
    "if languages:\n",
    "    languages = languages.split(',')"
   ]
  },
  {
   "cell_type": "code",
   "execution_count": 58,
   "metadata": {},
   "outputs": [],
   "source": [
    "import io\n",
    "import os\n",
    "import subprocess\n",
    "import sys\n",
    "\n",
    "import numpy as np\n",
    "import pandas as pd\n",
    "\n",
    "import altair as alt\n",
    "\n",
    "import papermill as pm\n",
    "\n",
    "import gzip"
   ]
  },
  {
   "cell_type": "markdown",
   "metadata": {},
   "source": [
    "## Set up variables for files"
   ]
  },
  {
   "cell_type": "code",
   "execution_count": 60,
   "metadata": {},
   "outputs": [],
   "source": [
    "#Environment variables\n",
    "if cache_path:\n",
    "    os.environ['STORE'] = \"{}/wikidata.sqlite3.db\".format(cache_path)\n",
    "else:\n",
    "    os.environ['STORE'] = \"{}/{}/wikidata.sqlite3.db\".format(output_path, temp_folder)\n",
    "\n",
    "#Python variables\n",
    "if cache_path:\n",
    "    store = \"{}/wikidata.sqlite3.db\".format(cache_path)\n",
    "else:\n",
    "    store = \"{}/{}/wikidata.sqlite3.db\".format(output_path, temp_folder)\n",
    "\n",
    "out = \"{}/{}\".format(output_path, output_folder)\n",
    "temp = \"{}/{}\".format(output_path, temp_folder)\n",
    "\n",
    "claims = wiki_root_folder + claims_file\n",
    "labels = wiki_root_folder + label_file\n",
    "aliases = wiki_root_folder + alias_file\n",
    "descriptions = wiki_root_folder + description_file\n",
    "items = wiki_root_folder + item_file\n",
    "quals = wiki_root_folder + qual_file\n",
    "datatypes = wiki_root_folder + property_datatypes_file\n",
    "metadata = wiki_root_folder + metadata_file #Add\n",
    "isa = wiki_root_folder + isa_file\n",
    "p279star = wiki_root_folder + p279star_file\n",
    "out_degree = wiki_root_folder + out_degree_file\n",
    "\n",
    "# shortcuts to commands\n",
    "kgtk = \"time kgtk --debug\"\n",
    "kypher = \"kgtk query --debug --graph-cache \" + store"
   ]
  },
  {
   "cell_type": "code",
   "execution_count": null,
   "metadata": {},
   "outputs": [],
   "source": [
    "#Check files\n",
    "#Example\n",
    "#Q34508 - video tape recording\n",
    "\n",
    "# !gzcat {p279star} | head\n",
    "# !gzcat {descriptions} | head\n",
    "\n",
    "# !zgrep 'Q34508' {datatypes}\n",
    "# !zgrep '\\Q.*' {datatypes}\n",
    "# !zgrep 'Q34508' {claims}"
   ]
  },
  {
   "cell_type": "markdown",
   "metadata": {},
   "source": [
    "Go to the output directory and create the subfolders for the output files and the temporary files"
   ]
  },
  {
   "cell_type": "code",
   "execution_count": 4,
   "metadata": {},
   "outputs": [
    {
     "name": "stdout",
     "output_type": "stream",
     "text": [
      "mkdir: /Users/markmann/Downloads/subset/output: File exists\n",
      "mkdir: /Users/markmann/Downloads/subset/temp.output: File exists\n"
     ]
    }
   ],
   "source": [
    "!cd $output_path\n",
    "!mkdir {out}\n",
    "!mkdir {temp}"
   ]
  },
  {
   "cell_type": "markdown",
   "metadata": {},
   "source": [
    "Clean up the output and temp folders before we start"
   ]
  },
  {
   "cell_type": "code",
   "execution_count": null,
   "metadata": {},
   "outputs": [],
   "source": [
    "# !rm {out}/*.tsv {out}/*.tsv.gz\n",
    "# !rm {temp}/*.tsv {temp}/*.tsv.gz\n",
    "\n",
    "if delete_database:\n",
    "    !rm {out}/*.tsv {out}/*.tsv.gz\n",
    "    !rm {temp}/*.tsv {temp}/*.tsv.gz"
   ]
  },
  {
   "cell_type": "code",
   "execution_count": null,
   "metadata": {},
   "outputs": [],
   "source": [
    "#COPY REFERENCE FILES\n",
    "# !cp {datatypes} {out}\n",
    "# !cp {metadata} {out}"
   ]
  },
  {
   "cell_type": "markdown",
   "metadata": {},
   "source": [
    "### Preview the input files"
   ]
  },
  {
   "cell_type": "markdown",
   "metadata": {},
   "source": [
    "It is always a good practice to peek a the files to make sure the column headings are what we expect"
   ]
  },
  {
   "cell_type": "code",
   "execution_count": null,
   "metadata": {},
   "outputs": [],
   "source": [
    "!{kypher} -i {claims} \\\n",
    "--match '()-[]->()' \\\n",
    "--limit 10"
   ]
  },
  {
   "cell_type": "markdown",
   "metadata": {},
   "source": [
    "## Creating a list of all the items  to remove"
   ]
  },
  {
   "cell_type": "code",
   "execution_count": 9,
   "metadata": {},
   "outputs": [],
   "source": [
    "remove_list = set()"
   ]
  },
  {
   "cell_type": "markdown",
   "metadata": {},
   "source": [
    "**Add classes to remove <u>directly</u> here:** <br>\n",
    "- **Example:** Let's remove the class (videotape recording, 'Q34508')\n",
    "- **NOTE:** This will only remove items that have a P31/P279 relation with the class"
   ]
  },
  {
   "cell_type": "code",
   "execution_count": 25,
   "metadata": {},
   "outputs": [
    {
     "data": {
      "text/plain": [
       "[None]"
      ]
     },
     "execution_count": 25,
     "metadata": {},
     "output_type": "execute_result"
    }
   ],
   "source": [
    "remove_classes_list = set()\n",
    "classes_to_remove = ['Q34508'] #Parameter: Add classes manually here\n",
    "[remove_classes_list.add(cl) for cl in classes_to_remove]"
   ]
  },
  {
   "cell_type": "markdown",
   "metadata": {},
   "source": [
    "**Compute classes to remove, based on <u>instances</u> here:**\n",
    "- **Example:** Let's remove classes that are part of instance (Fireball, 'Q5451712'), (Bush, 'Q1017471'), and (Italin Grape Alle, 'Q67772833')\n",
    "- **NOTE:** The expected class to remove is (whisky, 'Q281'), (beer, 'Q44'), (beer brand, Q15075508), and (ale, 'Q208385')"
   ]
  },
  {
   "cell_type": "code",
   "execution_count": 26,
   "metadata": {},
   "outputs": [
    {
     "name": "stdout",
     "output_type": "stream",
     "text": [
      "[2021-02-09 12:07:03 query]: SQL Translation:\n",
      "---------------------------------------------\n",
      "  SELECT *\n",
      "     FROM graph_1 AS graph_1_c1\n",
      "     WHERE graph_1_c1.\"label\"=?\n",
      "     AND (graph_1_c1.\"node1\" IN (?, ?, ?))\n",
      "  PARAS: ['P31', 'Q5451712', 'Q1017471', 'Q67772833']\n",
      "---------------------------------------------\n",
      "[2021-02-09 12:07:04 query]: SQL Translation:\n",
      "---------------------------------------------\n",
      "  SELECT *\n",
      "     FROM graph_1 AS graph_1_c1\n",
      "     WHERE graph_1_c1.\"label\"=?\n",
      "     AND (graph_1_c1.\"node1\" IN (?, ?, ?))\n",
      "  PARAS: ['P279', 'Q5451712', 'Q1017471', 'Q67772833']\n",
      "---------------------------------------------\n",
      "{'Q44', 'Q208385', 'Q34508', 'Q15075508', 'Q281'}\n"
     ]
    }
   ],
   "source": [
    "#For each instance, find all classes associated with that instance\n",
    "instances_to_remove = ['Q5451712', 'Q1017471', 'Q67772833'] #Parameter: Add instances manually here\n",
    "instances = ', '.join([f'\"{instance}\"' for instance in instances_to_remove])\n",
    "\n",
    "#Query for instancess\n",
    "# !{kypher} -i {claims} \\\n",
    "!{kypher} -i {claims} -o {temp}/classes.remove.p31.tsv.gz \\\n",
    "--match '(instance)-[:P31]->(c)' \\\n",
    "--where 'instance in [{instances}]' \\\n",
    "\n",
    "#Query for subclasses\n",
    "# !{kypher} -i {claims} \\\n",
    "!{kypher} -i {claims} -o {temp}/classes.remove.p279.tsv.gz \\\n",
    "--match '(instance)-[:P279]->(c)' \\\n",
    "--where 'instance in [{instances}]' \\\n",
    "\n",
    "#Concatenate into a single file\n",
    "!kgtk cat -i {temp}/classes.remove.p31.tsv.gz -i {temp}/classes.remove.p279.tsv.gz \\\n",
    "-o {temp}/classes.remove.tsv.gz\n",
    "\n",
    "# Deduplicate the returned classes - in place\n",
    "!kgtk unique -i {temp}/classes.remove.tsv.gz \\\n",
    "-o {temp}/classes.remove.tsv.gz\n",
    "\n",
    "# Extract classes and add to a list\n",
    "fd = gzip.open(f'{temp}/classes.remove.tsv.gz', 'rt')\n",
    "lines=fd.readlines()\n",
    "[remove_classes_list.add(line.split('\\t')[0]) for line in lines[1:]]\n",
    "# print(remove_classes_list)"
   ]
  },
  {
   "cell_type": "markdown",
   "metadata": {},
   "source": [
    "### Compute the items to be removed via classes\n",
    "\n",
    "First look at the classes we will remove"
   ]
  },
  {
   "cell_type": "code",
   "execution_count": 54,
   "metadata": {},
   "outputs": [
    {
     "name": "stdout",
     "output_type": "stream",
     "text": [
      "classes to remove:  \"Q44\", \"Q208385\", \"Q34508\", \"Q15075508\", \"Q281\"\n"
     ]
    }
   ],
   "source": [
    "classes = '\"' + '\", \"'.join(list(remove_classes_list)) + '\"'\n",
    "print(\"classes to remove: \", classes)\n",
    "# cmd = \"wd u {}\".format(\" \".join(remove_classes.split(\",\")))\n",
    "# !{cmd}"
   ]
  },
  {
   "cell_type": "markdown",
   "metadata": {},
   "source": [
    "Compose the kypher command to remove the classes"
   ]
  },
  {
   "cell_type": "markdown",
   "metadata": {},
   "source": [
    "Run the command, the items to remove will be in file `{temp}/items.remove.byclass.tsv.gz`"
   ]
  },
  {
   "cell_type": "code",
   "execution_count": 55,
   "metadata": {},
   "outputs": [
    {
     "name": "stdout",
     "output_type": "stream",
     "text": [
      "[2021-02-09 12:18:33 query]: SQL Translation:\n",
      "---------------------------------------------\n",
      "  SELECT DISTINCT graph_2_c1.\"node1\", ? \"_aLias.label\", graph_3_c2.\"node2\" \"_aLias.node2\"\n",
      "     FROM graph_2 AS graph_2_c1, graph_3 AS graph_3_c2\n",
      "     WHERE graph_2_c1.\"label\"=?\n",
      "     AND graph_2_c1.\"node2\"=graph_3_c2.\"node1\"\n",
      "     AND (graph_3_c2.\"node2\" IN (?, ?, ?, ?, ?))\n",
      "  PARAS: ['p31_p279star', 'isa', 'Q44', 'Q208385', 'Q34508', 'Q15075508', 'Q281']\n",
      "---------------------------------------------\n",
      "^C\n"
     ]
    }
   ],
   "source": [
    "!{kypher}  -i {isa} -i {p279star} -o {temp}/items.remove.byclass.tsv.gz \\\n",
    "--match 'isa: (n1)-[:isa]->(c), P279star: (c)-[]->(class)' \\\n",
    "--where 'class in [{classes}]' \\\n",
    "--return 'distinct n1, \"p31_p279star\" as label, class as node2'"
   ]
  },
  {
   "cell_type": "markdown",
   "metadata": {},
   "source": [
    "### Compute the items to be removed via out degree\n",
    "\n",
    "Specify the # of node out-degrees (`degrees`), and remove those less than a certain degree\n",
    "\n",
    "- **EXAMPLE:** Remove all items that have out-degree less than 5"
   ]
  },
  {
   "cell_type": "code",
   "execution_count": 95,
   "metadata": {},
   "outputs": [
    {
     "name": "stdout",
     "output_type": "stream",
     "text": [
      "[2021-02-09 13:16:35 query]: SQL Translation:\r\n",
      "---------------------------------------------\r\n",
      "  SELECT *\r\n",
      "     FROM graph_7 AS graph_7_c1\r\n",
      "     WHERE graph_7_c1.\"label\"=?\r\n",
      "     AND (CAST(graph_7_c1.\"node2\" AS integer) <= ?)\r\n",
      "  PARAS: ['out_degree', 12]\r\n",
      "---------------------------------------------\r\n",
      "node1\tnode2\tlabel\tid\r\n",
      "P1000\t10\tout_degree\tP1000-out_degree-10-0000\r\n",
      "P1002\t9\tout_degree\tP1002-out_degree-9-0000\r\n",
      "P1011\t10\tout_degree\tP1011-out_degree-10-0000\r\n",
      "P1012\t9\tout_degree\tP1012-out_degree-9-0000\r\n",
      "P1016\t9\tout_degree\tP1016-out_degree-9-0000\r\n",
      "P1018\t11\tout_degree\tP1018-out_degree-11-0000\r\n",
      "P1019\t8\tout_degree\tP1019-out_degree-8-0000\r\n",
      "P1026\t12\tout_degree\tP1026-out_degree-12-0000\r\n"
     ]
    }
   ],
   "source": [
    "#Check out the file itself\n",
    "# !zcat < {out_degree} | head -n 30 \n",
    "\n",
    "degrees = 12 #Parameter\n",
    "\n",
    "#TODO: Update with a larger file\n",
    "!{kypher} -i {temp}/metadata.out_degree.test.tsv.gz \\\n",
    "-o {temp}/items.remove.bydegree.tsv.gz \\\n",
    "--match '(n1)-[:out_degree]->(n2)' \\\n",
    "--where 'cast(n2, integer) <= {degrees}'"
   ]
  },
  {
   "cell_type": "code",
   "execution_count": null,
   "metadata": {},
   "outputs": [],
   "source": [
    "#TODO: Cat the items.remove.byclass and items.remove.bydegree\n",
    "\n",
    "#TODO: Deduplicate the resulting concatenated file"
   ]
  },
  {
   "cell_type": "markdown",
   "metadata": {},
   "source": [
    "Preview the `items.remove` file. Count number of class instances to remove"
   ]
  },
  {
   "cell_type": "code",
   "execution_count": null,
   "metadata": {},
   "outputs": [],
   "source": [
    "# !zcat < {temp}/items.remove.tsv.gz | head | col\n",
    "\n",
    "#Count of remove-list class Q34508 in claims file\n",
    "# !zgrep 'Q34508' {claims} -c #466\n",
    "# !zgrep '/tQ5/t' {claims} -c\n",
    "\n",
    "#Count the remove-list class (Q34508) in items.remove.tsv\n",
    "!zcat < {temp}/items.remove.tsv.gz\n",
    "# !zgrep 'Q34508' {temp}/items.remove.tsv.gz -c #466"
   ]
  },
  {
   "cell_type": "code",
   "execution_count": null,
   "metadata": {},
   "outputs": [],
   "source": [
    "!zcat < {temp}/items.remove.tsv.gz | wc"
   ]
  },
  {
   "cell_type": "code",
   "execution_count": null,
   "metadata": {},
   "outputs": [],
   "source": [
    "# !zcat < {temp}/items.remove.tsv.gz | grep 'Q34508'"
   ]
  },
  {
   "cell_type": "code",
   "execution_count": null,
   "metadata": {},
   "outputs": [],
   "source": [
    "# !zcat < {temp}/items.remove.tsv.gz | grep 'Q15874936\\t'"
   ]
  },
  {
   "cell_type": "markdown",
   "metadata": {},
   "source": [
    "Collect all the classes of items we will remove, just as a sanity check"
   ]
  },
  {
   "cell_type": "code",
   "execution_count": null,
   "metadata": {},
   "outputs": [],
   "source": [
    "!{kypher} -i {temp}/items.remove.tsv.gz \\\n",
    "--match '()-[]->(n2)' \\\n",
    "--return 'distinct n2' \\\n",
    "--limit 10"
   ]
  },
  {
   "cell_type": "markdown",
   "metadata": {},
   "source": [
    "## [TODO] Create a list of all items to protect"
   ]
  },
  {
   "cell_type": "markdown",
   "metadata": {},
   "source": [
    "## Create the reduced edges file"
   ]
  },
  {
   "cell_type": "markdown",
   "metadata": {},
   "source": [
    "### Remove the items from the all.tsv and the label, alias and description files\n",
    "We will be left with `reduced` files where the edges do not have the unwanted items. We have to remove them from the node1 and node2 positions, so we need to run the ifnotexists commands twice.\n",
    "\n",
    "Before we start preview the files to see the column headings and check whether they look sorted."
   ]
  },
  {
   "cell_type": "code",
   "execution_count": null,
   "metadata": {},
   "outputs": [],
   "source": [
    "!$kgtk sort2 -i {temp}/items.remove.tsv.gz -o {temp}/items.remove.sorted.tsv.gz"
   ]
  },
  {
   "cell_type": "code",
   "execution_count": null,
   "metadata": {},
   "outputs": [],
   "source": [
    "!zcat < {temp}/items.remove.sorted.tsv.gz | head | col\n",
    "# !zgrep 'Q34508' {temp}/items.remove.sorted.tsv.gz -c #466"
   ]
  },
  {
   "cell_type": "code",
   "execution_count": null,
   "metadata": {},
   "outputs": [],
   "source": [
    "!zcat < {claims} | head -5 | col"
   ]
  },
  {
   "cell_type": "markdown",
   "metadata": {},
   "source": [
    "Remove from the full set of edges those edges that have a `node1` present in `items.remove.sorted.tsv`"
   ]
  },
  {
   "cell_type": "code",
   "execution_count": null,
   "metadata": {},
   "outputs": [],
   "source": [
    "!$kgtk ifnotexists -i {claims} -o {temp}/item.edges.reduced.tsv.gz \\\n",
    "--filter-on {temp}/items.remove.sorted.tsv.gz \\\n",
    "--input-keys node1 \\\n",
    "--filter-keys node1 \\\n",
    "--presorted "
   ]
  },
  {
   "cell_type": "markdown",
   "metadata": {},
   "source": [
    "From the remaining edges, remove those that have a `node2` present in `items.remove.sorted.tsv`"
   ]
  },
  {
   "cell_type": "code",
   "execution_count": null,
   "metadata": {},
   "outputs": [],
   "source": [
    "!$kgtk sort2 -i {temp}/item.edges.reduced.tsv.gz -o {temp}/item.edges.reduced.sorted.tsv.gz \\\n",
    "--columns node2 label node1 id"
   ]
  },
  {
   "cell_type": "code",
   "execution_count": null,
   "metadata": {},
   "outputs": [],
   "source": [
    "!$kgtk ifnotexists -i {temp}/item.edges.reduced.sorted.tsv.gz -o {temp}/item.edges.reduced.2.tsv.gz \\\n",
    "--filter-on {temp}/items.remove.sorted.tsv.gz \\\n",
    "--input-keys node2 \\\n",
    "--filter-keys node1 \\\n",
    "--presorted "
   ]
  },
  {
   "cell_type": "markdown",
   "metadata": {},
   "source": [
    "Create a file with the labels"
   ]
  },
  {
   "cell_type": "code",
   "execution_count": null,
   "metadata": {},
   "outputs": [],
   "source": [
    "!$kgtk ifnotexists -i {labels} -o {temp}/label.edges.reduced.tsv.gz \\\n",
    "--filter-on {temp}/items.remove.sorted.tsv.gz \\\n",
    "--input-keys node1 \\\n",
    "--filter-keys node1 \\\n",
    "--presorted"
   ]
  },
  {
   "cell_type": "code",
   "execution_count": null,
   "metadata": {},
   "outputs": [],
   "source": [
    "languages = ['en']"
   ]
  },
  {
   "cell_type": "code",
   "execution_count": null,
   "metadata": {},
   "outputs": [],
   "source": [
    "#GOAL: Must sort the labels file\n",
    "\n",
    "#NOT WORKING \n",
    "# for lang in languages:\n",
    "#     cmd = f\"kgtk sort2 -i {temp}/label.{lang}.edges.reduced.tsv.gz -o {out}/labels.{lang}.tsv.gz\" \n",
    "#     !$cmd\n",
    "\n",
    "#WORKING\n",
    "!$kgtk sort2 -i {temp}/label.edges.reduced.tsv.gz -o {out}/labels.tsv.gz"
   ]
  },
  {
   "cell_type": "markdown",
   "metadata": {},
   "source": [
    "Create a file with the aliases"
   ]
  },
  {
   "cell_type": "code",
   "execution_count": null,
   "metadata": {},
   "outputs": [],
   "source": [
    "!$kgtk ifnotexists -i {aliases} -o {temp}/alias.edges.reduced.tsv.gz \\\n",
    "--filter-on {temp}/items.remove.sorted.tsv.gz \\\n",
    "--input-keys node1 \\\n",
    "--filter-keys node1 \\\n",
    "--presorted"
   ]
  },
  {
   "cell_type": "code",
   "execution_count": null,
   "metadata": {},
   "outputs": [],
   "source": [
    "#NOT WORKING: Languages issue\n",
    "# for lang in languages:\n",
    "#     cmd = f\"kgtk --debug ifnotexists -i {wiki_root_folder}aliases.{lang}.tsv.gz \\\n",
    "#     -o {temp}/alias.{lang}.edges.reduced.tsv.gz \\\n",
    "#     --filter-on {temp}/items.remove.sorted.tsv.gz \\\n",
    "#     --input-keys node1 \\\n",
    "#     --filter-keys node1 \\\n",
    "#     --presorted\"\n",
    "#     !$cmd"
   ]
  },
  {
   "cell_type": "code",
   "execution_count": null,
   "metadata": {},
   "outputs": [],
   "source": [
    "# for lang in languages:\n",
    "#     cmd = f\"kgtk sort2 -i {temp}/alias.{lang}.edges.reduced.tsv.gz -o {out}/aliases.{lang}.tsv.gz\" \n",
    "#     !$cmd"
   ]
  },
  {
   "cell_type": "markdown",
   "metadata": {},
   "source": [
    "Create a file with the descriptions"
   ]
  },
  {
   "cell_type": "code",
   "execution_count": null,
   "metadata": {},
   "outputs": [],
   "source": [
    "!$kgtk ifnotexists -i {descriptions} -o {temp}/description.edges.reduced.tsv.gz \\\n",
    "--filter-on {temp}/items.remove.sorted.tsv.gz \\\n",
    "--input-keys node1 \\\n",
    "--filter-keys node1 \\\n",
    "--presorted"
   ]
  },
  {
   "cell_type": "code",
   "execution_count": null,
   "metadata": {},
   "outputs": [],
   "source": [
    "# for lang in languages:\n",
    "#     cmd = f\"kgtk --debug ifnotexists -i {wiki_root_folder}descriptions.{lang}.tsv.gz \\\n",
    "#     -o {temp}/description.{lang}.edges.reduced.tsv.gz \\\n",
    "#     --filter-on {temp}/items.remove.sorted.tsv.gz \\\n",
    "#     --input-keys node1 \\\n",
    "#     --filter-keys node1 \\\n",
    "#     --presorted\"\n",
    "#     !$cmd"
   ]
  },
  {
   "cell_type": "code",
   "execution_count": null,
   "metadata": {},
   "outputs": [],
   "source": [
    "# for lang in languages:\n",
    "#     cmd = f\"kgtk sort2 -i {temp}/description.{lang}.edges.reduced.tsv.gz -o {out}/descriptions.{lang}.tsv.gz\" \n",
    "#     !$cmd"
   ]
  },
  {
   "cell_type": "markdown",
   "metadata": {},
   "source": [
    "### Produce the output files for claims, labels, aliases and descriptions"
   ]
  },
  {
   "cell_type": "code",
   "execution_count": null,
   "metadata": {},
   "outputs": [],
   "source": [
    "!$kgtk sort2 -i {temp}/item.edges.reduced.2.tsv.gz -o {out}/claims.tsv.gz "
   ]
  },
  {
   "cell_type": "code",
   "execution_count": null,
   "metadata": {},
   "outputs": [],
   "source": [
    "!$kgtk sort2 -i {temp}/label.edges.reduced.tsv.gz -o {out}/labels.en.tsv.gz "
   ]
  },
  {
   "cell_type": "code",
   "execution_count": null,
   "metadata": {},
   "outputs": [],
   "source": [
    "!$kgtk sort2 -i {temp}/alias.edges.reduced.tsv.gz -o {out}/aliases.en.tsv.gz "
   ]
  },
  {
   "cell_type": "code",
   "execution_count": null,
   "metadata": {},
   "outputs": [],
   "source": [
    "!$kgtk sort2 -i {temp}/description.edges.reduced.tsv.gz -o {out}/descriptions.en.tsv.gz "
   ]
  },
  {
   "cell_type": "markdown",
   "metadata": {},
   "source": [
    "Sanity checks to see if it looks reasonable"
   ]
  },
  {
   "cell_type": "markdown",
   "metadata": {},
   "source": [
    "## Tests: Check each output file if class was removed / protected"
   ]
  },
  {
   "cell_type": "code",
   "execution_count": null,
   "metadata": {},
   "outputs": [],
   "source": [
    "#test_1/remove-list/Q34508 removed? \n",
    "# !zcat < {out}/claims.tsv.gz | head | col\n",
    "!zgrep 'Q34508' {temp}/item.edges.reduced.2.tsv.gz -c\n",
    "# !zgrep 'Q34508' {out}/claims.tsv.gz -c #"
   ]
  },
  {
   "cell_type": "markdown",
   "metadata": {},
   "source": [
    "## Create the reduced qualifiers file\n",
    "We do this by finding all the ids of the reduced edges file, and then selecting out from `qual.tsv`\n",
    "\n",
    "We need to join by id, so we need to sort both files by id, node1, label, node2:\n",
    "\n",
    "- `{quals}` \n",
    "- `{out}/claims.tsv.gz` "
   ]
  },
  {
   "cell_type": "code",
   "execution_count": null,
   "metadata": {},
   "outputs": [],
   "source": [
    "!zcat < {quals} | head | column -t -s $'\\t' "
   ]
  },
  {
   "cell_type": "markdown",
   "metadata": {},
   "source": [
    "Run `ifexists` to select out the quals for the edges in `{out}/wikidataos.qual.tsv.gz`. Note that we use `node1` in the qualifier file, matching to `id` in the `wikidataos.all.tsv` file."
   ]
  },
  {
   "cell_type": "code",
   "execution_count": null,
   "metadata": {},
   "outputs": [],
   "source": [
    "!$kgtk ifexists -i {quals} -o {out}/qualifiers.tsv.gz \\\n",
    "--filter-on {out}/claims.tsv.gz \\\n",
    "--input-keys node1 \\\n",
    "--filter-keys id \\\n",
    "--presorted"
   ]
  },
  {
   "cell_type": "markdown",
   "metadata": {},
   "source": [
    "Look at the final output for qualifiers"
   ]
  },
  {
   "cell_type": "code",
   "execution_count": null,
   "metadata": {},
   "outputs": [],
   "source": [
    "!zcat < {out}/qualifiers.tsv.gz | head | col"
   ]
  },
  {
   "cell_type": "code",
   "execution_count": null,
   "metadata": {},
   "outputs": [],
   "source": [
    "# kgtk_path = \"/Users/pedroszekely/Documents/GitHub/kgtk\"\n",
    "kgtk_path = \"/Users/markmann/Desktop/CKG/kgtk_subset/kgtk\"\n",
    "os.environ[\"EXAMPLES_DIR\"] = kgtk_path + \"/examples\"\n",
    "os.environ[\"USECASE_DIR\"] = kgtk_path + \"/use-cases\"\n",
    "os.environ[\"TEMP\"] = temp\n",
    "os.environ[\"OUT\"] = out\n",
    "os.environ[\"DATATYPES\"] = datatypes\n",
    "os.environ[\"METADATA\"] = metadata"
   ]
  },
  {
   "cell_type": "code",
   "execution_count": null,
   "metadata": {},
   "outputs": [],
   "source": [
    "!ls \"$TEMP\""
   ]
  },
  {
   "cell_type": "code",
   "execution_count": null,
   "metadata": {},
   "outputs": [],
   "source": [
    "!ls \"$OUT\""
   ]
  },
  {
   "cell_type": "code",
   "execution_count": null,
   "metadata": {},
   "outputs": [],
   "source": [
    "!kgtk cat \\\n",
    "-i \"$OUT\"/aliases.en.tsv.gz \\\n",
    "-i \"$OUT\"/descriptions.en.tsv.gz \\\n",
    "-i \"$OUT\"/qualifiers.tsv.gz \\\n",
    "-i \"$OUT\"/claims.tsv.gz \\\n",
    "-i \"$OUT\"/labels.en.tsv.gz \\\n",
    "-i \"$OUT\"/metadata.property.datatypes.tsv.gz \\\n",
    "-i \"$OUT\"/metadata.types.tsv.gz \\\n",
    "-o \"$OUT\"/all.tsv.gz"
   ]
  },
  {
   "cell_type": "code",
   "execution_count": null,
   "metadata": {},
   "outputs": [],
   "source": [
    "!ls {os.environ[\"EXAMPLES_DIR\"] + \"/partition-wikidata.ipynb\"}"
   ]
  },
  {
   "cell_type": "code",
   "execution_count": null,
   "metadata": {},
   "outputs": [],
   "source": [
    "pm.execute_notebook(\n",
    "    os.environ[\"EXAMPLES_DIR\"] + \"/partition-wikidata.ipynb\",\n",
    "    os.environ[\"TEMP\"] + \"/partition-wikidata.out.ipynb\",\n",
    "    parameters=dict(\n",
    "        wikidata_input_path = os.environ[\"OUT\"] + \"/all.tsv.gz\",\n",
    "        wikidata_parts_path = os.environ[\"OUT\"] + \"/parts\",\n",
    "        temp_folder_path = os.environ[\"OUT\"] + \"/parts/temp\",\n",
    "        sort_extras = \"--buffer-size 30% --temporary-directory $OUT/parts/temp\",\n",
    "        verbose = False\n",
    "    )\n",
    ")\n",
    ";"
   ]
  },
  {
   "cell_type": "code",
   "execution_count": null,
   "metadata": {},
   "outputs": [],
   "source": [
    "pm.execute_notebook(\n",
    "    os.environ[\"USECASE_DIR\"] + \"/Wikidata Useful Files.ipynb\",\n",
    "    os.environ[\"TEMP\"] + \"/Wikidata Useful Files Out.ipynb\",\n",
    "    parameters=dict(\n",
    "        output_path = os.environ[\"OUT\"],\n",
    "        output_folder = \"useful_files\",\n",
    "        temp_folder = \"temp.useful_files\",\n",
    "        wiki_root_folder = os.environ[\"OUT\"] + \"/parts/\",\n",
    "        cache_path = os.environ[\"OUT\"] + \"/temp.useful_files\",\n",
    "        languages = 'en',\n",
    "        compute_pagerank = True,\n",
    "        delete_database = False\n",
    "    )\n",
    ")\n",
    ";"
   ]
  },
  {
   "cell_type": "markdown",
   "metadata": {},
   "source": [
    "## Sanity checks\n",
    "\n",
    "- After removing classes, check that the class does not occur in the resulting claims file. \n",
    "- After protecting classes, check the class was occurs in the resulting claims file."
   ]
  },
  {
   "cell_type": "markdown",
   "metadata": {},
   "source": [
    "Check that the class we removed `Q34508` was removed from claims file"
   ]
  },
  {
   "cell_type": "code",
   "execution_count": null,
   "metadata": {},
   "outputs": [],
   "source": [
    "!{kypher} -i {out}/claims.tsv.gz \\\n",
    "--match '(n1:Q34508)-[l]->(n2)' \\\n",
    "--limit 10 \\\n",
    "| col"
   ]
  },
  {
   "cell_type": "code",
   "execution_count": null,
   "metadata": {},
   "outputs": [],
   "source": [
    "!{kypher} -i {out}/claims.tsv.gz \\\n",
    "--match '(n1:P131)-[l]->(n2)' \\\n",
    "--limit 10 \\\n",
    "| col"
   ]
  },
  {
   "cell_type": "markdown",
   "metadata": {},
   "source": [
    "## Compute the derived files using the `Wikidata Useful Files` Jupyter notebook"
   ]
  },
  {
   "cell_type": "markdown",
   "metadata": {},
   "source": [
    "Compute `claims.wikibase-item.tsv.gz` which would be computed by the Wikidata partitioner, but we are not using it here yet"
   ]
  },
  {
   "cell_type": "code",
   "execution_count": null,
   "metadata": {},
   "outputs": [],
   "source": [
    "!zcat < \"{datatypes}\" | head | col"
   ]
  },
  {
   "cell_type": "code",
   "execution_count": null,
   "metadata": {},
   "outputs": [],
   "source": [
    "!{kypher} -i {out}/claims.tsv.gz -i \"{datatypes}\" -o {out}/claims.wikibase-item.tsv.gz \\\n",
    "--match 'claims: (n1)-[l {label: p}]->(n2), datatypes: (p)-[:datatype]->(:`wikibase-item`)' \\\n",
    "--return 'l as id, n1 as node1, p as label, n2 as node2' \\\n",
    "--order-by 'l' "
   ]
  },
  {
   "cell_type": "markdown",
   "metadata": {},
   "source": [
    "To compute the derived files we use papermill to run the `Wikidata Useful Files` notebook."
   ]
  },
  {
   "cell_type": "code",
   "execution_count": null,
   "metadata": {
    "scrolled": true
   },
   "outputs": [],
   "source": [
    "pm.execute_notebook(\n",
    "    notebooks_folder + useful_files_notebook,\n",
    "    temp + \"/useful_files_notebook_output.ipynb\",\n",
    "    parameters=dict(\n",
    "        output_path=output_path,\n",
    "        output_folder=output_folder,\n",
    "        temp_folder=temp_folder,\n",
    "        wiki_root_folder=wiki_root_folder,\n",
    "        claims_file=\"claims.tsv.gz\",\n",
    "        label_file=\"labels.en.tsv.gz\",\n",
    "        alias_file=\"aliases.en.tsv.gz\",\n",
    "        description_file=\"descriptions.en.tsv.gz\",\n",
    "        item_file=\"claims.wikibase-item.tsv.gz\",\n",
    "        cache_path=cache_path,\n",
    "        delete_database=delete_database,\n",
    "        compute_pagerank=compute_pagerank\n",
    "    )\n",
    ")"
   ]
  },
  {
   "cell_type": "markdown",
   "metadata": {},
   "source": [
    "Look at the columns so we know how to construct the kypher query"
   ]
  },
  {
   "cell_type": "markdown",
   "metadata": {},
   "source": [
    "## Summary of results"
   ]
  },
  {
   "cell_type": "code",
   "execution_count": null,
   "metadata": {},
   "outputs": [],
   "source": [
    "!ls -lh {out}/*wikidataos.*"
   ]
  },
  {
   "cell_type": "code",
   "execution_count": null,
   "metadata": {},
   "outputs": [],
   "source": [
    "!zcat < {out}/wikidataos.all.tsv.gz | wc"
   ]
  },
  {
   "cell_type": "markdown",
   "metadata": {},
   "source": [
    "## Verification"
   ]
  },
  {
   "cell_type": "markdown",
   "metadata": {},
   "source": [
    "The edges file must contain edges for properties, this is not the case on 2020-11-10`\n"
   ]
  },
  {
   "cell_type": "code",
   "execution_count": null,
   "metadata": {},
   "outputs": [],
   "source": [
    "!{kgtk} -i \"{claims}\" \\\n",
    "--match '(:P10)-[l]->(n2)' \\\n",
    "--limit 10"
   ]
  },
  {
   "cell_type": "markdown",
   "metadata": {},
   "source": [
    "## concatenate files to get the `all` file"
   ]
  },
  {
   "cell_type": "code",
   "execution_count": null,
   "metadata": {},
   "outputs": [],
   "source": [
    "lad = []\n",
    "if 'en' not in languages:\n",
    "    languages.append('en')\n",
    "for lang in languages:\n",
    "    lad.append(f\"{out}/labels.{lang}.tsv.gz\")\n",
    "    lad.append(f\"{out}/aliases.{lang}.tsv.gz\")\n",
    "    lad.append(f\"{out}/descriptions.{lang}.tsv.gz\")\n",
    "lad_file_list = \" \".join(lad)"
   ]
  },
  {
   "cell_type": "code",
   "execution_count": null,
   "metadata": {},
   "outputs": [],
   "source": [
    "!kgtk cat -i {out}/claims.tsv.gz \\\n",
    "{lad_file_list} \\\n",
    "{out}/qualifiers.tsv.gz \\\n",
    "{out}/metadata.pagerank.undirected.tsv.gz \\\n",
    "{out}/metadata.pagerank.directed.tsv.gz \\\n",
    "{out}/metadata.in_degree.tsv.gz \\\n",
    "{out}/metadata.out_degree.tsv.gz \\\n",
    "-o {out}/wikidataos.all.tsv.gz"
   ]
  },
  {
   "cell_type": "markdown",
   "metadata": {},
   "source": [
    "## concatenate files to get the `all for triples` file\n"
   ]
  },
  {
   "cell_type": "code",
   "execution_count": null,
   "metadata": {},
   "outputs": [],
   "source": [
    "!kgtk cat -i $OUT/wikidataos.all.tsv.gz \\\n",
    "$OUT/derived.P31.tsv.gz \\\n",
    "$OUT/derived.P279.tsv.gz \\\n",
    "$OUT/derived.isa.tsv.gz \\\n",
    "$OUT/derived.P279star.tsv.gz \\\n",
    "-o $OUT/wikidataos.all.for.triples.tsv.gz"
   ]
  },
  {
   "cell_type": "markdown",
   "metadata": {},
   "source": [
    "## Filter out `novalue`, `somevalue` and `P9`"
   ]
  },
  {
   "cell_type": "code",
   "execution_count": null,
   "metadata": {},
   "outputs": [],
   "source": [
    "!kgtk filter -i $OUT/wikidataos.all.for.triples.tsv.gz \\\n",
    "    -o $OUT/wikidataos.all.for.triples.filtered.tsv.gz \\\n",
    "    -p ';;somevalue,novalue,P9' --invert"
   ]
  },
  {
   "cell_type": "markdown",
   "metadata": {},
   "source": [
    "## Add ids for any edge with missing id"
   ]
  },
  {
   "cell_type": "code",
   "execution_count": null,
   "metadata": {},
   "outputs": [],
   "source": [
    "!kgtk add-id -i $OUT/wikidataos.all.for.triples.filtered.tsv.gz \\\n",
    "-o $OUT/wikidataos.all.for.triples.filtered.id.tsv.gz \\\n",
    "--id-style wikidata"
   ]
  },
  {
   "cell_type": "markdown",
   "metadata": {},
   "source": [
    "## Sort by `id`"
   ]
  },
  {
   "cell_type": "code",
   "execution_count": null,
   "metadata": {},
   "outputs": [],
   "source": [
    "!kgtk sort2 -i $OUT/wikidataos.all.for.triples.filtered.id.tsv.gz \\\n",
    "-o $OUT/wikidataos.all.for.triples.filtered.id.sorted.tsv.gz \n",
    "-c id"
   ]
  }
 ],
 "metadata": {
  "celltoolbar": "Tags",
  "kernelspec": {
   "display_name": "kgtk-subset",
   "language": "python",
   "name": "kgtk-subset"
  },
  "language_info": {
   "codemirror_mode": {
    "name": "ipython",
    "version": 3
   },
   "file_extension": ".py",
   "mimetype": "text/x-python",
   "name": "python",
   "nbconvert_exporter": "python",
   "pygments_lexer": "ipython3",
   "version": "3.7.9"
  }
 },
 "nbformat": 4,
 "nbformat_minor": 4
}
