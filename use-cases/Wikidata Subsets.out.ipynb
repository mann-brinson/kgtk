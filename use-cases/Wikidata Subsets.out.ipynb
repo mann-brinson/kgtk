{
 "cells": [
  {
   "cell_type": "markdown",
   "metadata": {
    "papermill": {
     "duration": 0.112541,
     "end_time": "2021-02-14T19:58:11.566934",
     "exception": false,
     "start_time": "2021-02-14T19:58:11.454393",
     "status": "completed"
    },
    "tags": []
   },
   "source": [
    "# Generating Subsets of Wikidata\n",
    "\n",
    ">Warning: \n",
    "**This notebook is under construction and it doesn't work**\n",
    "\n",
    "## Purpose\n",
    "\n",
    ">This notebook is used to create smaller subgraphs from a larger input Wikidata graph. Notebook users can provide a list of Wikidata classes (**QNodes**) to remove and preserve to create desired subsets of Wikidata. \n"
   ]
  },
  {
   "cell_type": "markdown",
   "metadata": {
    "papermill": {
     "duration": 0.068118,
     "end_time": "2021-02-14T19:58:11.707489",
     "exception": false,
     "start_time": "2021-02-14T19:58:11.639371",
     "status": "completed"
    },
    "tags": []
   },
   "source": [
    "### Batch Invocation\n",
    "Example batch command. The second argument is a notebook where the output will be stored. You can load it to see progress.\n",
    "\n",
    "UPDATE EXAMPLE INVOCATION\n",
    "\n",
    "\n",
    "```\n",
    "papermill Wikidata\\ Useful\\ Files.ipynb useful-files.out.ipynb \\\n",
    "-p wiki_file /Volumes/GoogleDrive/Shared\\ drives/KGTK-public-graphs/wikidata-20200803-v3/all.tsv.gz \\\n",
    "-p label_file /Volumes/GoogleDrive/Shared\\ drives/KGTK-public-graphs/wikidata-20200803-v3/part.label.en.tsv.gz \\\n",
    "-p item_file /Volumes/GoogleDrive/Shared\\ drives/KGTK-public-graphs/wikidata-20200803-v3/part.wikibase-item.tsv.gz \\\n",
    "-p property_item_file /Volumes/GoogleDrive/Shared\\ drives/KGTK-public-graphs/wikidata-20200803-v3/part.property.wikibase-item.tsv.gz \\\n",
    "-p qual_file /Volumes/GoogleDrive/Shared\\ drives/KGTK-public-graphs/wikidata-20200803-v3/qual.tsv.gz \\\n",
    "-p output_path <local folder> \\\n",
    "-p output_folder useful_files_v4 \\\n",
    "-p temp_folder temp.useful_files_v4 \\\n",
    "-p delete_database no \\\n",
    "-p compute_pagerank no \\\n",
    "-p languages es,ru,zh-cn \n",
    "```"
   ]
  },
  {
   "cell_type": "code",
   "execution_count": 1,
   "metadata": {
    "execution": {
     "iopub.execute_input": "2021-02-14T19:58:11.870305Z",
     "iopub.status.busy": "2021-02-14T19:58:11.869657Z",
     "iopub.status.idle": "2021-02-14T19:58:15.181000Z",
     "shell.execute_reply": "2021-02-14T19:58:15.179317Z"
    },
    "papermill": {
     "duration": 3.399939,
     "end_time": "2021-02-14T19:58:15.181409",
     "exception": false,
     "start_time": "2021-02-14T19:58:11.781470",
     "status": "completed"
    },
    "tags": []
   },
   "outputs": [],
   "source": [
    "import io\n",
    "import os\n",
    "import subprocess\n",
    "import sys\n",
    "\n",
    "import numpy as np\n",
    "import pandas as pd\n",
    "\n",
    "import papermill as pm\n",
    "\n",
    "import gzip"
   ]
  },
  {
   "cell_type": "code",
   "execution_count": 2,
   "metadata": {
    "execution": {
     "iopub.execute_input": "2021-02-14T19:58:15.383014Z",
     "iopub.status.busy": "2021-02-14T19:58:15.382305Z",
     "iopub.status.idle": "2021-02-14T19:58:15.386148Z",
     "shell.execute_reply": "2021-02-14T19:58:15.386637Z"
    },
    "papermill": {
     "duration": 0.092505,
     "end_time": "2021-02-14T19:58:15.386791",
     "exception": false,
     "start_time": "2021-02-14T19:58:15.294286",
     "status": "completed"
    },
    "tags": [
     "parameters"
    ]
   },
   "outputs": [],
   "source": [
    "# Parameters\n",
    "\n",
    "# Folder on local machine where to create the output and temporary folders\n",
    "# output_path = \"/Users/pedroszekely/Downloads/kypher\"\n",
    "# output_path = \"/Users/markmann/Downloads/subset\"\n",
    "# output_path = \"/nas/home/mbmann/subset\"\n",
    "output_path = \"/nas/home/mbmann/subset2\"\n",
    "\n",
    "# The names of the output and temporary folders\n",
    "output_folder = \"output\"\n",
    "temp_folder = \"temp.output\"\n",
    "\n",
    "# The location of input files\n",
    "# wiki_root_folder = \"/Volumes/GoogleDrive/Shared\\ drives/KGTK/datasets/wikidata-20200803-v4/\"\n",
    "# wiki_root_folder = \"/Volumes/GoogleDrive/Shared\\ drives/KGTK/datasets/wikidata-20200803-v4/\"\n",
    "# wiki_root_folder = \"/Users/pedroszekely/Downloads/kypher/wikidataos-v4/\"\n",
    "# wiki_root_folder = \"/Users/markmann/Google\\ Drive/Shared\\ drives/KGTK/datasets/wikidataos-v4-mm-2/\"\n",
    "wiki_root_folder = \"/nas/home/mbmann/kgtk/datasets/wikidataos-v4-mm-2/\"\n",
    "# wiki_root_folder = \"/nas/home/mbmann/KGTK-public-graphs2/wikidata-20201130/data/\" #TODO: Create mount point\n",
    "\n",
    "#TEST: For small dataset only \n",
    "metadata_folder = \"/nas/home/mbmann/kgtk/datasets/wikidata-20200803-v5/data/\"\n",
    "\n",
    "claims_file = \"claims.tsv.gz\"\n",
    "label_file = \"labels.en.tsv.gz\"\n",
    "alias_file = \"aliases.en.tsv.gz\"\n",
    "description_file = \"descriptions.en.tsv.gz\"\n",
    "item_file = \"claims.wikibase-item.tsv.gz\"\n",
    "qual_file = \"qualifiers.tsv.gz\"\n",
    "property_datatypes_file = \"metadata.property.datatypes.tsv.gz\"\n",
    "metadata_file = \"metadata.types.tsv.gz\" \n",
    "# isa_file = \"derived.isa.tsv.gz\" #Computed below\n",
    "# p279star_file = \"derived.P279star.tsv.gz\" #Computed below\n",
    "\n",
    "# Useful files Jupyter notebook\n",
    "useful_files_notebook = \"Wikidata Useful Files.ipynb\"\n",
    "# notebooks_folder = \"/Users/markmann/Desktop/CKG/kgtk_subset/kgtk/examples/\"\n",
    "notebooks_folder = \"/nas/home/mbmann/kgtk_subset/kgtk/examples/\"\n",
    "\n",
    "# Location of the cache database for kypher\n",
    "# cache_path = \"/Users/pedroszekely/Downloads/kypher/wikidataos-v4\"\n",
    "cache_path = f'{output_path}/{output_folder}'\n",
    "\n",
    "#Additional parameters\n",
    "delete_database = \"no\"\n",
    "compute_pagerank = \"no\"\n",
    "languages = \"en,\"\n",
    "\n",
    "### Needs fixing\n",
    "# Whether to delete the cache database\n",
    "if delete_database and delete_database.lower().strip() == 'yes':\n",
    "    delete_database = True\n",
    "else:\n",
    "    delete_database = False\n",
    "\n",
    "### Needs fixing\n",
    "if compute_pagerank and compute_pagerank.lower().strip() == 'yes':\n",
    "    compute_pagerank = True\n",
    "else:\n",
    "    compute_pagerank = False\n",
    "\n",
    "if languages:\n",
    "    languages = languages.split(',')"
   ]
  },
  {
   "cell_type": "markdown",
   "metadata": {
    "papermill": {
     "duration": 0.067852,
     "end_time": "2021-02-14T19:58:15.522751",
     "exception": false,
     "start_time": "2021-02-14T19:58:15.454899",
     "status": "completed"
    },
    "tags": []
   },
   "source": [
    "## Set up variables for files"
   ]
  },
  {
   "cell_type": "code",
   "execution_count": 3,
   "metadata": {
    "execution": {
     "iopub.execute_input": "2021-02-14T19:58:15.672390Z",
     "iopub.status.busy": "2021-02-14T19:58:15.671776Z",
     "iopub.status.idle": "2021-02-14T19:58:15.675306Z",
     "shell.execute_reply": "2021-02-14T19:58:15.675744Z"
    },
    "papermill": {
     "duration": 0.085229,
     "end_time": "2021-02-14T19:58:15.675898",
     "exception": false,
     "start_time": "2021-02-14T19:58:15.590669",
     "status": "completed"
    },
    "tags": []
   },
   "outputs": [],
   "source": [
    "#Environment variables\n",
    "if cache_path:\n",
    "    os.environ['STORE'] = \"{}/wikidata.sqlite3.db\".format(cache_path)\n",
    "else:\n",
    "    os.environ['STORE'] = \"{}/{}/wikidata.sqlite3.db\".format(output_path, temp_folder)\n",
    "\n",
    "#Python variables\n",
    "if cache_path:\n",
    "    store = \"{}/wikidata.sqlite3.db\".format(cache_path)\n",
    "else:\n",
    "    store = \"{}/{}/wikidata.sqlite3.db\".format(output_path, temp_folder)\n",
    "\n",
    "out = \"{}/{}\".format(output_path, output_folder)\n",
    "temp = \"{}/{}\".format(output_path, temp_folder)\n",
    "\n",
    "claims = wiki_root_folder + claims_file\n",
    "labels = wiki_root_folder + label_file\n",
    "aliases = wiki_root_folder + alias_file\n",
    "descriptions = wiki_root_folder + description_file\n",
    "items = wiki_root_folder + item_file\n",
    "quals = wiki_root_folder + qual_file\n",
    "\n",
    "#TEST\n",
    "datatypes = metadata_folder + property_datatypes_file\n",
    "metadata = metadata_folder + metadata_file\n",
    "\n",
    "#LIVE\n",
    "# datatypes = wiki_root_folder + property_datatypes_file\n",
    "# metadata = wiki_root_folder + metadata_file\n",
    "\n",
    "# shortcuts to commands\n",
    "kgtk_path = \"~/anaconda3/envs/kgtk-subset/bin/kgtk\"\n",
    "kgtk = f'time {kgtk_path} --debug'\n",
    "kypher = f\"{kgtk_path} query --debug --graph-cache \" + store"
   ]
  },
  {
   "cell_type": "markdown",
   "metadata": {
    "papermill": {
     "duration": 0.067755,
     "end_time": "2021-02-14T19:58:15.812878",
     "exception": false,
     "start_time": "2021-02-14T19:58:15.745123",
     "status": "completed"
    },
    "tags": []
   },
   "source": [
    "Go to the output directory and create the subfolders for the output files and the temporary files"
   ]
  },
  {
   "cell_type": "code",
   "execution_count": 4,
   "metadata": {
    "execution": {
     "iopub.execute_input": "2021-02-14T19:58:15.958653Z",
     "iopub.status.busy": "2021-02-14T19:58:15.958072Z",
     "iopub.status.idle": "2021-02-14T19:58:16.361764Z",
     "shell.execute_reply": "2021-02-14T19:58:16.360462Z"
    },
    "papermill": {
     "duration": 0.481012,
     "end_time": "2021-02-14T19:58:16.362030",
     "exception": false,
     "start_time": "2021-02-14T19:58:15.881018",
     "status": "completed"
    },
    "tags": []
   },
   "outputs": [
    {
     "name": "stdout",
     "output_type": "stream",
     "text": [
      "mkdir: cannot create directory ‘/nas/home/mbmann/subset2/output’: File exists\n",
      "mkdir: cannot create directory ‘/nas/home/mbmann/subset2/temp.output’: File exists\n"
     ]
    }
   ],
   "source": [
    "!cd $output_path\n",
    "!mkdir {out}\n",
    "!mkdir {temp}"
   ]
  },
  {
   "cell_type": "markdown",
   "metadata": {
    "papermill": {
     "duration": 0.073276,
     "end_time": "2021-02-14T19:58:16.550094",
     "exception": false,
     "start_time": "2021-02-14T19:58:16.476818",
     "status": "completed"
    },
    "tags": []
   },
   "source": [
    "Clean up the output and temp folders before we start"
   ]
  },
  {
   "cell_type": "code",
   "execution_count": 5,
   "metadata": {
    "execution": {
     "iopub.execute_input": "2021-02-14T19:58:16.717919Z",
     "iopub.status.busy": "2021-02-14T19:58:16.717374Z",
     "iopub.status.idle": "2021-02-14T19:58:16.721459Z",
     "shell.execute_reply": "2021-02-14T19:58:16.720901Z"
    },
    "papermill": {
     "duration": 0.083789,
     "end_time": "2021-02-14T19:58:16.721575",
     "exception": false,
     "start_time": "2021-02-14T19:58:16.637786",
     "status": "completed"
    },
    "tags": []
   },
   "outputs": [],
   "source": [
    "# !rm {out}/*.tsv {out}/*.tsv.gz\n",
    "# !rm {temp}/*.tsv {temp}/*.tsv.gz\n",
    "\n",
    "if delete_database:\n",
    "    !rm {out}/*.tsv {out}/*.tsv.gz\n",
    "    !rm {temp}/*.tsv {temp}/*.tsv.gz"
   ]
  },
  {
   "cell_type": "markdown",
   "metadata": {
    "papermill": {
     "duration": 0.067841,
     "end_time": "2021-02-14T19:58:16.858087",
     "exception": false,
     "start_time": "2021-02-14T19:58:16.790246",
     "status": "completed"
    },
    "tags": []
   },
   "source": [
    "### Preview the input files"
   ]
  },
  {
   "cell_type": "markdown",
   "metadata": {
    "papermill": {
     "duration": 0.068484,
     "end_time": "2021-02-14T19:58:16.994943",
     "exception": false,
     "start_time": "2021-02-14T19:58:16.926459",
     "status": "completed"
    },
    "tags": []
   },
   "source": [
    "It is always a good practice to peek a the files to make sure the column headings are what we expect"
   ]
  },
  {
   "cell_type": "code",
   "execution_count": 6,
   "metadata": {
    "execution": {
     "iopub.execute_input": "2021-02-14T19:58:17.145800Z",
     "iopub.status.busy": "2021-02-14T19:58:17.145172Z",
     "iopub.status.idle": "2021-02-14T19:58:19.361235Z",
     "shell.execute_reply": "2021-02-14T19:58:19.362230Z"
    },
    "papermill": {
     "duration": 2.299017,
     "end_time": "2021-02-14T19:58:19.362558",
     "exception": false,
     "start_time": "2021-02-14T19:58:17.063541",
     "status": "completed"
    },
    "tags": []
   },
   "outputs": [
    {
     "name": "stdout",
     "output_type": "stream",
     "text": [
      "[2021-02-14 11:58:19 query]: SQL Translation:\n",
      "---------------------------------------------\n",
      "  SELECT *\n",
      "     FROM graph_1 AS graph_1_c1\n",
      "     LIMIT ?\n",
      "  PARAS: [10]\n",
      "---------------------------------------------\n",
      "id\tnode1\tlabel\tnode2\trank\tnode2;wikidatatype\n",
      "P10-P1628-32b85d-7927ece6-0\tP10\tP1628\t\"http://www.w3.org/2006/vcard/ns#Video\"\tnormal\turl\n",
      "P10-P1628-acf60d-b8950832-0\tP10\tP1628\t\"https://schema.org/video\"\tnormal\turl\n",
      "P10-P1629-Q34508-bcc39400-0\tP10\tP1629\tQ34508\tnormal\twikibase-item\n",
      "P10-P1659-P1651-c4068028-0\tP10\tP1659\tP1651\tnormal\twikibase-property\n",
      "P10-P1659-P18-5e4b9c4f-0\tP10\tP1659\tP18\tnormal\twikibase-property\n",
      "P10-P1659-P4238-d21d1ac0-0\tP10\tP1659\tP4238\tnormal\twikibase-property\n",
      "P10-P1659-P51-86aca4c5-0\tP10\tP1659\tP51\tnormal\twikibase-property\n",
      "P10-P1855-Q7378-555592a4-0\tP10\tP1855\tQ7378\tnormal\twikibase-item\n",
      "P10-P31-Q18610173-85ef4d24-0\tP10\tP31\tQ18610173\tnormal\twikibase-item\n",
      "P1000-P1629-Q1241356-d5c10f50-0\tP1000\tP1629\tQ1241356\tnormal\twikibase-item\n"
     ]
    }
   ],
   "source": [
    "!{kypher} -i {claims} \\\n",
    "--match '()-[]->()' \\\n",
    "--limit 10"
   ]
  },
  {
   "cell_type": "markdown",
   "metadata": {
    "papermill": {
     "duration": 0.069579,
     "end_time": "2021-02-14T19:58:19.597775",
     "exception": false,
     "start_time": "2021-02-14T19:58:19.528196",
     "status": "completed"
    },
    "tags": []
   },
   "source": [
    "## Compute derived.P279star and derived.isa files\n",
    "Use claims file to compute derived files, used for initial processing. \n",
    "**NOTE:** We will later be creating smaller `derived.isa` and `derived.P279` files, when calling the useful-files notebook below. "
   ]
  },
  {
   "cell_type": "markdown",
   "metadata": {
    "papermill": {
     "duration": 0.069817,
     "end_time": "2021-02-14T19:58:19.737662",
     "exception": false,
     "start_time": "2021-02-14T19:58:19.667845",
     "status": "completed"
    },
    "tags": []
   },
   "source": [
    "### Compute derived.P279star from claims"
   ]
  },
  {
   "cell_type": "markdown",
   "metadata": {
    "papermill": {
     "duration": 0.071527,
     "end_time": "2021-02-14T19:58:19.879023",
     "exception": false,
     "start_time": "2021-02-14T19:58:19.807496",
     "status": "completed"
    },
    "tags": []
   },
   "source": [
    "Create the `P31` file"
   ]
  },
  {
   "cell_type": "code",
   "execution_count": 7,
   "metadata": {
    "execution": {
     "iopub.execute_input": "2021-02-14T19:58:20.033747Z",
     "iopub.status.busy": "2021-02-14T19:58:20.028286Z",
     "iopub.status.idle": "2021-02-14T19:59:25.317149Z",
     "shell.execute_reply": "2021-02-14T19:59:25.318196Z"
    },
    "papermill": {
     "duration": 65.369539,
     "end_time": "2021-02-14T19:59:25.318568",
     "exception": false,
     "start_time": "2021-02-14T19:58:19.949029",
     "status": "completed"
    },
    "tags": []
   },
   "outputs": [
    {
     "name": "stdout",
     "output_type": "stream",
     "text": [
      "[2021-02-14 11:58:21 query]: SQL Translation:\n",
      "---------------------------------------------\n",
      "  SELECT graph_1_c1.\"id\", graph_1_c1.\"node1\", graph_1_c1.\"label\", graph_1_c1.\"node2\"\n",
      "     FROM graph_1 AS graph_1_c1\n",
      "     WHERE graph_1_c1.\"label\"=?\n",
      "  PARAS: ['P31']\n",
      "---------------------------------------------\n",
      "[2021-02-14 11:58:21 sqlstore]: CREATE INDEX on table graph_1 column label ...\n",
      "[2021-02-14 11:58:42 sqlstore]: ANALYZE INDEX on table graph_1 column label ...\n"
     ]
    }
   ],
   "source": [
    "!{kypher} -i {claims} -o {temp}/derived.P31.tsv.gz \\\n",
    "--match '(n1)-[l:P31]->(n2)' \\\n",
    "--return 'l, n1, l.label, n2' "
   ]
  },
  {
   "cell_type": "code",
   "execution_count": 8,
   "metadata": {
    "execution": {
     "iopub.execute_input": "2021-02-14T19:59:25.526166Z",
     "iopub.status.busy": "2021-02-14T19:59:25.520320Z",
     "iopub.status.idle": "2021-02-14T19:59:25.669555Z",
     "shell.execute_reply": "2021-02-14T19:59:25.668482Z"
    },
    "papermill": {
     "duration": 0.233085,
     "end_time": "2021-02-14T19:59:25.669832",
     "exception": false,
     "start_time": "2021-02-14T19:59:25.436747",
     "status": "completed"
    },
    "tags": []
   },
   "outputs": [
    {
     "name": "stdout",
     "output_type": "stream",
     "text": [
      "id\tnode1\tlabel\tnode2\r\n",
      "P10-P31-Q18610173-85ef4d24-0\tP10\tP31\tQ18610173\r\n",
      "P1000-P31-Q18608871-093affb5-0\tP1000\tP31\tQ18608871\r\n",
      "P1001-P31-Q15720608-deeedec9-0\tP1001\tP31\tQ15720608\r\n",
      "\r\n",
      "gzip: P1001-P31-Q22984026-8beb0cfe-0\tP1001\tP31\tQ22984026\r\n",
      "stdout: Broken pipe\r\n",
      "P1001-P31-Q22997934-1e5b1a96-0\tP1001\tP31\tQ22997934\r\n",
      "P1001-P31-Q61719275-0ccc11a5-0\tP1001\tP31\tQ61719275\r\n",
      "P1001-P31-Q70564278-b92b04ba-0\tP1001\tP31\tQ70564278\r\n",
      "P1002-P31-Q22963600-b3a47587-0\tP1002\tP31\tQ22963600\r\n",
      "P1003-P31-Q19595382-152d2cdd-0\tP1003\tP31\tQ19595382\r\n"
     ]
    }
   ],
   "source": [
    "!zcat {temp}/derived.P31.tsv.gz | head | col"
   ]
  },
  {
   "cell_type": "markdown",
   "metadata": {
    "papermill": {
     "duration": 0.075053,
     "end_time": "2021-02-14T19:59:25.862148",
     "exception": false,
     "start_time": "2021-02-14T19:59:25.787095",
     "status": "completed"
    },
    "tags": []
   },
   "source": [
    "Create the `P279` file"
   ]
  },
  {
   "cell_type": "code",
   "execution_count": 9,
   "metadata": {
    "execution": {
     "iopub.execute_input": "2021-02-14T19:59:26.019550Z",
     "iopub.status.busy": "2021-02-14T19:59:26.018757Z",
     "iopub.status.idle": "2021-02-14T19:59:41.786163Z",
     "shell.execute_reply": "2021-02-14T19:59:41.785169Z"
    },
    "papermill": {
     "duration": 15.852936,
     "end_time": "2021-02-14T19:59:41.786439",
     "exception": false,
     "start_time": "2021-02-14T19:59:25.933503",
     "status": "completed"
    },
    "tags": []
   },
   "outputs": [
    {
     "name": "stdout",
     "output_type": "stream",
     "text": [
      "[2021-02-14 11:59:27 query]: SQL Translation:\r\n",
      "---------------------------------------------\r\n",
      "  SELECT graph_1_c1.\"id\", graph_1_c1.\"node1\", graph_1_c1.\"label\", graph_1_c1.\"node2\"\r\n",
      "     FROM graph_1 AS graph_1_c1\r\n",
      "     WHERE graph_1_c1.\"label\"=?\r\n",
      "  PARAS: ['P279']\r\n",
      "---------------------------------------------\r\n"
     ]
    }
   ],
   "source": [
    "!{kypher} -i {claims} -o {temp}/derived.P279.tsv.gz \\\n",
    "--match '(n1)-[l:P279]->(n2)' \\\n",
    "--return 'l, n1, l.label, n2' "
   ]
  },
  {
   "cell_type": "markdown",
   "metadata": {
    "papermill": {
     "duration": 0.074586,
     "end_time": "2021-02-14T19:59:41.973627",
     "exception": false,
     "start_time": "2021-02-14T19:59:41.899041",
     "status": "completed"
    },
    "tags": []
   },
   "source": [
    "#### Create the file that contains all nodes reachable via P279 starting from a node2 in P31 or a node1 in P279\n",
    "First compute the roots"
   ]
  },
  {
   "cell_type": "code",
   "execution_count": 10,
   "metadata": {
    "execution": {
     "iopub.execute_input": "2021-02-14T19:59:42.130520Z",
     "iopub.status.busy": "2021-02-14T19:59:42.129954Z",
     "iopub.status.idle": "2021-02-14T19:59:46.959258Z",
     "shell.execute_reply": "2021-02-14T19:59:46.960262Z"
    },
    "papermill": {
     "duration": 4.915743,
     "end_time": "2021-02-14T19:59:46.960600",
     "exception": false,
     "start_time": "2021-02-14T19:59:42.044857",
     "status": "completed"
    },
    "tags": []
   },
   "outputs": [
    {
     "name": "stdout",
     "output_type": "stream",
     "text": [
      "[2021-02-14 11:59:43 sqlstore]: IMPORT graph directly into table graph_2 from /nas/home/mbmann/subset2/temp.output/derived.P279.tsv.gz ...\n",
      "[2021-02-14 11:59:44 query]: SQL Translation:\n",
      "---------------------------------------------\n",
      "  SELECT graph_2_c1.\"node1\" \"_aLias.id\"\n",
      "     FROM graph_2 AS graph_2_c1\n",
      "  PARAS: []\n",
      "---------------------------------------------\n"
     ]
    }
   ],
   "source": [
    "!{kypher} -i {temp}/derived.P279.tsv.gz -o {temp}/P279.n1.tsv.gz \\\n",
    "--match '(n1)-[l]->()' \\\n",
    "--return 'n1 as id' "
   ]
  },
  {
   "cell_type": "code",
   "execution_count": 11,
   "metadata": {
    "execution": {
     "iopub.execute_input": "2021-02-14T19:59:47.172269Z",
     "iopub.status.busy": "2021-02-14T19:59:47.171667Z",
     "iopub.status.idle": "2021-02-14T19:59:58.527565Z",
     "shell.execute_reply": "2021-02-14T19:59:58.526412Z"
    },
    "papermill": {
     "duration": 11.448442,
     "end_time": "2021-02-14T19:59:58.527834",
     "exception": false,
     "start_time": "2021-02-14T19:59:47.079392",
     "status": "completed"
    },
    "tags": []
   },
   "outputs": [
    {
     "name": "stdout",
     "output_type": "stream",
     "text": [
      "[2021-02-14 11:59:48 sqlstore]: IMPORT graph directly into table graph_3 from /nas/home/mbmann/subset2/temp.output/derived.P31.tsv.gz ...\n",
      "[2021-02-14 11:59:52 query]: SQL Translation:\n",
      "---------------------------------------------\n",
      "  SELECT graph_3_c1.\"node2\" \"_aLias.id\"\n",
      "     FROM graph_3 AS graph_3_c1\n",
      "  PARAS: []\n",
      "---------------------------------------------\n"
     ]
    }
   ],
   "source": [
    "!{kypher} -i {temp}/derived.P31.tsv.gz -o {temp}/P31.n2.tsv.gz \\\n",
    "--match '()-[l]->(n2)' \\\n",
    "--return 'n2 as id' "
   ]
  },
  {
   "cell_type": "code",
   "execution_count": 12,
   "metadata": {
    "execution": {
     "iopub.execute_input": "2021-02-14T19:59:58.733843Z",
     "iopub.status.busy": "2021-02-14T19:59:58.733292Z",
     "iopub.status.idle": "2021-02-14T20:00:16.425047Z",
     "shell.execute_reply": "2021-02-14T20:00:16.424063Z"
    },
    "papermill": {
     "duration": 17.777644,
     "end_time": "2021-02-14T20:00:16.425316",
     "exception": false,
     "start_time": "2021-02-14T19:59:58.647672",
     "status": "completed"
    },
    "tags": []
   },
   "outputs": [
    {
     "name": "stdout",
     "output_type": "stream",
     "text": [
      "\r\n",
      "real\t0m17.552s\r\n",
      "user\t0m19.963s\r\n",
      "sys\t0m0.480s\r\n"
     ]
    }
   ],
   "source": [
    "!{kgtk} cat --mode NONE -i {temp}/P31.n2.tsv.gz {temp}/P279.n1.tsv.gz \\\n",
    "| gzip > {temp}/P279.roots.1.tsv.gz"
   ]
  },
  {
   "cell_type": "code",
   "execution_count": 13,
   "metadata": {
    "execution": {
     "iopub.execute_input": "2021-02-14T20:00:16.627122Z",
     "iopub.status.busy": "2021-02-14T20:00:16.626535Z",
     "iopub.status.idle": "2021-02-14T20:00:20.650783Z",
     "shell.execute_reply": "2021-02-14T20:00:20.649687Z"
    },
    "papermill": {
     "duration": 4.110488,
     "end_time": "2021-02-14T20:00:20.651001",
     "exception": false,
     "start_time": "2021-02-14T20:00:16.540513",
     "status": "completed"
    },
    "tags": []
   },
   "outputs": [
    {
     "name": "stdout",
     "output_type": "stream",
     "text": [
      "\r\n",
      "real\t0m3.885s\r\n",
      "user\t0m3.701s\r\n",
      "sys\t0m0.285s\r\n"
     ]
    }
   ],
   "source": [
    "!{kgtk} sort2 --mode NONE --column id -i {temp}/P279.roots.1.tsv.gz \\\n",
    "| gzip > {temp}/P279.roots.2.tsv.gz"
   ]
  },
  {
   "cell_type": "markdown",
   "metadata": {
    "papermill": {
     "duration": 0.081917,
     "end_time": "2021-02-14T20:00:20.859145",
     "exception": false,
     "start_time": "2021-02-14T20:00:20.777228",
     "status": "completed"
    },
    "tags": []
   },
   "source": [
    "We have lots of duplicates"
   ]
  },
  {
   "cell_type": "code",
   "execution_count": 14,
   "metadata": {
    "execution": {
     "iopub.execute_input": "2021-02-14T20:00:21.020619Z",
     "iopub.status.busy": "2021-02-14T20:00:21.020075Z",
     "iopub.status.idle": "2021-02-14T20:00:21.159236Z",
     "shell.execute_reply": "2021-02-14T20:00:21.160280Z"
    },
    "papermill": {
     "duration": 0.227663,
     "end_time": "2021-02-14T20:00:21.160585",
     "exception": false,
     "start_time": "2021-02-14T20:00:20.932922",
     "status": "completed"
    },
    "tags": []
   },
   "outputs": [
    {
     "name": "stdout",
     "output_type": "stream",
     "text": [
      "id\r\n",
      "Q1\r\n",
      "Q1\r\n",
      "Q100000030\r\n",
      "Q1000032\r\n",
      "Q1000032\r\n",
      "Q1000039\r\n",
      "Q100004761\r\n",
      "Q100004761\r\n",
      "Q100004761\r\n",
      "\r\n",
      "gzip: stdout: Broken pipe\r\n"
     ]
    }
   ],
   "source": [
    "!zcat < {temp}/P279.roots.2.tsv.gz | head"
   ]
  },
  {
   "cell_type": "code",
   "execution_count": 15,
   "metadata": {
    "execution": {
     "iopub.execute_input": "2021-02-14T20:00:21.373581Z",
     "iopub.status.busy": "2021-02-14T20:00:21.368819Z",
     "iopub.status.idle": "2021-02-14T20:00:41.893784Z",
     "shell.execute_reply": "2021-02-14T20:00:41.894884Z"
    },
    "papermill": {
     "duration": 20.615109,
     "end_time": "2021-02-14T20:00:41.895246",
     "exception": false,
     "start_time": "2021-02-14T20:00:21.280137",
     "status": "completed"
    },
    "tags": []
   },
   "outputs": [
    {
     "name": "stdout",
     "output_type": "stream",
     "text": [
      "\r\n",
      "real\t0m20.386s\r\n",
      "user\t0m19.901s\r\n",
      "sys\t0m0.126s\r\n"
     ]
    }
   ],
   "source": [
    "!{kgtk} compact -i {temp}/P279.roots.2.tsv.gz --mode NONE \\\n",
    "--presorted \\\n",
    "--columns id \\\n",
    "> {temp}/P279.roots.tsv"
   ]
  },
  {
   "cell_type": "markdown",
   "metadata": {
    "papermill": {
     "duration": 0.076399,
     "end_time": "2021-02-14T20:00:42.095004",
     "exception": false,
     "start_time": "2021-02-14T20:00:42.018605",
     "status": "completed"
    },
    "tags": []
   },
   "source": [
    "Now we can invoke the reachable-nodes command"
   ]
  },
  {
   "cell_type": "code",
   "execution_count": 16,
   "metadata": {
    "execution": {
     "iopub.execute_input": "2021-02-14T20:00:42.253294Z",
     "iopub.status.busy": "2021-02-14T20:00:42.252732Z",
     "iopub.status.idle": "2021-02-14T20:02:28.508692Z",
     "shell.execute_reply": "2021-02-14T20:02:28.509206Z"
    },
    "papermill": {
     "duration": 106.34031,
     "end_time": "2021-02-14T20:02:28.509382",
     "exception": false,
     "start_time": "2021-02-14T20:00:42.169072",
     "status": "completed"
    },
    "tags": []
   },
   "outputs": [
    {
     "name": "stdout",
     "output_type": "stream",
     "text": [
      "\r\n",
      "real\t1m46.103s\r\n",
      "user\t2m10.976s\r\n",
      "sys\t0m5.141s\r\n"
     ]
    }
   ],
   "source": [
    "!{kgtk} reachable-nodes \\\n",
    "--rootfile {temp}/P279.roots.tsv \\\n",
    "--selflink \\\n",
    "-i {temp}/derived.P279.tsv.gz \\\n",
    "| gzip > {temp}/P279.reachable.tsv.gz"
   ]
  },
  {
   "cell_type": "code",
   "execution_count": 17,
   "metadata": {
    "execution": {
     "iopub.execute_input": "2021-02-14T20:02:28.681997Z",
     "iopub.status.busy": "2021-02-14T20:02:28.681423Z",
     "iopub.status.idle": "2021-02-14T20:02:28.827414Z",
     "shell.execute_reply": "2021-02-14T20:02:28.826285Z"
    },
    "papermill": {
     "duration": 0.238653,
     "end_time": "2021-02-14T20:02:28.827681",
     "exception": false,
     "start_time": "2021-02-14T20:02:28.589028",
     "status": "completed"
    },
    "tags": []
   },
   "outputs": [
    {
     "name": "stdout",
     "output_type": "stream",
     "text": [
      "node1\tlabel\tnode2\r\n",
      "Q100000030\treachable\tQ100000030\r\n",
      "Q100000030\treachable\tQ14748\r\n",
      "Q100000030\treachable\tQ14745\r\n",
      "Q100000030\treachable\tQ1357761\r\n",
      "Q100000030\treachable\tQ223557\r\n",
      "Q100000030\treachable\tQ4406616\r\n",
      "Q100000030\treachable\tQ488383\r\n",
      "Q100000030\treachable\tQ35120\r\n",
      "Q100000030\treachable\tQ2424752\r\n",
      "\r\n",
      "gzip: stdout: Broken pipe\r\n"
     ]
    }
   ],
   "source": [
    "!zcat < {temp}/P279.reachable.tsv.gz | head | col"
   ]
  },
  {
   "cell_type": "markdown",
   "metadata": {
    "papermill": {
     "duration": 0.078376,
     "end_time": "2021-02-14T20:02:29.027462",
     "exception": false,
     "start_time": "2021-02-14T20:02:28.949086",
     "status": "completed"
    },
    "tags": []
   },
   "source": [
    "The reachable-nodes command produces edges labeled `reachable`, so we need one command to rename them."
   ]
  },
  {
   "cell_type": "code",
   "execution_count": 18,
   "metadata": {
    "execution": {
     "iopub.execute_input": "2021-02-14T20:02:29.191675Z",
     "iopub.status.busy": "2021-02-14T20:02:29.187172Z",
     "iopub.status.idle": "2021-02-14T20:03:59.069531Z",
     "shell.execute_reply": "2021-02-14T20:03:59.070621Z"
    },
    "papermill": {
     "duration": 89.968333,
     "end_time": "2021-02-14T20:03:59.070948",
     "exception": false,
     "start_time": "2021-02-14T20:02:29.102615",
     "status": "completed"
    },
    "tags": []
   },
   "outputs": [
    {
     "name": "stdout",
     "output_type": "stream",
     "text": [
      "[2021-02-14 12:02:30 sqlstore]: IMPORT graph directly into table graph_4 from /nas/home/mbmann/subset2/temp.output/P279.reachable.tsv.gz ...\n",
      "[2021-02-14 12:02:41 query]: SQL Translation:\n",
      "---------------------------------------------\n",
      "  SELECT graph_4_c1.\"node1\", ? \"_aLias.label\", graph_4_c1.\"node2\" \"_aLias.node2\"\n",
      "     FROM graph_4 AS graph_4_c1\n",
      "  PARAS: ['P279star']\n",
      "---------------------------------------------\n"
     ]
    }
   ],
   "source": [
    "!{kypher} -i {temp}/P279.reachable.tsv.gz -o {temp}/P279star.1.tsv.gz \\\n",
    "--match '(n1)-[]->(n2)' \\\n",
    "--return 'n1, \"P279star\" as label, n2 as node2' "
   ]
  },
  {
   "cell_type": "markdown",
   "metadata": {
    "papermill": {
     "duration": 0.078052,
     "end_time": "2021-02-14T20:03:59.274367",
     "exception": false,
     "start_time": "2021-02-14T20:03:59.196315",
     "status": "completed"
    },
    "tags": []
   },
   "source": [
    "Now we can concatenate these files to produce the final output"
   ]
  },
  {
   "cell_type": "code",
   "execution_count": 19,
   "metadata": {
    "execution": {
     "iopub.execute_input": "2021-02-14T20:03:59.443153Z",
     "iopub.status.busy": "2021-02-14T20:03:59.437918Z",
     "iopub.status.idle": "2021-02-14T20:04:26.449492Z",
     "shell.execute_reply": "2021-02-14T20:04:26.448176Z"
    },
    "papermill": {
     "duration": 27.099776,
     "end_time": "2021-02-14T20:04:26.449763",
     "exception": false,
     "start_time": "2021-02-14T20:03:59.349987",
     "status": "completed"
    },
    "tags": []
   },
   "outputs": [
    {
     "name": "stdout",
     "output_type": "stream",
     "text": [
      "\r\n",
      "real\t0m26.870s\r\n",
      "user\t0m26.382s\r\n",
      "sys\t0m1.292s\r\n"
     ]
    }
   ],
   "source": [
    "!{kgtk} sort2 -i {temp}/P279star.1.tsv.gz -o {temp}/P279star.2.tsv.gz"
   ]
  },
  {
   "cell_type": "markdown",
   "metadata": {
    "papermill": {
     "duration": 0.080775,
     "end_time": "2021-02-14T20:04:26.654079",
     "exception": false,
     "start_time": "2021-02-14T20:04:26.573304",
     "status": "completed"
    },
    "tags": []
   },
   "source": [
    "Make sure there are no duplicates"
   ]
  },
  {
   "cell_type": "code",
   "execution_count": 20,
   "metadata": {
    "execution": {
     "iopub.execute_input": "2021-02-14T20:04:26.822431Z",
     "iopub.status.busy": "2021-02-14T20:04:26.821842Z",
     "iopub.status.idle": "2021-02-14T20:07:45.518236Z",
     "shell.execute_reply": "2021-02-14T20:07:45.518796Z"
    },
    "papermill": {
     "duration": 198.788667,
     "end_time": "2021-02-14T20:07:45.518981",
     "exception": false,
     "start_time": "2021-02-14T20:04:26.730314",
     "status": "completed"
    },
    "tags": []
   },
   "outputs": [
    {
     "name": "stdout",
     "output_type": "stream",
     "text": [
      "\r\n",
      "real\t3m18.539s\r\n",
      "user\t3m17.949s\r\n",
      "sys\t0m0.189s\r\n"
     ]
    }
   ],
   "source": [
    "!{kgtk} compact --presorted -i {temp}/P279star.2.tsv.gz -o {temp}/P279star.3.tsv.gz"
   ]
  },
  {
   "cell_type": "markdown",
   "metadata": {
    "papermill": {
     "duration": 0.07583,
     "end_time": "2021-02-14T20:07:45.679642",
     "exception": false,
     "start_time": "2021-02-14T20:07:45.603812",
     "status": "completed"
    },
    "tags": []
   },
   "source": [
    "Add ids"
   ]
  },
  {
   "cell_type": "code",
   "execution_count": 21,
   "metadata": {
    "execution": {
     "iopub.execute_input": "2021-02-14T20:07:45.849954Z",
     "iopub.status.busy": "2021-02-14T20:07:45.844389Z",
     "iopub.status.idle": "2021-02-14T20:11:01.485233Z",
     "shell.execute_reply": "2021-02-14T20:11:01.484139Z"
    },
    "papermill": {
     "duration": 195.729281,
     "end_time": "2021-02-14T20:11:01.485512",
     "exception": false,
     "start_time": "2021-02-14T20:07:45.756231",
     "status": "completed"
    },
    "tags": []
   },
   "outputs": [
    {
     "name": "stdout",
     "output_type": "stream",
     "text": [
      "\n",
      "real\t3m15.355s\n",
      "user\t3m12.590s\n",
      "sys\t0m1.870s\n",
      "node1\tlabel\tnode2\tid\n",
      "Q100000030\tP279star\tQ100000030\tQ100000030-P279star-Q100000030-0000\n",
      "Q100000030\tP279star\tQ1357761\tQ100000030-P279star-Q1357761-0000\n",
      "Q100000030\tP279star\tQ14745\tQ100000030-P279star-Q14745-0000\n",
      "Q100000030\tP279star\tQ14748\tQ100000030-P279star-Q14748-0000\n",
      "Q100000030\tP279star\tQ15401930\tQ100000030-P279star-Q15401930-0000\n",
      "Q100000030\tP279star\tQ15621286\tQ100000030-P279star-Q15621286-0000\n",
      "Q100000030\tP279star\tQ16686448\tQ100000030-P279star-Q16686448-0000\n",
      "Q100000030\tP279star\tQ17537576\tQ100000030-P279star-Q17537576-0000\n",
      "Q100000030\tP279star\tQ223557\tQ100000030-P279star-Q223557-0000\n",
      "\n",
      "gzip: stdout: Broken pipe\n"
     ]
    }
   ],
   "source": [
    "!{kgtk} add-id --id-style node1-label-node2-num -i {temp}/P279star.3.tsv.gz -o {temp}/derived.P279star.tsv.gz\n",
    "!zcat {temp}/derived.P279star.tsv.gz | head"
   ]
  },
  {
   "cell_type": "markdown",
   "metadata": {
    "papermill": {
     "duration": 0.081561,
     "end_time": "2021-02-14T20:11:01.690997",
     "exception": false,
     "start_time": "2021-02-14T20:11:01.609436",
     "status": "completed"
    },
    "tags": []
   },
   "source": [
    "Make a path variablle"
   ]
  },
  {
   "cell_type": "code",
   "execution_count": 22,
   "metadata": {
    "execution": {
     "iopub.execute_input": "2021-02-14T20:11:01.852899Z",
     "iopub.status.busy": "2021-02-14T20:11:01.852372Z",
     "iopub.status.idle": "2021-02-14T20:11:01.856538Z",
     "shell.execute_reply": "2021-02-14T20:11:01.856029Z"
    },
    "papermill": {
     "duration": 0.088663,
     "end_time": "2021-02-14T20:11:01.856657",
     "exception": false,
     "start_time": "2021-02-14T20:11:01.767994",
     "status": "completed"
    },
    "tags": []
   },
   "outputs": [],
   "source": [
    "p279star = f'{temp}/derived.P279star.tsv.gz'"
   ]
  },
  {
   "cell_type": "markdown",
   "metadata": {
    "papermill": {
     "duration": 0.076466,
     "end_time": "2021-02-14T20:11:02.012438",
     "exception": false,
     "start_time": "2021-02-14T20:11:01.935972",
     "status": "completed"
    },
    "tags": []
   },
   "source": [
    "### Compute derived.isa from claims\n",
    "The idea is that `(n1)-[:isa]->(n2)` when `(n1)-[:P31]->(n2)` or `(n1)-[:P279]->(n2)`\n",
    "\n",
    "We do this by concatenating the files and renaming the relation"
   ]
  },
  {
   "cell_type": "code",
   "execution_count": 23,
   "metadata": {
    "execution": {
     "iopub.execute_input": "2021-02-14T20:11:02.178621Z",
     "iopub.status.busy": "2021-02-14T20:11:02.173642Z",
     "iopub.status.idle": "2021-02-14T20:11:24.264115Z",
     "shell.execute_reply": "2021-02-14T20:11:24.263064Z"
    },
    "papermill": {
     "duration": 22.175272,
     "end_time": "2021-02-14T20:11:24.264396",
     "exception": false,
     "start_time": "2021-02-14T20:11:02.089124",
     "status": "completed"
    },
    "tags": []
   },
   "outputs": [
    {
     "name": "stdout",
     "output_type": "stream",
     "text": [
      "\r\n",
      "real\t0m21.953s\r\n",
      "user\t0m29.213s\r\n",
      "sys\t0m0.493s\r\n"
     ]
    }
   ],
   "source": [
    "!{kgtk} cat -i {temp}/derived.P31.tsv.gz {temp}/derived.P279.tsv.gz \\\n",
    "    | gzip > {temp}/isa.1.tsv.gz"
   ]
  },
  {
   "cell_type": "code",
   "execution_count": 24,
   "metadata": {
    "execution": {
     "iopub.execute_input": "2021-02-14T20:11:24.474951Z",
     "iopub.status.busy": "2021-02-14T20:11:24.474408Z",
     "iopub.status.idle": "2021-02-14T20:11:53.487062Z",
     "shell.execute_reply": "2021-02-14T20:11:53.488138Z"
    },
    "papermill": {
     "duration": 29.103072,
     "end_time": "2021-02-14T20:11:53.488482",
     "exception": false,
     "start_time": "2021-02-14T20:11:24.385410",
     "status": "completed"
    },
    "tags": []
   },
   "outputs": [
    {
     "name": "stdout",
     "output_type": "stream",
     "text": [
      "[2021-02-14 12:11:25 sqlstore]: IMPORT graph directly into table graph_5 from /nas/home/mbmann/subset2/temp.output/isa.1.tsv.gz ...\n",
      "[2021-02-14 12:11:30 query]: SQL Translation:\n",
      "---------------------------------------------\n",
      "  SELECT graph_5_c1.\"node1\", ? \"_aLias.label\", graph_5_c1.\"node2\"\n",
      "     FROM graph_5 AS graph_5_c1\n",
      "  PARAS: ['isa']\n",
      "---------------------------------------------\n",
      "node1\tlabel\tnode2\n",
      "P10\tisa\tQ18610173\n",
      "P1000\tisa\tQ18608871\n",
      "P1001\tisa\tQ15720608\n",
      "P1001\tisa\tQ22984026\n",
      "P1001\tisa\tQ22997934\n",
      "P1001\tisa\tQ61719275\n",
      "P1001\tisa\tQ70564278\n",
      "P1002\tisa\tQ22963600\n",
      "P1003\tisa\tQ19595382\n",
      "\n",
      "gzip: stdout: Broken pipe\n"
     ]
    }
   ],
   "source": [
    "!{kypher} -i {temp}/isa.1.tsv.gz -o {temp}/derived.isa.tsv.gz \\\n",
    "--match '(n1)-[]->(n2)' \\\n",
    "--return 'n1, \"isa\" as label, n2'\n",
    "!zcat {temp}/derived.isa.tsv.gz | head"
   ]
  },
  {
   "cell_type": "markdown",
   "metadata": {
    "papermill": {
     "duration": 0.082179,
     "end_time": "2021-02-14T20:11:53.696746",
     "exception": false,
     "start_time": "2021-02-14T20:11:53.614567",
     "status": "completed"
    },
    "tags": []
   },
   "source": [
    "Make a path variable"
   ]
  },
  {
   "cell_type": "code",
   "execution_count": 25,
   "metadata": {
    "execution": {
     "iopub.execute_input": "2021-02-14T20:11:53.860714Z",
     "iopub.status.busy": "2021-02-14T20:11:53.860139Z",
     "iopub.status.idle": "2021-02-14T20:11:53.864258Z",
     "shell.execute_reply": "2021-02-14T20:11:53.863680Z"
    },
    "papermill": {
     "duration": 0.089059,
     "end_time": "2021-02-14T20:11:53.864382",
     "exception": false,
     "start_time": "2021-02-14T20:11:53.775323",
     "status": "completed"
    },
    "tags": []
   },
   "outputs": [],
   "source": [
    "isa = f'{temp}/derived.isa.tsv.gz'"
   ]
  },
  {
   "cell_type": "markdown",
   "metadata": {
    "papermill": {
     "duration": 0.080356,
     "end_time": "2021-02-14T20:11:54.036810",
     "exception": false,
     "start_time": "2021-02-14T20:11:53.956454",
     "status": "completed"
    },
    "tags": []
   },
   "source": [
    "## Creating a list of all the items  to remove"
   ]
  },
  {
   "cell_type": "markdown",
   "metadata": {
    "papermill": {
     "duration": 0.078069,
     "end_time": "2021-02-14T20:11:54.192761",
     "exception": false,
     "start_time": "2021-02-14T20:11:54.114692",
     "status": "completed"
    },
    "tags": []
   },
   "source": [
    "**Add classes to remove, based on <u>classes themselves</u> here:** <br>\n",
    "- **Example:** Let's remove the class (videotape recording, 'Q34508')\n",
    "- **NOTE:** This will only remove items that have a P31/P279 relation with the class"
   ]
  },
  {
   "cell_type": "code",
   "execution_count": 26,
   "metadata": {
    "execution": {
     "iopub.execute_input": "2021-02-14T20:11:54.362625Z",
     "iopub.status.busy": "2021-02-14T20:11:54.362114Z",
     "iopub.status.idle": "2021-02-14T20:12:21.336860Z",
     "shell.execute_reply": "2021-02-14T20:12:21.337866Z"
    },
    "papermill": {
     "duration": 27.067169,
     "end_time": "2021-02-14T20:12:21.338203",
     "exception": false,
     "start_time": "2021-02-14T20:11:54.271034",
     "status": "completed"
    },
    "tags": []
   },
   "outputs": [
    {
     "name": "stdout",
     "output_type": "stream",
     "text": [
      "classes:  \"Q34508\", \"Q7378\"\n",
      "[2021-02-14 12:11:56 query]: SQL Translation:\n",
      "---------------------------------------------\n",
      "  SELECT graph_1_c1.\"node2\", graph_1_c1.\"node1\", ? \"_aLias.label\"\n",
      "     FROM graph_1 AS graph_1_c1\n",
      "     WHERE graph_1_c1.\"label\"=?\n",
      "     AND (graph_1_c1.\"node2\" IN (?, ?))\n",
      "  PARAS: ['p279', 'P279', 'Q34508', 'Q7378']\n",
      "---------------------------------------------\n",
      "node2\tnode1\tlabel\n",
      "Q34508\tQ1926658\tp279\n",
      "Q34508\tQ20892182\tp279\n",
      "Q7378\tQ223694\tp279\n",
      "Q34508\tQ23058567\tp279\n",
      "Q34508\tQ25324511\tp279\n",
      "Q34508\tQ2916762\tp279\n",
      "Q7378\tQ3629117\tp279\n",
      "Q34508\tQ48774253\tp279\n",
      "Q7378\tQ5036943\tp279\n"
     ]
    }
   ],
   "source": [
    "classes_to_remove = ['Q34508', 'Q7378']\n",
    "# classes_to_remove = ['Q13442814', 'Q523', 'Q318', 'Q7318358', 'Q7187', 'Q11173', 'Q8054'] #Parameter: Add classes manually here\n",
    "classes = ', '.join([f'\"{c}\"' for c in classes_to_remove])\n",
    "print('classes: ', classes)\n",
    "\n",
    "!{kypher} -i {claims} -o {temp}/classes.remove.manual.tsv.gz \\\n",
    "--match '(instance)-[:P279]->(c)' \\\n",
    "--where 'c in [{classes}]' \\\n",
    "--return 'c, instance, \"p279\" as label'\n",
    "\n",
    "!zcat {temp}/classes.remove.manual.tsv.gz |head"
   ]
  },
  {
   "cell_type": "markdown",
   "metadata": {
    "papermill": {
     "duration": 0.086321,
     "end_time": "2021-02-14T20:12:21.557236",
     "exception": false,
     "start_time": "2021-02-14T20:12:21.470915",
     "status": "completed"
    },
    "tags": []
   },
   "source": [
    "**Add classes to remove, based on <u>instances</u> here:**\n",
    "- **Example:** Let's remove classes that are part of instance (Fireball, 'Q5451712'), (Bush, 'Q1017471'), and (Italin Grape Alle, 'Q67772833')\n",
    "- **NOTE:** The expected class to remove is (whisky, 'Q281'), (beer, 'Q44'), (beer brand, Q15075508), and (ale, 'Q208385')"
   ]
  },
  {
   "cell_type": "markdown",
   "metadata": {
    "papermill": {
     "duration": 0.08089,
     "end_time": "2021-02-14T20:12:21.719059",
     "exception": false,
     "start_time": "2021-02-14T20:12:21.638169",
     "status": "completed"
    },
    "tags": []
   },
   "source": [
    "Specify the intances to remove"
   ]
  },
  {
   "cell_type": "code",
   "execution_count": 27,
   "metadata": {
    "execution": {
     "iopub.execute_input": "2021-02-14T20:12:21.887901Z",
     "iopub.status.busy": "2021-02-14T20:12:21.887373Z",
     "iopub.status.idle": "2021-02-14T20:12:21.891788Z",
     "shell.execute_reply": "2021-02-14T20:12:21.891246Z"
    },
    "papermill": {
     "duration": 0.092086,
     "end_time": "2021-02-14T20:12:21.891904",
     "exception": false,
     "start_time": "2021-02-14T20:12:21.799818",
     "status": "completed"
    },
    "tags": []
   },
   "outputs": [],
   "source": [
    "# instances_to_remove = ['Q5451712', 'Q1017471', 'Q67772833'] #Parameter: Add instances manually here\n",
    "# instances = ', '.join([f'\"{instance}\"' for instance in instances_to_remove])"
   ]
  },
  {
   "cell_type": "markdown",
   "metadata": {
    "papermill": {
     "duration": 0.080138,
     "end_time": "2021-02-14T20:12:22.063422",
     "exception": false,
     "start_time": "2021-02-14T20:12:21.983284",
     "status": "completed"
    },
    "tags": []
   },
   "source": [
    "For all instances, get their **(P279, subclass)** from `claims.tsv.gz`"
   ]
  },
  {
   "cell_type": "code",
   "execution_count": 28,
   "metadata": {
    "execution": {
     "iopub.execute_input": "2021-02-14T20:12:22.224891Z",
     "iopub.status.busy": "2021-02-14T20:12:22.224456Z",
     "iopub.status.idle": "2021-02-14T20:12:22.228406Z",
     "shell.execute_reply": "2021-02-14T20:12:22.227933Z"
    },
    "papermill": {
     "duration": 0.085003,
     "end_time": "2021-02-14T20:12:22.228498",
     "exception": false,
     "start_time": "2021-02-14T20:12:22.143495",
     "status": "completed"
    },
    "tags": []
   },
   "outputs": [],
   "source": [
    "# !{kypher} -i {claims} -o {temp}/classes.remove.p279.tsv.gz \\\n",
    "# --match '(instance)-[:P279]->(c)' \\\n",
    "# --where 'instance in [{instances}]' \\\n",
    "\n",
    "# !zcat {temp}/classes.remove.p279.tsv.gz |head"
   ]
  },
  {
   "cell_type": "markdown",
   "metadata": {
    "papermill": {
     "duration": 0.063347,
     "end_time": "2021-02-14T20:12:22.356058",
     "exception": false,
     "start_time": "2021-02-14T20:12:22.292711",
     "status": "completed"
    },
    "tags": []
   },
   "source": [
    "For all instances, get their **(P31, class)** from `claims.tsv.gz`"
   ]
  },
  {
   "cell_type": "code",
   "execution_count": 29,
   "metadata": {
    "execution": {
     "iopub.execute_input": "2021-02-14T20:12:22.489036Z",
     "iopub.status.busy": "2021-02-14T20:12:22.488618Z",
     "iopub.status.idle": "2021-02-14T20:12:22.492784Z",
     "shell.execute_reply": "2021-02-14T20:12:22.492428Z"
    },
    "papermill": {
     "duration": 0.07315,
     "end_time": "2021-02-14T20:12:22.492872",
     "exception": false,
     "start_time": "2021-02-14T20:12:22.419722",
     "status": "completed"
    },
    "tags": []
   },
   "outputs": [],
   "source": [
    "# !{kypher} -i {claims} -o {temp}/classes.remove.p31.tsv.gz \\\n",
    "# --match '(instance)-[:P31]->(c)' \\\n",
    "# --where 'instance in [{instances}]' \\\n",
    "\n",
    "# !zcat {temp}/classes.remove.p31.tsv.gz |head"
   ]
  },
  {
   "cell_type": "markdown",
   "metadata": {
    "papermill": {
     "duration": 0.063139,
     "end_time": "2021-02-14T20:12:22.620474",
     "exception": false,
     "start_time": "2021-02-14T20:12:22.557335",
     "status": "completed"
    },
    "tags": []
   },
   "source": [
    "Concatenate all `classes.remove.manual`, `classes.remove.p31`, and `classes.remove.p279` into one file"
   ]
  },
  {
   "cell_type": "code",
   "execution_count": 30,
   "metadata": {
    "execution": {
     "iopub.execute_input": "2021-02-14T20:12:22.760015Z",
     "iopub.status.busy": "2021-02-14T20:12:22.754894Z",
     "iopub.status.idle": "2021-02-14T20:12:24.431956Z",
     "shell.execute_reply": "2021-02-14T20:12:24.432934Z"
    },
    "papermill": {
     "duration": 1.749325,
     "end_time": "2021-02-14T20:12:24.433228",
     "exception": false,
     "start_time": "2021-02-14T20:12:22.683903",
     "status": "completed"
    },
    "tags": []
   },
   "outputs": [
    {
     "name": "stdout",
     "output_type": "stream",
     "text": [
      "\r\n",
      "real\t0m1.539s\r\n",
      "user\t0m0.603s\r\n",
      "sys\t0m0.139s\r\n"
     ]
    }
   ],
   "source": [
    "#Adding from all 2 sources\n",
    "# !{kgtk} cat -i {temp}/classes.remove.manual.tsv.gz -i {temp}/classes.remove.p31.tsv.gz -i {temp}/classes.remove.p279.tsv.gz \\\n",
    "# -o {temp}/classes.remove.tsv.gz\n",
    "\n",
    "#Adding from all just 1 sources\n",
    "!{kgtk} cat -i {temp}/classes.remove.manual.tsv.gz \\\n",
    "-o {temp}/classes.remove.tsv.gz"
   ]
  },
  {
   "cell_type": "markdown",
   "metadata": {
    "papermill": {
     "duration": 0.081989,
     "end_time": "2021-02-14T20:12:24.637967",
     "exception": false,
     "start_time": "2021-02-14T20:12:24.555978",
     "status": "completed"
    },
    "tags": []
   },
   "source": [
    "Check and remove duplicate classes. "
   ]
  },
  {
   "cell_type": "code",
   "execution_count": 31,
   "metadata": {
    "execution": {
     "iopub.execute_input": "2021-02-14T20:12:24.877169Z",
     "iopub.status.busy": "2021-02-14T20:12:24.876534Z",
     "iopub.status.idle": "2021-02-14T20:12:26.159765Z",
     "shell.execute_reply": "2021-02-14T20:12:26.160770Z"
    },
    "papermill": {
     "duration": 1.415525,
     "end_time": "2021-02-14T20:12:26.161103",
     "exception": false,
     "start_time": "2021-02-14T20:12:24.745578",
     "status": "completed"
    },
    "tags": []
   },
   "outputs": [
    {
     "name": "stdout",
     "output_type": "stream",
     "text": [
      "\n",
      "real\t0m1.012s\n",
      "user\t0m0.570s\n",
      "sys\t0m0.122s\n",
      "node1\tlabel\tnode2\n",
      "Q34508\tcount\t9\n",
      "Q7378\tcount\t4\n"
     ]
    }
   ],
   "source": [
    "!{kgtk} unique -i {temp}/classes.remove.tsv.gz \\\n",
    "-o {temp}/classes.remove2.tsv.gz\n",
    "\n",
    "!zcat {temp}/classes.remove2.tsv.gz | head"
   ]
  },
  {
   "cell_type": "markdown",
   "metadata": {
    "papermill": {
     "duration": 0.083148,
     "end_time": "2021-02-14T20:12:26.374043",
     "exception": false,
     "start_time": "2021-02-14T20:12:26.290895",
     "status": "completed"
    },
    "tags": []
   },
   "source": [
    "### Compute the items to be removed via classes\n",
    "\n",
    "First look at the classes we will remove"
   ]
  },
  {
   "cell_type": "code",
   "execution_count": 32,
   "metadata": {
    "execution": {
     "iopub.execute_input": "2021-02-14T20:12:26.545412Z",
     "iopub.status.busy": "2021-02-14T20:12:26.544871Z",
     "iopub.status.idle": "2021-02-14T20:12:26.688355Z",
     "shell.execute_reply": "2021-02-14T20:12:26.687290Z"
    },
    "papermill": {
     "duration": 0.233338,
     "end_time": "2021-02-14T20:12:26.688630",
     "exception": false,
     "start_time": "2021-02-14T20:12:26.455292",
     "status": "completed"
    },
    "tags": []
   },
   "outputs": [
    {
     "name": "stdout",
     "output_type": "stream",
     "text": [
      "node1\tlabel\tnode2\r\n",
      "Q34508\tcount\t9\r\n",
      "Q7378\tcount\t4\r\n"
     ]
    }
   ],
   "source": [
    "!zcat {temp}/classes.remove2.tsv.gz | head"
   ]
  },
  {
   "cell_type": "markdown",
   "metadata": {
    "papermill": {
     "duration": 0.085022,
     "end_time": "2021-02-14T20:12:26.903041",
     "exception": false,
     "start_time": "2021-02-14T20:12:26.818019",
     "status": "completed"
    },
    "tags": []
   },
   "source": [
    "1. Given all classes in `classes.remove2`, find all subclasses from `p279star`. <br>\n",
    "2. Given all subclasses from `p279star`, find all subclass instances from `isa`\n",
    "3. The resulting items to remove will be in `{temp}/items.remove.byclass.tsv.gz`"
   ]
  },
  {
   "cell_type": "code",
   "execution_count": 33,
   "metadata": {
    "execution": {
     "iopub.execute_input": "2021-02-14T20:12:27.081420Z",
     "iopub.status.busy": "2021-02-14T20:12:27.076878Z",
     "iopub.status.idle": "2021-02-14T20:13:16.057910Z",
     "shell.execute_reply": "2021-02-14T20:13:16.058918Z"
    },
    "papermill": {
     "duration": 49.074135,
     "end_time": "2021-02-14T20:13:16.059262",
     "exception": false,
     "start_time": "2021-02-14T20:12:26.985127",
     "status": "completed"
    },
    "tags": []
   },
   "outputs": [
    {
     "name": "stdout",
     "output_type": "stream",
     "text": [
      "[2021-02-14 12:12:28 sqlstore]: IMPORT graph directly into table graph_6 from /nas/home/mbmann/subset2/temp.output/classes.remove2.tsv.gz ...\n",
      "[2021-02-14 12:12:28 sqlstore]: IMPORT graph directly into table graph_7 from /nas/home/mbmann/subset2/temp.output/derived.P279star.tsv.gz ...\n",
      "[2021-02-14 12:12:44 sqlstore]: IMPORT graph directly into table graph_8 from /nas/home/mbmann/subset2/temp.output/derived.isa.tsv.gz ...\n",
      "[2021-02-14 12:12:47 query]: SQL Translation:\n",
      "---------------------------------------------\n",
      "  SELECT DISTINCT graph_8_c1.\"node1\", ? \"_aLias.label\", graph_6_c3.\"node1\" \"_aLias.node2\"\n",
      "     FROM graph_6 AS graph_6_c3, graph_7 AS graph_7_c2, graph_8 AS graph_8_c1\n",
      "     WHERE graph_6_c3.\"label\"=?\n",
      "     AND graph_7_c2.\"label\"=?\n",
      "     AND graph_8_c1.\"label\"=?\n",
      "     AND graph_6_c3.\"node1\"=graph_7_c2.\"node2\"\n",
      "     AND graph_7_c2.\"node1\"=graph_8_c1.\"node2\"\n",
      "  PARAS: ['p31_p279star', 'count', 'P279star', 'isa']\n",
      "---------------------------------------------\n",
      "[2021-02-14 12:12:47 sqlstore]: CREATE INDEX on table graph_6 column label ...\n",
      "[2021-02-14 12:12:47 sqlstore]: ANALYZE INDEX on table graph_6 column label ...\n",
      "[2021-02-14 12:12:47 sqlstore]: CREATE INDEX on table graph_8 column node2 ...\n",
      "[2021-02-14 12:12:50 sqlstore]: ANALYZE INDEX on table graph_8 column node2 ...\n",
      "[2021-02-14 12:12:50 sqlstore]: CREATE INDEX on table graph_6 column node1 ...\n",
      "[2021-02-14 12:12:50 sqlstore]: ANALYZE INDEX on table graph_6 column node1 ...\n",
      "[2021-02-14 12:12:50 sqlstore]: CREATE INDEX on table graph_7 column node1 ...\n",
      "[2021-02-14 12:12:55 sqlstore]: ANALYZE INDEX on table graph_7 column node1 ...\n",
      "[2021-02-14 12:12:56 sqlstore]: CREATE INDEX on table graph_7 column node2 ...\n",
      "[2021-02-14 12:13:07 sqlstore]: ANALYZE INDEX on table graph_7 column node2 ...\n",
      "[2021-02-14 12:13:09 sqlstore]: CREATE INDEX on table graph_7 column label ...\n",
      "[2021-02-14 12:13:12 sqlstore]: ANALYZE INDEX on table graph_7 column label ...\n",
      "[2021-02-14 12:13:13 sqlstore]: CREATE INDEX on table graph_8 column label ...\n",
      "[2021-02-14 12:13:15 sqlstore]: ANALYZE INDEX on table graph_8 column label ...\n"
     ]
    }
   ],
   "source": [
    "!{kypher} -i {temp}/classes.remove2.tsv.gz -i {p279star} -i {isa} \\\n",
    "--match 'isa: (item)-[:isa]->(subclass), P279star: (subclass)-[:P279star]->(c), class: (c)-[:count]->()' \\\n",
    "--return 'distinct item, \"p31_p279star\" as label, c as node2' \\\n",
    "-o {temp}/items.remove.byclass.tsv.gz"
   ]
  },
  {
   "cell_type": "markdown",
   "metadata": {
    "papermill": {
     "duration": 0.090203,
     "end_time": "2021-02-14T20:13:16.284700",
     "exception": false,
     "start_time": "2021-02-14T20:13:16.194497",
     "status": "completed"
    },
    "tags": []
   },
   "source": [
    "Check the result"
   ]
  },
  {
   "cell_type": "code",
   "execution_count": 34,
   "metadata": {
    "execution": {
     "iopub.execute_input": "2021-02-14T20:13:16.468559Z",
     "iopub.status.busy": "2021-02-14T20:13:16.463627Z",
     "iopub.status.idle": "2021-02-14T20:13:16.610168Z",
     "shell.execute_reply": "2021-02-14T20:13:16.609103Z"
    },
    "papermill": {
     "duration": 0.241096,
     "end_time": "2021-02-14T20:13:16.610457",
     "exception": false,
     "start_time": "2021-02-14T20:13:16.369361",
     "status": "completed"
    },
    "tags": []
   },
   "outputs": [
    {
     "name": "stdout",
     "output_type": "stream",
     "text": [
      "node1\tlabel\tnode2\r\n",
      "Q33113219\tp31_p279star\tQ34508\r\n",
      "Q39086719\tp31_p279star\tQ34508\r\n",
      "Q58430369\tp31_p279star\tQ34508\r\n",
      "Q61764640\tp31_p279star\tQ34508\r\n",
      "Q61764914\tp31_p279star\tQ34508\r\n",
      "Q69526230\tp31_p279star\tQ34508\r\n",
      "Q69899824\tp31_p279star\tQ34508\r\n",
      "Q99466084\tp31_p279star\tQ34508\r\n",
      "Q99733532\tp31_p279star\tQ34508\r\n"
     ]
    }
   ],
   "source": [
    "!zcat {temp}/items.remove.byclass.tsv.gz | head\n",
    "# !echo 'Johnnie Walker'\n",
    "# !zgrep 'Q502268\t' {temp}/items.remove.byclass.tsv.gz\n",
    "# !echo 'Fireball'\n",
    "# !zgrep 'Q5451712\t' {temp}/items.remove.byclass.tsv.gz"
   ]
  },
  {
   "cell_type": "markdown",
   "metadata": {
    "papermill": {
     "duration": 0.086991,
     "end_time": "2021-02-14T20:13:16.831840",
     "exception": false,
     "start_time": "2021-02-14T20:13:16.744849",
     "status": "completed"
    },
    "tags": []
   },
   "source": [
    "### Compute the items to be removed via out degree\n",
    "\n",
    "Specify the # of node out-degrees `k`, and identify items with out-degree less than `k`\n",
    "- Ex: Find items that have out-degree `k` less than 2."
   ]
  },
  {
   "cell_type": "markdown",
   "metadata": {
    "papermill": {
     "duration": 0.085464,
     "end_time": "2021-02-14T20:13:17.002670",
     "exception": false,
     "start_time": "2021-02-14T20:13:16.917206",
     "status": "completed"
    },
    "tags": []
   },
   "source": [
    "Compute out-degree for all QNodes in the `claims` file. Check the result."
   ]
  },
  {
   "cell_type": "code",
   "execution_count": 35,
   "metadata": {
    "execution": {
     "iopub.execute_input": "2021-02-14T20:13:17.180712Z",
     "iopub.status.busy": "2021-02-14T20:13:17.180161Z",
     "iopub.status.idle": "2021-02-14T20:13:17.184466Z",
     "shell.execute_reply": "2021-02-14T20:13:17.184019Z"
    },
    "papermill": {
     "duration": 0.096387,
     "end_time": "2021-02-14T20:13:17.184586",
     "exception": false,
     "start_time": "2021-02-14T20:13:17.088199",
     "status": "completed"
    },
    "tags": []
   },
   "outputs": [],
   "source": [
    "# !{kypher} -i {claims} -o {temp}/metadata.out_degree.tsv.gz \\\n",
    "# --match '(n1)-[l]->()' \\\n",
    "# --where \"upper(substr(n1,0)) >= 'Q'\" \\\n",
    "# --return 'distinct n1 as node1, count(distinct l) as node2, \"out_degree\" as label' \n",
    "\n",
    "# !zcat {temp}/metadata.out_degree.tsv.gz | head"
   ]
  },
  {
   "cell_type": "markdown",
   "metadata": {
    "papermill": {
     "duration": 0.085873,
     "end_time": "2021-02-14T20:13:17.371904",
     "exception": false,
     "start_time": "2021-02-14T20:13:17.286031",
     "status": "completed"
    },
    "tags": []
   },
   "source": [
    "Create a list of items that have out_degree < `k`, along with any parent classses they belong to. <br>\n",
    "Put the results into `items.remove.bydegree.tsv.gz`. <br>"
   ]
  },
  {
   "cell_type": "code",
   "execution_count": 36,
   "metadata": {
    "execution": {
     "iopub.execute_input": "2021-02-14T20:13:17.544010Z",
     "iopub.status.busy": "2021-02-14T20:13:17.543573Z",
     "iopub.status.idle": "2021-02-14T20:13:17.547477Z",
     "shell.execute_reply": "2021-02-14T20:13:17.547097Z"
    },
    "papermill": {
     "duration": 0.090247,
     "end_time": "2021-02-14T20:13:17.547577",
     "exception": false,
     "start_time": "2021-02-14T20:13:17.457330",
     "status": "completed"
    },
    "tags": []
   },
   "outputs": [],
   "source": [
    "# k = 2 #Parameter\n",
    "# !{kypher} -i {temp}/metadata.out_degree.tsv.gz -i {isa} -i {p279star} \\\n",
    "# --match 'out: (item)-[:out_degree]->(n2), isa: (item)-[:isa]->(subclass), P279star: (subclass)-[:P279star]->(c)' \\\n",
    "# --where 'cast(n2, integer) <= {k}' \\\n",
    "# --return 'distinct item, \"p31_p279star\" as label, c as node2' \\\n",
    "# -o {temp}/items.remove.bydegree.tsv.gz \\\n",
    "\n",
    "# !zcat {temp}/items.remove.bydegree.tsv.gz | head"
   ]
  },
  {
   "cell_type": "markdown",
   "metadata": {
    "papermill": {
     "duration": 0.069045,
     "end_time": "2021-02-14T20:13:17.685679",
     "exception": false,
     "start_time": "2021-02-14T20:13:17.616634",
     "status": "completed"
    },
    "tags": []
   },
   "source": [
    "### Combine the items to remove by-class and by-outdegree\n",
    "Concatenate all items from `items.remove.byclass` and `items.remove.bydegree`.\n",
    "The resulting list of items to remove will be `items.remove`."
   ]
  },
  {
   "cell_type": "code",
   "execution_count": 37,
   "metadata": {
    "execution": {
     "iopub.execute_input": "2021-02-14T20:13:17.858173Z",
     "iopub.status.busy": "2021-02-14T20:13:17.857752Z",
     "iopub.status.idle": "2021-02-14T20:13:18.953260Z",
     "shell.execute_reply": "2021-02-14T20:13:18.954259Z"
    },
    "papermill": {
     "duration": 1.199959,
     "end_time": "2021-02-14T20:13:18.954590",
     "exception": false,
     "start_time": "2021-02-14T20:13:17.754631",
     "status": "completed"
    },
    "tags": []
   },
   "outputs": [
    {
     "name": "stdout",
     "output_type": "stream",
     "text": [
      "\r\n",
      "real\t0m0.960s\r\n",
      "user\t0m0.438s\r\n",
      "sys\t0m0.087s\r\n"
     ]
    }
   ],
   "source": [
    "#If using class and outdegree sources\n",
    "# !{kgtk} cat -i {temp}/items.remove.byclass.tsv.gz {temp}/items.remove.bydegree.tsv.gz \\\n",
    "# -o {temp}/items.remove.tsv.gz\n",
    "\n",
    "#If just using class source\n",
    "!{kgtk} cat -i {temp}/items.remove.byclass.tsv.gz \\\n",
    "-o {temp}/items.remove.tsv.gz"
   ]
  },
  {
   "cell_type": "markdown",
   "metadata": {
    "papermill": {
     "duration": 0.088963,
     "end_time": "2021-02-14T20:13:19.179630",
     "exception": false,
     "start_time": "2021-02-14T20:13:19.090667",
     "status": "completed"
    },
    "tags": []
   },
   "source": [
    "Deduplicate the concatenated file of items to remove. <br>\n",
    "The resulting list of items to remove will be `items.remove2`."
   ]
  },
  {
   "cell_type": "code",
   "execution_count": 38,
   "metadata": {
    "execution": {
     "iopub.execute_input": "2021-02-14T20:13:19.362431Z",
     "iopub.status.busy": "2021-02-14T20:13:19.361882Z",
     "iopub.status.idle": "2021-02-14T20:13:20.790890Z",
     "shell.execute_reply": "2021-02-14T20:13:20.789619Z"
    },
    "papermill": {
     "duration": 1.52559,
     "end_time": "2021-02-14T20:13:20.791157",
     "exception": false,
     "start_time": "2021-02-14T20:13:19.265567",
     "status": "completed"
    },
    "tags": []
   },
   "outputs": [
    {
     "name": "stdout",
     "output_type": "stream",
     "text": [
      "[2021-02-14 12:13:20 sqlstore]: IMPORT graph directly into table graph_9 from /nas/home/mbmann/subset2/temp.output/items.remove.tsv.gz ...\n",
      "[2021-02-14 12:13:20 query]: SQL Translation:\n",
      "---------------------------------------------\n",
      "  SELECT DISTINCT graph_9_c1.\"node1\", ? \"_aLias.label\", graph_9_c1.\"node2\" \"_aLias.node2\"\n",
      "     FROM graph_9 AS graph_9_c1\n",
      "     WHERE graph_9_c1.\"label\"=?\n",
      "  PARAS: ['p31_p279star', 'p31_p279star']\n",
      "---------------------------------------------\n",
      "[2021-02-14 12:13:20 sqlstore]: CREATE INDEX on table graph_9 column label ...\n",
      "[2021-02-14 12:13:20 sqlstore]: ANALYZE INDEX on table graph_9 column label ...\n",
      "node1\tlabel\tnode2\n",
      "Q33113219\tp31_p279star\tQ34508\n",
      "Q39086719\tp31_p279star\tQ34508\n",
      "Q58430369\tp31_p279star\tQ34508\n",
      "Q61764640\tp31_p279star\tQ34508\n",
      "Q61764914\tp31_p279star\tQ34508\n",
      "Q69526230\tp31_p279star\tQ34508\n",
      "Q69899824\tp31_p279star\tQ34508\n",
      "Q99466084\tp31_p279star\tQ34508\n",
      "Q99733532\tp31_p279star\tQ34508\n"
     ]
    }
   ],
   "source": [
    "!{kypher} -i {temp}/items.remove.tsv.gz -o {temp}/items.remove2.tsv.gz \\\n",
    "--match '(item)-[:p31_p279star]->(c)' \\\n",
    "--return 'distinct item, \"p31_p279star\" as label, c as node2'\n",
    "!zcat {temp}/items.remove2.tsv.gz | head"
   ]
  },
  {
   "cell_type": "markdown",
   "metadata": {
    "papermill": {
     "duration": 0.088549,
     "end_time": "2021-02-14T20:13:21.017053",
     "exception": false,
     "start_time": "2021-02-14T20:13:20.928504",
     "status": "completed"
    },
    "tags": []
   },
   "source": [
    "### Validate the items we will remove\n",
    "Check the `items.remove` file for classes added via different methods: 1) by-class, 2) by-instance, 3) by-outdegree"
   ]
  },
  {
   "cell_type": "markdown",
   "metadata": {
    "papermill": {
     "duration": 0.089504,
     "end_time": "2021-02-14T20:13:21.195420",
     "exception": false,
     "start_time": "2021-02-14T20:13:21.105916",
     "status": "completed"
    },
    "tags": []
   },
   "source": [
    "1) Check for class added manually, i.e. (videotape recording, 'Q34508')"
   ]
  },
  {
   "cell_type": "code",
   "execution_count": 39,
   "metadata": {
    "execution": {
     "iopub.execute_input": "2021-02-14T20:13:21.409701Z",
     "iopub.status.busy": "2021-02-14T20:13:21.408667Z",
     "iopub.status.idle": "2021-02-14T20:13:21.413295Z",
     "shell.execute_reply": "2021-02-14T20:13:21.412385Z"
    },
    "papermill": {
     "duration": 0.128342,
     "end_time": "2021-02-14T20:13:21.413512",
     "exception": false,
     "start_time": "2021-02-14T20:13:21.285170",
     "status": "completed"
    },
    "tags": []
   },
   "outputs": [],
   "source": [
    "# !echo 'videotape recording'\n",
    "# !zgrep 'Q34508' {temp}/items.remove2.tsv.gz | head"
   ]
  },
  {
   "cell_type": "markdown",
   "metadata": {
    "papermill": {
     "duration": 0.087351,
     "end_time": "2021-02-14T20:13:21.623941",
     "exception": false,
     "start_time": "2021-02-14T20:13:21.536590",
     "status": "completed"
    },
    "tags": []
   },
   "source": [
    "2) Check for class added by-instance, i.e. (Fireball, 'Q5451712'), (whisky, 'Q281')"
   ]
  },
  {
   "cell_type": "code",
   "execution_count": 40,
   "metadata": {
    "execution": {
     "iopub.execute_input": "2021-02-14T20:13:21.804723Z",
     "iopub.status.busy": "2021-02-14T20:13:21.804169Z",
     "iopub.status.idle": "2021-02-14T20:13:21.808293Z",
     "shell.execute_reply": "2021-02-14T20:13:21.807806Z"
    },
    "papermill": {
     "duration": 0.096401,
     "end_time": "2021-02-14T20:13:21.808406",
     "exception": false,
     "start_time": "2021-02-14T20:13:21.712005",
     "status": "completed"
    },
    "tags": []
   },
   "outputs": [],
   "source": [
    "# !echo 'fireball'\n",
    "# !zgrep 'Q5451712' {temp}/items.remove2.tsv.gz | head\n",
    "\n",
    "# !echo 'whisky'\n",
    "# !zgrep 'Q281' {temp}/items.remove2.tsv.gz | head"
   ]
  },
  {
   "cell_type": "markdown",
   "metadata": {
    "papermill": {
     "duration": 0.087097,
     "end_time": "2021-02-14T20:13:21.982756",
     "exception": false,
     "start_time": "2021-02-14T20:13:21.895659",
     "status": "completed"
    },
    "tags": []
   },
   "source": [
    "3) Check for class added by-outdegree, i.e. (??, 'Q100000030')"
   ]
  },
  {
   "cell_type": "code",
   "execution_count": 41,
   "metadata": {
    "execution": {
     "iopub.execute_input": "2021-02-14T20:13:22.164845Z",
     "iopub.status.busy": "2021-02-14T20:13:22.164315Z",
     "iopub.status.idle": "2021-02-14T20:13:22.168373Z",
     "shell.execute_reply": "2021-02-14T20:13:22.167901Z"
    },
    "papermill": {
     "duration": 0.09764,
     "end_time": "2021-02-14T20:13:22.168487",
     "exception": false,
     "start_time": "2021-02-14T20:13:22.070847",
     "status": "completed"
    },
    "tags": []
   },
   "outputs": [],
   "source": [
    "# !zgrep 'Q100000030' {temp}/items.remove2.tsv.gz | head"
   ]
  },
  {
   "cell_type": "markdown",
   "metadata": {
    "papermill": {
     "duration": 0.069568,
     "end_time": "2021-02-14T20:13:22.319597",
     "exception": false,
     "start_time": "2021-02-14T20:13:22.250029",
     "status": "completed"
    },
    "tags": []
   },
   "source": [
    "Collect all the classes of items we will remove, just as a sanity check"
   ]
  },
  {
   "cell_type": "code",
   "execution_count": 42,
   "metadata": {
    "execution": {
     "iopub.execute_input": "2021-02-14T20:13:22.467493Z",
     "iopub.status.busy": "2021-02-14T20:13:22.467063Z",
     "iopub.status.idle": "2021-02-14T20:13:25.413845Z",
     "shell.execute_reply": "2021-02-14T20:13:25.414849Z"
    },
    "papermill": {
     "duration": 3.026665,
     "end_time": "2021-02-14T20:13:25.415184",
     "exception": false,
     "start_time": "2021-02-14T20:13:22.388519",
     "status": "completed"
    },
    "tags": []
   },
   "outputs": [
    {
     "name": "stdout",
     "output_type": "stream",
     "text": [
      "[2021-02-14 12:13:23 sqlstore]: IMPORT graph directly into table graph_10 from /nas/home/mbmann/subset2/temp.output/items.remove2.tsv.gz ...\n",
      "[2021-02-14 12:13:23 query]: SQL Translation:\n",
      "---------------------------------------------\n",
      "  SELECT count(DISTINCT graph_10_c1.\"node2\")\n",
      "     FROM graph_10 AS graph_10_c1\n",
      "  PARAS: []\n",
      "---------------------------------------------\n",
      "count(DISTINCT graph_10_c1.\"node2\")\n",
      "2\n",
      "[2021-02-14 12:13:25 query]: SQL Translation:\n",
      "---------------------------------------------\n",
      "  SELECT DISTINCT graph_10_c1.\"node2\"\n",
      "     FROM graph_10 AS graph_10_c1\n",
      "     LIMIT ?\n",
      "  PARAS: [10]\n",
      "---------------------------------------------\n",
      "node2\n",
      "Q34508\n",
      "Q7378\n"
     ]
    }
   ],
   "source": [
    "!{kypher} -i {temp}/items.remove2.tsv.gz \\\n",
    "--match '()-[]->(n2)' \\\n",
    "--return 'count(distinct n2)' \\\n",
    "\n",
    "!{kypher} -i {temp}/items.remove2.tsv.gz \\\n",
    "--match '()-[]->(n2)' \\\n",
    "--return 'distinct n2' \\\n",
    "--limit 10"
   ]
  },
  {
   "cell_type": "markdown",
   "metadata": {
    "papermill": {
     "duration": 0.089294,
     "end_time": "2021-02-14T20:13:25.640951",
     "exception": false,
     "start_time": "2021-02-14T20:13:25.551657",
     "status": "completed"
    },
    "tags": []
   },
   "source": [
    "## [TODO] Create a list of all items to protect"
   ]
  },
  {
   "cell_type": "markdown",
   "metadata": {
    "papermill": {
     "duration": 0.087292,
     "end_time": "2021-02-14T20:13:25.816024",
     "exception": false,
     "start_time": "2021-02-14T20:13:25.728732",
     "status": "completed"
    },
    "tags": []
   },
   "source": [
    "## Create the reduced edges file"
   ]
  },
  {
   "cell_type": "markdown",
   "metadata": {
    "papermill": {
     "duration": 0.087652,
     "end_time": "2021-02-14T20:13:25.991349",
     "exception": false,
     "start_time": "2021-02-14T20:13:25.903697",
     "status": "completed"
    },
    "tags": []
   },
   "source": [
    "### Remove the items from the all.tsv and the label, alias and description files\n",
    "We will be left with `reduced` files where the edges do not have the unwanted items. We have to remove them from the node1 and node2 positions, so we need to run the ifnotexists commands twice.\n",
    "\n",
    "Before we start preview the files to see the column headings and check whether they look sorted."
   ]
  },
  {
   "cell_type": "code",
   "execution_count": 43,
   "metadata": {
    "execution": {
     "iopub.execute_input": "2021-02-14T20:13:26.176758Z",
     "iopub.status.busy": "2021-02-14T20:13:26.176207Z",
     "iopub.status.idle": "2021-02-14T20:13:27.343787Z",
     "shell.execute_reply": "2021-02-14T20:13:27.342715Z"
    },
    "papermill": {
     "duration": 1.263983,
     "end_time": "2021-02-14T20:13:27.344070",
     "exception": false,
     "start_time": "2021-02-14T20:13:26.080087",
     "status": "completed"
    },
    "tags": []
   },
   "outputs": [
    {
     "name": "stdout",
     "output_type": "stream",
     "text": [
      "\r\n",
      "real\t0m1.029s\r\n",
      "user\t0m0.534s\r\n",
      "sys\t0m0.141s\r\n"
     ]
    }
   ],
   "source": [
    "!{kgtk} sort2 -i {temp}/items.remove2.tsv.gz -o {temp}/items.remove2.sorted.tsv.gz"
   ]
  },
  {
   "cell_type": "code",
   "execution_count": 44,
   "metadata": {
    "execution": {
     "iopub.execute_input": "2021-02-14T20:13:27.586423Z",
     "iopub.status.busy": "2021-02-14T20:13:27.585877Z",
     "iopub.status.idle": "2021-02-14T20:13:27.720924Z",
     "shell.execute_reply": "2021-02-14T20:13:27.721906Z"
    },
    "papermill": {
     "duration": 0.240826,
     "end_time": "2021-02-14T20:13:27.722240",
     "exception": false,
     "start_time": "2021-02-14T20:13:27.481414",
     "status": "completed"
    },
    "tags": []
   },
   "outputs": [
    {
     "name": "stdout",
     "output_type": "stream",
     "text": [
      "node1\tlabel\tnode2\r\n",
      "Q100000003\tp31_p279star\tQ34508\r\n",
      "Q100000011\tp31_p279star\tQ34508\r\n",
      "Q100000014\tp31_p279star\tQ34508\r\n",
      "Q100000021\tp31_p279star\tQ34508\r\n",
      "Q100000029\tp31_p279star\tQ34508\r\n",
      "Q100000033\tp31_p279star\tQ34508\r\n",
      "Q100000049\tp31_p279star\tQ34508\r\n",
      "Q100328888\tp31_p279star\tQ34508\r\n",
      "Q10267876\tp31_p279star\tQ34508\r\n"
     ]
    }
   ],
   "source": [
    "!zcat < {temp}/items.remove2.sorted.tsv.gz | head | col\n",
    "# !zgrep 'Q34508' {temp}/items.remove.sorted.tsv.gz -c #466"
   ]
  },
  {
   "cell_type": "markdown",
   "metadata": {
    "papermill": {
     "duration": 0.092742,
     "end_time": "2021-02-14T20:13:27.953284",
     "exception": false,
     "start_time": "2021-02-14T20:13:27.860542",
     "status": "completed"
    },
    "tags": []
   },
   "source": [
    "Remove from the full set of edges those edges that have a `node1` present in `items.remove.sorted.tsv`"
   ]
  },
  {
   "cell_type": "code",
   "execution_count": 45,
   "metadata": {
    "execution": {
     "iopub.execute_input": "2021-02-14T20:13:28.142755Z",
     "iopub.status.busy": "2021-02-14T20:13:28.142197Z",
     "iopub.status.idle": "2021-02-14T20:13:28.281458Z",
     "shell.execute_reply": "2021-02-14T20:13:28.280408Z"
    },
    "papermill": {
     "duration": 0.239948,
     "end_time": "2021-02-14T20:13:28.281729",
     "exception": false,
     "start_time": "2021-02-14T20:13:28.041781",
     "status": "completed"
    },
    "tags": []
   },
   "outputs": [
    {
     "name": "stdout",
     "output_type": "stream",
     "text": [
      "node1\tlabel\tnode2\r\n",
      "Q33113219\tp31_p279star\tQ34508\r\n",
      "Q39086719\tp31_p279star\tQ34508\r\n",
      "Q58430369\tp31_p279star\tQ34508\r\n",
      "Q61764640\tp31_p279star\tQ34508\r\n",
      "Q61764914\tp31_p279star\tQ34508\r\n",
      "Q69526230\tp31_p279star\tQ34508\r\n",
      "Q69899824\tp31_p279star\tQ34508\r\n",
      "Q99466084\tp31_p279star\tQ34508\r\n",
      "Q99733532\tp31_p279star\tQ34508\r\n"
     ]
    }
   ],
   "source": [
    "!zcat {temp}/items.remove2.tsv.gz | head"
   ]
  },
  {
   "cell_type": "code",
   "execution_count": 46,
   "metadata": {
    "execution": {
     "iopub.execute_input": "2021-02-14T20:13:28.526928Z",
     "iopub.status.busy": "2021-02-14T20:13:28.526321Z",
     "iopub.status.idle": "2021-02-14T20:18:20.522036Z",
     "shell.execute_reply": "2021-02-14T20:18:20.523108Z"
    },
    "papermill": {
     "duration": 292.102864,
     "end_time": "2021-02-14T20:18:20.523443",
     "exception": false,
     "start_time": "2021-02-14T20:13:28.420579",
     "status": "completed"
    },
    "tags": []
   },
   "outputs": [
    {
     "name": "stdout",
     "output_type": "stream",
     "text": [
      "\r\n",
      "real\t4m51.754s\r\n",
      "user\t4m50.072s\r\n",
      "sys\t0m0.686s\r\n"
     ]
    }
   ],
   "source": [
    "!{kgtk} ifnotexists -i {claims} -o {temp}/item.edges.reduced.tsv.gz \\\n",
    "--filter-on {temp}/items.remove2.sorted.tsv.gz \\\n",
    "--input-keys node1 \\\n",
    "--filter-keys node1 \\\n",
    "--presorted "
   ]
  },
  {
   "cell_type": "markdown",
   "metadata": {
    "papermill": {
     "duration": 0.090788,
     "end_time": "2021-02-14T20:18:20.749206",
     "exception": false,
     "start_time": "2021-02-14T20:18:20.658418",
     "status": "completed"
    },
    "tags": []
   },
   "source": [
    "From the remaining edges, remove those that have a `node2` present in `items.remove.sorted.tsv`"
   ]
  },
  {
   "cell_type": "code",
   "execution_count": 47,
   "metadata": {
    "execution": {
     "iopub.execute_input": "2021-02-14T20:18:20.941645Z",
     "iopub.status.busy": "2021-02-14T20:18:20.936926Z",
     "iopub.status.idle": "2021-02-14T20:20:42.781031Z",
     "shell.execute_reply": "2021-02-14T20:20:42.781484Z"
    },
    "papermill": {
     "duration": 141.943633,
     "end_time": "2021-02-14T20:20:42.781634",
     "exception": false,
     "start_time": "2021-02-14T20:18:20.838001",
     "status": "completed"
    },
    "tags": []
   },
   "outputs": [
    {
     "name": "stdout",
     "output_type": "stream",
     "text": [
      "\r\n",
      "real\t2m21.681s\r\n",
      "user\t2m26.195s\r\n",
      "sys\t0m8.211s\r\n"
     ]
    }
   ],
   "source": [
    "!{kgtk} sort2 -i {temp}/item.edges.reduced.tsv.gz -o {temp}/item.edges.reduced.sorted.tsv.gz \\\n",
    "--columns node2 label node1 id"
   ]
  },
  {
   "cell_type": "code",
   "execution_count": 48,
   "metadata": {
    "execution": {
     "iopub.execute_input": "2021-02-14T20:20:42.971812Z",
     "iopub.status.busy": "2021-02-14T20:20:42.971384Z",
     "iopub.status.idle": "2021-02-14T20:25:45.942869Z",
     "shell.execute_reply": "2021-02-14T20:25:45.943851Z"
    },
    "papermill": {
     "duration": 303.072958,
     "end_time": "2021-02-14T20:25:45.944147",
     "exception": false,
     "start_time": "2021-02-14T20:20:42.871189",
     "status": "completed"
    },
    "tags": []
   },
   "outputs": [
    {
     "name": "stdout",
     "output_type": "stream",
     "text": [
      "\r\n",
      "real\t5m2.719s\r\n",
      "user\t5m1.368s\r\n",
      "sys\t0m0.461s\r\n"
     ]
    }
   ],
   "source": [
    "!{kgtk} ifnotexists -i {temp}/item.edges.reduced.sorted.tsv.gz -o {temp}/item.edges.reduced.2.tsv.gz \\\n",
    "--filter-on {temp}/items.remove2.sorted.tsv.gz \\\n",
    "--input-keys node2 \\\n",
    "--filter-keys node1 \\\n",
    "--presorted "
   ]
  },
  {
   "cell_type": "markdown",
   "metadata": {
    "papermill": {
     "duration": 0.090521,
     "end_time": "2021-02-14T20:25:46.166272",
     "exception": false,
     "start_time": "2021-02-14T20:25:46.075751",
     "status": "completed"
    },
    "tags": []
   },
   "source": [
    "Create a file with the labels"
   ]
  },
  {
   "cell_type": "code",
   "execution_count": 49,
   "metadata": {
    "execution": {
     "iopub.execute_input": "2021-02-14T20:25:46.363916Z",
     "iopub.status.busy": "2021-02-14T20:25:46.358953Z",
     "iopub.status.idle": "2021-02-14T20:26:38.476036Z",
     "shell.execute_reply": "2021-02-14T20:26:38.476522Z"
    },
    "papermill": {
     "duration": 52.219404,
     "end_time": "2021-02-14T20:26:38.476682",
     "exception": false,
     "start_time": "2021-02-14T20:25:46.257278",
     "status": "completed"
    },
    "tags": []
   },
   "outputs": [
    {
     "name": "stdout",
     "output_type": "stream",
     "text": [
      "\r\n",
      "real\t0m51.946s\r\n",
      "user\t0m45.047s\r\n",
      "sys\t0m0.234s\r\n"
     ]
    }
   ],
   "source": [
    "!{kgtk} ifnotexists -i {labels} -o {temp}/label.edges.reduced.tsv.gz \\\n",
    "--filter-on {temp}/items.remove2.sorted.tsv.gz \\\n",
    "--input-keys node1 \\\n",
    "--filter-keys node1 \\\n",
    "--presorted"
   ]
  },
  {
   "cell_type": "code",
   "execution_count": 50,
   "metadata": {
    "execution": {
     "iopub.execute_input": "2021-02-14T20:26:38.673220Z",
     "iopub.status.busy": "2021-02-14T20:26:38.672522Z",
     "iopub.status.idle": "2021-02-14T20:26:51.597540Z",
     "shell.execute_reply": "2021-02-14T20:26:51.598527Z"
    },
    "papermill": {
     "duration": 13.03083,
     "end_time": "2021-02-14T20:26:51.598842",
     "exception": false,
     "start_time": "2021-02-14T20:26:38.568012",
     "status": "completed"
    },
    "tags": []
   },
   "outputs": [
    {
     "name": "stdout",
     "output_type": "stream",
     "text": [
      "\r\n",
      "real\t0m12.793s\r\n",
      "user\t0m12.209s\r\n",
      "sys\t0m0.966s\r\n"
     ]
    }
   ],
   "source": [
    "!{kgtk} sort2 -i {temp}/label.edges.reduced.tsv.gz -o {out}/labels.tsv.gz"
   ]
  },
  {
   "cell_type": "markdown",
   "metadata": {
    "papermill": {
     "duration": 0.104939,
     "end_time": "2021-02-14T20:26:51.857325",
     "exception": false,
     "start_time": "2021-02-14T20:26:51.752386",
     "status": "completed"
    },
    "tags": []
   },
   "source": [
    "Create a file with the aliases"
   ]
  },
  {
   "cell_type": "code",
   "execution_count": 51,
   "metadata": {
    "execution": {
     "iopub.execute_input": "2021-02-14T20:26:52.052875Z",
     "iopub.status.busy": "2021-02-14T20:26:52.047902Z",
     "iopub.status.idle": "2021-02-14T20:27:10.618278Z",
     "shell.execute_reply": "2021-02-14T20:27:10.619258Z"
    },
    "papermill": {
     "duration": 18.671484,
     "end_time": "2021-02-14T20:27:10.619568",
     "exception": false,
     "start_time": "2021-02-14T20:26:51.948084",
     "status": "completed"
    },
    "tags": []
   },
   "outputs": [
    {
     "name": "stdout",
     "output_type": "stream",
     "text": [
      "\r\n",
      "real\t0m18.436s\r\n",
      "user\t0m14.816s\r\n",
      "sys\t0m0.155s\r\n"
     ]
    }
   ],
   "source": [
    "!{kgtk} ifnotexists -i {aliases} -o {temp}/alias.edges.reduced.tsv.gz \\\n",
    "--filter-on {temp}/items.remove2.sorted.tsv.gz \\\n",
    "--input-keys node1 \\\n",
    "--filter-keys node1 \\\n",
    "--presorted"
   ]
  },
  {
   "cell_type": "markdown",
   "metadata": {
    "papermill": {
     "duration": 0.092769,
     "end_time": "2021-02-14T20:27:10.850591",
     "exception": false,
     "start_time": "2021-02-14T20:27:10.757822",
     "status": "completed"
    },
    "tags": []
   },
   "source": [
    "Create a file with the descriptions"
   ]
  },
  {
   "cell_type": "code",
   "execution_count": 52,
   "metadata": {
    "execution": {
     "iopub.execute_input": "2021-02-14T20:27:11.042661Z",
     "iopub.status.busy": "2021-02-14T20:27:11.042092Z",
     "iopub.status.idle": "2021-02-14T20:27:38.577272Z",
     "shell.execute_reply": "2021-02-14T20:27:38.576240Z"
    },
    "papermill": {
     "duration": 27.635373,
     "end_time": "2021-02-14T20:27:38.577515",
     "exception": false,
     "start_time": "2021-02-14T20:27:10.942142",
     "status": "completed"
    },
    "tags": []
   },
   "outputs": [
    {
     "name": "stdout",
     "output_type": "stream",
     "text": [
      "\r\n",
      "real\t0m27.398s\r\n",
      "user\t0m24.254s\r\n",
      "sys\t0m0.170s\r\n"
     ]
    }
   ],
   "source": [
    "!{kgtk} ifnotexists -i {descriptions} -o {temp}/description.edges.reduced.tsv.gz \\\n",
    "--filter-on {temp}/items.remove2.sorted.tsv.gz \\\n",
    "--input-keys node1 \\\n",
    "--filter-keys node1 \\\n",
    "--presorted"
   ]
  },
  {
   "cell_type": "markdown",
   "metadata": {
    "papermill": {
     "duration": 0.094522,
     "end_time": "2021-02-14T20:27:38.806101",
     "exception": false,
     "start_time": "2021-02-14T20:27:38.711579",
     "status": "completed"
    },
    "tags": []
   },
   "source": [
    "### Produce the output files for claims, labels, aliases and descriptions"
   ]
  },
  {
   "cell_type": "code",
   "execution_count": 53,
   "metadata": {
    "execution": {
     "iopub.execute_input": "2021-02-14T20:27:39.004853Z",
     "iopub.status.busy": "2021-02-14T20:27:39.004285Z",
     "iopub.status.idle": "2021-02-14T20:29:27.788485Z",
     "shell.execute_reply": "2021-02-14T20:29:27.789539Z"
    },
    "papermill": {
     "duration": 108.891258,
     "end_time": "2021-02-14T20:29:27.789850",
     "exception": false,
     "start_time": "2021-02-14T20:27:38.898592",
     "status": "completed"
    },
    "tags": []
   },
   "outputs": [
    {
     "name": "stdout",
     "output_type": "stream",
     "text": [
      "\r\n",
      "real\t1m48.567s\r\n",
      "user\t1m48.229s\r\n",
      "sys\t0m7.856s\r\n"
     ]
    }
   ],
   "source": [
    "!{kgtk} sort2 -i {temp}/item.edges.reduced.2.tsv.gz -o {out}/claims.tsv.gz "
   ]
  },
  {
   "cell_type": "code",
   "execution_count": 54,
   "metadata": {
    "execution": {
     "iopub.execute_input": "2021-02-14T20:29:28.031181Z",
     "iopub.status.busy": "2021-02-14T20:29:28.030677Z",
     "iopub.status.idle": "2021-02-14T20:29:43.368342Z",
     "shell.execute_reply": "2021-02-14T20:29:43.369335Z"
    },
    "papermill": {
     "duration": 15.441299,
     "end_time": "2021-02-14T20:29:43.369653",
     "exception": false,
     "start_time": "2021-02-14T20:29:27.928354",
     "status": "completed"
    },
    "tags": []
   },
   "outputs": [
    {
     "name": "stdout",
     "output_type": "stream",
     "text": [
      "\r\n",
      "real\t0m15.201s\r\n",
      "user\t0m13.092s\r\n",
      "sys\t0m1.024s\r\n"
     ]
    }
   ],
   "source": [
    "!{kgtk} sort2 -i {temp}/label.edges.reduced.tsv.gz -o {out}/labels.en.tsv.gz "
   ]
  },
  {
   "cell_type": "code",
   "execution_count": 55,
   "metadata": {
    "execution": {
     "iopub.execute_input": "2021-02-14T20:29:43.622409Z",
     "iopub.status.busy": "2021-02-14T20:29:43.621862Z",
     "iopub.status.idle": "2021-02-14T20:29:48.026890Z",
     "shell.execute_reply": "2021-02-14T20:29:48.025610Z"
    },
    "papermill": {
     "duration": 4.514096,
     "end_time": "2021-02-14T20:29:48.027153",
     "exception": false,
     "start_time": "2021-02-14T20:29:43.513057",
     "status": "completed"
    },
    "tags": []
   },
   "outputs": [
    {
     "name": "stdout",
     "output_type": "stream",
     "text": [
      "\r\n",
      "real\t0m4.271s\r\n",
      "user\t0m3.998s\r\n",
      "sys\t0m0.358s\r\n"
     ]
    }
   ],
   "source": [
    "!{kgtk} sort2 -i {temp}/alias.edges.reduced.tsv.gz -o {out}/aliases.en.tsv.gz "
   ]
  },
  {
   "cell_type": "code",
   "execution_count": 56,
   "metadata": {
    "execution": {
     "iopub.execute_input": "2021-02-14T20:29:48.278705Z",
     "iopub.status.busy": "2021-02-14T20:29:48.278155Z",
     "iopub.status.idle": "2021-02-14T20:29:56.192856Z",
     "shell.execute_reply": "2021-02-14T20:29:56.191891Z"
    },
    "papermill": {
     "duration": 8.023975,
     "end_time": "2021-02-14T20:29:56.193105",
     "exception": false,
     "start_time": "2021-02-14T20:29:48.169130",
     "status": "completed"
    },
    "tags": []
   },
   "outputs": [
    {
     "name": "stdout",
     "output_type": "stream",
     "text": [
      "\r\n",
      "real\t0m7.784s\r\n",
      "user\t0m7.383s\r\n",
      "sys\t0m0.747s\r\n"
     ]
    }
   ],
   "source": [
    "!{kgtk} sort2 -i {temp}/description.edges.reduced.tsv.gz -o {out}/descriptions.en.tsv.gz "
   ]
  },
  {
   "cell_type": "markdown",
   "metadata": {
    "papermill": {
     "duration": 0.094597,
     "end_time": "2021-02-14T20:29:56.426729",
     "exception": false,
     "start_time": "2021-02-14T20:29:56.332132",
     "status": "completed"
    },
    "tags": []
   },
   "source": [
    "## Tests: Confirm items were removed from claims file\n",
    "**NOTE:** We will check the items we removed do not exist in claims file"
   ]
  },
  {
   "cell_type": "markdown",
   "metadata": {
    "papermill": {
     "duration": 0.093482,
     "end_time": "2021-02-14T20:29:56.613610",
     "exception": false,
     "start_time": "2021-02-14T20:29:56.520128",
     "status": "completed"
    },
    "tags": []
   },
   "source": [
    "1) Confirm no instance of class added manually, i.e. (class: 'Q34508')<-(instance: 'Q100431477')"
   ]
  },
  {
   "cell_type": "code",
   "execution_count": 57,
   "metadata": {
    "execution": {
     "iopub.execute_input": "2021-02-14T20:29:56.809887Z",
     "iopub.status.busy": "2021-02-14T20:29:56.808623Z",
     "iopub.status.idle": "2021-02-14T20:30:10.337736Z",
     "shell.execute_reply": "2021-02-14T20:30:10.338803Z"
    },
    "papermill": {
     "duration": 13.632353,
     "end_time": "2021-02-14T20:30:10.339112",
     "exception": false,
     "start_time": "2021-02-14T20:29:56.706759",
     "status": "completed"
    },
    "tags": []
   },
   "outputs": [],
   "source": [
    "!zgrep 'Q100431477' {out}/claims.tsv.gz #PASS: No result"
   ]
  },
  {
   "cell_type": "markdown",
   "metadata": {
    "papermill": {
     "duration": 0.085508,
     "end_time": "2021-02-14T20:30:10.567999",
     "exception": false,
     "start_time": "2021-02-14T20:30:10.482491",
     "status": "completed"
    },
    "tags": []
   },
   "source": [
    "2) Confirm no target_instance of class added by source_instance, i.e. (source_instance, 'Q5451712')->(class:'Q281')<-(target_instance: Q1350656)"
   ]
  },
  {
   "cell_type": "code",
   "execution_count": 58,
   "metadata": {
    "execution": {
     "iopub.execute_input": "2021-02-14T20:30:10.724732Z",
     "iopub.status.busy": "2021-02-14T20:30:10.724299Z",
     "iopub.status.idle": "2021-02-14T20:30:24.377272Z",
     "shell.execute_reply": "2021-02-14T20:30:24.376237Z"
    },
    "papermill": {
     "duration": 13.736403,
     "end_time": "2021-02-14T20:30:24.377517",
     "exception": false,
     "start_time": "2021-02-14T20:30:10.641114",
     "status": "completed"
    },
    "tags": []
   },
   "outputs": [
    {
     "name": "stdout",
     "output_type": "stream",
     "text": [
      "Q1350656-P18-987dfd-4052c1a7-0\tQ1350656\tP18\t\"Georgiamoon.jpg\"\tnormal\tcommonsMedia\r\n",
      "Q1350656-P279-Q1007164-7e3ecba9-0\tQ1350656\tP279\tQ1007164\tnormal\twikibase-item\r\n",
      "Q1350656-P5456-8fa33b-317320ab-0\tQ1350656\tP5456\t\"corn-whiskey\"\tnormal\texternal-id\r\n",
      "Q1350656-P6366-be64d2-460bc253-0\tQ1350656\tP6366\t\"73756927\"\tnormal\texternal-id\r\n",
      "Q1350656-P646-1f74e6-81e29357-0\tQ1350656\tP646\t\"/m/01yr36\"\tnormal\texternal-id\r\n"
     ]
    }
   ],
   "source": [
    "!zgrep 'Q1350656\t' {out}/claims.tsv.gz #PASS: No result"
   ]
  },
  {
   "cell_type": "markdown",
   "metadata": {
    "papermill": {
     "duration": 0.096515,
     "end_time": "2021-02-14T20:30:24.615860",
     "exception": false,
     "start_time": "2021-02-14T20:30:24.519345",
     "status": "completed"
    },
    "tags": []
   },
   "source": [
    "3) Confirm no instance with out-degree < 2, i.e. (instance: 'Q100000030')"
   ]
  },
  {
   "cell_type": "code",
   "execution_count": 59,
   "metadata": {
    "execution": {
     "iopub.execute_input": "2021-02-14T20:30:24.817469Z",
     "iopub.status.busy": "2021-02-14T20:30:24.816929Z",
     "iopub.status.idle": "2021-02-14T20:30:37.796704Z",
     "shell.execute_reply": "2021-02-14T20:30:37.797707Z"
    },
    "papermill": {
     "duration": 13.08784,
     "end_time": "2021-02-14T20:30:37.798039",
     "exception": false,
     "start_time": "2021-02-14T20:30:24.710199",
     "status": "completed"
    },
    "tags": []
   },
   "outputs": [
    {
     "name": "stdout",
     "output_type": "stream",
     "text": [
      "Q100000030-P18-a7b21b-2772e324-0\tQ100000030\tP18\t\"Brückentisch.jpg\"\tnormal\tcommonsMedia\r\n",
      "Q100000030-P279-Q14748-30394205-0\tQ100000030\tP279\tQ14748\tnormal\twikibase-item\r\n"
     ]
    }
   ],
   "source": [
    "!zgrep 'Q100000030\t' {out}/claims.tsv.gz #PASS: No result"
   ]
  },
  {
   "cell_type": "markdown",
   "metadata": {
    "papermill": {
     "duration": 0.094671,
     "end_time": "2021-02-14T20:30:38.040705",
     "exception": false,
     "start_time": "2021-02-14T20:30:37.946034",
     "status": "completed"
    },
    "tags": []
   },
   "source": [
    "## Create the reduced qualifiers file\n",
    "We do this by finding all the ids of the reduced edges file, and then selecting out from `qual.tsv`\n",
    "\n",
    "We need to join by id, so we need to sort both files by id, node1, label, node2:\n",
    "\n",
    "- `{quals}` \n",
    "- `{out}/claims.tsv.gz` "
   ]
  },
  {
   "cell_type": "code",
   "execution_count": 60,
   "metadata": {
    "execution": {
     "iopub.execute_input": "2021-02-14T20:30:38.276207Z",
     "iopub.status.busy": "2021-02-14T20:30:38.275652Z",
     "iopub.status.idle": "2021-02-14T20:30:41.666287Z",
     "shell.execute_reply": "2021-02-14T20:30:41.667283Z"
    },
    "papermill": {
     "duration": 3.498894,
     "end_time": "2021-02-14T20:30:41.667616",
     "exception": false,
     "start_time": "2021-02-14T20:30:38.168722",
     "status": "completed"
    },
    "tags": []
   },
   "outputs": [
    {
     "name": "stdout",
     "output_type": "stream",
     "text": [
      "id                                               node1                             label  node2                          node2;wikidatatype\r\n",
      "P10-P1855-Q7378-555592a4-0-P10-8a982d-0          P10-P1855-Q7378-555592a4-0        P10    \"Elephants Dream (2006).webm\"  commonsMedia\r\n",
      "P1000-P1896-f63a36-b84f3cd2-0-P1476-bf511b-0     P1000-P1896-f63a36-b84f3cd2-0     P1476  'FAI records'@en               monolingualtext\r\n",
      "P1001-P1855-Q29868931-76b67d84-0-P1001-Q11736-0  P1001-P1855-Q29868931-76b67d84-0  P1001  Q11736                         wikibase-item\r\n",
      "P1001-P1855-Q29868931-76b67d84-0-P1001-Q17269-0  P1001-P1855-Q29868931-76b67d84-0  P1001  Q17269                         wikibase-item\r\n",
      "P1001-P1855-Q29868931-76b67d84-0-P1001-Q21208-0  P1001-P1855-Q29868931-76b67d84-0  P1001  Q21208                         wikibase-item\r\n",
      "P1001-P1855-Q29868931-76b67d84-0-P1001-Q34800-0  P1001-P1855-Q29868931-76b67d84-0  P1001  Q34800                         wikibase-item\r\n",
      "P1001-P1855-Q29868931-76b67d84-0-P1001-Q41079-0  P1001-P1855-Q29868931-76b67d84-0  P1001  Q41079                         wikibase-item\r\n",
      "P1001-P1855-Q29868931-76b67d84-0-P1001-Q42392-0  P1001-P1855-Q29868931-76b67d84-0  P1001  Q42392                         wikibase-item\r\n",
      "P1001-P1855-Q29868931-76b67d84-0-P1001-Q43684-0  P1001-P1855-Q29868931-76b67d84-0  P1001  Q43684                         wikibase-item\r\n",
      "\r\n",
      "gzip: stdout: Broken pipe\r\n"
     ]
    }
   ],
   "source": [
    "!zcat < {quals} | head | column -t -s $'\\t' "
   ]
  },
  {
   "cell_type": "markdown",
   "metadata": {
    "papermill": {
     "duration": 0.096137,
     "end_time": "2021-02-14T20:30:41.909808",
     "exception": false,
     "start_time": "2021-02-14T20:30:41.813671",
     "status": "completed"
    },
    "tags": []
   },
   "source": [
    "Run `ifexists` to select out the quals for the edges in `{out}/wikidataos.qual.tsv.gz`. Note that we use `node1` in the qualifier file, matching to `id` in the `wikidataos.all.tsv` file."
   ]
  },
  {
   "cell_type": "code",
   "execution_count": 61,
   "metadata": {
    "execution": {
     "iopub.execute_input": "2021-02-14T20:30:42.116795Z",
     "iopub.status.busy": "2021-02-14T20:30:42.111742Z",
     "iopub.status.idle": "2021-02-14T20:32:55.548963Z",
     "shell.execute_reply": "2021-02-14T20:32:55.550082Z"
    },
    "papermill": {
     "duration": 133.543356,
     "end_time": "2021-02-14T20:32:55.550461",
     "exception": false,
     "start_time": "2021-02-14T20:30:42.007105",
     "status": "completed"
    },
    "tags": []
   },
   "outputs": [
    {
     "name": "stdout",
     "output_type": "stream",
     "text": [
      "\r\n",
      "real\t2m13.173s\r\n",
      "user\t2m9.064s\r\n",
      "sys\t0m0.286s\r\n"
     ]
    }
   ],
   "source": [
    "!$kgtk ifexists -i {quals} -o {out}/qualifiers.tsv.gz \\\n",
    "--filter-on {out}/claims.tsv.gz \\\n",
    "--input-keys node1 \\\n",
    "--filter-keys id \\\n",
    "--presorted"
   ]
  },
  {
   "cell_type": "markdown",
   "metadata": {
    "papermill": {
     "duration": 0.096595,
     "end_time": "2021-02-14T20:32:55.790046",
     "exception": false,
     "start_time": "2021-02-14T20:32:55.693451",
     "status": "completed"
    },
    "tags": []
   },
   "source": [
    "Look at the final output for qualifiers"
   ]
  },
  {
   "cell_type": "code",
   "execution_count": 62,
   "metadata": {
    "execution": {
     "iopub.execute_input": "2021-02-14T20:32:55.996414Z",
     "iopub.status.busy": "2021-02-14T20:32:55.990367Z",
     "iopub.status.idle": "2021-02-14T20:32:56.186663Z",
     "shell.execute_reply": "2021-02-14T20:32:56.185583Z"
    },
    "papermill": {
     "duration": 0.300018,
     "end_time": "2021-02-14T20:32:56.186937",
     "exception": false,
     "start_time": "2021-02-14T20:32:55.886919",
     "status": "completed"
    },
    "tags": []
   },
   "outputs": [
    {
     "name": "stdout",
     "output_type": "stream",
     "text": [
      "id\tnode1\tlabel\tnode2\tnode2;wikidatatype\r\n",
      "P10-P1855-Q7378-555592a4-0-P10-8a982d-0 P10-P1855-Q7378-555592a4-0\tP10\t\"Elephants Dream (2006).webm\"\tcommonsMedia\r\n",
      "P1000-P1896-f63a36-b84f3cd2-0-P1476-bf511b-0\tP1000-P1896-f63a36-b84f3cd2-0\tP1476\t'FAI records'@en\tmonolingualtext\r\n",
      "P1001-P1855-Q29868931-76b67d84-0-P1001-Q11736-0 P1001-P1855-Q29868931-76b67d84-0\tP1001\tQ11736\twikibase-item\r\n",
      "P1001-P1855-Q29868931-76b67d84-0-P1001-Q17269-0 P1001-P1855-Q29868931-76b67d84-0\tP1001\tQ17269\twikibase-item\r\n",
      "P1001-P1855-Q29868931-76b67d84-0-P1001-Q21208-0 P1001-P1855-Q29868931-76b67d84-0\tP1001\tQ21208\twikibase-item\r\n",
      "\r\n",
      "gzip: P1001-P1855-Q29868931-76b67d84-0-P1001-Q34800-0 P1001-P1855-Q29868931-76b67d84-0\tP1001\tQ34800\twikibase-item\r\n",
      "stdout: Broken pipe\r\n",
      "P1001-P1855-Q29868931-76b67d84-0-P1001-Q41079-0 P1001-P1855-Q29868931-76b67d84-0\tP1001\tQ41079\twikibase-item\r\n",
      "P1001-P1855-Q29868931-76b67d84-0-P1001-Q42392-0 P1001-P1855-Q29868931-76b67d84-0\tP1001\tQ42392\twikibase-item\r\n",
      "P1001-P1855-Q29868931-76b67d84-0-P1001-Q43684-0 P1001-P1855-Q29868931-76b67d84-0\tP1001\tQ43684\twikibase-item\r\n"
     ]
    }
   ],
   "source": [
    "!zcat < {out}/qualifiers.tsv.gz | head | col"
   ]
  },
  {
   "cell_type": "markdown",
   "metadata": {
    "papermill": {
     "duration": 0.09813,
     "end_time": "2021-02-14T20:32:56.431201",
     "exception": false,
     "start_time": "2021-02-14T20:32:56.333071",
     "status": "completed"
    },
    "tags": []
   },
   "source": [
    "## Call partition and useful_files notebooks, to generate the file output"
   ]
  },
  {
   "cell_type": "code",
   "execution_count": 63,
   "metadata": {
    "execution": {
     "iopub.execute_input": "2021-02-14T20:32:56.634080Z",
     "iopub.status.busy": "2021-02-14T20:32:56.633521Z",
     "iopub.status.idle": "2021-02-14T20:32:56.637181Z",
     "shell.execute_reply": "2021-02-14T20:32:56.637636Z"
    },
    "papermill": {
     "duration": 0.110385,
     "end_time": "2021-02-14T20:32:56.637774",
     "exception": false,
     "start_time": "2021-02-14T20:32:56.527389",
     "status": "completed"
    },
    "tags": []
   },
   "outputs": [],
   "source": [
    "kgtk_scripts_path = \"/nas/home/mbmann/kgtk_subset/kgtk\"\n",
    "os.environ[\"EXAMPLES_DIR\"] = kgtk_scripts_path + \"/examples\"\n",
    "os.environ[\"USECASE_DIR\"] = kgtk_scripts_path + \"/use-cases\"\n",
    "os.environ[\"TEMP\"] = temp\n",
    "os.environ[\"OUT\"] = out\n",
    "os.environ[\"DATATYPES\"] = datatypes\n",
    "os.environ[\"METADATA\"] = metadata"
   ]
  },
  {
   "cell_type": "code",
   "execution_count": 64,
   "metadata": {
    "execution": {
     "iopub.execute_input": "2021-02-14T20:32:56.850388Z",
     "iopub.status.busy": "2021-02-14T20:32:56.838244Z",
     "iopub.status.idle": "2021-02-14T20:32:56.855393Z",
     "shell.execute_reply": "2021-02-14T20:32:56.854813Z"
    },
    "papermill": {
     "duration": 0.121806,
     "end_time": "2021-02-14T20:32:56.855522",
     "exception": false,
     "start_time": "2021-02-14T20:32:56.733716",
     "status": "completed"
    },
    "tags": []
   },
   "outputs": [
    {
     "data": {
      "text/plain": [
       "'/nas/home/mbmann/kgtk_subset/kgtk/examples'"
      ]
     },
     "execution_count": 64,
     "metadata": {},
     "output_type": "execute_result"
    }
   ],
   "source": [
    "os.environ[\"EXAMPLES_DIR\"]"
   ]
  },
  {
   "cell_type": "code",
   "execution_count": 65,
   "metadata": {
    "execution": {
     "iopub.execute_input": "2021-02-14T20:32:57.065687Z",
     "iopub.status.busy": "2021-02-14T20:32:57.060635Z",
     "iopub.status.idle": "2021-02-14T20:32:57.238107Z",
     "shell.execute_reply": "2021-02-14T20:32:57.237049Z"
    },
    "papermill": {
     "duration": 0.281579,
     "end_time": "2021-02-14T20:32:57.238388",
     "exception": false,
     "start_time": "2021-02-14T20:32:56.956809",
     "status": "completed"
    },
    "tags": []
   },
   "outputs": [
    {
     "name": "stdout",
     "output_type": "stream",
     "text": [
      "alias.edges.reduced.tsv.gz\t  items.remove2.tsv.gz\r\n",
      "classes.remove2.tsv.gz\t\t  items.remove.byclass.tsv.gz\r\n",
      "classes.remove.manual.tsv.gz\t  items.remove.tsv.gz\r\n",
      "classes.remove.tsv.gz\t\t  label.edges.reduced.tsv.gz\r\n",
      "derived.isa.tsv.gz\t\t  P279.n1.tsv.gz\r\n",
      "derived.P279star.tsv.gz\t\t  P279.reachable.tsv.gz\r\n",
      "derived.P279.tsv.gz\t\t  P279.roots.1.tsv.gz\r\n",
      "derived.P31.tsv.gz\t\t  P279.roots.2.tsv.gz\r\n",
      "description.edges.reduced.tsv.gz  P279.roots.tsv\r\n",
      "isa.1.tsv.gz\t\t\t  P279star.1.tsv.gz\r\n",
      "item.edges.reduced.2.tsv.gz\t  P279star.2.tsv.gz\r\n",
      "item.edges.reduced.sorted.tsv.gz  P279star.3.tsv.gz\r\n",
      "item.edges.reduced.tsv.gz\t  P31.n2.tsv.gz\r\n",
      "items.remove2.sorted.tsv.gz\r\n"
     ]
    }
   ],
   "source": [
    "!ls \"$TEMP\""
   ]
  },
  {
   "cell_type": "code",
   "execution_count": 66,
   "metadata": {
    "execution": {
     "iopub.execute_input": "2021-02-14T20:32:57.496668Z",
     "iopub.status.busy": "2021-02-14T20:32:57.496090Z",
     "iopub.status.idle": "2021-02-14T20:32:57.632630Z",
     "shell.execute_reply": "2021-02-14T20:32:57.631511Z"
    },
    "papermill": {
     "duration": 0.247556,
     "end_time": "2021-02-14T20:32:57.632889",
     "exception": false,
     "start_time": "2021-02-14T20:32:57.385333",
     "status": "completed"
    },
    "tags": []
   },
   "outputs": [
    {
     "name": "stdout",
     "output_type": "stream",
     "text": [
      "aliases.en.tsv.gz\tlabels.en.tsv.gz   wikidata.sqlite3.db\r\n",
      "claims.tsv.gz\t\tlabels.tsv.gz\r\n",
      "descriptions.en.tsv.gz\tqualifiers.tsv.gz\r\n"
     ]
    }
   ],
   "source": [
    "!ls \"$OUT\""
   ]
  },
  {
   "cell_type": "markdown",
   "metadata": {
    "papermill": {
     "duration": 0.098243,
     "end_time": "2021-02-14T20:32:57.878856",
     "exception": false,
     "start_time": "2021-02-14T20:32:57.780613",
     "status": "completed"
    },
    "tags": []
   },
   "source": [
    "**Concatenate all output files together** <br>\n",
    "\n",
    "**NOTE:** The `metadata.property.datatypes` and `metadata.types` are not currently generated by this notebook, and have been copied from `wikidata-20200803-v5/data`. <br>\n",
    "**TODO:** We must confirm if these are source files, or computed. If they are computed, we should compute them in this notebook."
   ]
  },
  {
   "cell_type": "code",
   "execution_count": 67,
   "metadata": {
    "execution": {
     "iopub.execute_input": "2021-02-14T20:32:58.091712Z",
     "iopub.status.busy": "2021-02-14T20:32:58.087472Z",
     "iopub.status.idle": "2021-02-14T20:53:40.442802Z",
     "shell.execute_reply": "2021-02-14T20:53:40.443914Z"
    },
    "papermill": {
     "duration": 1242.468352,
     "end_time": "2021-02-14T20:53:40.444338",
     "exception": false,
     "start_time": "2021-02-14T20:32:57.975986",
     "status": "completed"
    },
    "tags": []
   },
   "outputs": [
    {
     "name": "stdout",
     "output_type": "stream",
     "text": [
      "\r\n",
      "real\t20m42.087s\r\n",
      "user\t20m33.929s\r\n",
      "sys\t0m1.026s\r\n"
     ]
    }
   ],
   "source": [
    "!{kgtk} cat \\\n",
    "-i {out}/aliases.en.tsv.gz \\\n",
    "-i {out}/descriptions.en.tsv.gz \\\n",
    "-i {out}/qualifiers.tsv.gz \\\n",
    "-i {out}/claims.tsv.gz \\\n",
    "-i {out}/labels.en.tsv.gz \\\n",
    "-i {datatypes} \\\n",
    "-i {metadata} \\\n",
    "-o {out}/all.tsv.gz"
   ]
  },
  {
   "cell_type": "code",
   "execution_count": 68,
   "metadata": {
    "execution": {
     "iopub.execute_input": "2021-02-14T20:53:40.702886Z",
     "iopub.status.busy": "2021-02-14T20:53:40.702286Z",
     "iopub.status.idle": "2021-02-14T20:53:40.914025Z",
     "shell.execute_reply": "2021-02-14T20:53:40.915070Z"
    },
    "papermill": {
     "duration": 0.327013,
     "end_time": "2021-02-14T20:53:40.915410",
     "exception": false,
     "start_time": "2021-02-14T20:53:40.588397",
     "status": "completed"
    },
    "tags": []
   },
   "outputs": [
    {
     "name": "stdout",
     "output_type": "stream",
     "text": [
      "/nas/home/mbmann/kgtk_subset/kgtk/examples/partition-wikidata.ipynb\r\n"
     ]
    }
   ],
   "source": [
    "!ls {os.environ[\"EXAMPLES_DIR\"] + \"/partition-wikidata.ipynb\"}"
   ]
  },
  {
   "cell_type": "code",
   "execution_count": 69,
   "metadata": {
    "execution": {
     "iopub.execute_input": "2021-02-14T20:53:41.168697Z",
     "iopub.status.busy": "2021-02-14T20:53:41.168134Z",
     "iopub.status.idle": "2021-02-14T20:53:42.733824Z",
     "shell.execute_reply": "2021-02-14T20:53:42.734835Z"
    },
    "papermill": {
     "duration": 1.671485,
     "end_time": "2021-02-14T20:53:42.735152",
     "exception": false,
     "start_time": "2021-02-14T20:53:41.063667",
     "status": "completed"
    },
    "tags": []
   },
   "outputs": [
    {
     "data": {
      "text/plain": [
       "'/nas/home/mbmann/subset2/output'"
      ]
     },
     "execution_count": 69,
     "metadata": {},
     "output_type": "execute_result"
    }
   ],
   "source": [
    "os.environ[\"OUT\"]"
   ]
  },
  {
   "cell_type": "markdown",
   "metadata": {
    "papermill": {
     "duration": 0.098156,
     "end_time": "2021-02-14T20:53:42.979706",
     "exception": false,
     "start_time": "2021-02-14T20:53:42.881550",
     "status": "completed"
    },
    "tags": []
   },
   "source": [
    "### Call the partition-wikidata notebook\n",
    "`partition-wikidata` will take all intermediary computed outputs from `all.tsv.gz` and partition each wikidata entity (i.e. claims, aliases, labels, descriptions, qualifiers), into partitions. <br>\n",
    "\n",
    "**NOTE:** This notebook also produces `claims.wikibase-item.tsv.gz` and outputs it to `wikidata_parts_path`"
   ]
  },
  {
   "cell_type": "code",
   "execution_count": 70,
   "metadata": {
    "execution": {
     "iopub.execute_input": "2021-02-14T20:53:43.189625Z",
     "iopub.status.busy": "2021-02-14T20:53:43.189055Z",
     "iopub.status.idle": "2021-02-14T21:28:05.827786Z",
     "shell.execute_reply": "2021-02-14T21:28:05.826491Z"
    },
    "papermill": {
     "duration": 2062.750505,
     "end_time": "2021-02-14T21:28:05.828058",
     "exception": false,
     "start_time": "2021-02-14T20:53:43.077553",
     "status": "completed"
    },
    "tags": []
   },
   "outputs": [
    {
     "data": {
      "application/vnd.jupyter.widget-view+json": {
       "model_id": "a0653894527f4acbac3e2318ea501e79",
       "version_major": 2,
       "version_minor": 0
      },
      "text/plain": [
       "Executing:   0%|          | 0/49 [00:00<?, ?cell/s]"
      ]
     },
     "metadata": {},
     "output_type": "display_data"
    },
    {
     "data": {
      "text/plain": [
       "''"
      ]
     },
     "execution_count": 70,
     "metadata": {},
     "output_type": "execute_result"
    }
   ],
   "source": [
    "pm.execute_notebook(\n",
    "    os.environ[\"EXAMPLES_DIR\"] + \"/partition-wikidata.ipynb\",\n",
    "    os.environ[\"TEMP\"] + \"/partition-wikidata.out.ipynb\",\n",
    "    parameters=dict(\n",
    "        wikidata_input_path = os.environ[\"OUT\"] + \"/all.tsv.gz\",\n",
    "        wikidata_parts_path = os.environ[\"OUT\"] + \"/parts\",\n",
    "        temp_folder_path = os.environ[\"OUT\"] + \"/parts/temp\",\n",
    "        sort_extras = \"--buffer-size 30% --temporary-directory $OUT/parts/temp\",\n",
    "        verbose = False\n",
    "    )\n",
    ")\n",
    ";"
   ]
  },
  {
   "cell_type": "markdown",
   "metadata": {
    "papermill": {
     "duration": 0.100741,
     "end_time": "2021-02-14T21:28:06.077162",
     "exception": false,
     "start_time": "2021-02-14T21:28:05.976421",
     "status": "completed"
    },
    "tags": []
   },
   "source": [
    "## Call the useful-files notebook\n",
    "`Wikidata Useful Files` will take intermediary output generated by `partition-wikidata` and produce the following statistics: `derived.P31.tsv.gz`, `derived.P279.tsv.gz`, `derived.isa.tsv.gz`, `derived.P279star.tsv.gz`, and `metadata.out_degree.tsv.gz`."
   ]
  },
  {
   "cell_type": "code",
   "execution_count": 71,
   "metadata": {
    "execution": {
     "iopub.execute_input": "2021-02-14T21:28:06.289903Z",
     "iopub.status.busy": "2021-02-14T21:28:06.289333Z",
     "iopub.status.idle": "2021-02-14T21:59:34.799361Z",
     "shell.execute_reply": "2021-02-14T21:59:34.800550Z"
    },
    "papermill": {
     "duration": 1888.623862,
     "end_time": "2021-02-14T21:59:34.801123",
     "exception": false,
     "start_time": "2021-02-14T21:28:06.177261",
     "status": "completed"
    },
    "tags": []
   },
   "outputs": [
    {
     "data": {
      "application/vnd.jupyter.widget-view+json": {
       "model_id": "8bd72e0ebd64433a93bc7a4d4d28d494",
       "version_major": 2,
       "version_minor": 0
      },
      "text/plain": [
       "Executing:   0%|          | 0/103 [00:00<?, ?cell/s]"
      ]
     },
     "metadata": {},
     "output_type": "display_data"
    },
    {
     "data": {
      "text/plain": [
       "''"
      ]
     },
     "execution_count": 71,
     "metadata": {},
     "output_type": "execute_result"
    }
   ],
   "source": [
    "#NOTE: Don't pass in cache path, as one doesn't yet exist for useful_files\n",
    "pm.execute_notebook(\n",
    "    os.environ[\"USECASE_DIR\"] + \"/Wikidata Useful Files.ipynb\",\n",
    "    os.environ[\"TEMP\"] + \"/Wikidata Useful Files Out.ipynb\",\n",
    "    parameters=dict(\n",
    "        output_path = os.environ[\"OUT\"],\n",
    "        output_folder = \"useful_files\",\n",
    "        temp_folder = \"temp.useful_files\",\n",
    "        wiki_root_folder = os.environ[\"OUT\"] + \"/parts/\",\n",
    "        languages = 'en',\n",
    "        compute_pagerank = True,\n",
    "        delete_database = False\n",
    "    )\n",
    ")\n",
    ";"
   ]
  },
  {
   "cell_type": "markdown",
   "metadata": {
    "papermill": {
     "duration": 0.099337,
     "end_time": "2021-02-14T21:59:35.044164",
     "exception": false,
     "start_time": "2021-02-14T21:59:34.944827",
     "status": "completed"
    },
    "tags": []
   },
   "source": [
    "## Summary of results"
   ]
  },
  {
   "cell_type": "code",
   "execution_count": 72,
   "metadata": {
    "execution": {
     "iopub.execute_input": "2021-02-14T21:59:35.259052Z",
     "iopub.status.busy": "2021-02-14T21:59:35.257730Z",
     "iopub.status.idle": "2021-02-14T21:59:35.394252Z",
     "shell.execute_reply": "2021-02-14T21:59:35.393103Z"
    },
    "papermill": {
     "duration": 0.250352,
     "end_time": "2021-02-14T21:59:35.394520",
     "exception": false,
     "start_time": "2021-02-14T21:59:35.144168",
     "status": "completed"
    },
    "tags": []
   },
   "outputs": [
    {
     "name": "stdout",
     "output_type": "stream",
     "text": [
      "ls: cannot access /nas/home/mbmann/subset2/output/*wikidataos.*: No such file or directory\r\n"
     ]
    }
   ],
   "source": [
    "!ls -lh {out}/*wikidataos.*"
   ]
  },
  {
   "cell_type": "code",
   "execution_count": 73,
   "metadata": {
    "execution": {
     "iopub.execute_input": "2021-02-14T21:59:35.659377Z",
     "iopub.status.busy": "2021-02-14T21:59:35.658810Z",
     "iopub.status.idle": "2021-02-14T21:59:35.851035Z",
     "shell.execute_reply": "2021-02-14T21:59:35.850119Z"
    },
    "papermill": {
     "duration": 0.306601,
     "end_time": "2021-02-14T21:59:35.851319",
     "exception": false,
     "start_time": "2021-02-14T21:59:35.544718",
     "status": "completed"
    },
    "tags": []
   },
   "outputs": [
    {
     "name": "stdout",
     "output_type": "stream",
     "text": [
      "/bin/bash: /nas/home/mbmann/subset2/output/wikidataos.all.tsv.gz: No such file or directory\n",
      "      0       0       0\n"
     ]
    }
   ],
   "source": [
    "!zcat < {out}/wikidataos.all.tsv.gz | wc"
   ]
  },
  {
   "cell_type": "markdown",
   "metadata": {
    "papermill": {
     "duration": 0.143152,
     "end_time": "2021-02-14T21:59:36.144925",
     "exception": false,
     "start_time": "2021-02-14T21:59:36.001773",
     "status": "completed"
    },
    "tags": []
   },
   "source": [
    "## Verification"
   ]
  },
  {
   "cell_type": "markdown",
   "metadata": {
    "papermill": {
     "duration": 0.100059,
     "end_time": "2021-02-14T21:59:36.387025",
     "exception": false,
     "start_time": "2021-02-14T21:59:36.286966",
     "status": "completed"
    },
    "tags": []
   },
   "source": [
    "The edges file must contain edges for properties, this is not the case on 2020-11-10`\n"
   ]
  },
  {
   "cell_type": "code",
   "execution_count": 74,
   "metadata": {
    "execution": {
     "iopub.execute_input": "2021-02-14T21:59:36.601395Z",
     "iopub.status.busy": "2021-02-14T21:59:36.600842Z",
     "iopub.status.idle": "2021-02-14T22:00:31.339044Z",
     "shell.execute_reply": "2021-02-14T22:00:31.337907Z"
    },
    "papermill": {
     "duration": 54.851991,
     "end_time": "2021-02-14T22:00:31.339328",
     "exception": false,
     "start_time": "2021-02-14T21:59:36.487337",
     "status": "completed"
    },
    "tags": []
   },
   "outputs": [
    {
     "name": "stdout",
     "output_type": "stream",
     "text": [
      "[2021-02-14 13:59:37 sqlstore]: IMPORT graph directly into table graph_11 from /nas/home/mbmann/subset2/output/claims.tsv.gz ...\n",
      "[2021-02-14 14:00:17 query]: SQL Translation:\n",
      "---------------------------------------------\n",
      "  SELECT *\n",
      "     FROM graph_11 AS graph_11_c1\n",
      "     WHERE graph_11_c1.\"node1\"=?\n",
      "     LIMIT ?\n",
      "  PARAS: ['P10', 10]\n",
      "---------------------------------------------\n",
      "[2021-02-14 14:00:17 sqlstore]: CREATE INDEX on table graph_11 column node1 ...\n",
      "[2021-02-14 14:00:29 sqlstore]: ANALYZE INDEX on table graph_11 column node1 ...\n",
      "id\tnode1\tlabel\tnode2\trank\tnode2;wikidatatype\n",
      "P10-P1628-32b85d-7927ece6-0\tP10\tP1628\t\"http://www.w3.org/2006/vcard/ns#Video\"\tnormal\turl\n",
      "P10-P1628-acf60d-b8950832-0\tP10\tP1628\t\"https://schema.org/video\"\tnormal\turl\n",
      "P10-P1629-Q34508-bcc39400-0\tP10\tP1629\tQ34508\tnormal\twikibase-item\n",
      "P10-P1659-P1651-c4068028-0\tP10\tP1659\tP1651\tnormal\twikibase-property\n",
      "P10-P1659-P18-5e4b9c4f-0\tP10\tP1659\tP18\tnormal\twikibase-property\n",
      "P10-P1659-P4238-d21d1ac0-0\tP10\tP1659\tP4238\tnormal\twikibase-property\n",
      "P10-P1659-P51-86aca4c5-0\tP10\tP1659\tP51\tnormal\twikibase-property\n",
      "P10-P1855-Q7378-555592a4-0\tP10\tP1855\tQ7378\tnormal\twikibase-item\n",
      "P10-P31-Q18610173-85ef4d24-0\tP10\tP31\tQ18610173\tnormal\twikibase-item\n"
     ]
    }
   ],
   "source": [
    "!{kypher} -i {out}/claims.tsv.gz \\\n",
    "--match '(:P10)-[l]->(n2)' \\\n",
    "--limit 10"
   ]
  },
  {
   "cell_type": "markdown",
   "metadata": {
    "papermill": {
     "duration": 0.10231,
     "end_time": "2021-02-14T22:00:31.595687",
     "exception": false,
     "start_time": "2021-02-14T22:00:31.493377",
     "status": "completed"
    },
    "tags": []
   },
   "source": [
    "## concatenate files to get the `all` file"
   ]
  },
  {
   "cell_type": "code",
   "execution_count": 75,
   "metadata": {
    "execution": {
     "iopub.execute_input": "2021-02-14T22:00:31.817357Z",
     "iopub.status.busy": "2021-02-14T22:00:31.811615Z",
     "iopub.status.idle": "2021-02-14T22:12:22.740469Z",
     "shell.execute_reply": "2021-02-14T22:12:22.740952Z"
    },
    "papermill": {
     "duration": 711.043826,
     "end_time": "2021-02-14T22:12:22.741158",
     "exception": false,
     "start_time": "2021-02-14T22:00:31.697332",
     "status": "completed"
    },
    "tags": []
   },
   "outputs": [
    {
     "name": "stdout",
     "output_type": "stream",
     "text": [
      "\r\n",
      "real\t11m50.736s\r\n",
      "user\t11m49.087s\r\n",
      "sys\t0m0.672s\r\n"
     ]
    }
   ],
   "source": [
    "!{kgtk} cat -i {out}/claims.tsv.gz \\\n",
    "{out}/qualifiers.tsv.gz \\\n",
    "{out}/useful_files/metadata.pagerank.undirected.tsv.gz \\\n",
    "{out}/useful_files/metadata.pagerank.directed.tsv.gz \\\n",
    "{out}/useful_files/metadata.in_degree.sorted.tsv.gz \\\n",
    "{out}/useful_files/metadata.out_degree.sorted.tsv.gz \\\n",
    "-o {out}/wikidataos.all.tsv.gz"
   ]
  },
  {
   "cell_type": "markdown",
   "metadata": {
    "papermill": {
     "duration": 0.147067,
     "end_time": "2021-02-14T22:12:22.990046",
     "exception": false,
     "start_time": "2021-02-14T22:12:22.842979",
     "status": "completed"
    },
    "tags": []
   },
   "source": [
    "## concatenate files to get the `all for triples` file\n"
   ]
  },
  {
   "cell_type": "code",
   "execution_count": 76,
   "metadata": {
    "execution": {
     "iopub.execute_input": "2021-02-14T22:12:23.209565Z",
     "iopub.status.busy": "2021-02-14T22:12:23.208390Z",
     "iopub.status.idle": "2021-02-14T22:29:04.912348Z",
     "shell.execute_reply": "2021-02-14T22:29:04.913424Z"
    },
    "papermill": {
     "duration": 1001.82099,
     "end_time": "2021-02-14T22:29:04.913728",
     "exception": false,
     "start_time": "2021-02-14T22:12:23.092738",
     "status": "completed"
    },
    "tags": []
   },
   "outputs": [
    {
     "name": "stdout",
     "output_type": "stream",
     "text": [
      "\r\n",
      "real\t16m41.457s\r\n",
      "user\t16m35.716s\r\n",
      "sys\t0m3.932s\r\n"
     ]
    }
   ],
   "source": [
    "!{kgtk} cat -i {out}/wikidataos.all.tsv.gz \\\n",
    "{out}/useful_files/derived.P31.tsv.gz \\\n",
    "{out}/useful_files/derived.P279.tsv.gz \\\n",
    "{out}/useful_files/derived.isa.tsv.gz \\\n",
    "{out}/useful_files/derived.P279star.tsv.gz \\\n",
    "-o {out}/wikidataos.all.for.triples.tsv.gz"
   ]
  },
  {
   "cell_type": "markdown",
   "metadata": {
    "papermill": {
     "duration": 0.102074,
     "end_time": "2021-02-14T22:29:05.164055",
     "exception": false,
     "start_time": "2021-02-14T22:29:05.061981",
     "status": "completed"
    },
    "tags": []
   },
   "source": [
    "## Filter out `novalue`, `somevalue` and `P9`"
   ]
  },
  {
   "cell_type": "code",
   "execution_count": 77,
   "metadata": {
    "execution": {
     "iopub.execute_input": "2021-02-14T22:29:05.377581Z",
     "iopub.status.busy": "2021-02-14T22:29:05.377055Z",
     "iopub.status.idle": "2021-02-14T22:44:18.454175Z",
     "shell.execute_reply": "2021-02-14T22:44:18.455245Z"
    },
    "papermill": {
     "duration": 913.189897,
     "end_time": "2021-02-14T22:44:18.455562",
     "exception": false,
     "start_time": "2021-02-14T22:29:05.265665",
     "status": "completed"
    },
    "tags": []
   },
   "outputs": [
    {
     "name": "stdout",
     "output_type": "stream",
     "text": [
      "\r\n",
      "real\t15m12.810s\r\n",
      "user\t15m10.494s\r\n",
      "sys\t0m0.773s\r\n"
     ]
    }
   ],
   "source": [
    "!{kgtk} filter -i {out}/wikidataos.all.for.triples.tsv.gz \\\n",
    "-o {out}/wikidataos.all.for.triples.filtered.tsv.gz \\\n",
    "-p ';;somevalue,novalue,P9' --invert"
   ]
  },
  {
   "cell_type": "markdown",
   "metadata": {
    "papermill": {
     "duration": 0.102605,
     "end_time": "2021-02-14T22:44:18.707797",
     "exception": false,
     "start_time": "2021-02-14T22:44:18.605192",
     "status": "completed"
    },
    "tags": []
   },
   "source": [
    "## Add ids for any edge with missing id"
   ]
  },
  {
   "cell_type": "code",
   "execution_count": 78,
   "metadata": {
    "execution": {
     "iopub.execute_input": "2021-02-14T22:44:18.936383Z",
     "iopub.status.busy": "2021-02-14T22:44:18.935683Z",
     "iopub.status.idle": "2021-02-14T23:00:03.365982Z",
     "shell.execute_reply": "2021-02-14T23:00:03.367065Z"
    },
    "papermill": {
     "duration": 944.557547,
     "end_time": "2021-02-14T23:00:03.367459",
     "exception": false,
     "start_time": "2021-02-14T22:44:18.809912",
     "status": "completed"
    },
    "tags": []
   },
   "outputs": [
    {
     "name": "stdout",
     "output_type": "stream",
     "text": [
      "\r\n",
      "real\t15m44.195s\r\n",
      "user\t15m40.872s\r\n",
      "sys\t0m0.710s\r\n"
     ]
    }
   ],
   "source": [
    "!{kgtk} add-id -i {out}/wikidataos.all.for.triples.filtered.tsv.gz \\\n",
    "-o {out}/wikidataos.all.for.triples.filtered.id.tsv.gz \\\n",
    "--id-style wikidata"
   ]
  },
  {
   "cell_type": "markdown",
   "metadata": {
    "papermill": {
     "duration": 0.105709,
     "end_time": "2021-02-14T23:00:03.623409",
     "exception": false,
     "start_time": "2021-02-14T23:00:03.517700",
     "status": "completed"
    },
    "tags": []
   },
   "source": [
    "## Sort by `id`"
   ]
  },
  {
   "cell_type": "code",
   "execution_count": 79,
   "metadata": {
    "execution": {
     "iopub.execute_input": "2021-02-14T23:00:03.849441Z",
     "iopub.status.busy": "2021-02-14T23:00:03.843768Z",
     "iopub.status.idle": "2021-02-14T23:04:17.023556Z",
     "shell.execute_reply": "2021-02-14T23:04:17.024004Z"
    },
    "papermill": {
     "duration": 253.295701,
     "end_time": "2021-02-14T23:04:17.024153",
     "exception": false,
     "start_time": "2021-02-14T23:00:03.728452",
     "status": "completed"
    },
    "tags": []
   },
   "outputs": [
    {
     "name": "stdout",
     "output_type": "stream",
     "text": [
      "\r\n",
      "real\t4m13.014s\r\n",
      "user\t4m10.716s\r\n",
      "sys\t0m20.542s\r\n"
     ]
    }
   ],
   "source": [
    "!{kgtk} sort2 -i {out}/wikidataos.all.for.triples.filtered.id.tsv.gz \\\n",
    "-o {out}/wikidataos.all.for.triples.filtered.id.sorted.tsv.gz \\\n",
    "-c id"
   ]
  },
  {
   "cell_type": "code",
   "execution_count": null,
   "metadata": {
    "papermill": {
     "duration": 0.1034,
     "end_time": "2021-02-14T23:04:17.231352",
     "exception": false,
     "start_time": "2021-02-14T23:04:17.127952",
     "status": "completed"
    },
    "tags": []
   },
   "outputs": [],
   "source": []
  }
 ],
 "metadata": {
  "celltoolbar": "Tags",
  "kernelspec": {
   "display_name": "kgtk-subset",
   "language": "python",
   "name": "kgtk-subset"
  },
  "language_info": {
   "codemirror_mode": {
    "name": "ipython",
    "version": 3
   },
   "file_extension": ".py",
   "mimetype": "text/x-python",
   "name": "python",
   "nbconvert_exporter": "python",
   "pygments_lexer": "ipython3",
   "version": "3.7.9"
  },
  "papermill": {
   "default_parameters": {},
   "duration": 11172.169241,
   "end_time": "2021-02-14T23:04:18.677368",
   "environment_variables": {},
   "exception": null,
   "input_path": "Wikidata Subsets.ipynb",
   "output_path": "Wikidata Subsets.out.ipynb",
   "parameters": {},
   "start_time": "2021-02-14T19:58:06.508127",
   "version": "2.3.2"
  },
  "widgets": {
   "application/vnd.jupyter.widget-state+json": {
    "state": {
     "00947d93505345aca2971b06e04c5133": {
      "model_module": "@jupyter-widgets/base",
      "model_module_version": "1.2.0",
      "model_name": "LayoutModel",
      "state": {
       "_model_module": "@jupyter-widgets/base",
       "_model_module_version": "1.2.0",
       "_model_name": "LayoutModel",
       "_view_count": null,
       "_view_module": "@jupyter-widgets/base",
       "_view_module_version": "1.2.0",
       "_view_name": "LayoutView",
       "align_content": null,
       "align_items": null,
       "align_self": null,
       "border": null,
       "bottom": null,
       "display": null,
       "flex": null,
       "flex_flow": null,
       "grid_area": null,
       "grid_auto_columns": null,
       "grid_auto_flow": null,
       "grid_auto_rows": null,
       "grid_column": null,
       "grid_gap": null,
       "grid_row": null,
       "grid_template_areas": null,
       "grid_template_columns": null,
       "grid_template_rows": null,
       "height": null,
       "justify_content": null,
       "justify_items": null,
       "left": null,
       "margin": null,
       "max_height": null,
       "max_width": null,
       "min_height": null,
       "min_width": null,
       "object_fit": null,
       "object_position": null,
       "order": null,
       "overflow": null,
       "overflow_x": null,
       "overflow_y": null,
       "padding": null,
       "right": null,
       "top": null,
       "visibility": null,
       "width": null
      }
     },
     "124c20d299064234b1df3b045e915431": {
      "model_module": "@jupyter-widgets/controls",
      "model_module_version": "1.5.0",
      "model_name": "ProgressStyleModel",
      "state": {
       "_model_module": "@jupyter-widgets/controls",
       "_model_module_version": "1.5.0",
       "_model_name": "ProgressStyleModel",
       "_view_count": null,
       "_view_module": "@jupyter-widgets/base",
       "_view_module_version": "1.2.0",
       "_view_name": "StyleView",
       "bar_color": null,
       "description_width": ""
      }
     },
     "23c02f0bc03f4c7d97b383440203ccc7": {
      "model_module": "@jupyter-widgets/controls",
      "model_module_version": "1.5.0",
      "model_name": "HTMLModel",
      "state": {
       "_dom_classes": [],
       "_model_module": "@jupyter-widgets/controls",
       "_model_module_version": "1.5.0",
       "_model_name": "HTMLModel",
       "_view_count": null,
       "_view_module": "@jupyter-widgets/controls",
       "_view_module_version": "1.5.0",
       "_view_name": "HTMLView",
       "description": "",
       "description_tooltip": null,
       "layout": "IPY_MODEL_b7a3bace22b54f8ebfa07cc208cd162c",
       "placeholder": "​",
       "style": "IPY_MODEL_42889fe452704b519d33d5ef9aaba69e",
       "value": "Executing: 100%"
      }
     },
     "25792b20673e4a209c68c6a86393b3dd": {
      "model_module": "@jupyter-widgets/base",
      "model_module_version": "1.2.0",
      "model_name": "LayoutModel",
      "state": {
       "_model_module": "@jupyter-widgets/base",
       "_model_module_version": "1.2.0",
       "_model_name": "LayoutModel",
       "_view_count": null,
       "_view_module": "@jupyter-widgets/base",
       "_view_module_version": "1.2.0",
       "_view_name": "LayoutView",
       "align_content": null,
       "align_items": null,
       "align_self": null,
       "border": null,
       "bottom": null,
       "display": null,
       "flex": null,
       "flex_flow": null,
       "grid_area": null,
       "grid_auto_columns": null,
       "grid_auto_flow": null,
       "grid_auto_rows": null,
       "grid_column": null,
       "grid_gap": null,
       "grid_row": null,
       "grid_template_areas": null,
       "grid_template_columns": null,
       "grid_template_rows": null,
       "height": null,
       "justify_content": null,
       "justify_items": null,
       "left": null,
       "margin": null,
       "max_height": null,
       "max_width": null,
       "min_height": null,
       "min_width": null,
       "object_fit": null,
       "object_position": null,
       "order": null,
       "overflow": null,
       "overflow_x": null,
       "overflow_y": null,
       "padding": null,
       "right": null,
       "top": null,
       "visibility": null,
       "width": null
      }
     },
     "42889fe452704b519d33d5ef9aaba69e": {
      "model_module": "@jupyter-widgets/controls",
      "model_module_version": "1.5.0",
      "model_name": "DescriptionStyleModel",
      "state": {
       "_model_module": "@jupyter-widgets/controls",
       "_model_module_version": "1.5.0",
       "_model_name": "DescriptionStyleModel",
       "_view_count": null,
       "_view_module": "@jupyter-widgets/base",
       "_view_module_version": "1.2.0",
       "_view_name": "StyleView",
       "description_width": ""
      }
     },
     "4638b24248b348388626e7d64d7d7ac8": {
      "model_module": "@jupyter-widgets/base",
      "model_module_version": "1.2.0",
      "model_name": "LayoutModel",
      "state": {
       "_model_module": "@jupyter-widgets/base",
       "_model_module_version": "1.2.0",
       "_model_name": "LayoutModel",
       "_view_count": null,
       "_view_module": "@jupyter-widgets/base",
       "_view_module_version": "1.2.0",
       "_view_name": "LayoutView",
       "align_content": null,
       "align_items": null,
       "align_self": null,
       "border": null,
       "bottom": null,
       "display": null,
       "flex": null,
       "flex_flow": null,
       "grid_area": null,
       "grid_auto_columns": null,
       "grid_auto_flow": null,
       "grid_auto_rows": null,
       "grid_column": null,
       "grid_gap": null,
       "grid_row": null,
       "grid_template_areas": null,
       "grid_template_columns": null,
       "grid_template_rows": null,
       "height": null,
       "justify_content": null,
       "justify_items": null,
       "left": null,
       "margin": null,
       "max_height": null,
       "max_width": null,
       "min_height": null,
       "min_width": null,
       "object_fit": null,
       "object_position": null,
       "order": null,
       "overflow": null,
       "overflow_x": null,
       "overflow_y": null,
       "padding": null,
       "right": null,
       "top": null,
       "visibility": null,
       "width": null
      }
     },
     "4a280cc63e9a486f9da18891d91351dd": {
      "model_module": "@jupyter-widgets/base",
      "model_module_version": "1.2.0",
      "model_name": "LayoutModel",
      "state": {
       "_model_module": "@jupyter-widgets/base",
       "_model_module_version": "1.2.0",
       "_model_name": "LayoutModel",
       "_view_count": null,
       "_view_module": "@jupyter-widgets/base",
       "_view_module_version": "1.2.0",
       "_view_name": "LayoutView",
       "align_content": null,
       "align_items": null,
       "align_self": null,
       "border": null,
       "bottom": null,
       "display": null,
       "flex": null,
       "flex_flow": null,
       "grid_area": null,
       "grid_auto_columns": null,
       "grid_auto_flow": null,
       "grid_auto_rows": null,
       "grid_column": null,
       "grid_gap": null,
       "grid_row": null,
       "grid_template_areas": null,
       "grid_template_columns": null,
       "grid_template_rows": null,
       "height": null,
       "justify_content": null,
       "justify_items": null,
       "left": null,
       "margin": null,
       "max_height": null,
       "max_width": null,
       "min_height": null,
       "min_width": null,
       "object_fit": null,
       "object_position": null,
       "order": null,
       "overflow": null,
       "overflow_x": null,
       "overflow_y": null,
       "padding": null,
       "right": null,
       "top": null,
       "visibility": null,
       "width": null
      }
     },
     "5712718f99ec474981c0c02978d787e3": {
      "model_module": "@jupyter-widgets/controls",
      "model_module_version": "1.5.0",
      "model_name": "FloatProgressModel",
      "state": {
       "_dom_classes": [],
       "_model_module": "@jupyter-widgets/controls",
       "_model_module_version": "1.5.0",
       "_model_name": "FloatProgressModel",
       "_view_count": null,
       "_view_module": "@jupyter-widgets/controls",
       "_view_module_version": "1.5.0",
       "_view_name": "ProgressView",
       "bar_style": "success",
       "description": "",
       "description_tooltip": null,
       "layout": "IPY_MODEL_f2693fe5b32b49fe8686f87eb690b84d",
       "max": 49,
       "min": 0,
       "orientation": "horizontal",
       "style": "IPY_MODEL_aec6c72349264c07bea68e86534630cd",
       "value": 49
      }
     },
     "57c1890e6f554ae3b12a556b6f355c20": {
      "model_module": "@jupyter-widgets/controls",
      "model_module_version": "1.5.0",
      "model_name": "HTMLModel",
      "state": {
       "_dom_classes": [],
       "_model_module": "@jupyter-widgets/controls",
       "_model_module_version": "1.5.0",
       "_model_name": "HTMLModel",
       "_view_count": null,
       "_view_module": "@jupyter-widgets/controls",
       "_view_module_version": "1.5.0",
       "_view_name": "HTMLView",
       "description": "",
       "description_tooltip": null,
       "layout": "IPY_MODEL_902ae07265e3472496e23568034a672e",
       "placeholder": "​",
       "style": "IPY_MODEL_5f789523d7eb4f80baaad2a24ac29fc5",
       "value": " 103/103 [31:28&lt;00:00,  1.04s/cell]"
      }
     },
     "5f789523d7eb4f80baaad2a24ac29fc5": {
      "model_module": "@jupyter-widgets/controls",
      "model_module_version": "1.5.0",
      "model_name": "DescriptionStyleModel",
      "state": {
       "_model_module": "@jupyter-widgets/controls",
       "_model_module_version": "1.5.0",
       "_model_name": "DescriptionStyleModel",
       "_view_count": null,
       "_view_module": "@jupyter-widgets/base",
       "_view_module_version": "1.2.0",
       "_view_name": "StyleView",
       "description_width": ""
      }
     },
     "615cd378ec9f4b6a9510ff27e821d3bf": {
      "model_module": "@jupyter-widgets/controls",
      "model_module_version": "1.5.0",
      "model_name": "DescriptionStyleModel",
      "state": {
       "_model_module": "@jupyter-widgets/controls",
       "_model_module_version": "1.5.0",
       "_model_name": "DescriptionStyleModel",
       "_view_count": null,
       "_view_module": "@jupyter-widgets/base",
       "_view_module_version": "1.2.0",
       "_view_name": "StyleView",
       "description_width": ""
      }
     },
     "63a939ec23484a5aa33e19553be37426": {
      "model_module": "@jupyter-widgets/controls",
      "model_module_version": "1.5.0",
      "model_name": "HTMLModel",
      "state": {
       "_dom_classes": [],
       "_model_module": "@jupyter-widgets/controls",
       "_model_module_version": "1.5.0",
       "_model_name": "HTMLModel",
       "_view_count": null,
       "_view_module": "@jupyter-widgets/controls",
       "_view_module_version": "1.5.0",
       "_view_name": "HTMLView",
       "description": "",
       "description_tooltip": null,
       "layout": "IPY_MODEL_25792b20673e4a209c68c6a86393b3dd",
       "placeholder": "​",
       "style": "IPY_MODEL_f4aca86bd8884e7c8413eabb8012b7c0",
       "value": "Executing: 100%"
      }
     },
     "8bd72e0ebd64433a93bc7a4d4d28d494": {
      "model_module": "@jupyter-widgets/controls",
      "model_module_version": "1.5.0",
      "model_name": "HBoxModel",
      "state": {
       "_dom_classes": [],
       "_model_module": "@jupyter-widgets/controls",
       "_model_module_version": "1.5.0",
       "_model_name": "HBoxModel",
       "_view_count": null,
       "_view_module": "@jupyter-widgets/controls",
       "_view_module_version": "1.5.0",
       "_view_name": "HBoxView",
       "box_style": "",
       "children": [
        "IPY_MODEL_23c02f0bc03f4c7d97b383440203ccc7",
        "IPY_MODEL_be971b23d4434db496f0d58cb9ad75c4",
        "IPY_MODEL_57c1890e6f554ae3b12a556b6f355c20"
       ],
       "layout": "IPY_MODEL_4a280cc63e9a486f9da18891d91351dd"
      }
     },
     "902ae07265e3472496e23568034a672e": {
      "model_module": "@jupyter-widgets/base",
      "model_module_version": "1.2.0",
      "model_name": "LayoutModel",
      "state": {
       "_model_module": "@jupyter-widgets/base",
       "_model_module_version": "1.2.0",
       "_model_name": "LayoutModel",
       "_view_count": null,
       "_view_module": "@jupyter-widgets/base",
       "_view_module_version": "1.2.0",
       "_view_name": "LayoutView",
       "align_content": null,
       "align_items": null,
       "align_self": null,
       "border": null,
       "bottom": null,
       "display": null,
       "flex": null,
       "flex_flow": null,
       "grid_area": null,
       "grid_auto_columns": null,
       "grid_auto_flow": null,
       "grid_auto_rows": null,
       "grid_column": null,
       "grid_gap": null,
       "grid_row": null,
       "grid_template_areas": null,
       "grid_template_columns": null,
       "grid_template_rows": null,
       "height": null,
       "justify_content": null,
       "justify_items": null,
       "left": null,
       "margin": null,
       "max_height": null,
       "max_width": null,
       "min_height": null,
       "min_width": null,
       "object_fit": null,
       "object_position": null,
       "order": null,
       "overflow": null,
       "overflow_x": null,
       "overflow_y": null,
       "padding": null,
       "right": null,
       "top": null,
       "visibility": null,
       "width": null
      }
     },
     "a0653894527f4acbac3e2318ea501e79": {
      "model_module": "@jupyter-widgets/controls",
      "model_module_version": "1.5.0",
      "model_name": "HBoxModel",
      "state": {
       "_dom_classes": [],
       "_model_module": "@jupyter-widgets/controls",
       "_model_module_version": "1.5.0",
       "_model_name": "HBoxModel",
       "_view_count": null,
       "_view_module": "@jupyter-widgets/controls",
       "_view_module_version": "1.5.0",
       "_view_name": "HBoxView",
       "box_style": "",
       "children": [
        "IPY_MODEL_63a939ec23484a5aa33e19553be37426",
        "IPY_MODEL_5712718f99ec474981c0c02978d787e3",
        "IPY_MODEL_e88dd08a2ca74b93a40a570a1c768d7d"
       ],
       "layout": "IPY_MODEL_fd9351e9f6e04e24b4c8dff35fdea453"
      }
     },
     "aec6c72349264c07bea68e86534630cd": {
      "model_module": "@jupyter-widgets/controls",
      "model_module_version": "1.5.0",
      "model_name": "ProgressStyleModel",
      "state": {
       "_model_module": "@jupyter-widgets/controls",
       "_model_module_version": "1.5.0",
       "_model_name": "ProgressStyleModel",
       "_view_count": null,
       "_view_module": "@jupyter-widgets/base",
       "_view_module_version": "1.2.0",
       "_view_name": "StyleView",
       "bar_color": null,
       "description_width": ""
      }
     },
     "b7a3bace22b54f8ebfa07cc208cd162c": {
      "model_module": "@jupyter-widgets/base",
      "model_module_version": "1.2.0",
      "model_name": "LayoutModel",
      "state": {
       "_model_module": "@jupyter-widgets/base",
       "_model_module_version": "1.2.0",
       "_model_name": "LayoutModel",
       "_view_count": null,
       "_view_module": "@jupyter-widgets/base",
       "_view_module_version": "1.2.0",
       "_view_name": "LayoutView",
       "align_content": null,
       "align_items": null,
       "align_self": null,
       "border": null,
       "bottom": null,
       "display": null,
       "flex": null,
       "flex_flow": null,
       "grid_area": null,
       "grid_auto_columns": null,
       "grid_auto_flow": null,
       "grid_auto_rows": null,
       "grid_column": null,
       "grid_gap": null,
       "grid_row": null,
       "grid_template_areas": null,
       "grid_template_columns": null,
       "grid_template_rows": null,
       "height": null,
       "justify_content": null,
       "justify_items": null,
       "left": null,
       "margin": null,
       "max_height": null,
       "max_width": null,
       "min_height": null,
       "min_width": null,
       "object_fit": null,
       "object_position": null,
       "order": null,
       "overflow": null,
       "overflow_x": null,
       "overflow_y": null,
       "padding": null,
       "right": null,
       "top": null,
       "visibility": null,
       "width": null
      }
     },
     "be971b23d4434db496f0d58cb9ad75c4": {
      "model_module": "@jupyter-widgets/controls",
      "model_module_version": "1.5.0",
      "model_name": "FloatProgressModel",
      "state": {
       "_dom_classes": [],
       "_model_module": "@jupyter-widgets/controls",
       "_model_module_version": "1.5.0",
       "_model_name": "FloatProgressModel",
       "_view_count": null,
       "_view_module": "@jupyter-widgets/controls",
       "_view_module_version": "1.5.0",
       "_view_name": "ProgressView",
       "bar_style": "success",
       "description": "",
       "description_tooltip": null,
       "layout": "IPY_MODEL_00947d93505345aca2971b06e04c5133",
       "max": 103,
       "min": 0,
       "orientation": "horizontal",
       "style": "IPY_MODEL_124c20d299064234b1df3b045e915431",
       "value": 103
      }
     },
     "e88dd08a2ca74b93a40a570a1c768d7d": {
      "model_module": "@jupyter-widgets/controls",
      "model_module_version": "1.5.0",
      "model_name": "HTMLModel",
      "state": {
       "_dom_classes": [],
       "_model_module": "@jupyter-widgets/controls",
       "_model_module_version": "1.5.0",
       "_model_name": "HTMLModel",
       "_view_count": null,
       "_view_module": "@jupyter-widgets/controls",
       "_view_module_version": "1.5.0",
       "_view_name": "HTMLView",
       "description": "",
       "description_tooltip": null,
       "layout": "IPY_MODEL_4638b24248b348388626e7d64d7d7ac8",
       "placeholder": "​",
       "style": "IPY_MODEL_615cd378ec9f4b6a9510ff27e821d3bf",
       "value": " 49/49 [34:21&lt;00:00, 17.64s/cell]"
      }
     },
     "f2693fe5b32b49fe8686f87eb690b84d": {
      "model_module": "@jupyter-widgets/base",
      "model_module_version": "1.2.0",
      "model_name": "LayoutModel",
      "state": {
       "_model_module": "@jupyter-widgets/base",
       "_model_module_version": "1.2.0",
       "_model_name": "LayoutModel",
       "_view_count": null,
       "_view_module": "@jupyter-widgets/base",
       "_view_module_version": "1.2.0",
       "_view_name": "LayoutView",
       "align_content": null,
       "align_items": null,
       "align_self": null,
       "border": null,
       "bottom": null,
       "display": null,
       "flex": null,
       "flex_flow": null,
       "grid_area": null,
       "grid_auto_columns": null,
       "grid_auto_flow": null,
       "grid_auto_rows": null,
       "grid_column": null,
       "grid_gap": null,
       "grid_row": null,
       "grid_template_areas": null,
       "grid_template_columns": null,
       "grid_template_rows": null,
       "height": null,
       "justify_content": null,
       "justify_items": null,
       "left": null,
       "margin": null,
       "max_height": null,
       "max_width": null,
       "min_height": null,
       "min_width": null,
       "object_fit": null,
       "object_position": null,
       "order": null,
       "overflow": null,
       "overflow_x": null,
       "overflow_y": null,
       "padding": null,
       "right": null,
       "top": null,
       "visibility": null,
       "width": null
      }
     },
     "f4aca86bd8884e7c8413eabb8012b7c0": {
      "model_module": "@jupyter-widgets/controls",
      "model_module_version": "1.5.0",
      "model_name": "DescriptionStyleModel",
      "state": {
       "_model_module": "@jupyter-widgets/controls",
       "_model_module_version": "1.5.0",
       "_model_name": "DescriptionStyleModel",
       "_view_count": null,
       "_view_module": "@jupyter-widgets/base",
       "_view_module_version": "1.2.0",
       "_view_name": "StyleView",
       "description_width": ""
      }
     },
     "fd9351e9f6e04e24b4c8dff35fdea453": {
      "model_module": "@jupyter-widgets/base",
      "model_module_version": "1.2.0",
      "model_name": "LayoutModel",
      "state": {
       "_model_module": "@jupyter-widgets/base",
       "_model_module_version": "1.2.0",
       "_model_name": "LayoutModel",
       "_view_count": null,
       "_view_module": "@jupyter-widgets/base",
       "_view_module_version": "1.2.0",
       "_view_name": "LayoutView",
       "align_content": null,
       "align_items": null,
       "align_self": null,
       "border": null,
       "bottom": null,
       "display": null,
       "flex": null,
       "flex_flow": null,
       "grid_area": null,
       "grid_auto_columns": null,
       "grid_auto_flow": null,
       "grid_auto_rows": null,
       "grid_column": null,
       "grid_gap": null,
       "grid_row": null,
       "grid_template_areas": null,
       "grid_template_columns": null,
       "grid_template_rows": null,
       "height": null,
       "justify_content": null,
       "justify_items": null,
       "left": null,
       "margin": null,
       "max_height": null,
       "max_width": null,
       "min_height": null,
       "min_width": null,
       "object_fit": null,
       "object_position": null,
       "order": null,
       "overflow": null,
       "overflow_x": null,
       "overflow_y": null,
       "padding": null,
       "right": null,
       "top": null,
       "visibility": null,
       "width": null
      }
     }
    },
    "version_major": 2,
    "version_minor": 0
   }
  }
 },
 "nbformat": 4,
 "nbformat_minor": 5
}
